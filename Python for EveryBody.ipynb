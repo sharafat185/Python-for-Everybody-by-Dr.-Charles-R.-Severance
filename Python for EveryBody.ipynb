{
 "cells": [
  {
   "cell_type": "markdown",
   "id": "be15f625",
   "metadata": {},
   "source": [
    "# Python for Everybody Chapter 01 to 10\n",
    "## Exploring Data Using Python 3\n",
    "## Dr. Charles R. Severance"
   ]
  },
  {
   "cell_type": "code",
   "execution_count": 1,
   "id": "f2b0efb3",
   "metadata": {},
   "outputs": [
    {
     "name": "stdout",
     "output_type": "stream",
     "text": [
      "Hello world\n"
     ]
    }
   ],
   "source": [
    "# Let's start and print the Hello world\n",
    "print(\"Hello world\")"
   ]
  },
  {
   "cell_type": "code",
   "execution_count": 2,
   "id": "915a40eb",
   "metadata": {},
   "outputs": [
    {
     "data": {
      "text/plain": [
       "15"
      ]
     },
     "execution_count": 2,
     "metadata": {},
     "output_type": "execute_result"
    }
   ],
   "source": [
    "7+8"
   ]
  },
  {
   "cell_type": "code",
   "execution_count": 3,
   "id": "c18e9e23",
   "metadata": {},
   "outputs": [
    {
     "data": {
      "text/plain": [
       "9"
      ]
     },
     "execution_count": 3,
     "metadata": {},
     "output_type": "execute_result"
    }
   ],
   "source": [
    "4+5"
   ]
  },
  {
   "cell_type": "code",
   "execution_count": 4,
   "id": "56ba0f13",
   "metadata": {},
   "outputs": [
    {
     "name": "stdout",
     "output_type": "stream",
     "text": [
      "123abc\n"
     ]
    }
   ],
   "source": [
    "# Cognate the string\n",
    "print(\"123\" + \"abc\")"
   ]
  },
  {
   "cell_type": "code",
   "execution_count": 5,
   "id": "91f23cfc",
   "metadata": {},
   "outputs": [],
   "source": [
    "x=3\n",
    "x = x + 2"
   ]
  },
  {
   "cell_type": "code",
   "execution_count": 6,
   "id": "067e9c3f",
   "metadata": {},
   "outputs": [
    {
     "data": {
      "text/plain": [
       "5"
      ]
     },
     "execution_count": 6,
     "metadata": {},
     "output_type": "execute_result"
    }
   ],
   "source": [
    "x"
   ]
  },
  {
   "cell_type": "code",
   "execution_count": 7,
   "id": "dc846688",
   "metadata": {},
   "outputs": [
    {
     "data": {
      "text/plain": [
       "2"
      ]
     },
     "execution_count": 7,
     "metadata": {},
     "output_type": "execute_result"
    }
   ],
   "source": [
    "42 % 10"
   ]
  },
  {
   "cell_type": "code",
   "execution_count": 8,
   "id": "f35cc652",
   "metadata": {},
   "outputs": [],
   "source": [
    "x = 1 + 2 * 3 - 8 / 4"
   ]
  },
  {
   "cell_type": "code",
   "execution_count": 9,
   "id": "216f0ed4",
   "metadata": {},
   "outputs": [
    {
     "data": {
      "text/plain": [
       "5.0"
      ]
     },
     "execution_count": 9,
     "metadata": {},
     "output_type": "execute_result"
    }
   ],
   "source": [
    "x"
   ]
  },
  {
   "cell_type": "code",
   "execution_count": 10,
   "id": "1155e2ac",
   "metadata": {},
   "outputs": [],
   "source": [
    "x = int(98.6)"
   ]
  },
  {
   "cell_type": "code",
   "execution_count": 11,
   "id": "b2ca3b1d",
   "metadata": {},
   "outputs": [
    {
     "data": {
      "text/plain": [
       "98"
      ]
     },
     "execution_count": 11,
     "metadata": {},
     "output_type": "execute_result"
    }
   ],
   "source": [
    "x"
   ]
  },
  {
   "cell_type": "code",
   "execution_count": 13,
   "id": "74d9f914",
   "metadata": {},
   "outputs": [
    {
     "name": "stdout",
     "output_type": "stream",
     "text": [
      "What is your name? Sharafat\n",
      "My name is Sharafat\n"
     ]
    }
   ],
   "source": [
    "name = input(\"What is your name? \")\n",
    "print('My name is', name)\n"
   ]
  },
  {
   "cell_type": "code",
   "execution_count": 15,
   "id": "c7a3c9a2",
   "metadata": {},
   "outputs": [
    {
     "name": "stdout",
     "output_type": "stream",
     "text": [
      "Enter your nameSarah\n",
      "Hello Sarah\n"
     ]
    }
   ],
   "source": [
    "name = input(\"Enter your name\")       #Assigment 2.2 write Sarah in the dialog box\n",
    "print(\"Hello\", name)"
   ]
  },
  {
   "cell_type": "markdown",
   "id": "3a72342d",
   "metadata": {},
   "source": [
    "# Assigment 2.3"
   ]
  },
  {
   "cell_type": "markdown",
   "id": "f44f28ce",
   "metadata": {},
   "source": [
    "Write a program to prompt the user for hours and rate per hour using input to compute gross pay. \n",
    "Use 35 hours and a rate of 2.75 per hour to test the program (the pay should be 96.25). \n",
    "You should use input to read a string and float() to convert the string to a number. \n",
    "Do not worry about error checking or bad user data"
   ]
  },
  {
   "cell_type": "code",
   "execution_count": 1,
   "id": "12d9056e",
   "metadata": {},
   "outputs": [
    {
     "name": "stdout",
     "output_type": "stream",
     "text": [
      "Enter Hours:35\n",
      "Enter Rate:2.75\n",
      "Pay: 96.25\n"
     ]
    }
   ],
   "source": [
    "hrs = float(input(\"Enter Hours:\"))    #write 35 is 1st prompt \n",
    "rate = float(input(\"Enter Rate:\"))    # write 2.75 in 2nd prompt\n",
    "pay= hrs*rate\n",
    "print (\"Pay:\",pay)"
   ]
  },
  {
   "cell_type": "code",
   "execution_count": 20,
   "id": "5f4ee149",
   "metadata": {},
   "outputs": [
    {
     "name": "stdout",
     "output_type": "stream",
     "text": [
      "Enter Distance:70\n",
      "Enter Time:1.11\n",
      "Speed 63.063063063063055\n"
     ]
    }
   ],
   "source": [
    "# for practice we use another example. We find the speed of a car by using distance and time. \n",
    "distance=float(input('Enter Distance:'))   #write 70 in Distance promt\n",
    "time=float(input(\"Enter Time:\"))           # write 1.11 in Time promt\n",
    "speed=distance/time\n",
    "print(\"Speed\", speed)"
   ]
  },
  {
   "cell_type": "markdown",
   "id": "ffe835d0",
   "metadata": {},
   "source": [
    "# Week 5: Conditional Code"
   ]
  },
  {
   "cell_type": "code",
   "execution_count": 21,
   "id": "3bf69881",
   "metadata": {},
   "outputs": [
    {
     "name": "stdout",
     "output_type": "stream",
     "text": [
      "Greater then two\n"
     ]
    }
   ],
   "source": [
    "x=2\n",
    "if x<2:\n",
    "    print(\"less then two\")\n",
    "else:\n",
    "    print('Greater then two')"
   ]
  },
  {
   "cell_type": "code",
   "execution_count": 22,
   "id": "d2021e58",
   "metadata": {},
   "outputs": [
    {
     "name": "stdout",
     "output_type": "stream",
     "text": [
      "less then two\n"
     ]
    }
   ],
   "source": [
    "x=0\n",
    "if x<2:\n",
    "    print(\"less then two\")\n",
    "else:\n",
    "    print('Greater then two')"
   ]
  },
  {
   "cell_type": "code",
   "execution_count": 45,
   "id": "2b9f752f",
   "metadata": {},
   "outputs": [
    {
     "name": "stdout",
     "output_type": "stream",
     "text": [
      "Fail\n",
      "All Done\n"
     ]
    }
   ],
   "source": [
    "x=45\n",
    "if x<50:\n",
    "    print('Fail')\n",
    "if 50<=x<60:\n",
    "    print('Grade C')\n",
    "if 60<=x<80:\n",
    "    print('Grade B')\n",
    "if 80<=x<100:\n",
    "        print('Grade A')\n",
    "if x>100:\n",
    "    print('Not Define')\n",
    "print('All Done')\n"
   ]
  },
  {
   "cell_type": "code",
   "execution_count": 52,
   "id": "d003fa83",
   "metadata": {},
   "outputs": [
    {
     "name": "stdout",
     "output_type": "stream",
     "text": [
      "Greater then 4\n",
      "Greater then or equal to 5\n"
     ]
    }
   ],
   "source": [
    "x=6\n",
    "if x==5:\n",
    "    print('Equals 5')\n",
    "if x>4:\n",
    "    print('Greater then 4')\n",
    "if x>=5:\n",
    "    print('Greater then or equal to 5')\n",
    "if x<6:\n",
    "    print('Less then 6')\n",
    "if x<=5:\n",
    "    print('Less then or Equal 5')\n",
    "if x!=6:\n",
    "    print('not equal to 6')"
   ]
  },
  {
   "cell_type": "code",
   "execution_count": 54,
   "id": "57c0f708",
   "metadata": {},
   "outputs": [
    {
     "name": "stdout",
     "output_type": "stream",
     "text": [
      "Number 5\n",
      "Equals 5\n",
      "Greater then 4\n",
      "Greater then or equal to 5\n",
      "Less then 6\n",
      "Less then or Equal 5\n",
      "not equal to 6\n"
     ]
    }
   ],
   "source": [
    "x=int(input('Number '))\n",
    "if x==5:\n",
    "    print('Equals 5')\n",
    "if x>4:\n",
    "    print('Greater then 4')\n",
    "if x>=5:\n",
    "    print('Greater then or equal to 5')\n",
    "if x<6:\n",
    "    print('Less then 6')\n",
    "if x<=5:\n",
    "    print('Less then or Equal 5')\n",
    "if x!=6:\n",
    "    print('not equal to 6')"
   ]
  },
  {
   "cell_type": "code",
   "execution_count": 60,
   "id": "6c278536",
   "metadata": {},
   "outputs": [
    {
     "name": "stdout",
     "output_type": "stream",
     "text": [
      "Bigger then 2\n",
      "Still bigger\n",
      "Done with 2\n",
      "0\n",
      "1\n",
      "2\n",
      "3\n",
      "Done with i 3\n",
      "4\n",
      "Done with i 4\n",
      "All Done\n"
     ]
    }
   ],
   "source": [
    "x=3\n",
    "if x>2:\n",
    "    print('Bigger then 2')\n",
    "    print('Still bigger')\n",
    "print('Done with 2')\n",
    "\n",
    "for i in range(5):\n",
    "    print(i)\n",
    "    if i>2:\n",
    "        print('Done with i', i)\n",
    "print('All Done')"
   ]
  },
  {
   "cell_type": "code",
   "execution_count": 62,
   "id": "e9b672d0",
   "metadata": {},
   "outputs": [
    {
     "name": "stdout",
     "output_type": "stream",
     "text": [
      "Bigger then 2\n",
      "Still bigger\n",
      "Done with 2\n",
      "0\n",
      "Done with i 0\n",
      "1\n",
      "Done with i 1\n",
      "2\n",
      "Done with i 2\n",
      "3\n",
      "Done with i 3\n",
      "4\n",
      "All Done\n"
     ]
    }
   ],
   "source": [
    "x=10\n",
    "if x>2:\n",
    "    print('Bigger then 2')\n",
    "    print('Still bigger')\n",
    "print('Done with 2')\n",
    "\n",
    "for i in range(5):\n",
    "    print(i)\n",
    "    if i<4:\n",
    "        print('Done with i', i)\n",
    "print('All Done')"
   ]
  },
  {
   "cell_type": "code",
   "execution_count": 65,
   "id": "7b686fbe",
   "metadata": {},
   "outputs": [
    {
     "name": "stdout",
     "output_type": "stream",
     "text": [
      "more then one\n",
      "All Done\n"
     ]
    }
   ],
   "source": [
    "# nested Decisions\n",
    "x=101\n",
    "if x>1:\n",
    "    print('more then one')\n",
    "    if x<100:\n",
    "        print('Less Then 100')\n",
    "print(\"All Done\")"
   ]
  },
  {
   "cell_type": "code",
   "execution_count": 66,
   "id": "7cc8c669",
   "metadata": {},
   "outputs": [
    {
     "name": "stdout",
     "output_type": "stream",
     "text": [
      "8\n"
     ]
    }
   ],
   "source": [
    "# Two Way Decision:\n",
    "x=4\n",
    "if x<5:\n",
    "    print(2*x)\n",
    "else:\n",
    "    print(x+2)"
   ]
  },
  {
   "cell_type": "code",
   "execution_count": 70,
   "id": "b6c5581c",
   "metadata": {},
   "outputs": [
    {
     "name": "stdout",
     "output_type": "stream",
     "text": [
      "Bigger\n"
     ]
    }
   ],
   "source": [
    "x=53\n",
    "if x>50:\n",
    "    print('Bigger')\n",
    "else:\n",
    "    print('Smaller')"
   ]
  },
  {
   "cell_type": "code",
   "execution_count": 90,
   "id": "a1743a17",
   "metadata": {},
   "outputs": [
    {
     "name": "stdout",
     "output_type": "stream",
     "text": [
      "Fail\n"
     ]
    }
   ],
   "source": [
    "# Multi Way\n",
    "x=20\n",
    "if 0<x<50:\n",
    "    print('Fail')\n",
    "elif x<65:\n",
    "    print('Grade C')\n",
    "elif x<80:\n",
    "    print('Grade B')\n",
    "elif x<100:\n",
    "    print('Grade A')\n",
    "else:\n",
    "    print('Not Define')"
   ]
  },
  {
   "cell_type": "code",
   "execution_count": 91,
   "id": "ae7f932f",
   "metadata": {},
   "outputs": [
    {
     "name": "stdout",
     "output_type": "stream",
     "text": [
      "Grade B\n"
     ]
    }
   ],
   "source": [
    "x=70\n",
    "if 0<x<50:\n",
    "    print('Fail')\n",
    "elif x<65:\n",
    "    print('Grade C')\n",
    "elif x<80:\n",
    "    print('Grade B')\n",
    "elif x<100:\n",
    "    print('Grade A')\n",
    "else:\n",
    "    print('Not Define')"
   ]
  },
  {
   "cell_type": "code",
   "execution_count": 92,
   "id": "5efd744c",
   "metadata": {},
   "outputs": [
    {
     "name": "stdout",
     "output_type": "stream",
     "text": [
      "Not Define\n"
     ]
    }
   ],
   "source": [
    "x=120\n",
    "if 0<x<50:\n",
    "    print('Fail')\n",
    "elif x<65:\n",
    "    print('Grade C')\n",
    "elif x<80:\n",
    "    print('Grade B')\n",
    "elif x<100:\n",
    "    print('Grade A')\n",
    "else:\n",
    "    print('Not Define')"
   ]
  },
  {
   "cell_type": "code",
   "execution_count": 93,
   "id": "9c63b943",
   "metadata": {},
   "outputs": [
    {
     "name": "stdout",
     "output_type": "stream",
     "text": [
      "First -1\n",
      "Second 123\n"
     ]
    }
   ],
   "source": [
    "a=\"Hello\"\n",
    "try:\n",
    "    b=int(a)\n",
    "except:\n",
    "    b=-1\n",
    "print('First', b)\n",
    "a='123'\n",
    "try:\n",
    "    b=int(a)\n",
    "except:b=-1\n",
    "\n",
    "print('Second', b)"
   ]
  },
  {
   "cell_type": "code",
   "execution_count": 97,
   "id": "f346f8c3",
   "metadata": {},
   "outputs": [
    {
     "name": "stdout",
     "output_type": "stream",
     "text": [
      "Enter a Number: 8\n",
      "Nice Work\n"
     ]
    }
   ],
   "source": [
    "a=input('Enter a Number: ')\n",
    "try:\n",
    "    b=int(a)\n",
    "except:\n",
    "    b=5\n",
    "if b>2:\n",
    "    print('Nice Work')\n",
    "else:\n",
    "    print('Not a Number')"
   ]
  },
  {
   "cell_type": "code",
   "execution_count": 98,
   "id": "4809aa8d",
   "metadata": {},
   "outputs": [
    {
     "name": "stdout",
     "output_type": "stream",
     "text": [
      "1 0 0\n"
     ]
    }
   ],
   "source": [
    "print(1,000,000)   #semantic error Comma does not work in python"
   ]
  },
  {
   "cell_type": "code",
   "execution_count": 100,
   "id": "1f911a00",
   "metadata": {},
   "outputs": [],
   "source": [
    "trombones = 'big parade'"
   ]
  },
  {
   "cell_type": "code",
   "execution_count": 101,
   "id": "ca69d939",
   "metadata": {},
   "outputs": [
    {
     "data": {
      "text/plain": [
       "4"
      ]
     },
     "execution_count": 101,
     "metadata": {},
     "output_type": "execute_result"
    }
   ],
   "source": [
    "2 and 4"
   ]
  },
  {
   "cell_type": "code",
   "execution_count": 102,
   "id": "78b9c8a1",
   "metadata": {},
   "outputs": [
    {
     "data": {
      "text/plain": [
       "1"
      ]
     },
     "execution_count": 102,
     "metadata": {},
     "output_type": "execute_result"
    }
   ],
   "source": [
    "3 and 1"
   ]
  },
  {
   "cell_type": "code",
   "execution_count": 103,
   "id": "0cb44221",
   "metadata": {},
   "outputs": [
    {
     "name": "stdout",
     "output_type": "stream",
     "text": [
      "\n",
      "Here is a list of the Python keywords.  Enter any keyword to get more help.\n",
      "\n",
      "False               break               for                 not\n",
      "None                class               from                or\n",
      "True                continue            global              pass\n",
      "__peg_parser__      def                 if                  raise\n",
      "and                 del                 import              return\n",
      "as                  elif                in                  try\n",
      "assert              else                is                  while\n",
      "async               except              lambda              with\n",
      "await               finally             nonlocal            yield\n",
      "\n"
     ]
    }
   ],
   "source": [
    "help(\"keywords\")"
   ]
  },
  {
   "cell_type": "code",
   "execution_count": 105,
   "id": "216bd1a9",
   "metadata": {},
   "outputs": [
    {
     "name": "stdout",
     "output_type": "stream",
     "text": [
      "Help on bool object:\n",
      "\n",
      "class bool(int)\n",
      " |  bool(x) -> bool\n",
      " |  \n",
      " |  Returns True when the argument x is true, False otherwise.\n",
      " |  The builtins True and False are the only two instances of the class bool.\n",
      " |  The class bool is a subclass of the class int, and cannot be subclassed.\n",
      " |  \n",
      " |  Method resolution order:\n",
      " |      bool\n",
      " |      int\n",
      " |      object\n",
      " |  \n",
      " |  Methods defined here:\n",
      " |  \n",
      " |  __and__(self, value, /)\n",
      " |      Return self&value.\n",
      " |  \n",
      " |  __or__(self, value, /)\n",
      " |      Return self|value.\n",
      " |  \n",
      " |  __rand__(self, value, /)\n",
      " |      Return value&self.\n",
      " |  \n",
      " |  __repr__(self, /)\n",
      " |      Return repr(self).\n",
      " |  \n",
      " |  __ror__(self, value, /)\n",
      " |      Return value|self.\n",
      " |  \n",
      " |  __rxor__(self, value, /)\n",
      " |      Return value^self.\n",
      " |  \n",
      " |  __xor__(self, value, /)\n",
      " |      Return self^value.\n",
      " |  \n",
      " |  ----------------------------------------------------------------------\n",
      " |  Static methods defined here:\n",
      " |  \n",
      " |  __new__(*args, **kwargs) from builtins.type\n",
      " |      Create and return a new object.  See help(type) for accurate signature.\n",
      " |  \n",
      " |  ----------------------------------------------------------------------\n",
      " |  Methods inherited from int:\n",
      " |  \n",
      " |  __abs__(self, /)\n",
      " |      abs(self)\n",
      " |  \n",
      " |  __add__(self, value, /)\n",
      " |      Return self+value.\n",
      " |  \n",
      " |  __bool__(self, /)\n",
      " |      self != 0\n",
      " |  \n",
      " |  __ceil__(...)\n",
      " |      Ceiling of an Integral returns itself.\n",
      " |  \n",
      " |  __divmod__(self, value, /)\n",
      " |      Return divmod(self, value).\n",
      " |  \n",
      " |  __eq__(self, value, /)\n",
      " |      Return self==value.\n",
      " |  \n",
      " |  __float__(self, /)\n",
      " |      float(self)\n",
      " |  \n",
      " |  __floor__(...)\n",
      " |      Flooring an Integral returns itself.\n",
      " |  \n",
      " |  __floordiv__(self, value, /)\n",
      " |      Return self//value.\n",
      " |  \n",
      " |  __format__(self, format_spec, /)\n",
      " |      Default object formatter.\n",
      " |  \n",
      " |  __ge__(self, value, /)\n",
      " |      Return self>=value.\n",
      " |  \n",
      " |  __getattribute__(self, name, /)\n",
      " |      Return getattr(self, name).\n",
      " |  \n",
      " |  __getnewargs__(self, /)\n",
      " |  \n",
      " |  __gt__(self, value, /)\n",
      " |      Return self>value.\n",
      " |  \n",
      " |  __hash__(self, /)\n",
      " |      Return hash(self).\n",
      " |  \n",
      " |  __index__(self, /)\n",
      " |      Return self converted to an integer, if self is suitable for use as an index into a list.\n",
      " |  \n",
      " |  __int__(self, /)\n",
      " |      int(self)\n",
      " |  \n",
      " |  __invert__(self, /)\n",
      " |      ~self\n",
      " |  \n",
      " |  __le__(self, value, /)\n",
      " |      Return self<=value.\n",
      " |  \n",
      " |  __lshift__(self, value, /)\n",
      " |      Return self<<value.\n",
      " |  \n",
      " |  __lt__(self, value, /)\n",
      " |      Return self<value.\n",
      " |  \n",
      " |  __mod__(self, value, /)\n",
      " |      Return self%value.\n",
      " |  \n",
      " |  __mul__(self, value, /)\n",
      " |      Return self*value.\n",
      " |  \n",
      " |  __ne__(self, value, /)\n",
      " |      Return self!=value.\n",
      " |  \n",
      " |  __neg__(self, /)\n",
      " |      -self\n",
      " |  \n",
      " |  __pos__(self, /)\n",
      " |      +self\n",
      " |  \n",
      " |  __pow__(self, value, mod=None, /)\n",
      " |      Return pow(self, value, mod).\n",
      " |  \n",
      " |  __radd__(self, value, /)\n",
      " |      Return value+self.\n",
      " |  \n",
      " |  __rdivmod__(self, value, /)\n",
      " |      Return divmod(value, self).\n",
      " |  \n",
      " |  __rfloordiv__(self, value, /)\n",
      " |      Return value//self.\n",
      " |  \n",
      " |  __rlshift__(self, value, /)\n",
      " |      Return value<<self.\n",
      " |  \n",
      " |  __rmod__(self, value, /)\n",
      " |      Return value%self.\n",
      " |  \n",
      " |  __rmul__(self, value, /)\n",
      " |      Return value*self.\n",
      " |  \n",
      " |  __round__(...)\n",
      " |      Rounding an Integral returns itself.\n",
      " |      Rounding with an ndigits argument also returns an integer.\n",
      " |  \n",
      " |  __rpow__(self, value, mod=None, /)\n",
      " |      Return pow(value, self, mod).\n",
      " |  \n",
      " |  __rrshift__(self, value, /)\n",
      " |      Return value>>self.\n",
      " |  \n",
      " |  __rshift__(self, value, /)\n",
      " |      Return self>>value.\n",
      " |  \n",
      " |  __rsub__(self, value, /)\n",
      " |      Return value-self.\n",
      " |  \n",
      " |  __rtruediv__(self, value, /)\n",
      " |      Return value/self.\n",
      " |  \n",
      " |  __sizeof__(self, /)\n",
      " |      Returns size in memory, in bytes.\n",
      " |  \n",
      " |  __sub__(self, value, /)\n",
      " |      Return self-value.\n",
      " |  \n",
      " |  __truediv__(self, value, /)\n",
      " |      Return self/value.\n",
      " |  \n",
      " |  __trunc__(...)\n",
      " |      Truncating an Integral returns itself.\n",
      " |  \n",
      " |  as_integer_ratio(self, /)\n",
      " |      Return integer ratio.\n",
      " |      \n",
      " |      Return a pair of integers, whose ratio is exactly equal to the original int\n",
      " |      and with a positive denominator.\n",
      " |      \n",
      " |      >>> (10).as_integer_ratio()\n",
      " |      (10, 1)\n",
      " |      >>> (-10).as_integer_ratio()\n",
      " |      (-10, 1)\n",
      " |      >>> (0).as_integer_ratio()\n",
      " |      (0, 1)\n",
      " |  \n",
      " |  bit_length(self, /)\n",
      " |      Number of bits necessary to represent self in binary.\n",
      " |      \n",
      " |      >>> bin(37)\n",
      " |      '0b100101'\n",
      " |      >>> (37).bit_length()\n",
      " |      6\n",
      " |  \n",
      " |  conjugate(...)\n",
      " |      Returns self, the complex conjugate of any int.\n",
      " |  \n",
      " |  to_bytes(self, /, length, byteorder, *, signed=False)\n",
      " |      Return an array of bytes representing an integer.\n",
      " |      \n",
      " |      length\n",
      " |        Length of bytes object to use.  An OverflowError is raised if the\n",
      " |        integer is not representable with the given number of bytes.\n",
      " |      byteorder\n",
      " |        The byte order used to represent the integer.  If byteorder is 'big',\n",
      " |        the most significant byte is at the beginning of the byte array.  If\n",
      " |        byteorder is 'little', the most significant byte is at the end of the\n",
      " |        byte array.  To request the native byte order of the host system, use\n",
      " |        `sys.byteorder' as the byte order value.\n",
      " |      signed\n",
      " |        Determines whether two's complement is used to represent the integer.\n",
      " |        If signed is False and a negative integer is given, an OverflowError\n",
      " |        is raised.\n",
      " |  \n",
      " |  ----------------------------------------------------------------------\n",
      " |  Class methods inherited from int:\n",
      " |  \n",
      " |  from_bytes(bytes, byteorder, *, signed=False) from builtins.type\n",
      " |      Return the integer represented by the given array of bytes.\n",
      " |      \n",
      " |      bytes\n",
      " |        Holds the array of bytes to convert.  The argument must either\n",
      " |        support the buffer protocol or be an iterable object producing bytes.\n",
      " |        Bytes and bytearray are examples of built-in objects that support the\n",
      " |        buffer protocol.\n",
      " |      byteorder\n",
      " |        The byte order used to represent the integer.  If byteorder is 'big',\n",
      " |        the most significant byte is at the beginning of the byte array.  If\n",
      " |        byteorder is 'little', the most significant byte is at the end of the\n",
      " |        byte array.  To request the native byte order of the host system, use\n",
      " |        `sys.byteorder' as the byte order value.\n",
      " |      signed\n",
      " |        Indicates whether two's complement is used to represent the integer.\n",
      " |  \n",
      " |  ----------------------------------------------------------------------\n",
      " |  Data descriptors inherited from int:\n",
      " |  \n",
      " |  denominator\n",
      " |      the denominator of a rational number in lowest terms\n",
      " |  \n",
      " |  imag\n",
      " |      the imaginary part of a complex number\n",
      " |  \n",
      " |  numerator\n",
      " |      the numerator of a rational number in lowest terms\n",
      " |  \n",
      " |  real\n",
      " |      the real part of a complex number\n",
      "\n"
     ]
    }
   ],
   "source": [
    "help('False')"
   ]
  },
  {
   "cell_type": "code",
   "execution_count": 106,
   "id": "afe3e277",
   "metadata": {},
   "outputs": [
    {
     "name": "stdout",
     "output_type": "stream",
     "text": [
      "Boolean operations\n",
      "******************\n",
      "\n",
      "   or_test  ::= and_test | or_test \"or\" and_test\n",
      "   and_test ::= not_test | and_test \"and\" not_test\n",
      "   not_test ::= comparison | \"not\" not_test\n",
      "\n",
      "In the context of Boolean operations, and also when expressions are\n",
      "used by control flow statements, the following values are interpreted\n",
      "as false: \"False\", \"None\", numeric zero of all types, and empty\n",
      "strings and containers (including strings, tuples, lists,\n",
      "dictionaries, sets and frozensets).  All other values are interpreted\n",
      "as true.  User-defined objects can customize their truth value by\n",
      "providing a \"__bool__()\" method.\n",
      "\n",
      "The operator \"not\" yields \"True\" if its argument is false, \"False\"\n",
      "otherwise.\n",
      "\n",
      "The expression \"x and y\" first evaluates *x*; if *x* is false, its\n",
      "value is returned; otherwise, *y* is evaluated and the resulting value\n",
      "is returned.\n",
      "\n",
      "The expression \"x or y\" first evaluates *x*; if *x* is true, its value\n",
      "is returned; otherwise, *y* is evaluated and the resulting value is\n",
      "returned.\n",
      "\n",
      "Note that neither \"and\" nor \"or\" restrict the value and type they\n",
      "return to \"False\" and \"True\", but rather return the last evaluated\n",
      "argument.  This is sometimes useful, e.g., if \"s\" is a string that\n",
      "should be replaced by a default value if it is empty, the expression\n",
      "\"s or 'foo'\" yields the desired value.  Because \"not\" has to create a\n",
      "new value, it returns a boolean value regardless of the type of its\n",
      "argument (for example, \"not 'foo'\" produces \"False\" rather than \"''\".)\n",
      "\n",
      "Related help topics: EXPRESSIONS, TRUTHVALUE\n",
      "\n"
     ]
    }
   ],
   "source": [
    "help('and')"
   ]
  },
  {
   "cell_type": "code",
   "execution_count": 107,
   "id": "8e26b303",
   "metadata": {},
   "outputs": [
    {
     "data": {
      "text/plain": [
       "6"
      ]
     },
     "execution_count": 107,
     "metadata": {},
     "output_type": "execute_result"
    }
   ],
   "source": [
    "5\n",
    "x = 5\n",
    "x + 1"
   ]
  },
  {
   "cell_type": "code",
   "execution_count": 113,
   "id": "7b82d154",
   "metadata": {},
   "outputs": [],
   "source": [
    "name_t = 3       # Do not add space between the two words when using as variable my name will give error write my_name instead"
   ]
  },
  {
   "cell_type": "code",
   "execution_count": 111,
   "id": "24692785",
   "metadata": {},
   "outputs": [
    {
     "data": {
      "text/plain": [
       "3"
      ]
     },
     "execution_count": 111,
     "metadata": {},
     "output_type": "execute_result"
    }
   ],
   "source": [
    "name"
   ]
  },
  {
   "cell_type": "markdown",
   "id": "b8800b45",
   "metadata": {},
   "source": [
    "Boolean expressions"
   ]
  },
  {
   "cell_type": "code",
   "execution_count": 115,
   "id": "02dff9b7",
   "metadata": {},
   "outputs": [
    {
     "data": {
      "text/plain": [
       "False"
      ]
     },
     "execution_count": 115,
     "metadata": {},
     "output_type": "execute_result"
    }
   ],
   "source": [
    "3==7"
   ]
  },
  {
   "cell_type": "code",
   "execution_count": 116,
   "id": "ae3bd1a6",
   "metadata": {},
   "outputs": [
    {
     "data": {
      "text/plain": [
       "True"
      ]
     },
     "execution_count": 116,
     "metadata": {},
     "output_type": "execute_result"
    }
   ],
   "source": [
    "3!=6"
   ]
  },
  {
   "cell_type": "code",
   "execution_count": 117,
   "id": "b121b667",
   "metadata": {},
   "outputs": [
    {
     "data": {
      "text/plain": [
       "False"
      ]
     },
     "execution_count": 117,
     "metadata": {},
     "output_type": "execute_result"
    }
   ],
   "source": [
    "5>8"
   ]
  },
  {
   "cell_type": "code",
   "execution_count": 118,
   "id": "ecbedd2a",
   "metadata": {},
   "outputs": [
    {
     "data": {
      "text/plain": [
       "str"
      ]
     },
     "execution_count": 118,
     "metadata": {},
     "output_type": "execute_result"
    }
   ],
   "source": [
    "type('True')"
   ]
  },
  {
   "cell_type": "code",
   "execution_count": 119,
   "id": "fa200292",
   "metadata": {},
   "outputs": [
    {
     "data": {
      "text/plain": [
       "bool"
      ]
     },
     "execution_count": 119,
     "metadata": {},
     "output_type": "execute_result"
    }
   ],
   "source": [
    "type(True)"
   ]
  },
  {
   "cell_type": "markdown",
   "id": "f080326c",
   "metadata": {},
   "source": [
    "Operators "
   ]
  },
  {
   "cell_type": "markdown",
   "id": "59c978db",
   "metadata": {},
   "source": [
    "\n",
    "x != y # x is not equal to y\n",
    "x > y # x is greater than y\n",
    "x < y # x is less than y\n",
    "x >= y # x is greater than or equal to y\n",
    "x <= y # x is less than or equal to y\n",
    "x is y # x is the same as y\n",
    "x is not y # x is not the same as y"
   ]
  },
  {
   "cell_type": "markdown",
   "id": "74ed32ef",
   "metadata": {},
   "source": [
    "Logical operators\n",
    "There are three logical operators: and, or, and not."
   ]
  },
  {
   "cell_type": "code",
   "execution_count": 122,
   "id": "14289ecf",
   "metadata": {},
   "outputs": [
    {
     "data": {
      "text/plain": [
       "True"
      ]
     },
     "execution_count": 122,
     "metadata": {},
     "output_type": "execute_result"
    }
   ],
   "source": [
    "x=4\n",
    "x>0 and x<10"
   ]
  },
  {
   "cell_type": "code",
   "execution_count": 123,
   "id": "eb248aa4",
   "metadata": {},
   "outputs": [
    {
     "data": {
      "text/plain": [
       "False"
      ]
     },
     "execution_count": 123,
     "metadata": {},
     "output_type": "execute_result"
    }
   ],
   "source": [
    "x<3 or x>6"
   ]
  },
  {
   "cell_type": "code",
   "execution_count": 125,
   "id": "69b64535",
   "metadata": {},
   "outputs": [
    {
     "data": {
      "text/plain": [
       "False"
      ]
     },
     "execution_count": 125,
     "metadata": {},
     "output_type": "execute_result"
    }
   ],
   "source": [
    "not x<7"
   ]
  },
  {
   "cell_type": "code",
   "execution_count": 126,
   "id": "00e2352a",
   "metadata": {},
   "outputs": [
    {
     "data": {
      "text/plain": [
       "False"
      ]
     },
     "execution_count": 126,
     "metadata": {},
     "output_type": "execute_result"
    }
   ],
   "source": [
    "not (2<6)"
   ]
  },
  {
   "cell_type": "code",
   "execution_count": 130,
   "id": "61db648a",
   "metadata": {},
   "outputs": [
    {
     "name": "stdout",
     "output_type": "stream",
     "text": [
      "x is odd\n"
     ]
    }
   ],
   "source": [
    "x=61\n",
    "if x%2 == 0 :\n",
    "    print('x is even')\n",
    "else :\n",
    "    print('x is odd')"
   ]
  },
  {
   "cell_type": "code",
   "execution_count": 132,
   "id": "0ec2f3de",
   "metadata": {},
   "outputs": [
    {
     "name": "stdout",
     "output_type": "stream",
     "text": [
      "x is even\n"
     ]
    }
   ],
   "source": [
    "x=614\n",
    "if x%2 == 0 :                    #x%2 will execuate the reminder after dividing x by 2.\n",
    "    print('x is even')\n",
    "else :\n",
    "    print('x is odd') "
   ]
  },
  {
   "cell_type": "markdown",
   "id": "98bb78a2",
   "metadata": {},
   "source": [
    "Chained conditionals"
   ]
  },
  {
   "cell_type": "code",
   "execution_count": 140,
   "id": "faa1c701",
   "metadata": {},
   "outputs": [
    {
     "name": "stdout",
     "output_type": "stream",
     "text": [
      "x is greater than y\n"
     ]
    }
   ],
   "source": [
    "#Sometimes there are more than two possibilities and we need more than two branches.\n",
    "x=12\n",
    "y=8\n",
    "if x < y:\n",
    "    print('x is less than y')\n",
    "elif x > y:\n",
    "    print('x is greater than y')\n",
    "else:\n",
    "    print('x and y are equal')"
   ]
  },
  {
   "cell_type": "code",
   "execution_count": 141,
   "id": "4aded475",
   "metadata": {},
   "outputs": [
    {
     "name": "stdout",
     "output_type": "stream",
     "text": [
      "x is less than y\n"
     ]
    }
   ],
   "source": [
    "x=2\n",
    "y=8\n",
    "if x < y:\n",
    "    print('x is less than y')\n",
    "elif x > y:\n",
    "    print('x is greater than y')\n",
    "else:\n",
    "    print('x and y are equal')"
   ]
  },
  {
   "cell_type": "code",
   "execution_count": 142,
   "id": "2a4c5be7",
   "metadata": {},
   "outputs": [
    {
     "name": "stdout",
     "output_type": "stream",
     "text": [
      "x and y are equal\n"
     ]
    }
   ],
   "source": [
    "x=12\n",
    "y=12\n",
    "if x < y:\n",
    "    print('x is less than y')\n",
    "elif x > y:\n",
    "    print('x is greater than y')\n",
    "else:\n",
    "    print('x and y are equal')"
   ]
  },
  {
   "cell_type": "markdown",
   "id": "70c8865f",
   "metadata": {},
   "source": [
    "Nested conditionals\n",
    "One conditional can also be nested within another."
   ]
  },
  {
   "cell_type": "code",
   "execution_count": 145,
   "id": "3f358ca8",
   "metadata": {},
   "outputs": [
    {
     "name": "stdout",
     "output_type": "stream",
     "text": [
      "x is greater than y\n"
     ]
    }
   ],
   "source": [
    "x=21\n",
    "y=12\n",
    "if x < y:\n",
    "    print('x is less than y')\n",
    "else:\n",
    "    if x > y:\n",
    "        print('x is greater than y')\n",
    "    else:\n",
    "        print('x and y are equal')"
   ]
  },
  {
   "cell_type": "code",
   "execution_count": 150,
   "id": "fc6e98ca",
   "metadata": {},
   "outputs": [
    {
     "name": "stdout",
     "output_type": "stream",
     "text": [
      "Is 5\n",
      "Is Still 5\n",
      "Third 5\n"
     ]
    }
   ],
   "source": [
    "x=5\n",
    "if  x == 5 :\n",
    "    print('Is 5')\n",
    "    print('Is Still 5')\n",
    "    print('Third 5')"
   ]
  },
  {
   "cell_type": "code",
   "execution_count": 152,
   "id": "2dd0a3d9",
   "metadata": {},
   "outputs": [
    {
     "name": "stdout",
     "output_type": "stream",
     "text": [
      "Is 6\n",
      "Is Still 6\n",
      "Third 6\n"
     ]
    }
   ],
   "source": [
    "x=6\n",
    "if x == 6 :\n",
    "    print('Is 6')\n",
    "    print('Is Still 6')\n",
    "    print('Third 6')"
   ]
  },
  {
   "cell_type": "code",
   "execution_count": 153,
   "id": "f228969b",
   "metadata": {},
   "outputs": [
    {
     "name": "stdout",
     "output_type": "stream",
     "text": [
      "Small\n",
      "All done\n"
     ]
    }
   ],
   "source": [
    "x = 0\n",
    "if x < 2 :\n",
    "    print('Small')\n",
    "elif x < 10 :\n",
    "    print('Medium')\n",
    "else :\n",
    "    print('LARGE')\n",
    "print('All done')"
   ]
  },
  {
   "cell_type": "code",
   "execution_count": 157,
   "id": "2421c0a0",
   "metadata": {},
   "outputs": [
    {
     "name": "stdout",
     "output_type": "stream",
     "text": [
      "Below 2\n"
     ]
    }
   ],
   "source": [
    "x=-22.0\n",
    "if x < 2 :\n",
    "    print('Below 2')\n",
    "elif x >= 2 :\n",
    "     print('Two or more')\n",
    "else :\n",
    "    print('Something else')"
   ]
  },
  {
   "cell_type": "code",
   "execution_count": 162,
   "id": "f6f66c5e",
   "metadata": {},
   "outputs": [],
   "source": [
    "astr = 'Hello Bob'\n",
    "istr = 0\n",
    "try:\n",
    "    istr = int(astr)\n",
    "except:\n",
    "    istr = -1"
   ]
  },
  {
   "cell_type": "code",
   "execution_count": 168,
   "id": "7f68e3dd",
   "metadata": {},
   "outputs": [],
   "source": [
    "astr='Hello Bob'\n",
    "istr=0\n",
    "try:\n",
    "    istr=int(astr)\n",
    "except:\n",
    "    istr=-1"
   ]
  },
  {
   "cell_type": "markdown",
   "id": "b8d513a6",
   "metadata": {},
   "source": [
    "# Assigment 3.1"
   ]
  },
  {
   "cell_type": "code",
   "execution_count": 170,
   "id": "96852484",
   "metadata": {},
   "outputs": [
    {
     "name": "stdout",
     "output_type": "stream",
     "text": [
      "Enter Hours:45\n",
      "Rate Per Hours:10.50\n",
      "Pay 472.5\n"
     ]
    }
   ],
   "source": [
    "hrs = input(\"Enter Hours:\")\n",
    "h = float(hrs)\n",
    "rph=float(input(\"Rate Per Hours:\"))\n",
    "pay=h*rph\n",
    "print('Pay', pay)\n"
   ]
  },
  {
   "cell_type": "code",
   "execution_count": 171,
   "id": "e927f05f",
   "metadata": {},
   "outputs": [
    {
     "name": "stdout",
     "output_type": "stream",
     "text": [
      "Enter Hours:45\n",
      "Enter Rate:10.5\n",
      "498.75\n"
     ]
    }
   ],
   "source": [
    "hrs = input(\"Enter Hours:\")\n",
    "h = float(hrs)\n",
    "rate = float(input(\"Enter Rate:\"))\n",
    "if h > 40 :\n",
    "    rate1 = (rate * 1.5) * (h-40)\n",
    "    \n",
    "pay = ((h-5)*rate) + rate1\n",
    "print (pay)\n"
   ]
  },
  {
   "cell_type": "markdown",
   "id": "d39e5af2",
   "metadata": {},
   "source": [
    "# Assigment 3.3"
   ]
  },
  {
   "cell_type": "code",
   "execution_count": 173,
   "id": "e3a9ade8",
   "metadata": {},
   "outputs": [
    {
     "name": "stdout",
     "output_type": "stream",
     "text": [
      "Enter Score: 0.85\n",
      "B\n"
     ]
    }
   ],
   "source": [
    "score = float(input(\"Enter Score: \"))\n",
    "if(score>1.0):\n",
    "    print (\"out of range\")   \n",
    "elif score >= 0.9:\n",
    "    print (\"A\")\n",
    "elif score >= 0.8:\n",
    "    print (\"B\")\n",
    "elif score >= 0.7:\n",
    "    print (\"C\")\n",
    "elif score >= 0.6:\n",
    "    print (\"D\")\n",
    "elif score < 0.6:\n",
    "    print (\"F\")"
   ]
  },
  {
   "cell_type": "markdown",
   "id": "371473f8",
   "metadata": {},
   "source": [
    "# Python Functions "
   ]
  },
  {
   "cell_type": "code",
   "execution_count": 2,
   "id": "0b52a05b",
   "metadata": {
    "scrolled": true
   },
   "outputs": [
    {
     "data": {
      "text/plain": [
       "int"
      ]
     },
     "execution_count": 2,
     "metadata": {},
     "output_type": "execute_result"
    }
   ],
   "source": [
    "# a function is a named sequence of statements that performs a computation.\n",
    "# The expression in parentheses is called the argument of the function.\n",
    "#The argument is a value or variable that we are passing into the function as input to the function\n",
    "# Example type is a function, 23 is an input. \n",
    "type(23)"
   ]
  },
  {
   "cell_type": "markdown",
   "id": "ba587e3f",
   "metadata": {},
   "source": [
    "# Built in Functions"
   ]
  },
  {
   "cell_type": "markdown",
   "id": "68011561",
   "metadata": {},
   "source": [
    "We have following builtin Functions in python. Name of the function along with its discruption is given below. \n",
    "Function\tDescription"
   ]
  },
  {
   "cell_type": "code",
   "execution_count": 6,
   "id": "a0154583",
   "metadata": {},
   "outputs": [
    {
     "data": {
      "text/plain": [
       "4"
      ]
     },
     "execution_count": 6,
     "metadata": {},
     "output_type": "execute_result"
    }
   ],
   "source": [
    "#abs()\tReturns the absolute value of a number\n",
    "abs(-4)     "
   ]
  },
  {
   "cell_type": "code",
   "execution_count": 8,
   "id": "4c10b728",
   "metadata": {},
   "outputs": [
    {
     "data": {
      "text/plain": [
       "True"
      ]
     },
     "execution_count": 8,
     "metadata": {},
     "output_type": "execute_result"
    }
   ],
   "source": [
    "#all()\tReturns True if all items in an iterable object are true\n",
    "mylist = [True, True, True]\n",
    "all(mylist)"
   ]
  },
  {
   "cell_type": "code",
   "execution_count": 15,
   "id": "6278ff12",
   "metadata": {},
   "outputs": [
    {
     "data": {
      "text/plain": [
       "True"
      ]
     },
     "execution_count": 15,
     "metadata": {},
     "output_type": "execute_result"
    }
   ],
   "source": [
    "all([2,3,3.3])"
   ]
  },
  {
   "cell_type": "code",
   "execution_count": 18,
   "id": "e2de5c0c",
   "metadata": {},
   "outputs": [
    {
     "data": {
      "text/plain": [
       "False"
      ]
     },
     "execution_count": 18,
     "metadata": {},
     "output_type": "execute_result"
    }
   ],
   "source": [
    "all({0, 1, 0})"
   ]
  },
  {
   "cell_type": "code",
   "execution_count": 20,
   "id": "fa7b3301",
   "metadata": {},
   "outputs": [
    {
     "data": {
      "text/plain": [
       "False"
      ]
     },
     "execution_count": 20,
     "metadata": {},
     "output_type": "execute_result"
    }
   ],
   "source": [
    "all({0 : \"Apple\", 1 : \"Orange\"})"
   ]
  },
  {
   "cell_type": "code",
   "execution_count": 21,
   "id": "491a74f1",
   "metadata": {},
   "outputs": [
    {
     "data": {
      "text/plain": [
       "True"
      ]
     },
     "execution_count": 21,
     "metadata": {},
     "output_type": "execute_result"
    }
   ],
   "source": [
    "any({0 : \"Apple\", 1 : \"Orange\"})"
   ]
  },
  {
   "cell_type": "code",
   "execution_count": 16,
   "id": "1e3b7670",
   "metadata": {},
   "outputs": [
    {
     "data": {
      "text/plain": [
       "True"
      ]
     },
     "execution_count": 16,
     "metadata": {},
     "output_type": "execute_result"
    }
   ],
   "source": [
    "#any()\tReturns True if any item in an iterable object is true\n",
    "any([True, True, False])"
   ]
  },
  {
   "cell_type": "code",
   "execution_count": 17,
   "id": "9ef1df48",
   "metadata": {},
   "outputs": [
    {
     "data": {
      "text/plain": [
       "True"
      ]
     },
     "execution_count": 17,
     "metadata": {},
     "output_type": "execute_result"
    }
   ],
   "source": [
    "any([1.2,'4', 2])"
   ]
  },
  {
   "cell_type": "code",
   "execution_count": 26,
   "id": "d40cdeb1",
   "metadata": {},
   "outputs": [
    {
     "data": {
      "text/plain": [
       "False"
      ]
     },
     "execution_count": 26,
     "metadata": {},
     "output_type": "execute_result"
    }
   ],
   "source": [
    "any({0, 0, 0})"
   ]
  },
  {
   "cell_type": "code",
   "execution_count": 22,
   "id": "ba91f252",
   "metadata": {},
   "outputs": [
    {
     "data": {
      "text/plain": [
       "\"'My name is St\\\\xe5le'\""
      ]
     },
     "execution_count": 22,
     "metadata": {},
     "output_type": "execute_result"
    }
   ],
   "source": [
    "#ascii()\tReturns a readable version of an object. Replaces none-ascii characters with escape character\n",
    "ascii(\"My name is Ståle\")       # å will be replaced with \\xe5."
   ]
  },
  {
   "cell_type": "code",
   "execution_count": 24,
   "id": "9dba21d3",
   "metadata": {},
   "outputs": [
    {
     "data": {
      "text/plain": [
       "'0b100100'"
      ]
     },
     "execution_count": 24,
     "metadata": {},
     "output_type": "execute_result"
    }
   ],
   "source": [
    "#bin()\tReturns the binary version of a number\n",
    "bin(36)             # The result will always start with the prefix 0b"
   ]
  },
  {
   "cell_type": "code",
   "execution_count": 25,
   "id": "7ab336d8",
   "metadata": {},
   "outputs": [
    {
     "data": {
      "text/plain": [
       "'0b101011000'"
      ]
     },
     "execution_count": 25,
     "metadata": {},
     "output_type": "execute_result"
    }
   ],
   "source": [
    "bin(344)"
   ]
  },
  {
   "cell_type": "code",
   "execution_count": 27,
   "id": "855c7e99",
   "metadata": {},
   "outputs": [
    {
     "data": {
      "text/plain": [
       "True"
      ]
     },
     "execution_count": 27,
     "metadata": {},
     "output_type": "execute_result"
    }
   ],
   "source": [
    "#bool()\tReturns the boolean value of the specified object\n",
    "#The bool() function returns the boolean value of a specified object.\n",
    "#The object will always return True, unless:\n",
    "\n",
    "#The object is empty, like [], (), {}\n",
    "#The object is False\n",
    "#The object is 0\n",
    "#The object is None\n",
    "bool(1)"
   ]
  },
  {
   "cell_type": "code",
   "execution_count": 28,
   "id": "32312c66",
   "metadata": {},
   "outputs": [
    {
     "data": {
      "text/plain": [
       "False"
      ]
     },
     "execution_count": 28,
     "metadata": {},
     "output_type": "execute_result"
    }
   ],
   "source": [
    "bool(0)"
   ]
  },
  {
   "cell_type": "code",
   "execution_count": 29,
   "id": "2771ef04",
   "metadata": {},
   "outputs": [
    {
     "data": {
      "text/plain": [
       "True"
      ]
     },
     "execution_count": 29,
     "metadata": {},
     "output_type": "execute_result"
    }
   ],
   "source": [
    "bool(4.5)"
   ]
  },
  {
   "cell_type": "code",
   "execution_count": 30,
   "id": "72de19ae",
   "metadata": {},
   "outputs": [
    {
     "data": {
      "text/plain": [
       "False"
      ]
     },
     "execution_count": 30,
     "metadata": {},
     "output_type": "execute_result"
    }
   ],
   "source": [
    "bool(None)"
   ]
  },
  {
   "cell_type": "code",
   "execution_count": 31,
   "id": "02f00918",
   "metadata": {},
   "outputs": [
    {
     "data": {
      "text/plain": [
       "False"
      ]
     },
     "execution_count": 31,
     "metadata": {},
     "output_type": "execute_result"
    }
   ],
   "source": [
    "bool()"
   ]
  },
  {
   "cell_type": "code",
   "execution_count": 39,
   "id": "74c87ef8",
   "metadata": {},
   "outputs": [
    {
     "data": {
      "text/plain": [
       "bytearray(b'\\x00\\x00\\x00\\x00\\x00\\x00')"
      ]
     },
     "execution_count": 39,
     "metadata": {},
     "output_type": "execute_result"
    }
   ],
   "source": [
    "#bytearray()\tReturns an array of bytes\n",
    "bytearray(6)"
   ]
  },
  {
   "cell_type": "code",
   "execution_count": 42,
   "id": "3a0bcda2",
   "metadata": {},
   "outputs": [
    {
     "data": {
      "text/plain": [
       "b'\\x00\\x00\\x00\\x00\\x00\\x00\\x00'"
      ]
     },
     "execution_count": 42,
     "metadata": {},
     "output_type": "execute_result"
    }
   ],
   "source": [
    "#bytes()\tReturns a bytes object\n",
    "bytes(7)"
   ]
  },
  {
   "cell_type": "code",
   "execution_count": 44,
   "id": "a99546cd",
   "metadata": {},
   "outputs": [
    {
     "data": {
      "text/plain": [
       "True"
      ]
     },
     "execution_count": 44,
     "metadata": {},
     "output_type": "execute_result"
    }
   ],
   "source": [
    "#callable()\tReturns True if the specified object is callable, otherwise False\n",
    "callable(max)"
   ]
  },
  {
   "cell_type": "code",
   "execution_count": 45,
   "id": "f2c39c75",
   "metadata": {},
   "outputs": [
    {
     "data": {
      "text/plain": [
       "False"
      ]
     },
     "execution_count": 45,
     "metadata": {},
     "output_type": "execute_result"
    }
   ],
   "source": [
    "callable('add')"
   ]
  },
  {
   "cell_type": "code",
   "execution_count": null,
   "id": "3476ae9e",
   "metadata": {},
   "outputs": [],
   "source": [
    "#chr()\tReturns a character from the specified Unicode code."
   ]
  },
  {
   "cell_type": "code",
   "execution_count": null,
   "id": "caf47726",
   "metadata": {},
   "outputs": [],
   "source": [
    "#classmethod()\tConverts a method into a class method"
   ]
  },
  {
   "cell_type": "code",
   "execution_count": null,
   "id": "04bd8163",
   "metadata": {},
   "outputs": [],
   "source": [
    "#compile()\tReturns the specified source as an object, ready to be executed"
   ]
  },
  {
   "cell_type": "code",
   "execution_count": null,
   "id": "27ef1045",
   "metadata": {},
   "outputs": [],
   "source": [
    "#complex()\tReturns a complex number"
   ]
  },
  {
   "cell_type": "code",
   "execution_count": null,
   "id": "bdc9df4a",
   "metadata": {},
   "outputs": [],
   "source": [
    "#delattr()\tDeletes the specified attribute (property or method) from the specified object"
   ]
  },
  {
   "cell_type": "code",
   "execution_count": 1,
   "id": "ac0a9260",
   "metadata": {},
   "outputs": [],
   "source": [
    "#dict()\tReturns a dictionary (Array)"
   ]
  },
  {
   "cell_type": "code",
   "execution_count": 2,
   "id": "cb30d3d7",
   "metadata": {},
   "outputs": [],
   "source": [
    "#dir()\tReturns a list of the specified object's properties and methods"
   ]
  },
  {
   "cell_type": "code",
   "execution_count": 3,
   "id": "8234ca95",
   "metadata": {},
   "outputs": [],
   "source": [
    "#divmod()\tReturns the quotient and the remainder when argument1 is divided by argument2"
   ]
  },
  {
   "cell_type": "code",
   "execution_count": 4,
   "id": "6079cb1d",
   "metadata": {},
   "outputs": [],
   "source": [
    "#enumerate()\tTakes a collection (e.g. a tuple) and returns it as an enumerate object"
   ]
  },
  {
   "cell_type": "code",
   "execution_count": 5,
   "id": "70ab6733",
   "metadata": {},
   "outputs": [],
   "source": [
    "#eval()\tEvaluates and executes an expression"
   ]
  },
  {
   "cell_type": "code",
   "execution_count": 6,
   "id": "b15489f1",
   "metadata": {},
   "outputs": [],
   "source": [
    "#exec()\tExecutes the specified code (or object)"
   ]
  },
  {
   "cell_type": "code",
   "execution_count": 7,
   "id": "3c5da487",
   "metadata": {},
   "outputs": [],
   "source": [
    "#filter()\tUse a filter function to exclude items in an iterable object"
   ]
  },
  {
   "cell_type": "code",
   "execution_count": 8,
   "id": "4de6ffc4",
   "metadata": {},
   "outputs": [],
   "source": [
    "#float()\tReturns a floating point number"
   ]
  },
  {
   "cell_type": "code",
   "execution_count": 9,
   "id": "63ba5611",
   "metadata": {},
   "outputs": [],
   "source": [
    "#format()\tFormats a specified value"
   ]
  },
  {
   "cell_type": "code",
   "execution_count": 10,
   "id": "e9259ae8",
   "metadata": {},
   "outputs": [],
   "source": [
    "#frozenset()\tReturns a frozenset object"
   ]
  },
  {
   "cell_type": "code",
   "execution_count": 11,
   "id": "e625e33c",
   "metadata": {},
   "outputs": [],
   "source": [
    "#getattr()\tReturns the value of the specified attribute (property or method)"
   ]
  },
  {
   "cell_type": "code",
   "execution_count": 12,
   "id": "efdd1ba4",
   "metadata": {},
   "outputs": [],
   "source": [
    "#globals()\tReturns the current global symbol table as a dictionary"
   ]
  },
  {
   "cell_type": "code",
   "execution_count": 13,
   "id": "7fac0493",
   "metadata": {},
   "outputs": [],
   "source": [
    "#hasattr()\tReturns True if the specified object has the specified attribute (property/method)"
   ]
  },
  {
   "cell_type": "code",
   "execution_count": 14,
   "id": "adf61ef7",
   "metadata": {},
   "outputs": [],
   "source": [
    "#hash()\tReturns the hash value of a specified object"
   ]
  },
  {
   "cell_type": "code",
   "execution_count": 15,
   "id": "5c9ec7b4",
   "metadata": {},
   "outputs": [],
   "source": [
    "#help()\tExecutes the built-in help system"
   ]
  },
  {
   "cell_type": "code",
   "execution_count": 16,
   "id": "986c7e95",
   "metadata": {},
   "outputs": [],
   "source": [
    "#hex()\tConverts a number into a hexadecimal value"
   ]
  },
  {
   "cell_type": "code",
   "execution_count": 17,
   "id": "010fbbb3",
   "metadata": {},
   "outputs": [],
   "source": [
    "#id()\tReturns the id of an object"
   ]
  },
  {
   "cell_type": "code",
   "execution_count": 18,
   "id": "45a03976",
   "metadata": {},
   "outputs": [],
   "source": [
    "#input()\tAllowing user input"
   ]
  },
  {
   "cell_type": "code",
   "execution_count": 19,
   "id": "7368b9a1",
   "metadata": {},
   "outputs": [],
   "source": [
    "#int()\tReturns an integer number"
   ]
  },
  {
   "cell_type": "code",
   "execution_count": 20,
   "id": "e341529f",
   "metadata": {},
   "outputs": [],
   "source": [
    "#isinstance()\tReturns True if a specified object is an instance of a specified object"
   ]
  },
  {
   "cell_type": "code",
   "execution_count": 21,
   "id": "35890a75",
   "metadata": {},
   "outputs": [],
   "source": [
    "#issubclass()\tReturns True if a specified class is a subclass of a specified object"
   ]
  },
  {
   "cell_type": "code",
   "execution_count": 22,
   "id": "a55ba3ef",
   "metadata": {},
   "outputs": [],
   "source": [
    "#iter()\tReturns an iterator object"
   ]
  },
  {
   "cell_type": "code",
   "execution_count": 23,
   "id": "056b0a2d",
   "metadata": {},
   "outputs": [],
   "source": [
    "#len()\tReturns the length of an object"
   ]
  },
  {
   "cell_type": "code",
   "execution_count": 24,
   "id": "3227af7b",
   "metadata": {},
   "outputs": [],
   "source": [
    "#list()\tReturns a list"
   ]
  },
  {
   "cell_type": "code",
   "execution_count": 25,
   "id": "21f231b5",
   "metadata": {},
   "outputs": [],
   "source": [
    "#locals()\tReturns an updated dictionary of the current local symbol table"
   ]
  },
  {
   "cell_type": "code",
   "execution_count": 26,
   "id": "dbc5f11f",
   "metadata": {},
   "outputs": [],
   "source": [
    "#map()\tReturns the specified iterator with the specified function applied to each item"
   ]
  },
  {
   "cell_type": "code",
   "execution_count": 27,
   "id": "5191d5f6",
   "metadata": {},
   "outputs": [],
   "source": [
    "#max()\tReturns the largest item in an iterable"
   ]
  },
  {
   "cell_type": "code",
   "execution_count": 28,
   "id": "4ab11e9b",
   "metadata": {},
   "outputs": [],
   "source": [
    "#memoryview()\tReturns a memory view object"
   ]
  },
  {
   "cell_type": "code",
   "execution_count": 29,
   "id": "caae95ad",
   "metadata": {},
   "outputs": [],
   "source": [
    "#min()\tReturns the smallest item in an iterable"
   ]
  },
  {
   "cell_type": "code",
   "execution_count": 30,
   "id": "b6626e6e",
   "metadata": {},
   "outputs": [],
   "source": [
    "#next()\tReturns the next item in an iterable"
   ]
  },
  {
   "cell_type": "code",
   "execution_count": 31,
   "id": "b6ca67e5",
   "metadata": {},
   "outputs": [],
   "source": [
    "#object()\tReturns a new object"
   ]
  },
  {
   "cell_type": "code",
   "execution_count": 32,
   "id": "392a922c",
   "metadata": {},
   "outputs": [],
   "source": [
    "#oct()\tConverts a number into an octal"
   ]
  },
  {
   "cell_type": "code",
   "execution_count": 33,
   "id": "ab11ef68",
   "metadata": {},
   "outputs": [],
   "source": [
    "#open()\tOpens a file and returns a file object"
   ]
  },
  {
   "cell_type": "code",
   "execution_count": 34,
   "id": "67876ec7",
   "metadata": {},
   "outputs": [],
   "source": [
    "#ord()\tConvert an integer representing the Unicode of the specified character"
   ]
  },
  {
   "cell_type": "code",
   "execution_count": 35,
   "id": "bcc8613e",
   "metadata": {},
   "outputs": [],
   "source": [
    "#pow()\tReturns the value of x to the power of y"
   ]
  },
  {
   "cell_type": "code",
   "execution_count": 36,
   "id": "dd182fcd",
   "metadata": {},
   "outputs": [],
   "source": [
    "#print()\tPrints to the standard output device"
   ]
  },
  {
   "cell_type": "code",
   "execution_count": 37,
   "id": "8e62ca4d",
   "metadata": {},
   "outputs": [],
   "source": [
    "#property()\tGets, sets, deletes a property"
   ]
  },
  {
   "cell_type": "code",
   "execution_count": 38,
   "id": "e2dfd0e9",
   "metadata": {},
   "outputs": [],
   "source": [
    "#range()\tReturns a sequence of numbers, starting from 0 and increments by 1 (by default)"
   ]
  },
  {
   "cell_type": "code",
   "execution_count": 39,
   "id": "573cb68a",
   "metadata": {},
   "outputs": [],
   "source": [
    "#repr()\tReturns a readable version of an object"
   ]
  },
  {
   "cell_type": "code",
   "execution_count": 40,
   "id": "7a095292",
   "metadata": {},
   "outputs": [],
   "source": [
    "#reversed()\tReturns a reversed iterator"
   ]
  },
  {
   "cell_type": "code",
   "execution_count": 41,
   "id": "baa1a33c",
   "metadata": {},
   "outputs": [],
   "source": [
    "#round()\tRounds a numbers"
   ]
  },
  {
   "cell_type": "code",
   "execution_count": 42,
   "id": "a41c4f8c",
   "metadata": {},
   "outputs": [],
   "source": [
    "#set()\tReturns a new set object"
   ]
  },
  {
   "cell_type": "code",
   "execution_count": 43,
   "id": "088343f5",
   "metadata": {},
   "outputs": [],
   "source": [
    "#setattr()\tSets an attribute (property/method) of an object"
   ]
  },
  {
   "cell_type": "code",
   "execution_count": 44,
   "id": "ee68c85b",
   "metadata": {},
   "outputs": [],
   "source": [
    "#slice()\tReturns a slice object"
   ]
  },
  {
   "cell_type": "code",
   "execution_count": 45,
   "id": "491d4610",
   "metadata": {},
   "outputs": [],
   "source": [
    "#sorted()\tReturns a sorted list"
   ]
  },
  {
   "cell_type": "code",
   "execution_count": 46,
   "id": "97d4c200",
   "metadata": {},
   "outputs": [],
   "source": [
    "#staticmethod()\tConverts a method into a static method"
   ]
  },
  {
   "cell_type": "code",
   "execution_count": 47,
   "id": "1b55cc79",
   "metadata": {},
   "outputs": [],
   "source": [
    "#str()\tReturns a string object"
   ]
  },
  {
   "cell_type": "code",
   "execution_count": 48,
   "id": "f7228d99",
   "metadata": {},
   "outputs": [],
   "source": [
    "#sum()\tSums the items of an iterator"
   ]
  },
  {
   "cell_type": "code",
   "execution_count": 49,
   "id": "1f6038ab",
   "metadata": {},
   "outputs": [],
   "source": [
    "#super()\tReturns an object that represents the parent class"
   ]
  },
  {
   "cell_type": "code",
   "execution_count": 50,
   "id": "52808a63",
   "metadata": {},
   "outputs": [],
   "source": [
    "#tuple()\tReturns a tuple"
   ]
  },
  {
   "cell_type": "code",
   "execution_count": 51,
   "id": "686d788a",
   "metadata": {},
   "outputs": [],
   "source": [
    "#type()\tReturns the type of an object"
   ]
  },
  {
   "cell_type": "code",
   "execution_count": 52,
   "id": "64ae5a61",
   "metadata": {},
   "outputs": [],
   "source": [
    "#vars()\tReturns the __dict__ property of an object"
   ]
  },
  {
   "cell_type": "code",
   "execution_count": 53,
   "id": "a251ad9b",
   "metadata": {},
   "outputs": [],
   "source": [
    "#zip()\tReturns an iterator, from two or more iterators"
   ]
  },
  {
   "cell_type": "markdown",
   "id": "a5921d85",
   "metadata": {},
   "source": [
    "# Type conversion functions"
   ]
  },
  {
   "cell_type": "code",
   "execution_count": 54,
   "id": "493e5d79",
   "metadata": {},
   "outputs": [
    {
     "data": {
      "text/plain": [
       "8"
      ]
     },
     "execution_count": 54,
     "metadata": {},
     "output_type": "execute_result"
    }
   ],
   "source": [
    "#Python also provides built-in functions that convert values from one type to another.\n",
    "int('8')               # The int function takes any value and converts it to an integer"
   ]
  },
  {
   "cell_type": "code",
   "execution_count": 57,
   "id": "d7e277a2",
   "metadata": {},
   "outputs": [
    {
     "data": {
      "text/plain": [
       "8.0"
      ]
     },
     "execution_count": 57,
     "metadata": {},
     "output_type": "execute_result"
    }
   ],
   "source": [
    "float(8)                     # float converts integers and strings to floating-point numbers"
   ]
  },
  {
   "cell_type": "code",
   "execution_count": 58,
   "id": "38a76932",
   "metadata": {},
   "outputs": [
    {
     "data": {
      "text/plain": [
       "'9.0'"
      ]
     },
     "execution_count": 58,
     "metadata": {},
     "output_type": "execute_result"
    }
   ],
   "source": [
    "str(9.00)                       # str converts its argument to a string"
   ]
  },
  {
   "cell_type": "markdown",
   "id": "6b8560cf",
   "metadata": {},
   "source": [
    "# Math functions"
   ]
  },
  {
   "cell_type": "markdown",
   "id": "b7e9e969",
   "metadata": {},
   "source": [
    "Python has a math module that provides most of the familiar mathematical functions. Before we can use the module, we have to import it:"
   ]
  },
  {
   "cell_type": "code",
   "execution_count": 59,
   "id": "7d9bf570",
   "metadata": {},
   "outputs": [],
   "source": [
    "import math"
   ]
  },
  {
   "cell_type": "code",
   "execution_count": 60,
   "id": "14e9e64e",
   "metadata": {},
   "outputs": [],
   "source": [
    "#The module object contains the functions and variables defined in the module\n",
    "#To access one of the functions, you have to specify the name of the module and the\n",
    "#name of the function, separated by a dot (also known as a period). This format is called dot notation.\n"
   ]
  },
  {
   "cell_type": "markdown",
   "id": "9b7d75ab",
   "metadata": {},
   "source": [
    "## Python has a built-in module that you can use for mathematical tasks. "
   ]
  },
  {
   "cell_type": "markdown",
   "id": "569cdf40",
   "metadata": {},
   "source": [
    "# Method\t                Description\n",
    "#### math.acos()\tReturns the arc cosine of a number\n",
    "#### math.acosh()\tReturns the inverse hyperbolic cosine of a number\n",
    "#### math.asin()\tReturns the arc sine of a number\n",
    "#### math.asinh()\tReturns the inverse hyperbolic sine of a number\n",
    "#### math.atan()\tReturns the arc tangent of a number in radians\n",
    "#### math.atan2()\tReturns the arc tangent of y/x in radians\n",
    "#### math.atanh()\tReturns the inverse hyperbolic tangent of a number\n",
    "#### math.ceil()\tRounds a number up to the nearest integer\n",
    "#### math.comb()\tReturns the number of ways to choose k items from n items without repetition and order\n",
    "#### math.copysign()\tReturns a float consisting of the value of the first parameter and the sign of the second parameter\n",
    "#### math.cos()\tReturns the cosine of a number\n",
    "#### math.cosh()\tReturns the hyperbolic cosine of a number\n",
    "#### math.degrees()\tConverts an angle from radians to degrees\n",
    "#### math.dist()\tReturns the Euclidean distance between two points (p and q), where p and q are the coordinates of that point\n",
    "#### math.erf()\tReturns the error function of a number\n",
    "#### math.erfc()\tReturns the complementary error function of a number\n",
    "#### math.exp()\tReturns E raised to the power of x\n",
    "#### math.expm1()\tReturns Ex - 1\n",
    "#### math.fabs()\tReturns the absolute value of a number\n",
    "#### math.factorial()\tReturns the factorial of a number\n",
    "#### math.floor()\tRounds a number down to the nearest integer\n",
    "#### math.fmod()\tReturns the remainder of x/y\n",
    "#### math.frexp()\tReturns the mantissa and the exponent, of a specified number\n",
    "#### math.fsum()\tReturns the sum of all items in any iterable (tuples, arrays, lists, etc.)\n",
    "#### math.gamma()\tReturns the gamma function at x\n",
    "#### math.gcd()\tReturns the greatest common divisor of two integers\n",
    "#### math.hypot()\tReturns the Euclidean norm\n",
    "#### math.isclose()\tChecks whether two values are close to each other, or not\n",
    "#### math.isfinite()\tChecks whether a number is finite or not\n",
    "#### math.isinf()\tChecks whether a number is infinite or not\n",
    "#### math.isnan()\tChecks whether a value is NaN (not a number) or not\n",
    "#### math.isqrt()\tRounds a square root number downwards to the nearest integer\n",
    "#### math.ldexp()\tReturns the inverse of math.frexp() which is x * (2**i) of the given numbers x and i\n",
    "#### math.lgamma()\tReturns the log gamma value of x\n",
    "#### math.log()\tReturns the natural logarithm of a number, or the logarithm of number to base\n",
    "#### math.log10()\tReturns the base-10 logarithm of x\n",
    "#### math.log1p()\tReturns the natural logarithm of 1+x\n",
    "#### math.log2()\tReturns the base-2 logarithm of x\n",
    "#### math.perm()\tReturns the number of ways to choose k items from n items with order and without repetition\n",
    "#### math.pow()\tReturns the value of x to the power of y\n",
    "#### math.prod()\tReturns the product of all the elements in an iterable\n",
    "#### math.radians()\tConverts a degree value into radians\n",
    "#### math.remainder()\tReturns the closest value that can make numerator completely divisible by the denominator\n",
    "#### math.sin()\tReturns the sine of a number\n",
    "#### math.sinh()\tReturns the hyperbolic sine of a number\n",
    "#### math.sqrt()\tReturns the square root of a number\n",
    "#### math.tan()\tReturns the tangent of a number\n",
    "#### math.tanh()\tReturns the hyperbolic tangent of a number\n",
    "#### math.trunc()\tReturns the truncated integer parts of a number"
   ]
  },
  {
   "cell_type": "code",
   "execution_count": 63,
   "id": "ec9c005b",
   "metadata": {},
   "outputs": [
    {
     "name": "stdout",
     "output_type": "stream",
     "text": [
      "2\n",
      "6\n",
      "-5\n",
      "23\n",
      "10\n"
     ]
    }
   ],
   "source": [
    "# we will see only few of above functions\n",
    "print(math.ceil(1.4))\n",
    "print(math.ceil(5.3))\n",
    "print(math.ceil(-5.3))\n",
    "print(math.ceil(22.6))\n",
    "print(math.ceil(10.0))"
   ]
  },
  {
   "cell_type": "code",
   "execution_count": 66,
   "id": "8554e506",
   "metadata": {},
   "outputs": [
    {
     "name": "stdout",
     "output_type": "stream",
     "text": [
      "21\n"
     ]
    }
   ],
   "source": [
    "# Find the total number of possibilities to choose k things from n items\n",
    "n=7\n",
    "k=5\n",
    "print (math.comb(n, k))"
   ]
  },
  {
   "cell_type": "code",
   "execution_count": 67,
   "id": "95b854b6",
   "metadata": {},
   "outputs": [
    {
     "name": "stdout",
     "output_type": "stream",
     "text": [
      "-4.0\n",
      "8.0\n",
      "-43.0\n"
     ]
    }
   ],
   "source": [
    "#Return the value of the first parameter and the sign of the second parameter\n",
    "print(math.copysign(4, -1))\n",
    "print(math.copysign(-8, 97.21))\n",
    "print(math.copysign(-43, -76))"
   ]
  },
  {
   "cell_type": "code",
   "execution_count": 68,
   "id": "8526e77a",
   "metadata": {},
   "outputs": [
    {
     "name": "stdout",
     "output_type": "stream",
     "text": [
      "509.9324376664327\n",
      "-1145.9155902616465\n",
      "57.29577951308232\n",
      "5156.620156177409\n"
     ]
    }
   ],
   "source": [
    "# Convert from radians to degrees:\n",
    "print (math.degrees(8.90))\n",
    "print (math.degrees(-20))\n",
    "print (math.degrees(1))\n",
    "print (math.degrees(90))"
   ]
  },
  {
   "cell_type": "code",
   "execution_count": 70,
   "id": "c0b9a776",
   "metadata": {},
   "outputs": [
    {
     "name": "stdout",
     "output_type": "stream",
     "text": [
      "2.0\n",
      "9.486832980505138\n",
      "9.695359714832657\n"
     ]
    }
   ],
   "source": [
    "p = [3]\n",
    "q = [1]\n",
    "\n",
    "# Calculate Euclidean distance\n",
    "print (math.dist(p, q))\n",
    "\n",
    "p = [3, 3]\n",
    "q = [6, 12]\n",
    "\n",
    "# Calculate Euclidean distance\n",
    "print (math.dist(p, q))\n",
    "p = [3, 3,6,7]\n",
    "q = [6, 12,6,9]\n",
    "\n",
    "# Calculate Euclidean distance\n",
    "print (math.dist(p, q))"
   ]
  },
  {
   "cell_type": "code",
   "execution_count": 71,
   "id": "c23e632c",
   "metadata": {},
   "outputs": [
    {
     "name": "stdout",
     "output_type": "stream",
     "text": [
      "0.6566277023003051\n",
      "0.9419137152583654\n",
      "-1.0\n"
     ]
    }
   ],
   "source": [
    "# Print error function for different numbers\n",
    "print (math.erf(0.67))\n",
    "print (math.erf(1.34))\n",
    "print (math.erf(-6))"
   ]
  },
  {
   "cell_type": "code",
   "execution_count": 72,
   "id": "80ee3e20",
   "metadata": {},
   "outputs": [
    {
     "name": "stdout",
     "output_type": "stream",
     "text": [
      "0.3433722976996949\n",
      "0.05808628474163466\n",
      "2.0\n"
     ]
    }
   ],
   "source": [
    "# Print complementary error function for different numbers\n",
    "print (math.erfc(0.67))\n",
    "print (math.erfc(1.34))\n",
    "print (math.erfc(-6))"
   ]
  },
  {
   "cell_type": "code",
   "execution_count": 78,
   "id": "a2a4129a",
   "metadata": {},
   "outputs": [
    {
     "name": "stdout",
     "output_type": "stream",
     "text": [
      "1.6948892444103338e+28\n",
      "0.0010179138409954387\n"
     ]
    }
   ],
   "source": [
    "#find the exponential of the specified value\n",
    "print(math.exp(65))\n",
    "print(math.exp(-6.89))"
   ]
  },
  {
   "cell_type": "code",
   "execution_count": 80,
   "id": "d06e7b53",
   "metadata": {},
   "outputs": [
    {
     "name": "stdout",
     "output_type": "stream",
     "text": [
      "1.6948892444103338e+28\n",
      "-0.9989820861590045\n",
      "-0.9989820861590045\n"
     ]
    }
   ],
   "source": [
    "#Return the exponential value of a number - 1\n",
    "print(math.expm1(65))                          \n",
    "print(math.expm1(-6.89))\n",
    "\n",
    "# The math.expm1() method returns Ex - 1. \n",
    "print(math.exp(-6.89)-1)"
   ]
  },
  {
   "cell_type": "code",
   "execution_count": 91,
   "id": "e505bcee",
   "metadata": {},
   "outputs": [
    {
     "name": "stdout",
     "output_type": "stream",
     "text": [
      "66.43\n",
      "7.0\n",
      "7\n"
     ]
    }
   ],
   "source": [
    "#Print absolute values from numbers\n",
    "print(math.fabs(-66.43))\n",
    "print(math.fabs(-7))\n",
    "# math.fabs() and abs give same output \n",
    "print(abs(-7))   "
   ]
  },
  {
   "cell_type": "code",
   "execution_count": 96,
   "id": "197434a1",
   "metadata": {},
   "outputs": [
    {
     "name": "stdout",
     "output_type": "stream",
     "text": [
      "720\n",
      "720\n",
      "362880\n",
      "87178291200\n"
     ]
    }
   ],
   "source": [
    "#Return factorial of a number\n",
    "print(math.factorial(6))   # 6 factorial mean 6*5*4*3*2*1\n",
    "print(math.factorial(9))\n",
    "print(math.factorial(14))"
   ]
  },
  {
   "cell_type": "code",
   "execution_count": 97,
   "id": "11df8869",
   "metadata": {},
   "outputs": [
    {
     "name": "stdout",
     "output_type": "stream",
     "text": [
      "0\n",
      "1\n",
      "5\n",
      "-6\n",
      "22\n",
      "10\n"
     ]
    }
   ],
   "source": [
    "# Round numbers down to the nearest integer\n",
    "print(math.floor(0.6))\n",
    "print(math.floor(1.4))\n",
    "print(math.floor(5.3))\n",
    "print(math.floor(-5.3))\n",
    "print(math.floor(22.6))\n",
    "print(math.floor(10.0))"
   ]
  },
  {
   "cell_type": "code",
   "execution_count": 100,
   "id": "abbbddef",
   "metadata": {},
   "outputs": [
    {
     "name": "stdout",
     "output_type": "stream",
     "text": [
      "0.0\n",
      "2.0\n",
      "3.0\n",
      "-1.0\n",
      "0.0\n"
     ]
    }
   ],
   "source": [
    "# Return the remainder of x/y\n",
    "print(math.fmod(20, 4))\n",
    "print(math.fmod(20, 3))\n",
    "print(math.fmod(15, 6))\n",
    "print(math.fmod(-10, 3))\n",
    "print(math.fmod(10, 2))"
   ]
  },
  {
   "cell_type": "code",
   "execution_count": 101,
   "id": "b22610d1",
   "metadata": {},
   "outputs": [
    {
     "name": "stdout",
     "output_type": "stream",
     "text": [
      "(0.5, 3)\n",
      "(-0.5, 3)\n",
      "(0.875, 3)\n"
     ]
    }
   ],
   "source": [
    "#Return mantissa and exponent of numbers\n",
    "print(math.frexp(4))\n",
    "print(math.frexp(-4))\n",
    "print(math.frexp(7))"
   ]
  },
  {
   "cell_type": "code",
   "execution_count": 106,
   "id": "ff9e4ffa",
   "metadata": {},
   "outputs": [
    {
     "name": "stdout",
     "output_type": "stream",
     "text": [
      "15.0\n",
      "1340.0\n",
      "8.0\n",
      "15\n"
     ]
    }
   ],
   "source": [
    "# Print the sum of all items\n",
    "print(math.fsum([1, 2, 3, 4, 5]))\n",
    "print(math.fsum([100, 400, 340, 500]))\n",
    "print(math.fsum([1.7, 0.3, 1.5, 4.5]))\n",
    "# math.fsum()=sum()\n",
    "print(sum([1, 2, 3, 4, 5]))"
   ]
  },
  {
   "cell_type": "code",
   "execution_count": 107,
   "id": "d71d8214",
   "metadata": {},
   "outputs": [
    {
     "name": "stdout",
     "output_type": "stream",
     "text": [
      "-10.686287021193193\n",
      "5040.0\n",
      "0.9181687423997604\n",
      "8.946182130782976e+116\n",
      "-3.578429819277059\n"
     ]
    }
   ],
   "source": [
    "# Return the gamma function for different numbers\n",
    "print(math.gamma(-0.1))\n",
    "print(math.gamma(8))\n",
    "print(math.gamma(1.2))\n",
    "print(math.gamma(80))\n",
    "print(math.gamma(-0.55))"
   ]
  },
  {
   "cell_type": "code",
   "execution_count": 108,
   "id": "0909c72f",
   "metadata": {},
   "outputs": [
    {
     "name": "stdout",
     "output_type": "stream",
     "text": [
      "11.180339887498949\n"
     ]
    }
   ],
   "source": [
    "#set perpendicular and base\n",
    "parendicular = 10\n",
    "base = 5\n",
    "\n",
    "#print the hypotenuse of a right-angled triangle\n",
    "print(math.hypot(parendicular, base))"
   ]
  },
  {
   "cell_type": "code",
   "execution_count": 109,
   "id": "491b8ed8",
   "metadata": {},
   "outputs": [
    {
     "name": "stdout",
     "output_type": "stream",
     "text": [
      "False\n",
      "True\n",
      "False\n",
      "True\n"
     ]
    }
   ],
   "source": [
    "#compare the closeness of two values\n",
    "print(math.isclose(1.233, 1.4566))\n",
    "print(math.isclose(1.233, 1.233))\n",
    "print(math.isclose(1.233, 1.24))\n",
    "print(math.isclose(1.233, 1.233000001))"
   ]
  },
  {
   "cell_type": "code",
   "execution_count": 110,
   "id": "46175db0",
   "metadata": {},
   "outputs": [
    {
     "name": "stdout",
     "output_type": "stream",
     "text": [
      "True\n",
      "True\n",
      "True\n",
      "False\n",
      "False\n",
      "False\n",
      "False\n",
      "False\n",
      "True\n"
     ]
    }
   ],
   "source": [
    "# Check whether the values are finite or not\n",
    "print(math.isfinite(2000))\n",
    "print(math.isfinite(-45.34))\n",
    "print(math.isfinite(+45.34))\n",
    "print(math.isfinite(math.inf))\n",
    "print(math.isfinite(float(\"nan\")))\n",
    "print(math.isfinite(float(\"inf\")))\n",
    "print(math.isfinite(float(\"-inf\")))\n",
    "print(math.isfinite(-math.inf))\n",
    "print(math.isfinite(0.0))"
   ]
  },
  {
   "cell_type": "code",
   "execution_count": 111,
   "id": "7cceaef5",
   "metadata": {},
   "outputs": [
    {
     "name": "stdout",
     "output_type": "stream",
     "text": [
      "False\n",
      "False\n",
      "False\n",
      "True\n",
      "False\n",
      "True\n",
      "True\n",
      "True\n"
     ]
    }
   ],
   "source": [
    "# Check whether the values are infinite or not\n",
    "print(math.isinf(56))\n",
    "print(math.isinf(-45.34))\n",
    "print(math.isinf(+45.34))\n",
    "print(math.isinf(math.inf))\n",
    "print(math.isinf(float(\"nan\")))\n",
    "print(math.isinf(float(\"inf\")))\n",
    "print(math.isinf(float(\"-inf\")))\n",
    "print(math.isinf(-math.inf))"
   ]
  },
  {
   "cell_type": "code",
   "execution_count": 112,
   "id": "9fca6b71",
   "metadata": {},
   "outputs": [
    {
     "name": "stdout",
     "output_type": "stream",
     "text": [
      "False\n",
      "False\n",
      "False\n",
      "False\n",
      "True\n",
      "False\n",
      "False\n",
      "True\n"
     ]
    }
   ],
   "source": [
    "# Check whether some values are NaN or not\n",
    "print (math.isnan (56))\n",
    "print (math.isnan (-45.34))\n",
    "print (math.isnan (+45.34))\n",
    "print (math.isnan (math.inf))\n",
    "print (math.isnan (float(\"nan\")))\n",
    "print (math.isnan (float(\"inf\")))\n",
    "print (math.isnan (float(\"-inf\")))\n",
    "print (math.isnan (math.nan))"
   ]
  },
  {
   "cell_type": "code",
   "execution_count": 113,
   "id": "79185d8c",
   "metadata": {},
   "outputs": [
    {
     "name": "stdout",
     "output_type": "stream",
     "text": [
      "3.1622776601683795\n",
      "3.4641016151377544\n",
      "8.246211251235321\n",
      "10.0\n",
      "3\n",
      "3\n",
      "8\n",
      "10\n"
     ]
    }
   ],
   "source": [
    "# Print the square root of different numbers\n",
    "print (math.sqrt(10))\n",
    "print (math.sqrt (12))\n",
    "print (math.sqrt (68))\n",
    "print (math.sqrt (100))\n",
    "\n",
    "# Round square root downward to the nearest integer\n",
    "print (math.isqrt(10))\n",
    "print (math.isqrt (12))\n",
    "print (math.isqrt (68))\n",
    "print (math.isqrt (100))"
   ]
  },
  {
   "cell_type": "code",
   "execution_count": 120,
   "id": "4e69d2cd",
   "metadata": {},
   "outputs": [
    {
     "name": "stdout",
     "output_type": "stream",
     "text": [
      "72.0\n",
      "-20.0\n",
      "60.0\n",
      "(0.5625, 7)\n",
      "72.0\n"
     ]
    }
   ],
   "source": [
    "# Return value of x * (2**i)\n",
    "# The math.ldexp() method returns  x * (2**i) of the given numbers x and i. \n",
    "print(math.ldexp(9, 3))\n",
    "print(math.ldexp(-5, 2))\n",
    "print(math.ldexp(15, 2))\n",
    "# math.ldexp() is the inverse of math.frexp().\n",
    "print(math.frexp(72.0))\n",
    "print(math.ldexp(0.5625, 7))"
   ]
  },
  {
   "cell_type": "code",
   "execution_count": 121,
   "id": "ffe1b09a",
   "metadata": {},
   "outputs": [
    {
     "name": "stdout",
     "output_type": "stream",
     "text": [
      "6.579251212010102\n",
      "-1.8075166614192908\n"
     ]
    }
   ],
   "source": [
    "# Return the log gamma value of different numbers\n",
    "print (math.lgamma(7))\n",
    "print (math.lgamma(-4.2))"
   ]
  },
  {
   "cell_type": "code",
   "execution_count": 122,
   "id": "40eb9eab",
   "metadata": {},
   "outputs": [
    {
     "name": "stdout",
     "output_type": "stream",
     "text": [
      "1.0000066849139877\n",
      "0.6931471805599453\n",
      "0.0\n"
     ]
    }
   ],
   "source": [
    "# Return the natural logarithm of different numbers\n",
    "print(math.log(2.7183))\n",
    "print(math.log(2))\n",
    "print(math.log(1))"
   ]
  },
  {
   "cell_type": "code",
   "execution_count": 123,
   "id": "f8845745",
   "metadata": {},
   "outputs": [
    {
     "name": "stdout",
     "output_type": "stream",
     "text": [
      "0.43429738512450866\n",
      "0.3010299956639812\n",
      "0.0\n"
     ]
    }
   ],
   "source": [
    "# Return the base-10 logarithm of different numbers\n",
    "print(math.log10(2.7183))\n",
    "print(math.log10(2))\n",
    "print(math.log10(1))"
   ]
  },
  {
   "cell_type": "code",
   "execution_count": 127,
   "id": "33b04e0e",
   "metadata": {},
   "outputs": [
    {
     "name": "stdout",
     "output_type": "stream",
     "text": [
      "1.313266574586334\n",
      "1.0986122886681098\n",
      "0.6931471805599453\n",
      "1.313266574586334\n"
     ]
    }
   ],
   "source": [
    "# Return the log(1+number) for different numbers\n",
    "print(math.log1p(2.7183))\n",
    "print(math.log1p(2))\n",
    "print(math.log1p(1))\n",
    "# math.log1p(2.7183)= math.log(3.7183)\n",
    "print(math.log(3.7183))"
   ]
  },
  {
   "cell_type": "code",
   "execution_count": 128,
   "id": "9b8c401c",
   "metadata": {},
   "outputs": [
    {
     "name": "stdout",
     "output_type": "stream",
     "text": [
      "1.4427046851812222\n",
      "1.0\n",
      "0.0\n"
     ]
    }
   ],
   "source": [
    "# Return the base-2 logarithm of different numbers\n",
    "print(math.log2(2.7183))\n",
    "print(math.log2(2))\n",
    "print(math.log2(1))"
   ]
  },
  {
   "cell_type": "code",
   "execution_count": 129,
   "id": "93db3cde",
   "metadata": {},
   "outputs": [
    {
     "name": "stdout",
     "output_type": "stream",
     "text": [
      "2520\n"
     ]
    }
   ],
   "source": [
    "# Initialize the number of items to choose from\n",
    "n = 7\n",
    "\n",
    "# Initialize the number of items to choose\n",
    "k = 5\n",
    "\n",
    "# Print the number of ways to choose k items from n items\n",
    "print (math.perm(n, k))"
   ]
  },
  {
   "cell_type": "code",
   "execution_count": 132,
   "id": "73ce5063",
   "metadata": {},
   "outputs": [
    {
     "name": "stdout",
     "output_type": "stream",
     "text": [
      "729.0\n",
      "531441.0\n",
      "256.0\n"
     ]
    }
   ],
   "source": [
    "#Return the value of a raised to the power of b\n",
    "print(math.pow(9, 3))\n",
    "print(math.pow(9,6))\n",
    "print(math.pow(2,8))"
   ]
  },
  {
   "cell_type": "code",
   "execution_count": 136,
   "id": "b07de227",
   "metadata": {},
   "outputs": [
    {
     "name": "stdout",
     "output_type": "stream",
     "text": [
      "8\n",
      "720\n"
     ]
    }
   ],
   "source": [
    "#Return the product of the elements\n",
    "print(math.prod((2, 2, 2)))\n",
    "print(math.prod((2, -1, -6,3,4,5)))"
   ]
  },
  {
   "cell_type": "code",
   "execution_count": 137,
   "id": "6c942f8a",
   "metadata": {},
   "outputs": [
    {
     "name": "stdout",
     "output_type": "stream",
     "text": [
      "3.141592653589793\n",
      "1.7458528507699278\n",
      "-0.3490658503988659\n"
     ]
    }
   ],
   "source": [
    "# Convert different degrees into radians\n",
    "print(math.radians(180))\n",
    "print(math.radians(100.03))\n",
    "print(math.radians(-20))"
   ]
  },
  {
   "cell_type": "code",
   "execution_count": 138,
   "id": "2e6c3b86",
   "metadata": {},
   "outputs": [
    {
     "name": "stdout",
     "output_type": "stream",
     "text": [
      "3.0\n",
      "5.0\n",
      "4.0\n"
     ]
    }
   ],
   "source": [
    "# Return the square root of different numbers\n",
    "print (math.sqrt(9))\n",
    "print (math.sqrt(25))\n",
    "print (math.sqrt(16))"
   ]
  },
  {
   "cell_type": "code",
   "execution_count": 139,
   "id": "77be0bf7",
   "metadata": {
    "scrolled": true
   },
   "outputs": [
    {
     "name": "stdout",
     "output_type": "stream",
     "text": [
      "2\n",
      "8\n",
      "-99\n"
     ]
    }
   ],
   "source": [
    "# Return the truncated integer parts of different numbers\n",
    "print(math.trunc(2.77))\n",
    "print(math.trunc(8.32))\n",
    "print(math.trunc(-99.29))"
   ]
  },
  {
   "cell_type": "markdown",
   "id": "66996e6b",
   "metadata": {},
   "source": [
    "# Random Number"
   ]
  },
  {
   "cell_type": "code",
   "execution_count": 143,
   "id": "333f1fbe",
   "metadata": {},
   "outputs": [
    {
     "name": "stdout",
     "output_type": "stream",
     "text": [
      "0.9137405405272515\n",
      "0.04041903358037291\n",
      "0.3988729350357283\n",
      "0.5550224078355772\n",
      "0.7431887271902042\n",
      "0.3888505560100237\n",
      "0.3029448919503761\n",
      "0.5708430565435905\n",
      "0.9413624627853238\n",
      "0.9599744148561777\n"
     ]
    }
   ],
   "source": [
    "import random\n",
    "for i in range(10):\n",
    "    x = random.random()\n",
    "    print(x)"
   ]
  },
  {
   "cell_type": "markdown",
   "id": "b69f843d",
   "metadata": {},
   "source": [
    "Exercise: Exercise 1: Run the program on your system and see what numbers\n",
    "you get. Run the program more than once and see what numbers you\n",
    "get."
   ]
  },
  {
   "cell_type": "code",
   "execution_count": 144,
   "id": "b41769b6",
   "metadata": {},
   "outputs": [
    {
     "name": "stdout",
     "output_type": "stream",
     "text": [
      "0.13117309715427383\n",
      "0.17790976019472982\n",
      "0.9679237460692806\n",
      "0.5472332400256246\n",
      "0.18597711507316217\n",
      "0.4218983899295583\n",
      "0.7499207871444\n",
      "0.5551674161162666\n",
      "0.6180568726507036\n",
      "0.4377780080605991\n"
     ]
    }
   ],
   "source": [
    "for i in range(10):\n",
    "    x = random.random()\n",
    "    print(x)"
   ]
  },
  {
   "cell_type": "markdown",
   "id": "5a5e6d78",
   "metadata": {},
   "source": [
    "The random function is only one of many functions that handle random numbers.\n",
    "The function randint takes the parameters low and high, and returns an integer\n",
    "between low and high (including both)."
   ]
  },
  {
   "cell_type": "code",
   "execution_count": 145,
   "id": "337ae56e",
   "metadata": {},
   "outputs": [
    {
     "data": {
      "text/plain": [
       "10"
      ]
     },
     "execution_count": 145,
     "metadata": {},
     "output_type": "execute_result"
    }
   ],
   "source": [
    "random.randint(5, 10)"
   ]
  },
  {
   "cell_type": "markdown",
   "id": "fe6a0a91",
   "metadata": {},
   "source": [
    "### Adding new functions\n",
    "So far, we have only been using the functions that come with Python, but it is also\n",
    "possible to add new functions. A function definition specifies the name of a new\n",
    "function and the sequence of statements that execute when the function is called.\n",
    "Once we define a function, we can reuse the function over and over throughout our\n",
    "program.\n",
    "Here is an example:"
   ]
  },
  {
   "cell_type": "code",
   "execution_count": 150,
   "id": "99c8ee03",
   "metadata": {},
   "outputs": [
    {
     "name": "stdout",
     "output_type": "stream",
     "text": [
      "I'm a , and I'm okay.\n",
      "I amd reading book Pyton for every body.\n"
     ]
    }
   ],
   "source": [
    "def print_lyrics():\n",
    "    print(\"I'm a , and I'm okay.\")\n",
    "    print('I amd reading book Pyton for every body.')\n",
    "print_lyrics()"
   ]
  },
  {
   "cell_type": "code",
   "execution_count": 152,
   "id": "cd7db429",
   "metadata": {},
   "outputs": [
    {
     "data": {
      "text/plain": [
       "15"
      ]
     },
     "execution_count": 152,
     "metadata": {},
     "output_type": "execute_result"
    }
   ],
   "source": [
    "def add_two(a,b):\n",
    "    return a+b\n",
    "add_two(9,6)"
   ]
  },
  {
   "cell_type": "markdown",
   "id": "3a74b362",
   "metadata": {},
   "source": [
    "### Parameters and arguments\n",
    "Inside the function, the arguments are assigned to variables called parameters"
   ]
  },
  {
   "cell_type": "code",
   "execution_count": 157,
   "id": "e90f2460",
   "metadata": {},
   "outputs": [
    {
     "name": "stdout",
     "output_type": "stream",
     "text": [
      "A\n",
      "A\n",
      "Spam\n",
      "Spam\n"
     ]
    }
   ],
   "source": [
    "def print_twice(a):   # parameters is a\n",
    "    print(a)\n",
    "    print(a)\n",
    "print_twice(\"A\")\n",
    "print_twice('Spam')"
   ]
  },
  {
   "cell_type": "markdown",
   "id": "4efa828e",
   "metadata": {},
   "source": [
    "### Fruitful functions and void functions\n",
    "Some of the functions we are using, such as the math functions, yield results;\n",
    "for lack of a better name, I call them fruitful functions. Other functions, like\n",
    "print_twice, perform an action but don’t return a value. They are called void\n",
    "functions. Void functions might display something on the screen or have some other effect,\n",
    "but they don’t have a return value. If you try to assign the result to a variable,\n",
    "you get a special value called None."
   ]
  },
  {
   "cell_type": "code",
   "execution_count": 158,
   "id": "4b5455cd",
   "metadata": {},
   "outputs": [
    {
     "data": {
      "text/plain": [
       "3.141592653589793"
      ]
     },
     "execution_count": 158,
     "metadata": {},
     "output_type": "execute_result"
    }
   ],
   "source": [
    "math.pi"
   ]
  },
  {
   "cell_type": "code",
   "execution_count": 159,
   "id": "028d81e4",
   "metadata": {},
   "outputs": [
    {
     "name": "stdout",
     "output_type": "stream",
     "text": [
      "Sharafat\n",
      "Sharafat\n"
     ]
    }
   ],
   "source": [
    "result=print_twice('Sharafat')"
   ]
  },
  {
   "cell_type": "code",
   "execution_count": 160,
   "id": "f55ae36d",
   "metadata": {},
   "outputs": [
    {
     "name": "stdout",
     "output_type": "stream",
     "text": [
      "None\n"
     ]
    }
   ],
   "source": [
    "print(result)"
   ]
  },
  {
   "cell_type": "markdown",
   "id": "39c80066",
   "metadata": {},
   "source": [
    "## Why functions?\n",
    "It may not be clear why it is worth the trouble to divide a program into functions.\n",
    "There are several reasons:\n",
    "\n",
    "• Creating a new function gives you an opportunity to name a group of statements,\n",
    "which makes your program easier to read, understand, and debug.\n",
    "\n",
    "• Functions can make a program smaller by eliminating repetitive code. Later,\n",
    "if you make a change, you only have to make it in one place.\n",
    "\n",
    "• Dividing a long program into functions allows you to debug the parts one at\n",
    "a time and then assemble them into a working whole.\n",
    "\n",
    "• Well-designed functions are often useful for many programs. Once you write\n",
    "and debug one, you can reuse it."
   ]
  },
  {
   "cell_type": "markdown",
   "id": "12f4c206",
   "metadata": {},
   "source": [
    "# Iteration"
   ]
  },
  {
   "cell_type": "code",
   "execution_count": 162,
   "id": "9c21499c",
   "metadata": {},
   "outputs": [
    {
     "data": {
      "text/plain": [
       "1"
      ]
     },
     "execution_count": 162,
     "metadata": {},
     "output_type": "execute_result"
    }
   ],
   "source": [
    "#Updating a variable by adding 1 is called an increment; subtracting 1 is called a decrement.\n",
    "x=0\n",
    "x=x+1\n",
    "x"
   ]
  },
  {
   "cell_type": "markdown",
   "id": "4c60c511",
   "metadata": {},
   "source": [
    "# The while statement"
   ]
  },
  {
   "cell_type": "code",
   "execution_count": 164,
   "id": "2d256127",
   "metadata": {},
   "outputs": [
    {
     "name": "stdout",
     "output_type": "stream",
     "text": [
      "5\n",
      "6\n",
      "7\n",
      "8\n",
      "9\n",
      "Done\n"
     ]
    }
   ],
   "source": [
    "# One form of iteration in Python is the while statement. Here is a simple program that from five to 9\n",
    "# and then says “Done!”.\n",
    "n=5\n",
    "while n<10:\n",
    "    print(n)\n",
    "    n=n+1\n",
    "print('Done')"
   ]
  },
  {
   "cell_type": "markdown",
   "id": "69b13e00",
   "metadata": {},
   "source": [
    "# Infinite loops"
   ]
  },
  {
   "cell_type": "code",
   "execution_count": 1,
   "id": "1da617f2",
   "metadata": {},
   "outputs": [],
   "source": [
    "#This loop is obviously an infinite loop because the logical expression on the whilestatement is \n",
    "# simply the logical constant True:\n",
    "#n=10\n",
    "#while True:\n",
    "    #print(n, end='')\n",
    "    #n=n-1\n",
    "#print(\"done\")\n",
    "\n",
    "#remove the # and run the code"
   ]
  },
  {
   "cell_type": "code",
   "execution_count": 9,
   "id": "39afb9f0",
   "metadata": {
    "scrolled": true
   },
   "outputs": [
    {
     "name": "stdout",
     "output_type": "stream",
     "text": [
      ">1\n",
      "1\n",
      ">2\n",
      "2\n",
      ">3\n",
      "3\n",
      ">4\n",
      "4\n",
      ">5\n",
      "5\n",
      ">6\n",
      "6\n",
      ">7\n",
      "7\n",
      ">8\n",
      "8\n",
      ">9\n",
      "9\n",
      ">10\n",
      "10\n",
      ">done\n",
      "Done\n"
     ]
    }
   ],
   "source": [
    "while True:\n",
    "    line=input('>')\n",
    "    if line=='done':\n",
    "         break\n",
    "    print(line)\n",
    "print('Done')"
   ]
  },
  {
   "cell_type": "markdown",
   "id": "c297b21e",
   "metadata": {},
   "source": [
    "## Finishing iterations with continue\n",
    "\n",
    "Sometimes you are in an iteration of a loop and want to finish the current iteration\n",
    "and immediately jump to the next iteration. In that case you can use the continue\n",
    "statement to skip to the next iteration without finishing the body of the loop for\n",
    "the current iteration."
   ]
  },
  {
   "cell_type": "code",
   "execution_count": 1,
   "id": "6048591c",
   "metadata": {},
   "outputs": [
    {
     "name": "stdout",
     "output_type": "stream",
     "text": [
      ">My name is sharafat\n",
      "My name is sharafat\n",
      ">I live in Kashmir\n",
      "I live in Kashmir\n",
      ">Coding is my passion\n",
      "Coding is my passion\n",
      "># don't print this\n",
      ">Love you all\n",
      "Love you all\n",
      ">done\n",
      "Done\n"
     ]
    }
   ],
   "source": [
    "while True:\n",
    "    line=input('>')\n",
    "    if line[0]== '#':\n",
    "        continue \n",
    "    if line == 'done':\n",
    "        break\n",
    "    print(line)\n",
    "print('Done')\n",
    "\n",
    "\n",
    "#All the lines are printed except the one that starts with the hash sign because\n",
    "#when the continue is executed, it ends the current iteration and jumps back to\n",
    "#the while statement to start the next iteration, thus skipping the print statement."
   ]
  },
  {
   "cell_type": "markdown",
   "id": "bfa0cc37",
   "metadata": {},
   "source": [
    "## Definite loops using for"
   ]
  },
  {
   "cell_type": "code",
   "execution_count": 7,
   "id": "055655ce",
   "metadata": {},
   "outputs": [
    {
     "name": "stdout",
     "output_type": "stream",
     "text": [
      "Happy New Year Ahmed\n",
      "Happy New Year Umer\n",
      "Happy New Year Ali\n"
     ]
    }
   ],
   "source": [
    "friends=['Ahmed', 'Umer', 'Ali']\n",
    "for i in friends:\n",
    "    print('Happy New Year', i)"
   ]
  },
  {
   "cell_type": "markdown",
   "id": "0e748380",
   "metadata": {},
   "source": [
    "## Loop patterns\n",
    "Often we use a for or while loop to go through a list of items or the contents of\n",
    "a file and we are looking for something such as the largest or smallest value of the\n",
    "data we scan through.\n",
    "\n",
    "These loops are generally constructed by:\n",
    "    \n",
    "• Initializing one or more variables before the loop starts\n",
    "\n",
    "• Performing some computation on each item in the loop body, possibly changing\n",
    "the variables in the body of the loop\n",
    "\n",
    "• Looking at the resulting variables when the loop completes"
   ]
  },
  {
   "cell_type": "markdown",
   "id": "c572dfd1",
   "metadata": {},
   "source": [
    "We will use a list of numbers to demonstrate the concepts and construction of these\n",
    "loop patterns."
   ]
  },
  {
   "cell_type": "markdown",
   "id": "96d8a111",
   "metadata": {},
   "source": [
    "## Counting and summing loops\n",
    "For example, to count the number of items in a list, we would write the following\n",
    "for loop:"
   ]
  },
  {
   "cell_type": "code",
   "execution_count": 9,
   "id": "6590c504",
   "metadata": {},
   "outputs": [
    {
     "name": "stdout",
     "output_type": "stream",
     "text": [
      "Count:  5\n"
     ]
    }
   ],
   "source": [
    "count=0\n",
    "for itervar in [3,41,12,9,74]:\n",
    "    count=count+1\n",
    "print('Count: ', count)"
   ]
  },
  {
   "cell_type": "markdown",
   "id": "2ed97dbe",
   "metadata": {},
   "source": [
    " Another similar loop that computes the total of a set of numbers is as follows:\n"
   ]
  },
  {
   "cell_type": "code",
   "execution_count": 11,
   "id": "91cb1722",
   "metadata": {},
   "outputs": [
    {
     "name": "stdout",
     "output_type": "stream",
     "text": [
      "Total:  154\n"
     ]
    }
   ],
   "source": [
    "total = 0\n",
    "for i in [3, 41, 12, 9, 74, 15]:\n",
    "    total = total + i\n",
    "print('Total: ', total)"
   ]
  },
  {
   "cell_type": "markdown",
   "id": "65342df9",
   "metadata": {},
   "source": [
    "To find the largest value and smallest in a list or sequence, we construct the following loop:"
   ]
  },
  {
   "cell_type": "code",
   "execution_count": 15,
   "id": "dd6e740e",
   "metadata": {},
   "outputs": [
    {
     "name": "stdout",
     "output_type": "stream",
     "text": [
      "Before: None\n",
      "Loop: 15 74\n",
      "Largest: 74\n"
     ]
    }
   ],
   "source": [
    "largest = None\n",
    "print('Before:', largest)\n",
    "for i in [3, 41, 12, 9, 74, 15]: \n",
    "    if largest is None or i > largest :\n",
    "        largest = i\n",
    "print('Loop:', i, largest)\n",
    "print('Largest:', largest)"
   ]
  },
  {
   "cell_type": "code",
   "execution_count": 16,
   "id": "3481c62d",
   "metadata": {},
   "outputs": [
    {
     "name": "stdout",
     "output_type": "stream",
     "text": [
      "Before: None\n",
      "Loop: 15 3\n",
      "Smallest: 3\n"
     ]
    }
   ],
   "source": [
    "smallest = None\n",
    "print('Before:', smallest)\n",
    "for i in [3, 41, 12, 9, 74, 15]: \n",
    "    if smallest is None or i < smallest :\n",
    "        smallest = i\n",
    "print('Loop:', i, smallest)\n",
    "print('Smallest:', largest)"
   ]
  },
  {
   "cell_type": "markdown",
   "id": "b4c28f1a",
   "metadata": {},
   "source": [
    "The following is a simple version of the Python built-in min() function:"
   ]
  },
  {
   "cell_type": "code",
   "execution_count": 22,
   "id": "bda9a93a",
   "metadata": {},
   "outputs": [
    {
     "data": {
      "text/plain": [
       "3"
      ]
     },
     "execution_count": 22,
     "metadata": {},
     "output_type": "execute_result"
    }
   ],
   "source": [
    "def min(values):\n",
    "    smallest = None\n",
    "    for i in [3, 41, 12, 9, 74, 15]: \n",
    "        if smallest is None or i < smallest :\n",
    "            smallest = i\n",
    "    return smallest\n",
    "smallest"
   ]
  },
  {
   "cell_type": "markdown",
   "id": "eac39046",
   "metadata": {},
   "source": [
    "# Quiz Chapter 04\n",
    "Question 1:  Which Python keyword indicates the start of a function definition?\n",
    "\n",
    "Answer: def\n",
    "\n",
    "\n",
    "Question 2: In Python, how do you indicate the end of the block of code that makes up the function?\n",
    "\n",
    "Answer: You de-indent a line of code to the same indent level as the def keyword\n",
    "\n",
    "Question 3: In Python what is the input() feature best described as?\n",
    "\n",
    "Answer: A built-in function\n"
   ]
  },
  {
   "cell_type": "code",
   "execution_count": 23,
   "id": "a67d555e",
   "metadata": {},
   "outputs": [
    {
     "name": "stdout",
     "output_type": "stream",
     "text": [
      "There\n"
     ]
    }
   ],
   "source": [
    "# Question 4: What does the following code print out?\n",
    "def thing():\n",
    "    print('Hello')\n",
    "print('There')"
   ]
  },
  {
   "cell_type": "markdown",
   "id": "1d365bbe",
   "metadata": {},
   "source": [
    "Question 5: In the following Python code, which of the following is an \"argument\" to a function?\n",
    "\n",
    "Answer: "
   ]
  },
  {
   "cell_type": "code",
   "execution_count": 26,
   "id": "7a790835",
   "metadata": {},
   "outputs": [
    {
     "name": "stdout",
     "output_type": "stream",
     "text": [
      "10\n",
      "20\n"
     ]
    }
   ],
   "source": [
    "# Question 6: What will the following Python code print out?\n",
    "def func(x) :\n",
    "    print(x)\n",
    "\n",
    "func(10)\n",
    "func(20)"
   ]
  },
  {
   "cell_type": "code",
   "execution_count": 29,
   "id": "026c5b48",
   "metadata": {},
   "outputs": [
    {
     "name": "stdout",
     "output_type": "stream",
     "text": [
      "Hello\n"
     ]
    }
   ],
   "source": [
    "# Question 7: Which line of the following Python program will never execute?\n",
    "# Answer: print ('World')\n",
    "def stuff():\n",
    "    print('Hello')\n",
    "    return\n",
    "    print('World')\n",
    "\n",
    "stuff()"
   ]
  },
  {
   "cell_type": "code",
   "execution_count": 31,
   "id": "952474aa",
   "metadata": {},
   "outputs": [
    {
     "name": "stdout",
     "output_type": "stream",
     "text": [
      "Bonjour Michael\n"
     ]
    }
   ],
   "source": [
    "# Question 8:What will the following Python program print out?\n",
    "#Answer: Bonjour Michael\n",
    "def greet(lang):\n",
    "    if lang == 'es':\n",
    "        return 'Hola'\n",
    "    elif lang == 'fr':\n",
    "        return 'Bonjour'\n",
    "    else:\n",
    "        return 'Hello'\n",
    "\n",
    "print(greet('fr'),'Michael')"
   ]
  },
  {
   "cell_type": "code",
   "execution_count": 32,
   "id": "9a325eed",
   "metadata": {},
   "outputs": [
    {
     "name": "stdout",
     "output_type": "stream",
     "text": [
      "2\n"
     ]
    }
   ],
   "source": [
    "#Question 9 What does the following Python code print out? \n",
    "#Answer: 2\n",
    "# Its not addtion\n",
    "\n",
    "def addtwo(a, b):\n",
    "    added = a + b\n",
    "    return a\n",
    "\n",
    "x = addtwo(2, 7)\n",
    "print(x)"
   ]
  },
  {
   "cell_type": "markdown",
   "id": "d0f22e40",
   "metadata": {},
   "source": [
    "Question 10: What is the most important benefit of writing your own functions?\n",
    "\n",
    "Answer: Avoiding writing the same non-trivial code more than once in your program"
   ]
  },
  {
   "cell_type": "markdown",
   "id": "a8e653c4",
   "metadata": {},
   "source": [
    "## Assignment 4.6\n",
    "\n",
    "Write a program to prompt the user for hours and rate per hour using input to compute gross pay. Pay should be the normal rate for hours up to 40 and time-and-a-half for the hourly rate for all hours worked above 40 hours. Put the logic to do the computation of pay in a function called computepay() and use the function to do the computation. The function should return a value. Use 45 hours and a rate of 10.50 per hour to test the program (the pay should be 498.75). You should use input to read a string and float() to convert the string to a number. Do not worry about error checking the user input unless you want to - you can assume the user types numbers properly. Do not name your variable sum or use the sum() function"
   ]
  },
  {
   "cell_type": "code",
   "execution_count": 36,
   "id": "1d9a7acc",
   "metadata": {},
   "outputs": [
    {
     "name": "stdout",
     "output_type": "stream",
     "text": [
      "Enter Hours:45\n",
      "Enter Rate:10.50\n",
      "Pay  498.75\n"
     ]
    }
   ],
   "source": [
    "def computepay(h, r):\n",
    "    if h>40:\n",
    "        rate=(r* 1.5) * (h-40)\n",
    "    return ((h-5)*r) + rate\n",
    "h=float(input(\"Enter Hours:\"))\n",
    "r=float(input(\"Enter Rate:\"))\n",
    "pay= computepay(h, r)\n",
    "print('Pay ', pay)"
   ]
  },
  {
   "cell_type": "code",
   "execution_count": 37,
   "id": "7e93463d",
   "metadata": {},
   "outputs": [
    {
     "name": "stdout",
     "output_type": "stream",
     "text": [
      "5\n"
     ]
    }
   ],
   "source": [
    "tot = 0 \n",
    "for i in [5, 4, 3, 2, 1] :\n",
    "    tot = tot + 1\n",
    "print(tot)"
   ]
  },
  {
   "cell_type": "code",
   "execution_count": 38,
   "id": "edcd27fa",
   "metadata": {},
   "outputs": [
    {
     "name": "stdout",
     "output_type": "stream",
     "text": [
      "After 154\n"
     ]
    }
   ],
   "source": [
    "zork = 0\n",
    "for thing in [9, 41, 12, 3, 74, 15] :\n",
    "    zork = zork + thing\n",
    "print('After', zork)"
   ]
  },
  {
   "cell_type": "code",
   "execution_count": 39,
   "id": "fa973783",
   "metadata": {},
   "outputs": [
    {
     "name": "stdout",
     "output_type": "stream",
     "text": [
      "Dry off!\n"
     ]
    }
   ],
   "source": [
    "n = 0\n",
    "while n > 0 :\n",
    "    print('Lather')\n",
    "    print('Rinse')\n",
    "print('Dry off!')"
   ]
  },
  {
   "cell_type": "code",
   "execution_count": 40,
   "id": "ad17c23f",
   "metadata": {},
   "outputs": [],
   "source": [
    "if smallest is None :\n",
    "     smallest = value"
   ]
  },
  {
   "cell_type": "markdown",
   "id": "6591e21a",
   "metadata": {},
   "source": [
    "# Assigment 5.2\n",
    "Write a program that repeatedly prompts a user for integer numbers until the user enters 'done'. Once 'done' is entered, print out the largest and smallest of the numbers. If the user enters anything other than a valid number catch it with a try/except and put out an appropriate message and ignore the number. Enter 7, 2, bob, 10, and 4 and match the output below."
   ]
  },
  {
   "cell_type": "code",
   "execution_count": 45,
   "id": "e4e86ff5",
   "metadata": {},
   "outputs": [
    {
     "name": "stdout",
     "output_type": "stream",
     "text": [
      "Enter a number: 7\n",
      "Enter a number: 2\n",
      "Enter a number: bob\n",
      "Invalid input\n",
      "Enter a number: 10\n",
      "Enter a number: 4\n",
      "Enter a number: done\n",
      "Maximum is 10\n",
      "Minimum is 2\n"
     ]
    }
   ],
   "source": [
    "largest = None\n",
    "smallest = None\n",
    "while True:\n",
    "    num = input(\"Enter a number: \")\n",
    "    if num == \"done\": break\n",
    "    try:\n",
    "        num = int(num)\n",
    "        if largest is None or largest < num: largest = num\n",
    "        if smallest is None or smallest > num: smallest = num\n",
    "    except:\n",
    "        print (\"Invalid input\")\n",
    "        continue\n",
    "print (\"Maximum is\",largest)\n",
    "print (\"Minimum is\",smallest)"
   ]
  },
  {
   "cell_type": "markdown",
   "id": "95fda5ff",
   "metadata": {},
   "source": [
    "#  Chapter 6"
   ]
  },
  {
   "cell_type": "markdown",
   "id": "ec3b3cb9",
   "metadata": {},
   "source": [
    "### String\n",
    "A string is a sequence of characters. You can access the characters one at a time with the bracket operator:"
   ]
  },
  {
   "cell_type": "code",
   "execution_count": 8,
   "id": "41ed2143",
   "metadata": {},
   "outputs": [
    {
     "name": "stdout",
     "output_type": "stream",
     "text": [
      "n\n",
      "a\n",
      "b\n"
     ]
    }
   ],
   "source": [
    "fruit = 'banana'\n",
    "print(fruit[4])     # number start form position 0 and last is also denoted by -1\n",
    "print(fruit[-1])\n",
    "print(fruit[0])"
   ]
  },
  {
   "cell_type": "code",
   "execution_count": 9,
   "id": "b11bd787",
   "metadata": {},
   "outputs": [
    {
     "data": {
      "text/plain": [
       "6"
      ]
     },
     "execution_count": 9,
     "metadata": {},
     "output_type": "execute_result"
    }
   ],
   "source": [
    "# getting length of a string we use len function \n",
    "len(fruit)"
   ]
  },
  {
   "cell_type": "markdown",
   "id": "73937782",
   "metadata": {},
   "source": [
    "### Traversal through a string with a loop\n",
    "\n",
    "A lot of computations involve processing a string one character at a time. Often\n",
    "they start at the beginning, select each character in turn, do something to it, and\n",
    "continue until the end. This pattern of processing is called a traversal. One way\n",
    "to write a traversal is with a while loop:"
   ]
  },
  {
   "cell_type": "code",
   "execution_count": 10,
   "id": "0e2bc4cb",
   "metadata": {},
   "outputs": [
    {
     "name": "stdout",
     "output_type": "stream",
     "text": [
      "b\n",
      "a\n",
      "n\n",
      "a\n",
      "n\n",
      "a\n"
     ]
    }
   ],
   "source": [
    "index=0\n",
    "while index< len(fruit):\n",
    "    letter=fruit[index]\n",
    "    print(letter)\n",
    "    index=index+1"
   ]
  },
  {
   "cell_type": "code",
   "execution_count": 12,
   "id": "1e4bd418",
   "metadata": {},
   "outputs": [
    {
     "name": "stdout",
     "output_type": "stream",
     "text": [
      "D\n",
      "r\n",
      ".\n",
      " \n",
      "S\n",
      "h\n",
      "a\n",
      "r\n",
      "a\n",
      "f\n",
      "a\n",
      "t\n",
      " \n",
      "H\n",
      "u\n",
      "s\n",
      "s\n",
      "a\n",
      "i\n",
      "n\n"
     ]
    }
   ],
   "source": [
    "name='Dr. Sharafat Hussain'   # The following code will print each letter of the string \n",
    "a=0\n",
    "while a<len(name):\n",
    "    L=name[a]\n",
    "    a=a+1\n",
    "    print(L)"
   ]
  },
  {
   "cell_type": "markdown",
   "id": "1c5973ed",
   "metadata": {},
   "source": [
    "##### Exercise 6.1: \n",
    "Write a while loop that starts at the last character in the\n",
    "string and works its way backwards to the first character in the string,\n",
    "printing each letter on a separate line, except backwards."
   ]
  },
  {
   "cell_type": "code",
   "execution_count": 23,
   "id": "3a88e6d1",
   "metadata": {},
   "outputs": [
    {
     "name": "stdout",
     "output_type": "stream",
     "text": [
      "t\n",
      "a\n",
      "f\n",
      "a\n",
      "r\n",
      "a\n",
      "h\n",
      "s\n"
     ]
    }
   ],
   "source": [
    "name='sharafat'\n",
    "index=-1\n",
    "while index >= -len(name):\n",
    "    letter=name[index]\n",
    "    print(letter)\n",
    "    index=index-1"
   ]
  },
  {
   "cell_type": "code",
   "execution_count": 24,
   "id": "ef0cb7ed",
   "metadata": {},
   "outputs": [
    {
     "name": "stdout",
     "output_type": "stream",
     "text": [
      "s\n",
      "h\n",
      "a\n",
      "r\n",
      "a\n",
      "f\n",
      "a\n",
      "t\n"
     ]
    }
   ],
   "source": [
    "# we can also use for loop as \n",
    "\n",
    "for letter in name:\n",
    "    print(letter)"
   ]
  },
  {
   "cell_type": "markdown",
   "id": "17235f94",
   "metadata": {},
   "source": [
    "### String slices\n",
    "A segment of a string is called a slice. Selecting a slice is similar to selecting a\n",
    "character:"
   ]
  },
  {
   "cell_type": "code",
   "execution_count": 28,
   "id": "56bc8efe",
   "metadata": {},
   "outputs": [
    {
     "name": "stdout",
     "output_type": "stream",
     "text": [
      "Pyt\n",
      "thon\n"
     ]
    }
   ],
   "source": [
    "n='Python'\n",
    "print(n[0:3])\n",
    "print(n[2:6])    # leeter from posstion 2 to 6"
   ]
  },
  {
   "cell_type": "code",
   "execution_count": 29,
   "id": "11c3dc9b",
   "metadata": {},
   "outputs": [
    {
     "data": {
      "text/plain": [
       "'bana'"
      ]
     },
     "execution_count": 29,
     "metadata": {},
     "output_type": "execute_result"
    }
   ],
   "source": [
    "x='banana'\n",
    "x[:4]           # letter from 0 to 4"
   ]
  },
  {
   "cell_type": "code",
   "execution_count": 30,
   "id": "6ab31303",
   "metadata": {},
   "outputs": [
    {
     "data": {
      "text/plain": [
       "'ana'"
      ]
     },
     "execution_count": 30,
     "metadata": {},
     "output_type": "execute_result"
    }
   ],
   "source": [
    "x[3:]            # letter from 3 to the end"
   ]
  },
  {
   "cell_type": "code",
   "execution_count": 32,
   "id": "6d5497e3",
   "metadata": {},
   "outputs": [
    {
     "data": {
      "text/plain": [
       "'banana'"
      ]
     },
     "execution_count": 32,
     "metadata": {},
     "output_type": "execute_result"
    }
   ],
   "source": [
    "x[:]          # the whole string"
   ]
  },
  {
   "cell_type": "markdown",
   "id": "5c634249",
   "metadata": {},
   "source": [
    "### Exercise 2: \n",
    "Given that fruit is a string, what does fruit[:] mean?"
   ]
  },
  {
   "cell_type": "code",
   "execution_count": 33,
   "id": "461a17bd",
   "metadata": {},
   "outputs": [
    {
     "data": {
      "text/plain": [
       "'banana'"
      ]
     },
     "execution_count": 33,
     "metadata": {},
     "output_type": "execute_result"
    }
   ],
   "source": [
    "fruit[:]    # it gives the whole string"
   ]
  },
  {
   "cell_type": "markdown",
   "id": "24eae3d7",
   "metadata": {},
   "source": [
    "### Strings are immutable\n",
    "It is tempting to use the operator on the left side of an assignment, with the\n",
    "intention of changing a character in a string. We can join two strings as following"
   ]
  },
  {
   "cell_type": "code",
   "execution_count": 35,
   "id": "94582468",
   "metadata": {},
   "outputs": [
    {
     "name": "stdout",
     "output_type": "stream",
     "text": [
      "Jello, world!\n"
     ]
    }
   ],
   "source": [
    "greeting = 'Hello, world!'\n",
    "new_greeting = 'J' + greeting[1:]     \n",
    "print(new_greeting)"
   ]
  },
  {
   "cell_type": "markdown",
   "id": "76846792",
   "metadata": {},
   "source": [
    "### Looping and counting\n",
    "The following program counts the number of times the letter “a” appears in a\n",
    "string:"
   ]
  },
  {
   "cell_type": "code",
   "execution_count": 42,
   "id": "69d6cc31",
   "metadata": {},
   "outputs": [
    {
     "name": "stdout",
     "output_type": "stream",
     "text": [
      "7\n"
     ]
    }
   ],
   "source": [
    "word='banana is a banana'\n",
    "\n",
    "count=0\n",
    "for i in word:       # you can replce count with any variable\n",
    "    if i=='a':\n",
    "        count=count+1\n",
    "print(count)"
   ]
  },
  {
   "cell_type": "markdown",
   "id": "07a65583",
   "metadata": {},
   "source": [
    "### The in operator\n",
    "The word in is a boolean operator that takes two strings and returns True if the\n",
    "first appears as a substring in the second:"
   ]
  },
  {
   "cell_type": "code",
   "execution_count": 44,
   "id": "02a99aa8",
   "metadata": {},
   "outputs": [
    {
     "data": {
      "text/plain": [
       "True"
      ]
     },
     "execution_count": 44,
     "metadata": {},
     "output_type": "execute_result"
    }
   ],
   "source": [
    "\"a\" in 'banana'"
   ]
  },
  {
   "cell_type": "code",
   "execution_count": 45,
   "id": "2b198666",
   "metadata": {},
   "outputs": [
    {
     "data": {
      "text/plain": [
       "True"
      ]
     },
     "execution_count": 45,
     "metadata": {},
     "output_type": "execute_result"
    }
   ],
   "source": [
    "\"b\" in \"banana\""
   ]
  },
  {
   "cell_type": "markdown",
   "id": "3e6d1945",
   "metadata": {},
   "source": [
    "### String comparison\n",
    "The comparison operators work on strings. To see if two strings are equal:"
   ]
  },
  {
   "cell_type": "code",
   "execution_count": 49,
   "id": "dab866f5",
   "metadata": {},
   "outputs": [
    {
     "name": "stdout",
     "output_type": "stream",
     "text": [
      "All right, Bananas\n"
     ]
    }
   ],
   "source": [
    "word='banana'\n",
    "if word=='banana':\n",
    "    print('All right, Bananas')"
   ]
  },
  {
   "cell_type": "markdown",
   "id": "4310346b",
   "metadata": {},
   "source": [
    "### String methods\n",
    "Strings are an example of Python objects. An object contains both data (the actual\n",
    "string itself) and methods, which are effectively functions that are built into the\n",
    "object and are available to any instance of the object.\n",
    "Python has a function called dir which lists the methods available for an object.\n",
    "The type function shows the type of an object and the dir function shows the\n",
    "available methods."
   ]
  },
  {
   "cell_type": "code",
   "execution_count": 50,
   "id": "5bca9a44",
   "metadata": {},
   "outputs": [
    {
     "data": {
      "text/plain": [
       "str"
      ]
     },
     "execution_count": 50,
     "metadata": {},
     "output_type": "execute_result"
    }
   ],
   "source": [
    "name='Hello! word'\n",
    "type(name)"
   ]
  },
  {
   "cell_type": "code",
   "execution_count": 51,
   "id": "79938f3f",
   "metadata": {},
   "outputs": [
    {
     "data": {
      "text/plain": [
       "['__add__',\n",
       " '__class__',\n",
       " '__contains__',\n",
       " '__delattr__',\n",
       " '__dir__',\n",
       " '__doc__',\n",
       " '__eq__',\n",
       " '__format__',\n",
       " '__ge__',\n",
       " '__getattribute__',\n",
       " '__getitem__',\n",
       " '__getnewargs__',\n",
       " '__gt__',\n",
       " '__hash__',\n",
       " '__init__',\n",
       " '__init_subclass__',\n",
       " '__iter__',\n",
       " '__le__',\n",
       " '__len__',\n",
       " '__lt__',\n",
       " '__mod__',\n",
       " '__mul__',\n",
       " '__ne__',\n",
       " '__new__',\n",
       " '__reduce__',\n",
       " '__reduce_ex__',\n",
       " '__repr__',\n",
       " '__rmod__',\n",
       " '__rmul__',\n",
       " '__setattr__',\n",
       " '__sizeof__',\n",
       " '__str__',\n",
       " '__subclasshook__',\n",
       " 'capitalize',\n",
       " 'casefold',\n",
       " 'center',\n",
       " 'count',\n",
       " 'encode',\n",
       " 'endswith',\n",
       " 'expandtabs',\n",
       " 'find',\n",
       " 'format',\n",
       " 'format_map',\n",
       " 'index',\n",
       " 'isalnum',\n",
       " 'isalpha',\n",
       " 'isascii',\n",
       " 'isdecimal',\n",
       " 'isdigit',\n",
       " 'isidentifier',\n",
       " 'islower',\n",
       " 'isnumeric',\n",
       " 'isprintable',\n",
       " 'isspace',\n",
       " 'istitle',\n",
       " 'isupper',\n",
       " 'join',\n",
       " 'ljust',\n",
       " 'lower',\n",
       " 'lstrip',\n",
       " 'maketrans',\n",
       " 'partition',\n",
       " 'removeprefix',\n",
       " 'removesuffix',\n",
       " 'replace',\n",
       " 'rfind',\n",
       " 'rindex',\n",
       " 'rjust',\n",
       " 'rpartition',\n",
       " 'rsplit',\n",
       " 'rstrip',\n",
       " 'split',\n",
       " 'splitlines',\n",
       " 'startswith',\n",
       " 'strip',\n",
       " 'swapcase',\n",
       " 'title',\n",
       " 'translate',\n",
       " 'upper',\n",
       " 'zfill']"
      ]
     },
     "execution_count": 51,
     "metadata": {},
     "output_type": "execute_result"
    }
   ],
   "source": [
    "dir(name)"
   ]
  },
  {
   "cell_type": "code",
   "execution_count": 54,
   "id": "fc1fb8f1",
   "metadata": {},
   "outputs": [
    {
     "data": {
      "text/plain": [
       "'BANANA'"
      ]
     },
     "execution_count": 54,
     "metadata": {},
     "output_type": "execute_result"
    }
   ],
   "source": [
    "x=word.upper()   # change the whole string to upper case\n",
    "x"
   ]
  },
  {
   "cell_type": "code",
   "execution_count": 56,
   "id": "ae9ef299",
   "metadata": {},
   "outputs": [
    {
     "data": {
      "text/plain": [
       "'banana'"
      ]
     },
     "execution_count": 56,
     "metadata": {},
     "output_type": "execute_result"
    }
   ],
   "source": [
    "y=x.lower()\n",
    "y"
   ]
  },
  {
   "cell_type": "code",
   "execution_count": 57,
   "id": "8f487ab9",
   "metadata": {},
   "outputs": [
    {
     "data": {
      "text/plain": [
       "2"
      ]
     },
     "execution_count": 57,
     "metadata": {},
     "output_type": "execute_result"
    }
   ],
   "source": [
    "word.find('n')   # this is use to find the loaction of a letter"
   ]
  },
  {
   "cell_type": "code",
   "execution_count": 58,
   "id": "ba3a3a36",
   "metadata": {},
   "outputs": [
    {
     "data": {
      "text/plain": [
       "1"
      ]
     },
     "execution_count": 58,
     "metadata": {},
     "output_type": "execute_result"
    }
   ],
   "source": [
    "word.find('an')"
   ]
  },
  {
   "cell_type": "code",
   "execution_count": 60,
   "id": "11b11b9e",
   "metadata": {
    "scrolled": true
   },
   "outputs": [
    {
     "data": {
      "text/plain": [
       "2"
      ]
     },
     "execution_count": 60,
     "metadata": {},
     "output_type": "execute_result"
    }
   ],
   "source": [
    "word.find('nana')"
   ]
  },
  {
   "cell_type": "markdown",
   "id": "09dff1a7",
   "metadata": {},
   "source": [
    "One common task is to remove white space (spaces, tabs, or newlines) from the\n",
    "beginning and end of a string using the strip method:"
   ]
  },
  {
   "cell_type": "code",
   "execution_count": 61,
   "id": "e2704f53",
   "metadata": {},
   "outputs": [
    {
     "data": {
      "text/plain": [
       "'how are you?'"
      ]
     },
     "execution_count": 61,
     "metadata": {},
     "output_type": "execute_result"
    }
   ],
   "source": [
    "line='how are you?     '\n",
    "line.strip()"
   ]
  },
  {
   "cell_type": "code",
   "execution_count": 64,
   "id": "05f2f917",
   "metadata": {},
   "outputs": [
    {
     "data": {
      "text/plain": [
       "False"
      ]
     },
     "execution_count": 64,
     "metadata": {},
     "output_type": "execute_result"
    }
   ],
   "source": [
    "line.startswith('how')"
   ]
  },
  {
   "cell_type": "code",
   "execution_count": 65,
   "id": "675b4044",
   "metadata": {},
   "outputs": [
    {
     "data": {
      "text/plain": [
       "False"
      ]
     },
     "execution_count": 65,
     "metadata": {},
     "output_type": "execute_result"
    }
   ],
   "source": [
    "line.startswith('h')"
   ]
  },
  {
   "cell_type": "code",
   "execution_count": 66,
   "id": "fdc04eab",
   "metadata": {},
   "outputs": [
    {
     "data": {
      "text/plain": [
       "True"
      ]
     },
     "execution_count": 66,
     "metadata": {},
     "output_type": "execute_result"
    }
   ],
   "source": [
    "line = 'Have a nice day'\n",
    "line.startswith('Have')"
   ]
  },
  {
   "cell_type": "code",
   "execution_count": 67,
   "id": "e37d1964",
   "metadata": {},
   "outputs": [
    {
     "data": {
      "text/plain": [
       "False"
      ]
     },
     "execution_count": 67,
     "metadata": {},
     "output_type": "execute_result"
    }
   ],
   "source": [
    "line.startswith('h')"
   ]
  },
  {
   "cell_type": "code",
   "execution_count": 68,
   "id": "9f5230b9",
   "metadata": {},
   "outputs": [
    {
     "data": {
      "text/plain": [
       "'HAVE A NICE DAY'"
      ]
     },
     "execution_count": 68,
     "metadata": {},
     "output_type": "execute_result"
    }
   ],
   "source": [
    "line.upper()"
   ]
  },
  {
   "cell_type": "markdown",
   "id": "6a1bcfbd",
   "metadata": {},
   "source": [
    "### Parsing strings\n",
    "Often, we want to look into a string and find a substring. For example if we were\n",
    "presented a series of lines formatted as follows:\n",
    "From stephen.marquard@ uct.ac.za Sat Jan 5 09:14:16 2008\n",
    "and we wanted to pull out only the second half of the address (i.e., uct.ac.za)\n",
    "from each line, we can do this by using the find method and string slicing.\n",
    "First, we will find the position of the at-sign in the string. Then we will find the\n",
    "position of the first space after the at-sign. And then we will use string slicing to\n",
    "extract the portion of the string which we are looking for."
   ]
  },
  {
   "cell_type": "code",
   "execution_count": 76,
   "id": "f6fd32c6",
   "metadata": {},
   "outputs": [
    {
     "data": {
      "text/plain": [
       "21"
      ]
     },
     "execution_count": 76,
     "metadata": {},
     "output_type": "execute_result"
    }
   ],
   "source": [
    "data='From stephen.marquard@uct.ac.za Sat Jan 5 09:14:16 2008'\n",
    "a=data.find('@')\n",
    "a"
   ]
  },
  {
   "cell_type": "code",
   "execution_count": 77,
   "id": "32de9df7",
   "metadata": {},
   "outputs": [
    {
     "data": {
      "text/plain": [
       "31"
      ]
     },
     "execution_count": 77,
     "metadata": {},
     "output_type": "execute_result"
    }
   ],
   "source": [
    "b=data.find(' ', a)\n",
    "b"
   ]
  },
  {
   "cell_type": "code",
   "execution_count": 79,
   "id": "04c45374",
   "metadata": {},
   "outputs": [
    {
     "name": "stdout",
     "output_type": "stream",
     "text": [
      "uct.ac.za\n"
     ]
    }
   ],
   "source": [
    "print(data[a+1:b])"
   ]
  },
  {
   "cell_type": "markdown",
   "id": "f1e7ff73",
   "metadata": {},
   "source": [
    "### Format operator\n",
    "The format operator, % allows us to construct strings, replacing parts of the strings\n",
    "with the data stored in variables. When applied to integers, % is the modulus\n",
    "operator. But when the first operand is a string, % is the format operator. For example, the format sequence %d means that the second operand should be\n",
    "formatted as an integer (“d” stands for “decimal”):"
   ]
  },
  {
   "cell_type": "code",
   "execution_count": 80,
   "id": "0f5bdac2",
   "metadata": {},
   "outputs": [
    {
     "data": {
      "text/plain": [
       "'42'"
      ]
     },
     "execution_count": 80,
     "metadata": {},
     "output_type": "execute_result"
    }
   ],
   "source": [
    "camels = 42\n",
    "'%d' % camels"
   ]
  },
  {
   "cell_type": "code",
   "execution_count": 83,
   "id": "b4357c8b",
   "metadata": {
    "scrolled": true
   },
   "outputs": [
    {
     "data": {
      "text/plain": [
       "'I have spotted 42 camels'"
      ]
     },
     "execution_count": 83,
     "metadata": {},
     "output_type": "execute_result"
    }
   ],
   "source": [
    "'I have spotted %d camels' % camels"
   ]
  },
  {
   "cell_type": "markdown",
   "id": "86ea40ca",
   "metadata": {},
   "source": [
    "The following example uses %d to format an integer, %g to format a floating-point\n",
    "number (don’t ask why), and %s to format a string:"
   ]
  },
  {
   "cell_type": "code",
   "execution_count": 89,
   "id": "973bd746",
   "metadata": {},
   "outputs": [
    {
     "data": {
      "text/plain": [
       "'In 3 years I have spotted 0.1 camels.'"
      ]
     },
     "execution_count": 89,
     "metadata": {},
     "output_type": "execute_result"
    }
   ],
   "source": [
    "\n",
    "'In %d years I have spotted %g %s.' % (3, 0.1, 'camels') "
   ]
  },
  {
   "cell_type": "code",
   "execution_count": 95,
   "id": "e940e427",
   "metadata": {},
   "outputs": [
    {
     "data": {
      "text/plain": [
       "'In three years I have spotted two camels.'"
      ]
     },
     "execution_count": 95,
     "metadata": {},
     "output_type": "execute_result"
    }
   ],
   "source": [
    "'In %s years I have spotted %s %s.' % ('three', 'two', 'camels') "
   ]
  },
  {
   "cell_type": "code",
   "execution_count": 97,
   "id": "48f5c42e",
   "metadata": {},
   "outputs": [
    {
     "data": {
      "text/plain": [
       "'My name is sharafat and I live in AJK.'"
      ]
     },
     "execution_count": 97,
     "metadata": {},
     "output_type": "execute_result"
    }
   ],
   "source": [
    "'My name is %s and I live in %s.' %('sharafat', 'AJK')"
   ]
  },
  {
   "cell_type": "markdown",
   "id": "13384806",
   "metadata": {},
   "source": [
    "### Exercise 5: \n",
    "Take the following Python code that stores a string:\n",
    "str = 'X-DSPAM-Confidence:0.8475'\n",
    "Use find and string slicing to extract the portion of the string after the\n",
    "colon character and then use the float function to convert the extracted\n",
    "string into a floating point number."
   ]
  },
  {
   "cell_type": "code",
   "execution_count": 5,
   "id": "f933d899",
   "metadata": {
    "scrolled": true
   },
   "outputs": [
    {
     "data": {
      "text/plain": [
       "0.8475"
      ]
     },
     "execution_count": 5,
     "metadata": {},
     "output_type": "execute_result"
    }
   ],
   "source": [
    "s='X-DSPAM-Confidence:0.8475'\n",
    "a=s.find(':')\n",
    "float(s[a+1:])"
   ]
  },
  {
   "cell_type": "markdown",
   "id": "10651f69",
   "metadata": {},
   "source": [
    "### Quiz Chapter 06"
   ]
  },
  {
   "cell_type": "code",
   "execution_count": 6,
   "id": "c9d927f3",
   "metadata": {},
   "outputs": [
    {
     "name": "stdout",
     "output_type": "stream",
     "text": [
      "Hellothere\n"
     ]
    }
   ],
   "source": [
    "str1 = \"Hello\"\n",
    "str2 = 'there'\n",
    "bob = str1 + str2\n",
    "print(bob)"
   ]
  },
  {
   "cell_type": "code",
   "execution_count": 7,
   "id": "045c0f9d",
   "metadata": {},
   "outputs": [
    {
     "name": "stdout",
     "output_type": "stream",
     "text": [
      "42\n"
     ]
    }
   ],
   "source": [
    "x = '40'\n",
    "y = int(x) + 2\n",
    "print(y)"
   ]
  },
  {
   "cell_type": "code",
   "execution_count": 12,
   "id": "9311708b",
   "metadata": {},
   "outputs": [
    {
     "name": "stdout",
     "output_type": "stream",
     "text": [
      "q\n"
     ]
    }
   ],
   "source": [
    "# How would you use the index operator [] to print out the letter q from the following string?\n",
    "x = 'From marquard@uct.ac.za'\n",
    "print(x[8])"
   ]
  },
  {
   "cell_type": "code",
   "execution_count": 13,
   "id": "0c5975a7",
   "metadata": {},
   "outputs": [
    {
     "name": "stdout",
     "output_type": "stream",
     "text": [
      "uct\n"
     ]
    }
   ],
   "source": [
    "# How would you use string slicing [:] to print out 'uct' from the following string?\n",
    "x = 'From marquard@uct.ac.za'\n",
    "print(x[14:17])"
   ]
  },
  {
   "cell_type": "code",
   "execution_count": 19,
   "id": "d0e3992d",
   "metadata": {
    "scrolled": true
   },
   "outputs": [
    {
     "name": "stdout",
     "output_type": "stream",
     "text": [
      "b\n",
      "a\n",
      "n\n",
      "a\n",
      "n\n",
      "a\n"
     ]
    }
   ],
   "source": [
    "# What is the iteration variable in the following Python code?\n",
    "for letter in 'banana' :\n",
    "    print(letter)\n",
    "# Answer is not given"
   ]
  },
  {
   "cell_type": "code",
   "execution_count": 15,
   "id": "d14924c6",
   "metadata": {},
   "outputs": [
    {
     "name": "stdout",
     "output_type": "stream",
     "text": [
      "42\n"
     ]
    }
   ],
   "source": [
    "#Question 6 What does the following Python code print out?\n",
    "print(len('banana')*7)"
   ]
  },
  {
   "cell_type": "code",
   "execution_count": 17,
   "id": "79b61ddf",
   "metadata": {},
   "outputs": [
    {
     "name": "stdout",
     "output_type": "stream",
     "text": [
      "HELLO BOB\n"
     ]
    }
   ],
   "source": [
    "# Question 7 How would you print out the following variable in all upper case in Python?\n",
    "greet = 'Hello Bob'\n",
    "print(greet.upper())"
   ]
  },
  {
   "cell_type": "code",
   "execution_count": null,
   "id": "0a4ac5db",
   "metadata": {},
   "outputs": [],
   "source": [
    "# Which of the following is not a valid string method in Python?\n",
    "# Answer shout()"
   ]
  },
  {
   "cell_type": "code",
   "execution_count": 18,
   "id": "d74a4f83",
   "metadata": {},
   "outputs": [
    {
     "name": "stdout",
     "output_type": "stream",
     "text": [
      ".ma\n"
     ]
    }
   ],
   "source": [
    "# What will the following Python code print out?\n",
    "data = 'From stephen.marquard@uct.ac.za Sat Jan  5 09:14:16 2008'\n",
    "pos = data.find('.')\n",
    "print(data[pos:pos+3])"
   ]
  },
  {
   "cell_type": "markdown",
   "id": "27544de8",
   "metadata": {},
   "source": [
    " Q 10. Which of the following string methods removes whitespace from both the beginning and end of a string?\n",
    " \n",
    "Answer:  strip()"
   ]
  },
  {
   "cell_type": "markdown",
   "id": "c337e30d",
   "metadata": {},
   "source": [
    "### Assigment\n",
    "6.5 Write code using find() and string slicing (see section 6.10) to extract the number at the end of the line below. Convert the extracted value to a floating point number and print it out."
   ]
  },
  {
   "cell_type": "code",
   "execution_count": 22,
   "id": "376ef453",
   "metadata": {},
   "outputs": [
    {
     "data": {
      "text/plain": [
       "'0.8475'"
      ]
     },
     "execution_count": 22,
     "metadata": {},
     "output_type": "execute_result"
    }
   ],
   "source": [
    "text = \"X-DSPAM-Confidence:    0.8475\"\n",
    "text.find('0')\n",
    "print(float(text[23:]))"
   ]
  },
  {
   "cell_type": "markdown",
   "id": "9526b4f7",
   "metadata": {},
   "source": [
    "# Chapter 7"
   ]
  },
  {
   "cell_type": "markdown",
   "id": "5272088d",
   "metadata": {},
   "source": [
    "### Opening files\n",
    "When we want to read or write a file (say on your hard drive), we first must\n",
    "open the file."
   ]
  },
  {
   "cell_type": "code",
   "execution_count": 156,
   "id": "0b44bd3a",
   "metadata": {},
   "outputs": [],
   "source": [
    "file=open('E.txt')"
   ]
  },
  {
   "cell_type": "code",
   "execution_count": 157,
   "id": "d1a75703",
   "metadata": {},
   "outputs": [
    {
     "data": {
      "text/plain": [
       "<_io.TextIOWrapper name='E.txt' mode='r' encoding='cp1252'>"
      ]
     },
     "execution_count": 157,
     "metadata": {},
     "output_type": "execute_result"
    }
   ],
   "source": [
    "file"
   ]
  },
  {
   "cell_type": "code",
   "execution_count": 158,
   "id": "4601fe58",
   "metadata": {},
   "outputs": [
    {
     "name": "stdout",
     "output_type": "stream",
     "text": [
      "Hello\n",
      "World!\n"
     ]
    }
   ],
   "source": [
    "stuff = 'Hello\\nWorld!'   # for new line we use \\n\n",
    "print(stuff)"
   ]
  },
  {
   "cell_type": "code",
   "execution_count": 159,
   "id": "9151901d",
   "metadata": {},
   "outputs": [
    {
     "data": {
      "text/plain": [
       "12"
      ]
     },
     "execution_count": 159,
     "metadata": {},
     "output_type": "execute_result"
    }
   ],
   "source": [
    "len(stuff)      # new line is also a character"
   ]
  },
  {
   "cell_type": "code",
   "execution_count": 183,
   "id": "a721dbe8",
   "metadata": {},
   "outputs": [
    {
     "name": "stdout",
     "output_type": "stream",
     "text": [
      "Line count:  1909\n"
     ]
    }
   ],
   "source": [
    "file=open('E.txt')\n",
    "count=0\n",
    "for line in file:\n",
    "    count=count+1\n",
    "print('Line count: ', count)"
   ]
  },
  {
   "cell_type": "code",
   "execution_count": 184,
   "id": "57319421",
   "metadata": {},
   "outputs": [
    {
     "data": {
      "text/plain": [
       "<_io.TextIOWrapper name='E.txt' mode='r' encoding='cp1252'>"
      ]
     },
     "execution_count": 184,
     "metadata": {},
     "output_type": "execute_result"
    }
   ],
   "source": [
    "file"
   ]
  },
  {
   "cell_type": "code",
   "execution_count": 185,
   "id": "6e089eef",
   "metadata": {},
   "outputs": [],
   "source": [
    "file=open('E.txt')\n",
    "inp=file.read()"
   ]
  },
  {
   "cell_type": "code",
   "execution_count": 186,
   "id": "fa556d2e",
   "metadata": {},
   "outputs": [
    {
     "data": {
      "text/plain": [
       "94625"
      ]
     },
     "execution_count": 186,
     "metadata": {},
     "output_type": "execute_result"
    }
   ],
   "source": [
    "len(inp)"
   ]
  },
  {
   "cell_type": "markdown",
   "id": "a9d4c253",
   "metadata": {},
   "source": [
    "### Searching through a file\n",
    "When you are searching through data in a file, it is a very common pattern to read\n",
    "through a file, ignoring most of the lines and only processing lines which meet a\n",
    "particular condition."
   ]
  },
  {
   "cell_type": "code",
   "execution_count": 190,
   "id": "18e63a7a",
   "metadata": {},
   "outputs": [
    {
     "name": "stdout",
     "output_type": "stream",
     "text": [
      "Received: from murder (mail.umich.edu [141.211.14.90])\n",
      "\n",
      "Received: from murder ([unix socket])\n",
      "\n",
      "Received: from holes.mr.itd.umich.edu (holes.mr.itd.umich.edu [141.211.14.79])\n",
      "\n",
      "Received: FROM paploo.uhi.ac.uk (app1.prod.collab.uhi.ac.uk [194.35.219.184])\n",
      "\n",
      "Received: from paploo.uhi.ac.uk (localhost [127.0.0.1])\n",
      "\n",
      "Received: from prod.collab.uhi.ac.uk ([194.35.219.182])\n",
      "\n",
      "Received: from nakamura.uits.iupui.edu (nakamura.uits.iupui.edu [134.68.220.122])\n",
      "\n",
      "Received: from nakamura.uits.iupui.edu (localhost [127.0.0.1])\n",
      "\n",
      "Received: (from apache@localhost)\n",
      "\n",
      "Received: from murder (mail.umich.edu [141.211.14.97])\n",
      "\n",
      "Received: from murder ([unix socket])\n",
      "\n",
      "Received: from icestorm.mr.itd.umich.edu (icestorm.mr.itd.umich.edu [141.211.93.149])\n",
      "\n",
      "Received: FROM paploo.uhi.ac.uk (app1.prod.collab.uhi.ac.uk [194.35.219.184])\n",
      "\n",
      "Received: from paploo.uhi.ac.uk (localhost [127.0.0.1])\n",
      "\n",
      "Received: from prod.collab.uhi.ac.uk ([194.35.219.182])\n",
      "\n",
      "Received: from nakamura.uits.iupui.edu (nakamura.uits.iupui.edu [134.68.220.122])\n",
      "\n",
      "Received: from nakamura.uits.iupui.edu (localhost [127.0.0.1])\n",
      "\n",
      "Received: (from apache@localhost)\n",
      "\n",
      "Received: from murder (mail.umich.edu [141.211.14.25])\n",
      "\n",
      "Received: from murder ([unix socket])\n",
      "\n",
      "Received: from ghostbusters.mr.itd.umich.edu (ghostbusters.mr.itd.umich.edu [141.211.93.144])\n",
      "\n",
      "Received: FROM paploo.uhi.ac.uk (app1.prod.collab.uhi.ac.uk [194.35.219.184])\n",
      "\n",
      "Received: from paploo.uhi.ac.uk (localhost [127.0.0.1])\n",
      "\n",
      "Received: from prod.collab.uhi.ac.uk ([194.35.219.182])\n",
      "\n",
      "Received: from nakamura.uits.iupui.edu (nakamura.uits.iupui.edu [134.68.220.122])\n",
      "\n",
      "Received: from nakamura.uits.iupui.edu (localhost [127.0.0.1])\n",
      "\n",
      "Received: (from apache@localhost)\n",
      "\n",
      "Received: from murder (mail.umich.edu [141.211.14.25])\n",
      "\n",
      "Received: from murder ([unix socket])\n",
      "\n",
      "Received: from dreamcatcher.mr.itd.umich.edu (dreamcatcher.mr.itd.umich.edu [141.211.14.43])\n",
      "\n",
      "Received: FROM paploo.uhi.ac.uk (app1.prod.collab.uhi.ac.uk [194.35.219.184])\n",
      "\n",
      "Received: from paploo.uhi.ac.uk (localhost [127.0.0.1])\n",
      "\n",
      "Received: from prod.collab.uhi.ac.uk ([194.35.219.182])\n",
      "\n",
      "Received: from nakamura.uits.iupui.edu (nakamura.uits.iupui.edu [134.68.220.122])\n",
      "\n",
      "Received: from nakamura.uits.iupui.edu (localhost [127.0.0.1])\n",
      "\n",
      "Received: (from apache@localhost)\n",
      "\n",
      "Received: from murder (mail.umich.edu [141.211.14.46])\n",
      "\n",
      "Received: from murder ([unix socket])\n",
      "\n",
      "Received: from firestarter.mr.itd.umich.edu (firestarter.mr.itd.umich.edu [141.211.14.83])\n",
      "\n",
      "Received: FROM paploo.uhi.ac.uk (app1.prod.collab.uhi.ac.uk [194.35.219.184])\n",
      "\n",
      "Received: from paploo.uhi.ac.uk (localhost [127.0.0.1])\n",
      "\n",
      "Received: from prod.collab.uhi.ac.uk ([194.35.219.182])\n",
      "\n",
      "Received: from nakamura.uits.iupui.edu (nakamura.uits.iupui.edu [134.68.220.122])\n",
      "\n",
      "Received: from nakamura.uits.iupui.edu (localhost [127.0.0.1])\n",
      "\n",
      "Received: (from apache@localhost)\n",
      "\n",
      "Received: from murder (mail.umich.edu [141.211.14.93])\n",
      "\n",
      "Received: from murder ([unix socket])\n",
      "\n",
      "Received: from eyewitness.mr.itd.umich.edu (eyewitness.mr.itd.umich.edu [141.211.93.142])\n",
      "\n",
      "Received: FROM paploo.uhi.ac.uk (app1.prod.collab.uhi.ac.uk [194.35.219.184])\n",
      "\n",
      "Received: from paploo.uhi.ac.uk (localhost [127.0.0.1])\n",
      "\n",
      "Received: from prod.collab.uhi.ac.uk ([194.35.219.182])\n",
      "\n",
      "Received: from nakamura.uits.iupui.edu (nakamura.uits.iupui.edu [134.68.220.122])\n",
      "\n",
      "Received: from nakamura.uits.iupui.edu (localhost [127.0.0.1])\n",
      "\n",
      "Received: (from apache@localhost)\n",
      "\n",
      "Received: from murder (mail.umich.edu [141.211.14.46])\n",
      "\n",
      "Received: from murder ([unix socket])\n",
      "\n",
      "Received: from tadpole.mr.itd.umich.edu (tadpole.mr.itd.umich.edu [141.211.14.72])\n",
      "\n",
      "Received: FROM paploo.uhi.ac.uk (app1.prod.collab.uhi.ac.uk [194.35.219.184])\n",
      "\n",
      "Received: from paploo.uhi.ac.uk (localhost [127.0.0.1])\n",
      "\n",
      "Received: from prod.collab.uhi.ac.uk ([194.35.219.182])\n",
      "\n",
      "Received: from nakamura.uits.iupui.edu (nakamura.uits.iupui.edu [134.68.220.122])\n",
      "\n",
      "Received: from nakamura.uits.iupui.edu (localhost [127.0.0.1])\n",
      "\n",
      "Received: (from apache@localhost)\n",
      "\n",
      "Received: from murder (mail.umich.edu [141.211.14.46])\n",
      "\n",
      "Received: from murder ([unix socket])\n",
      "\n",
      "Received: from it.mr.itd.umich.edu (it.mr.itd.umich.edu [141.211.93.151])\n",
      "\n",
      "Received: FROM paploo.uhi.ac.uk (app1.prod.collab.uhi.ac.uk [194.35.219.184])\n",
      "\n",
      "Received: from paploo.uhi.ac.uk (localhost [127.0.0.1])\n",
      "\n",
      "Received: from prod.collab.uhi.ac.uk ([194.35.219.182])\n",
      "\n",
      "Received: from nakamura.uits.iupui.edu (nakamura.uits.iupui.edu [134.68.220.122])\n",
      "\n",
      "Received: from nakamura.uits.iupui.edu (localhost [127.0.0.1])\n",
      "\n",
      "Received: (from apache@localhost)\n",
      "\n",
      "Received: from murder (mail.umich.edu [141.211.14.25])\n",
      "\n",
      "Received: from murder ([unix socket])\n",
      "\n",
      "Received: from holes.mr.itd.umich.edu (holes.mr.itd.umich.edu [141.211.14.79])\n",
      "\n",
      "Received: FROM paploo.uhi.ac.uk (app1.prod.collab.uhi.ac.uk [194.35.219.184])\n",
      "\n",
      "Received: from paploo.uhi.ac.uk (localhost [127.0.0.1])\n",
      "\n",
      "Received: from prod.collab.uhi.ac.uk ([194.35.219.182])\n",
      "\n",
      "Received: from nakamura.uits.iupui.edu (nakamura.uits.iupui.edu [134.68.220.122])\n",
      "\n",
      "Received: from nakamura.uits.iupui.edu (localhost [127.0.0.1])\n",
      "\n",
      "Received: (from apache@localhost)\n",
      "\n",
      "Received: from murder (mail.umich.edu [141.211.14.36])\n",
      "\n",
      "Received: from murder ([unix socket])\n",
      "\n",
      "Received: from creepshow.mr.itd.umich.edu (creepshow.mr.itd.umich.edu [141.211.14.84])\n",
      "\n",
      "Received: FROM paploo.uhi.ac.uk (app1.prod.collab.uhi.ac.uk [194.35.219.184])\n",
      "\n",
      "Received: from paploo.uhi.ac.uk (localhost [127.0.0.1])\n",
      "\n",
      "Received: from prod.collab.uhi.ac.uk ([194.35.219.182])\n",
      "\n",
      "Received: from nakamura.uits.iupui.edu (nakamura.uits.iupui.edu [134.68.220.122])\n",
      "\n",
      "Received: from nakamura.uits.iupui.edu (localhost [127.0.0.1])\n",
      "\n",
      "Received: (from apache@localhost)\n",
      "\n",
      "Received: from murder (mail.umich.edu [141.211.14.97])\n",
      "\n",
      "Received: from murder ([unix socket])\n",
      "\n",
      "Received: from carrie.mr.itd.umich.edu (carrie.mr.itd.umich.edu [141.211.93.152])\n",
      "\n",
      "Received: FROM paploo.uhi.ac.uk (app1.prod.collab.uhi.ac.uk [194.35.219.184])\n",
      "\n",
      "Received: from paploo.uhi.ac.uk (localhost [127.0.0.1])\n",
      "\n",
      "Received: from prod.collab.uhi.ac.uk ([194.35.219.182])\n",
      "\n",
      "Received: from nakamura.uits.iupui.edu (nakamura.uits.iupui.edu [134.68.220.122])\n",
      "\n",
      "Received: from nakamura.uits.iupui.edu (localhost [127.0.0.1])\n",
      "\n",
      "Received: (from apache@localhost)\n",
      "\n",
      "Received: from murder (mail.umich.edu [141.211.14.39])\n",
      "\n",
      "Received: from murder ([unix socket])\n",
      "\n",
      "Received: from holes.mr.itd.umich.edu (holes.mr.itd.umich.edu [141.211.14.79])\n",
      "\n",
      "Received: FROM paploo.uhi.ac.uk (app1.prod.collab.uhi.ac.uk [194.35.219.184])\n",
      "\n",
      "Received: from paploo.uhi.ac.uk (localhost [127.0.0.1])\n",
      "\n",
      "Received: from prod.collab.uhi.ac.uk ([194.35.219.182])\n",
      "\n",
      "Received: from nakamura.uits.iupui.edu (nakamura.uits.iupui.edu [134.68.220.122])\n",
      "\n",
      "Received: from nakamura.uits.iupui.edu (localhost [127.0.0.1])\n",
      "\n",
      "Received: (from apache@localhost)\n",
      "\n",
      "Received: from murder (mail.umich.edu [141.211.14.90])\n",
      "\n",
      "Received: from murder ([unix socket])\n",
      "\n",
      "Received: from shining.mr.itd.umich.edu (shining.mr.itd.umich.edu [141.211.93.153])\n",
      "\n",
      "Received: FROM paploo.uhi.ac.uk (app1.prod.collab.uhi.ac.uk [194.35.219.184])\n",
      "\n",
      "Received: from paploo.uhi.ac.uk (localhost [127.0.0.1])\n",
      "\n",
      "Received: from prod.collab.uhi.ac.uk ([194.35.219.182])\n",
      "\n",
      "Received: from nakamura.uits.iupui.edu (nakamura.uits.iupui.edu [134.68.220.122])\n",
      "\n",
      "Received: from nakamura.uits.iupui.edu (localhost [127.0.0.1])\n",
      "\n",
      "Received: (from apache@localhost)\n",
      "\n",
      "Received: from murder (mail.umich.edu [141.211.14.97])\n",
      "\n",
      "Received: from murder ([unix socket])\n",
      "\n",
      "Received: from creepshow.mr.itd.umich.edu (creepshow.mr.itd.umich.edu [141.211.14.84])\n",
      "\n",
      "Received: FROM paploo.uhi.ac.uk (app1.prod.collab.uhi.ac.uk [194.35.219.184])\n",
      "\n",
      "Received: from paploo.uhi.ac.uk (localhost [127.0.0.1])\n",
      "\n",
      "Received: from prod.collab.uhi.ac.uk ([194.35.219.182])\n",
      "\n",
      "Received: from nakamura.uits.iupui.edu (nakamura.uits.iupui.edu [134.68.220.122])\n",
      "\n",
      "Received: from nakamura.uits.iupui.edu (localhost [127.0.0.1])\n",
      "\n",
      "Received: (from apache@localhost)\n",
      "\n",
      "Received: from murder (mail.umich.edu [141.211.14.25])\n",
      "\n",
      "Received: from murder ([unix socket])\n",
      "\n",
      "Received: from holes.mr.itd.umich.edu (holes.mr.itd.umich.edu [141.211.14.79])\n",
      "\n",
      "Received: FROM paploo.uhi.ac.uk (app1.prod.collab.uhi.ac.uk [194.35.219.184])\n",
      "\n",
      "Received: from paploo.uhi.ac.uk (localhost [127.0.0.1])\n",
      "\n",
      "Received: from prod.collab.uhi.ac.uk ([194.35.219.182])\n",
      "\n",
      "Received: from nakamura.uits.iupui.edu (nakamura.uits.iupui.edu [134.68.220.122])\n",
      "\n",
      "Received: from nakamura.uits.iupui.edu (localhost [127.0.0.1])\n",
      "\n",
      "Received: (from apache@localhost)\n",
      "\n",
      "Received: from murder (mail.umich.edu [141.211.14.90])\n",
      "\n",
      "Received: from murder ([unix socket])\n",
      "\n",
      "Received: from guys.mr.itd.umich.edu (guys.mr.itd.umich.edu [141.211.14.76])\n",
      "\n",
      "Received: FROM paploo.uhi.ac.uk (app1.prod.collab.uhi.ac.uk [194.35.219.184])\n",
      "\n",
      "Received: from paploo.uhi.ac.uk (localhost [127.0.0.1])\n",
      "\n",
      "Received: from prod.collab.uhi.ac.uk ([194.35.219.182])\n",
      "\n",
      "Received: from nakamura.uits.iupui.edu (nakamura.uits.iupui.edu [134.68.220.122])\n",
      "\n",
      "Received: from nakamura.uits.iupui.edu (localhost [127.0.0.1])\n",
      "\n",
      "Received: (from apache@localhost)\n",
      "\n",
      "Received: from murder (mail.umich.edu [141.211.14.39])\n",
      "\n",
      "Received: from murder ([unix socket])\n",
      "\n",
      "Received: from guys.mr.itd.umich.edu (guys.mr.itd.umich.edu [141.211.14.76])\n",
      "\n",
      "Received: FROM paploo.uhi.ac.uk (app1.prod.collab.uhi.ac.uk [194.35.219.184])\n",
      "\n",
      "Received: from paploo.uhi.ac.uk (localhost [127.0.0.1])\n",
      "\n",
      "Received: from prod.collab.uhi.ac.uk ([194.35.219.182])\n",
      "\n",
      "Received: from nakamura.uits.iupui.edu (nakamura.uits.iupui.edu [134.68.220.122])\n",
      "\n",
      "Received: from nakamura.uits.iupui.edu (localhost [127.0.0.1])\n",
      "\n",
      "Received: (from apache@localhost)\n",
      "\n",
      "Received: from murder (mail.umich.edu [141.211.14.98])\n",
      "\n",
      "Received: from murder ([unix socket])\n",
      "\n",
      "Received: from firestarter.mr.itd.umich.edu (firestarter.mr.itd.umich.edu [141.211.14.83])\n",
      "\n",
      "Received: FROM paploo.uhi.ac.uk (app1.prod.collab.uhi.ac.uk [194.35.219.184])\n",
      "\n",
      "Received: from paploo.uhi.ac.uk (localhost [127.0.0.1])\n",
      "\n",
      "Received: from prod.collab.uhi.ac.uk ([194.35.219.182])\n",
      "\n",
      "Received: from nakamura.uits.iupui.edu (nakamura.uits.iupui.edu [134.68.220.122])\n",
      "\n",
      "Received: from nakamura.uits.iupui.edu (localhost [127.0.0.1])\n",
      "\n",
      "Received: (from apache@localhost)\n",
      "\n",
      "Received: from murder (mail.umich.edu [141.211.14.92])\n",
      "\n",
      "Received: from murder ([unix socket])\n",
      "\n",
      "Received: from galaxyquest.mr.itd.umich.edu (galaxyquest.mr.itd.umich.edu [141.211.93.145])\n",
      "\n",
      "Received: FROM paploo.uhi.ac.uk (app1.prod.collab.uhi.ac.uk [194.35.219.184])\n",
      "\n",
      "Received: from paploo.uhi.ac.uk (localhost [127.0.0.1])\n",
      "\n",
      "Received: from prod.collab.uhi.ac.uk ([194.35.219.182])\n",
      "\n",
      "Received: from nakamura.uits.iupui.edu (nakamura.uits.iupui.edu [134.68.220.122])\n",
      "\n",
      "Received: from nakamura.uits.iupui.edu (localhost [127.0.0.1])\n",
      "\n",
      "Received: (from apache@localhost)\n",
      "\n",
      "Received: from murder (mail.umich.edu [141.211.14.46])\n",
      "\n",
      "Received: from murder ([unix socket])\n",
      "\n",
      "Received: from workinggirl.mr.itd.umich.edu (workinggirl.mr.itd.umich.edu [141.211.93.143])\n",
      "\n",
      "Received: FROM paploo.uhi.ac.uk (app1.prod.collab.uhi.ac.uk [194.35.219.184])\n",
      "\n",
      "Received: from paploo.uhi.ac.uk (localhost [127.0.0.1])\n",
      "\n",
      "Received: from prod.collab.uhi.ac.uk ([194.35.219.182])\n",
      "\n",
      "Received: from nakamura.uits.iupui.edu (nakamura.uits.iupui.edu [134.68.220.122])\n",
      "\n",
      "Received: from nakamura.uits.iupui.edu (localhost [127.0.0.1])\n",
      "\n",
      "Received: (from apache@localhost)\n",
      "\n",
      "Received: from murder (mail.umich.edu [141.211.14.25])\n",
      "\n",
      "Received: from murder ([unix socket])\n",
      "\n",
      "Received: from salemslot.mr.itd.umich.edu (salemslot.mr.itd.umich.edu [141.211.14.58])\n",
      "\n",
      "Received: FROM paploo.uhi.ac.uk (app1.prod.collab.uhi.ac.uk [194.35.219.184])\n",
      "\n",
      "Received: from paploo.uhi.ac.uk (localhost [127.0.0.1])\n",
      "\n",
      "Received: from prod.collab.uhi.ac.uk ([194.35.219.182])\n",
      "\n",
      "Received: from nakamura.uits.iupui.edu (nakamura.uits.iupui.edu [134.68.220.122])\n",
      "\n",
      "Received: from nakamura.uits.iupui.edu (localhost [127.0.0.1])\n",
      "\n",
      "Received: (from apache@localhost)\n",
      "\n",
      "Received: from murder (mail.umich.edu [141.211.14.91])\n",
      "\n",
      "Received: from murder ([unix socket])\n",
      "\n",
      "Received: from eyewitness.mr.itd.umich.edu (eyewitness.mr.itd.umich.edu [141.211.93.142])\n",
      "\n",
      "Received: FROM paploo.uhi.ac.uk (app1.prod.collab.uhi.ac.uk [194.35.219.184])\n",
      "\n",
      "Received: from paploo.uhi.ac.uk (localhost [127.0.0.1])\n",
      "\n",
      "Received: from prod.collab.uhi.ac.uk ([194.35.219.182])\n",
      "\n",
      "Received: from nakamura.uits.iupui.edu (nakamura.uits.iupui.edu [134.68.220.122])\n",
      "\n",
      "Received: from nakamura.uits.iupui.edu (localhost [127.0.0.1])\n",
      "\n",
      "Received: (from apache@localhost)\n",
      "\n",
      "Received: from murder (mail.umich.edu [141.211.14.91])\n",
      "\n",
      "Received: from murder ([unix socket])\n",
      "\n",
      "Received: from salemslot.mr.itd.umich.edu (salemslot.mr.itd.umich.edu [141.211.14.58])\n",
      "\n",
      "Received: FROM paploo.uhi.ac.uk (app1.prod.collab.uhi.ac.uk [194.35.219.184])\n",
      "\n",
      "Received: from paploo.uhi.ac.uk (localhost [127.0.0.1])\n",
      "\n",
      "Received: from prod.collab.uhi.ac.uk ([194.35.219.182])\n",
      "\n",
      "Received: from nakamura.uits.iupui.edu (nakamura.uits.iupui.edu [134.68.220.122])\n",
      "\n",
      "Received: from nakamura.uits.iupui.edu (localhost [127.0.0.1])\n",
      "\n",
      "Received: (from apache@localhost)\n",
      "\n",
      "Received: from murder (mail.umich.edu [141.211.14.39])\n",
      "\n",
      "Received: from murder ([unix socket])\n",
      "\n",
      "Received: from anniehall.mr.itd.umich.edu (anniehall.mr.itd.umich.edu [141.211.93.141])\n",
      "\n",
      "Received: FROM paploo.uhi.ac.uk (app1.prod.collab.uhi.ac.uk [194.35.219.184])\n",
      "\n",
      "Received: from paploo.uhi.ac.uk (localhost [127.0.0.1])\n",
      "\n",
      "Received: from prod.collab.uhi.ac.uk ([194.35.219.182])\n",
      "\n",
      "Received: from nakamura.uits.iupui.edu (nakamura.uits.iupui.edu [134.68.220.122])\n",
      "\n",
      "Received: from nakamura.uits.iupui.edu (localhost [127.0.0.1])\n",
      "\n",
      "Received: (from apache@localhost)\n",
      "\n",
      "Received: from murder (mail.umich.edu [141.211.14.34])\n",
      "\n",
      "Received: from murder ([unix socket])\n",
      "\n",
      "Received: from icestorm.mr.itd.umich.edu (icestorm.mr.itd.umich.edu [141.211.93.149])\n",
      "\n",
      "Received: FROM paploo.uhi.ac.uk (app1.prod.collab.uhi.ac.uk [194.35.219.184])\n",
      "\n",
      "Received: from paploo.uhi.ac.uk (localhost [127.0.0.1])\n",
      "\n",
      "Received: from prod.collab.uhi.ac.uk ([194.35.219.182])\n",
      "\n",
      "Received: from nakamura.uits.iupui.edu (nakamura.uits.iupui.edu [134.68.220.122])\n",
      "\n",
      "Received: from nakamura.uits.iupui.edu (localhost [127.0.0.1])\n",
      "\n",
      "Received: (from apache@localhost)\n",
      "\n",
      "Received: from murder (mail.umich.edu [141.211.14.46])\n",
      "\n",
      "Received: from murder ([unix socket])\n",
      "\n",
      "Received: from galaxyquest.mr.itd.umich.edu (galaxyquest.mr.itd.umich.edu [141.211.93.145])\n",
      "\n",
      "Received: FROM paploo.uhi.ac.uk (app1.prod.collab.uhi.ac.uk [194.35.219.184])\n",
      "\n",
      "Received: from paploo.uhi.ac.uk (localhost [127.0.0.1])\n",
      "\n",
      "Received: from prod.collab.uhi.ac.uk ([194.35.219.182])\n",
      "\n",
      "Received: from nakamura.uits.iupui.edu (nakamura.uits.iupui.edu [134.68.220.122])\n",
      "\n",
      "Received: from nakamura.uits.iupui.edu (localhost [127.0.0.1])\n",
      "\n",
      "Received: (from apache@localhost)\n",
      "\n",
      "Received: from murder (mail.umich.edu [141.211.14.91])\n",
      "\n",
      "Received: from murder ([unix socket])\n",
      "\n",
      "Received: from salemslot.mr.itd.umich.edu (salemslot.mr.itd.umich.edu [141.211.14.58])\n",
      "\n",
      "Received: FROM paploo.uhi.ac.uk (app1.prod.collab.uhi.ac.uk [194.35.219.184])\n",
      "\n",
      "Received: from paploo.uhi.ac.uk (localhost [127.0.0.1])\n",
      "\n",
      "Received: from prod.collab.uhi.ac.uk ([194.35.219.182])\n",
      "\n",
      "Received: from nakamura.uits.iupui.edu (nakamura.uits.iupui.edu [134.68.220.122])\n",
      "\n",
      "Received: from nakamura.uits.iupui.edu (localhost [127.0.0.1])\n",
      "\n",
      "Received: (from apache@localhost)\n",
      "\n"
     ]
    },
    {
     "data": {
      "text/plain": [
       "'You can modify how you receive notifications at My Workspace > Preferences.\\n'"
      ]
     },
     "execution_count": 190,
     "metadata": {},
     "output_type": "execute_result"
    }
   ],
   "source": [
    "file=open('E.txt')\n",
    "count=0\n",
    "for line in file:\n",
    "    if line.startswith('Received:'):\n",
    "        print(line)\n",
    "line"
   ]
  },
  {
   "cell_type": "code",
   "execution_count": 188,
   "id": "166f8e35",
   "metadata": {},
   "outputs": [
    {
     "name": "stdout",
     "output_type": "stream",
     "text": [
      "From: stephen.marquard@uct.ac.za\n",
      "\n",
      "From: louis@media.berkeley.edu\n",
      "\n",
      "From: zqian@umich.edu\n",
      "\n",
      "From: rjlowe@iupui.edu\n",
      "\n",
      "From: zqian@umich.edu\n",
      "\n",
      "From: rjlowe@iupui.edu\n",
      "\n",
      "From: cwen@iupui.edu\n",
      "\n",
      "From: cwen@iupui.edu\n",
      "\n",
      "From: gsilver@umich.edu\n",
      "\n",
      "From: gsilver@umich.edu\n",
      "\n",
      "From: zqian@umich.edu\n",
      "\n",
      "From: gsilver@umich.edu\n",
      "\n",
      "From: wagnermr@iupui.edu\n",
      "\n",
      "From: zqian@umich.edu\n",
      "\n",
      "From: antranig@caret.cam.ac.uk\n",
      "\n",
      "From: gopal.ramasammycook@gmail.com\n",
      "\n",
      "From: david.horwitz@uct.ac.za\n",
      "\n",
      "From: david.horwitz@uct.ac.za\n",
      "\n",
      "From: david.horwitz@uct.ac.za\n",
      "\n",
      "From: david.horwitz@uct.ac.za\n",
      "\n",
      "From: stephen.marquard@uct.ac.za\n",
      "\n",
      "From: louis@media.berkeley.edu\n",
      "\n",
      "From: louis@media.berkeley.edu\n",
      "\n",
      "From: ray@media.berkeley.edu\n",
      "\n",
      "From: cwen@iupui.edu\n",
      "\n",
      "From: cwen@iupui.edu\n",
      "\n",
      "From: cwen@iupui.edu\n",
      "\n"
     ]
    }
   ],
   "source": [
    "fhand = open('E.txt')\n",
    "count = 0\n",
    "for line in fhand:\n",
    "    if line.startswith('From:'):\n",
    "        print(line)"
   ]
  },
  {
   "cell_type": "markdown",
   "id": "0af3efee",
   "metadata": {},
   "source": [
    "We could use line slicing to print all but the last character, but a simpler approach\n",
    "is to use the rstrip method which strips whitespace from the right side of a string\n",
    "as follows:"
   ]
  },
  {
   "cell_type": "code",
   "execution_count": 189,
   "id": "563749e1",
   "metadata": {},
   "outputs": [
    {
     "name": "stdout",
     "output_type": "stream",
     "text": [
      "From: stephen.marquard@uct.ac.za\n",
      "From: louis@media.berkeley.edu\n",
      "From: zqian@umich.edu\n",
      "From: rjlowe@iupui.edu\n",
      "From: zqian@umich.edu\n",
      "From: rjlowe@iupui.edu\n",
      "From: cwen@iupui.edu\n",
      "From: cwen@iupui.edu\n",
      "From: gsilver@umich.edu\n",
      "From: gsilver@umich.edu\n",
      "From: zqian@umich.edu\n",
      "From: gsilver@umich.edu\n",
      "From: wagnermr@iupui.edu\n",
      "From: zqian@umich.edu\n",
      "From: antranig@caret.cam.ac.uk\n",
      "From: gopal.ramasammycook@gmail.com\n",
      "From: david.horwitz@uct.ac.za\n",
      "From: david.horwitz@uct.ac.za\n",
      "From: david.horwitz@uct.ac.za\n",
      "From: david.horwitz@uct.ac.za\n",
      "From: stephen.marquard@uct.ac.za\n",
      "From: louis@media.berkeley.edu\n",
      "From: louis@media.berkeley.edu\n",
      "From: ray@media.berkeley.edu\n",
      "From: cwen@iupui.edu\n",
      "From: cwen@iupui.edu\n",
      "From: cwen@iupui.edu\n"
     ]
    }
   ],
   "source": [
    "fhand = open('E.txt')\n",
    "count = 0\n",
    "for line in fhand:\n",
    "    line=line.rstrip()\n",
    "    if line.startswith('From:'):\n",
    "        print(line)"
   ]
  },
  {
   "cell_type": "code",
   "execution_count": 193,
   "id": "af6b945d",
   "metadata": {},
   "outputs": [
    {
     "name": "stdout",
     "output_type": "stream",
     "text": [
      "Received: from murder (mail.umich.edu [141.211.14.90])\n",
      "Received: from murder ([unix socket])\n",
      "Received: from holes.mr.itd.umich.edu (holes.mr.itd.umich.edu [141.211.14.79])\n",
      "Received: FROM paploo.uhi.ac.uk (app1.prod.collab.uhi.ac.uk [194.35.219.184])\n",
      "Received: from paploo.uhi.ac.uk (localhost [127.0.0.1])\n",
      "Received: from prod.collab.uhi.ac.uk ([194.35.219.182])\n",
      "Received: from nakamura.uits.iupui.edu (nakamura.uits.iupui.edu [134.68.220.122])\n",
      "Received: from nakamura.uits.iupui.edu (localhost [127.0.0.1])\n",
      "Received: (from apache@localhost)\n",
      "Received: from murder (mail.umich.edu [141.211.14.97])\n",
      "Received: from murder ([unix socket])\n",
      "Received: from icestorm.mr.itd.umich.edu (icestorm.mr.itd.umich.edu [141.211.93.149])\n",
      "Received: FROM paploo.uhi.ac.uk (app1.prod.collab.uhi.ac.uk [194.35.219.184])\n",
      "Received: from paploo.uhi.ac.uk (localhost [127.0.0.1])\n",
      "Received: from prod.collab.uhi.ac.uk ([194.35.219.182])\n",
      "Received: from nakamura.uits.iupui.edu (nakamura.uits.iupui.edu [134.68.220.122])\n",
      "Received: from nakamura.uits.iupui.edu (localhost [127.0.0.1])\n",
      "Received: (from apache@localhost)\n",
      "Received: from murder (mail.umich.edu [141.211.14.25])\n",
      "Received: from murder ([unix socket])\n",
      "Received: from ghostbusters.mr.itd.umich.edu (ghostbusters.mr.itd.umich.edu [141.211.93.144])\n",
      "Received: FROM paploo.uhi.ac.uk (app1.prod.collab.uhi.ac.uk [194.35.219.184])\n",
      "Received: from paploo.uhi.ac.uk (localhost [127.0.0.1])\n",
      "Received: from prod.collab.uhi.ac.uk ([194.35.219.182])\n",
      "Received: from nakamura.uits.iupui.edu (nakamura.uits.iupui.edu [134.68.220.122])\n",
      "Received: from nakamura.uits.iupui.edu (localhost [127.0.0.1])\n",
      "Received: (from apache@localhost)\n",
      "Received: from murder (mail.umich.edu [141.211.14.25])\n",
      "Received: from murder ([unix socket])\n",
      "Received: from dreamcatcher.mr.itd.umich.edu (dreamcatcher.mr.itd.umich.edu [141.211.14.43])\n",
      "Received: FROM paploo.uhi.ac.uk (app1.prod.collab.uhi.ac.uk [194.35.219.184])\n",
      "Received: from paploo.uhi.ac.uk (localhost [127.0.0.1])\n",
      "Received: from prod.collab.uhi.ac.uk ([194.35.219.182])\n",
      "Received: from nakamura.uits.iupui.edu (nakamura.uits.iupui.edu [134.68.220.122])\n",
      "Received: from nakamura.uits.iupui.edu (localhost [127.0.0.1])\n",
      "Received: (from apache@localhost)\n",
      "Received: from murder (mail.umich.edu [141.211.14.46])\n",
      "Received: from murder ([unix socket])\n",
      "Received: from firestarter.mr.itd.umich.edu (firestarter.mr.itd.umich.edu [141.211.14.83])\n",
      "Received: FROM paploo.uhi.ac.uk (app1.prod.collab.uhi.ac.uk [194.35.219.184])\n",
      "Received: from paploo.uhi.ac.uk (localhost [127.0.0.1])\n",
      "Received: from prod.collab.uhi.ac.uk ([194.35.219.182])\n",
      "Received: from nakamura.uits.iupui.edu (nakamura.uits.iupui.edu [134.68.220.122])\n",
      "Received: from nakamura.uits.iupui.edu (localhost [127.0.0.1])\n",
      "Received: (from apache@localhost)\n",
      "Received: from murder (mail.umich.edu [141.211.14.93])\n",
      "Received: from murder ([unix socket])\n",
      "Received: from eyewitness.mr.itd.umich.edu (eyewitness.mr.itd.umich.edu [141.211.93.142])\n",
      "Received: FROM paploo.uhi.ac.uk (app1.prod.collab.uhi.ac.uk [194.35.219.184])\n",
      "Received: from paploo.uhi.ac.uk (localhost [127.0.0.1])\n",
      "Received: from prod.collab.uhi.ac.uk ([194.35.219.182])\n",
      "Received: from nakamura.uits.iupui.edu (nakamura.uits.iupui.edu [134.68.220.122])\n",
      "Received: from nakamura.uits.iupui.edu (localhost [127.0.0.1])\n",
      "Received: (from apache@localhost)\n",
      "Received: from murder (mail.umich.edu [141.211.14.46])\n",
      "Received: from murder ([unix socket])\n",
      "Received: from tadpole.mr.itd.umich.edu (tadpole.mr.itd.umich.edu [141.211.14.72])\n",
      "Received: FROM paploo.uhi.ac.uk (app1.prod.collab.uhi.ac.uk [194.35.219.184])\n",
      "Received: from paploo.uhi.ac.uk (localhost [127.0.0.1])\n",
      "Received: from prod.collab.uhi.ac.uk ([194.35.219.182])\n",
      "Received: from nakamura.uits.iupui.edu (nakamura.uits.iupui.edu [134.68.220.122])\n",
      "Received: from nakamura.uits.iupui.edu (localhost [127.0.0.1])\n",
      "Received: (from apache@localhost)\n",
      "Received: from murder (mail.umich.edu [141.211.14.46])\n",
      "Received: from murder ([unix socket])\n",
      "Received: from it.mr.itd.umich.edu (it.mr.itd.umich.edu [141.211.93.151])\n",
      "Received: FROM paploo.uhi.ac.uk (app1.prod.collab.uhi.ac.uk [194.35.219.184])\n",
      "Received: from paploo.uhi.ac.uk (localhost [127.0.0.1])\n",
      "Received: from prod.collab.uhi.ac.uk ([194.35.219.182])\n",
      "Received: from nakamura.uits.iupui.edu (nakamura.uits.iupui.edu [134.68.220.122])\n",
      "Received: from nakamura.uits.iupui.edu (localhost [127.0.0.1])\n",
      "Received: (from apache@localhost)\n",
      "Received: from murder (mail.umich.edu [141.211.14.25])\n",
      "Received: from murder ([unix socket])\n",
      "Received: from holes.mr.itd.umich.edu (holes.mr.itd.umich.edu [141.211.14.79])\n",
      "Received: FROM paploo.uhi.ac.uk (app1.prod.collab.uhi.ac.uk [194.35.219.184])\n",
      "Received: from paploo.uhi.ac.uk (localhost [127.0.0.1])\n",
      "Received: from prod.collab.uhi.ac.uk ([194.35.219.182])\n",
      "Received: from nakamura.uits.iupui.edu (nakamura.uits.iupui.edu [134.68.220.122])\n",
      "Received: from nakamura.uits.iupui.edu (localhost [127.0.0.1])\n",
      "Received: (from apache@localhost)\n",
      "Received: from murder (mail.umich.edu [141.211.14.36])\n",
      "Received: from murder ([unix socket])\n",
      "Received: from creepshow.mr.itd.umich.edu (creepshow.mr.itd.umich.edu [141.211.14.84])\n",
      "Received: FROM paploo.uhi.ac.uk (app1.prod.collab.uhi.ac.uk [194.35.219.184])\n",
      "Received: from paploo.uhi.ac.uk (localhost [127.0.0.1])\n",
      "Received: from prod.collab.uhi.ac.uk ([194.35.219.182])\n",
      "Received: from nakamura.uits.iupui.edu (nakamura.uits.iupui.edu [134.68.220.122])\n",
      "Received: from nakamura.uits.iupui.edu (localhost [127.0.0.1])\n",
      "Received: (from apache@localhost)\n",
      "Received: from murder (mail.umich.edu [141.211.14.97])\n",
      "Received: from murder ([unix socket])\n",
      "Received: from carrie.mr.itd.umich.edu (carrie.mr.itd.umich.edu [141.211.93.152])\n",
      "Received: FROM paploo.uhi.ac.uk (app1.prod.collab.uhi.ac.uk [194.35.219.184])\n",
      "Received: from paploo.uhi.ac.uk (localhost [127.0.0.1])\n",
      "Received: from prod.collab.uhi.ac.uk ([194.35.219.182])\n",
      "Received: from nakamura.uits.iupui.edu (nakamura.uits.iupui.edu [134.68.220.122])\n",
      "Received: from nakamura.uits.iupui.edu (localhost [127.0.0.1])\n",
      "Received: (from apache@localhost)\n",
      "Received: from murder (mail.umich.edu [141.211.14.39])\n",
      "Received: from murder ([unix socket])\n",
      "Received: from holes.mr.itd.umich.edu (holes.mr.itd.umich.edu [141.211.14.79])\n",
      "Received: FROM paploo.uhi.ac.uk (app1.prod.collab.uhi.ac.uk [194.35.219.184])\n",
      "Received: from paploo.uhi.ac.uk (localhost [127.0.0.1])\n",
      "Received: from prod.collab.uhi.ac.uk ([194.35.219.182])\n",
      "Received: from nakamura.uits.iupui.edu (nakamura.uits.iupui.edu [134.68.220.122])\n",
      "Received: from nakamura.uits.iupui.edu (localhost [127.0.0.1])\n",
      "Received: (from apache@localhost)\n",
      "Received: from murder (mail.umich.edu [141.211.14.90])\n",
      "Received: from murder ([unix socket])\n",
      "Received: from shining.mr.itd.umich.edu (shining.mr.itd.umich.edu [141.211.93.153])\n",
      "Received: FROM paploo.uhi.ac.uk (app1.prod.collab.uhi.ac.uk [194.35.219.184])\n",
      "Received: from paploo.uhi.ac.uk (localhost [127.0.0.1])\n",
      "Received: from prod.collab.uhi.ac.uk ([194.35.219.182])\n",
      "Received: from nakamura.uits.iupui.edu (nakamura.uits.iupui.edu [134.68.220.122])\n",
      "Received: from nakamura.uits.iupui.edu (localhost [127.0.0.1])\n",
      "Received: (from apache@localhost)\n",
      "Received: from murder (mail.umich.edu [141.211.14.97])\n",
      "Received: from murder ([unix socket])\n",
      "Received: from creepshow.mr.itd.umich.edu (creepshow.mr.itd.umich.edu [141.211.14.84])\n",
      "Received: FROM paploo.uhi.ac.uk (app1.prod.collab.uhi.ac.uk [194.35.219.184])\n",
      "Received: from paploo.uhi.ac.uk (localhost [127.0.0.1])\n",
      "Received: from prod.collab.uhi.ac.uk ([194.35.219.182])\n",
      "Received: from nakamura.uits.iupui.edu (nakamura.uits.iupui.edu [134.68.220.122])\n",
      "Received: from nakamura.uits.iupui.edu (localhost [127.0.0.1])\n",
      "Received: (from apache@localhost)\n",
      "Received: from murder (mail.umich.edu [141.211.14.25])\n",
      "Received: from murder ([unix socket])\n",
      "Received: from holes.mr.itd.umich.edu (holes.mr.itd.umich.edu [141.211.14.79])\n",
      "Received: FROM paploo.uhi.ac.uk (app1.prod.collab.uhi.ac.uk [194.35.219.184])\n",
      "Received: from paploo.uhi.ac.uk (localhost [127.0.0.1])\n",
      "Received: from prod.collab.uhi.ac.uk ([194.35.219.182])\n",
      "Received: from nakamura.uits.iupui.edu (nakamura.uits.iupui.edu [134.68.220.122])\n",
      "Received: from nakamura.uits.iupui.edu (localhost [127.0.0.1])\n",
      "Received: (from apache@localhost)\n",
      "Received: from murder (mail.umich.edu [141.211.14.90])\n",
      "Received: from murder ([unix socket])\n",
      "Received: from guys.mr.itd.umich.edu (guys.mr.itd.umich.edu [141.211.14.76])\n",
      "Received: FROM paploo.uhi.ac.uk (app1.prod.collab.uhi.ac.uk [194.35.219.184])\n",
      "Received: from paploo.uhi.ac.uk (localhost [127.0.0.1])\n",
      "Received: from prod.collab.uhi.ac.uk ([194.35.219.182])\n",
      "Received: from nakamura.uits.iupui.edu (nakamura.uits.iupui.edu [134.68.220.122])\n",
      "Received: from nakamura.uits.iupui.edu (localhost [127.0.0.1])\n",
      "Received: (from apache@localhost)\n",
      "Received: from murder (mail.umich.edu [141.211.14.39])\n",
      "Received: from murder ([unix socket])\n",
      "Received: from guys.mr.itd.umich.edu (guys.mr.itd.umich.edu [141.211.14.76])\n",
      "Received: FROM paploo.uhi.ac.uk (app1.prod.collab.uhi.ac.uk [194.35.219.184])\n",
      "Received: from paploo.uhi.ac.uk (localhost [127.0.0.1])\n",
      "Received: from prod.collab.uhi.ac.uk ([194.35.219.182])\n",
      "Received: from nakamura.uits.iupui.edu (nakamura.uits.iupui.edu [134.68.220.122])\n",
      "Received: from nakamura.uits.iupui.edu (localhost [127.0.0.1])\n",
      "Received: (from apache@localhost)\n",
      "Received: from murder (mail.umich.edu [141.211.14.98])\n",
      "Received: from murder ([unix socket])\n",
      "Received: from firestarter.mr.itd.umich.edu (firestarter.mr.itd.umich.edu [141.211.14.83])\n",
      "Received: FROM paploo.uhi.ac.uk (app1.prod.collab.uhi.ac.uk [194.35.219.184])\n",
      "Received: from paploo.uhi.ac.uk (localhost [127.0.0.1])\n",
      "Received: from prod.collab.uhi.ac.uk ([194.35.219.182])\n",
      "Received: from nakamura.uits.iupui.edu (nakamura.uits.iupui.edu [134.68.220.122])\n",
      "Received: from nakamura.uits.iupui.edu (localhost [127.0.0.1])\n",
      "Received: (from apache@localhost)\n",
      "Received: from murder (mail.umich.edu [141.211.14.92])\n",
      "Received: from murder ([unix socket])\n",
      "Received: from galaxyquest.mr.itd.umich.edu (galaxyquest.mr.itd.umich.edu [141.211.93.145])\n",
      "Received: FROM paploo.uhi.ac.uk (app1.prod.collab.uhi.ac.uk [194.35.219.184])\n",
      "Received: from paploo.uhi.ac.uk (localhost [127.0.0.1])\n",
      "Received: from prod.collab.uhi.ac.uk ([194.35.219.182])\n",
      "Received: from nakamura.uits.iupui.edu (nakamura.uits.iupui.edu [134.68.220.122])\n",
      "Received: from nakamura.uits.iupui.edu (localhost [127.0.0.1])\n",
      "Received: (from apache@localhost)\n",
      "Received: from murder (mail.umich.edu [141.211.14.46])\n",
      "Received: from murder ([unix socket])\n",
      "Received: from workinggirl.mr.itd.umich.edu (workinggirl.mr.itd.umich.edu [141.211.93.143])\n",
      "Received: FROM paploo.uhi.ac.uk (app1.prod.collab.uhi.ac.uk [194.35.219.184])\n",
      "Received: from paploo.uhi.ac.uk (localhost [127.0.0.1])\n",
      "Received: from prod.collab.uhi.ac.uk ([194.35.219.182])\n",
      "Received: from nakamura.uits.iupui.edu (nakamura.uits.iupui.edu [134.68.220.122])\n",
      "Received: from nakamura.uits.iupui.edu (localhost [127.0.0.1])\n",
      "Received: (from apache@localhost)\n",
      "Received: from murder (mail.umich.edu [141.211.14.25])\n",
      "Received: from murder ([unix socket])\n",
      "Received: from salemslot.mr.itd.umich.edu (salemslot.mr.itd.umich.edu [141.211.14.58])\n",
      "Received: FROM paploo.uhi.ac.uk (app1.prod.collab.uhi.ac.uk [194.35.219.184])\n",
      "Received: from paploo.uhi.ac.uk (localhost [127.0.0.1])\n",
      "Received: from prod.collab.uhi.ac.uk ([194.35.219.182])\n",
      "Received: from nakamura.uits.iupui.edu (nakamura.uits.iupui.edu [134.68.220.122])\n",
      "Received: from nakamura.uits.iupui.edu (localhost [127.0.0.1])\n",
      "Received: (from apache@localhost)\n",
      "Received: from murder (mail.umich.edu [141.211.14.91])\n",
      "Received: from murder ([unix socket])\n",
      "Received: from eyewitness.mr.itd.umich.edu (eyewitness.mr.itd.umich.edu [141.211.93.142])\n",
      "Received: FROM paploo.uhi.ac.uk (app1.prod.collab.uhi.ac.uk [194.35.219.184])\n",
      "Received: from paploo.uhi.ac.uk (localhost [127.0.0.1])\n",
      "Received: from prod.collab.uhi.ac.uk ([194.35.219.182])\n",
      "Received: from nakamura.uits.iupui.edu (nakamura.uits.iupui.edu [134.68.220.122])\n",
      "Received: from nakamura.uits.iupui.edu (localhost [127.0.0.1])\n",
      "Received: (from apache@localhost)\n",
      "Received: from murder (mail.umich.edu [141.211.14.91])\n",
      "Received: from murder ([unix socket])\n",
      "Received: from salemslot.mr.itd.umich.edu (salemslot.mr.itd.umich.edu [141.211.14.58])\n",
      "Received: FROM paploo.uhi.ac.uk (app1.prod.collab.uhi.ac.uk [194.35.219.184])\n",
      "Received: from paploo.uhi.ac.uk (localhost [127.0.0.1])\n",
      "Received: from prod.collab.uhi.ac.uk ([194.35.219.182])\n",
      "Received: from nakamura.uits.iupui.edu (nakamura.uits.iupui.edu [134.68.220.122])\n",
      "Received: from nakamura.uits.iupui.edu (localhost [127.0.0.1])\n",
      "Received: (from apache@localhost)\n",
      "Received: from murder (mail.umich.edu [141.211.14.39])\n",
      "Received: from murder ([unix socket])\n",
      "Received: from anniehall.mr.itd.umich.edu (anniehall.mr.itd.umich.edu [141.211.93.141])\n",
      "Received: FROM paploo.uhi.ac.uk (app1.prod.collab.uhi.ac.uk [194.35.219.184])\n",
      "Received: from paploo.uhi.ac.uk (localhost [127.0.0.1])\n",
      "Received: from prod.collab.uhi.ac.uk ([194.35.219.182])\n",
      "Received: from nakamura.uits.iupui.edu (nakamura.uits.iupui.edu [134.68.220.122])\n",
      "Received: from nakamura.uits.iupui.edu (localhost [127.0.0.1])\n",
      "Received: (from apache@localhost)\n",
      "Received: from murder (mail.umich.edu [141.211.14.34])\n",
      "Received: from murder ([unix socket])\n",
      "Received: from icestorm.mr.itd.umich.edu (icestorm.mr.itd.umich.edu [141.211.93.149])\n",
      "Received: FROM paploo.uhi.ac.uk (app1.prod.collab.uhi.ac.uk [194.35.219.184])\n",
      "Received: from paploo.uhi.ac.uk (localhost [127.0.0.1])\n",
      "Received: from prod.collab.uhi.ac.uk ([194.35.219.182])\n",
      "Received: from nakamura.uits.iupui.edu (nakamura.uits.iupui.edu [134.68.220.122])\n",
      "Received: from nakamura.uits.iupui.edu (localhost [127.0.0.1])\n",
      "Received: (from apache@localhost)\n",
      "Received: from murder (mail.umich.edu [141.211.14.46])\n",
      "Received: from murder ([unix socket])\n",
      "Received: from galaxyquest.mr.itd.umich.edu (galaxyquest.mr.itd.umich.edu [141.211.93.145])\n",
      "Received: FROM paploo.uhi.ac.uk (app1.prod.collab.uhi.ac.uk [194.35.219.184])\n",
      "Received: from paploo.uhi.ac.uk (localhost [127.0.0.1])\n",
      "Received: from prod.collab.uhi.ac.uk ([194.35.219.182])\n",
      "Received: from nakamura.uits.iupui.edu (nakamura.uits.iupui.edu [134.68.220.122])\n",
      "Received: from nakamura.uits.iupui.edu (localhost [127.0.0.1])\n",
      "Received: (from apache@localhost)\n",
      "Received: from murder (mail.umich.edu [141.211.14.91])\n",
      "Received: from murder ([unix socket])\n",
      "Received: from salemslot.mr.itd.umich.edu (salemslot.mr.itd.umich.edu [141.211.14.58])\n",
      "Received: FROM paploo.uhi.ac.uk (app1.prod.collab.uhi.ac.uk [194.35.219.184])\n",
      "Received: from paploo.uhi.ac.uk (localhost [127.0.0.1])\n",
      "Received: from prod.collab.uhi.ac.uk ([194.35.219.182])\n",
      "Received: from nakamura.uits.iupui.edu (nakamura.uits.iupui.edu [134.68.220.122])\n",
      "Received: from nakamura.uits.iupui.edu (localhost [127.0.0.1])\n",
      "Received: (from apache@localhost)\n"
     ]
    }
   ],
   "source": [
    "file=open('E.txt')\n",
    "count=0\n",
    "for line in file:\n",
    "    line=line.rstrip()\n",
    "    if line.startswith('Received:'):\n",
    "        print(line)"
   ]
  },
  {
   "cell_type": "code",
   "execution_count": 195,
   "id": "79639a98",
   "metadata": {},
   "outputs": [
    {
     "name": "stdout",
     "output_type": "stream",
     "text": [
      "From: stephen.marquard@uct.ac.za\n",
      "From: louis@media.berkeley.edu\n",
      "From: zqian@umich.edu\n",
      "From: rjlowe@iupui.edu\n",
      "From: zqian@umich.edu\n",
      "From: rjlowe@iupui.edu\n",
      "From: cwen@iupui.edu\n",
      "From: cwen@iupui.edu\n",
      "From: gsilver@umich.edu\n",
      "From: gsilver@umich.edu\n",
      "From: zqian@umich.edu\n",
      "From: gsilver@umich.edu\n",
      "From: wagnermr@iupui.edu\n",
      "From: zqian@umich.edu\n",
      "From: antranig@caret.cam.ac.uk\n",
      "From: gopal.ramasammycook@gmail.com\n",
      "From: david.horwitz@uct.ac.za\n",
      "From: david.horwitz@uct.ac.za\n",
      "From: david.horwitz@uct.ac.za\n",
      "From: david.horwitz@uct.ac.za\n",
      "From: stephen.marquard@uct.ac.za\n",
      "From: louis@media.berkeley.edu\n",
      "From: louis@media.berkeley.edu\n",
      "From: ray@media.berkeley.edu\n",
      "From: cwen@iupui.edu\n",
      "From: cwen@iupui.edu\n",
      "From: cwen@iupui.edu\n"
     ]
    }
   ],
   "source": [
    "file=open('E.txt')\n",
    "for line in file:\n",
    "    line=line.rstrip()\n",
    "    if not line.startswith('From:'):\n",
    "        continue\n",
    "    print(line)   "
   ]
  },
  {
   "cell_type": "code",
   "execution_count": 198,
   "id": "deb73576",
   "metadata": {},
   "outputs": [
    {
     "name": "stdout",
     "output_type": "stream",
     "text": [
      "From stephen.marquard@uct.ac.za Sat Jan  5 09:14:16 2008\n",
      "Return-Path: <postmaster@collab.sakaiproject.org>\n",
      "\t by frankenstein.mail.umich.edu (Cyrus v2.3.8) with LMTPA;\n",
      "\t Sat, 05 Jan 2008 09:14:16 -0500\n",
      "X-Sieve: CMU Sieve 2.3\n",
      "\t by mail.umich.edu (Cyrus v2.2.12) with LMTPA;\n",
      "\t Sat, 05 Jan 2008 09:14:16 -0500\n",
      "\tby flawless.mail.umich.edu () with ESMTP id m05EEFR1013674;\n",
      "\tSat, 5 Jan 2008 09:14:15 -0500\n",
      "\tBY holes.mr.itd.umich.edu ID 477F90B0.2DB2F.12494 ;\n",
      "\t 5 Jan 2008 09:14:10 -0500\n",
      "\tby paploo.uhi.ac.uk (Postfix) with ESMTP id 5F919BC2F2;\n",
      "\tSat,  5 Jan 2008 14:10:05 +0000 (GMT)\n",
      "Message-ID: <200801051412.m05ECIaH010327@nakamura.uits.iupui.edu>\n",
      "Mime-Version: 1.0\n",
      "Content-Transfer-Encoding: 7bit\n",
      "          by paploo.uhi.ac.uk (JAMES SMTP Server 2.1.3) with SMTP ID 899\n",
      "          for <source@collab.sakaiproject.org>;\n",
      "          Sat, 5 Jan 2008 14:09:50 +0000 (GMT)\n",
      "\tby shmi.uhi.ac.uk (Postfix) with ESMTP id A215243002\n",
      "\tfor <source@collab.sakaiproject.org>; Sat,  5 Jan 2008 14:13:33 +0000 (GMT)\n",
      "\tby nakamura.uits.iupui.edu (8.12.11.20060308/8.12.11) with ESMTP id m05ECJVp010329\n",
      "\tfor <source@collab.sakaiproject.org>; Sat, 5 Jan 2008 09:12:19 -0500\n",
      "\tby nakamura.uits.iupui.edu (8.12.11.20060308/8.12.11/Submit) id m05ECIaH010327\n",
      "\tfor source@collab.sakaiproject.org; Sat, 5 Jan 2008 09:12:18 -0500\n",
      "Date: Sat, 5 Jan 2008 09:12:18 -0500\n",
      "X-Authentication-Warning: nakamura.uits.iupui.edu: apache set sender to stephen.marquard@uct.ac.za using -f\n",
      "To: source@collab.sakaiproject.org\n"
     ]
    }
   ],
   "source": [
    "file=open('E.txt')\n",
    "for line in file:\n",
    "    line=line.rstrip()\n",
    "    if line.startswith('From:'):\n",
    "        break\n",
    "    if line.startswith('Received: '):\n",
    "        continue\n",
    "    print(line) "
   ]
  },
  {
   "cell_type": "code",
   "execution_count": 203,
   "id": "14a7659a",
   "metadata": {},
   "outputs": [
    {
     "data": {
      "text/plain": [
       "6687001"
      ]
     },
     "execution_count": 203,
     "metadata": {},
     "output_type": "execute_result"
    }
   ],
   "source": [
    "file=open('A.txt')\n",
    "inp=file.read()\n",
    "len(inp)"
   ]
  },
  {
   "cell_type": "code",
   "execution_count": 207,
   "id": "20427840",
   "metadata": {},
   "outputs": [
    {
     "name": "stdout",
     "output_type": "stream",
     "text": [
      "From: stephen.marquard@uct.ac.za\n",
      "From: louis@media.berkeley.edu\n",
      "From: zqian@umich.edu\n",
      "From: rjlowe@iupui.edu\n",
      "From: zqian@umich.edu\n",
      "From: rjlowe@iupui.edu\n",
      "From: cwen@iupui.edu\n",
      "From: cwen@iupui.edu\n",
      "From: gsilver@umich.edu\n",
      "From: gsilver@umich.edu\n",
      "From: zqian@umich.edu\n",
      "From: gsilver@umich.edu\n",
      "From: wagnermr@iupui.edu\n",
      "From: zqian@umich.edu\n",
      "From: antranig@caret.cam.ac.uk\n",
      "From: gopal.ramasammycook@gmail.com\n",
      "From: david.horwitz@uct.ac.za\n",
      "From: david.horwitz@uct.ac.za\n",
      "From: david.horwitz@uct.ac.za\n",
      "From: david.horwitz@uct.ac.za\n",
      "From: stephen.marquard@uct.ac.za\n",
      "From: louis@media.berkeley.edu\n",
      "From: louis@media.berkeley.edu\n",
      "From: ray@media.berkeley.edu\n",
      "From: cwen@iupui.edu\n",
      "From: cwen@iupui.edu\n",
      "From: cwen@iupui.edu\n",
      "From: ray@media.berkeley.edu\n",
      "From: cwen@iupui.edu\n",
      "From: zqian@umich.edu\n",
      "From: cwen@iupui.edu\n",
      "From: zqian@umich.edu\n",
      "From: zqian@umich.edu\n",
      "From: zqian@umich.edu\n",
      "From: mmmay@indiana.edu\n",
      "From: cwen@iupui.edu\n",
      "From: zqian@umich.edu\n",
      "From: zqian@umich.edu\n",
      "From: zqian@umich.edu\n",
      "From: cwen@iupui.edu\n",
      "From: zqian@umich.edu\n",
      "From: cwen@iupui.edu\n",
      "From: ray@media.berkeley.edu\n",
      "From: zqian@umich.edu\n",
      "From: zqian@umich.edu\n",
      "From: zqian@umich.edu\n",
      "From: cwen@iupui.edu\n",
      "From: zqian@umich.edu\n",
      "From: gopal.ramasammycook@gmail.com\n",
      "From: gsilver@umich.edu\n",
      "From: gsilver@umich.edu\n",
      "From: stuart.freeman@et.gatech.edu\n",
      "From: zqian@umich.edu\n",
      "From: gsilver@umich.edu\n",
      "From: gsilver@umich.edu\n",
      "From: gsilver@umich.edu\n",
      "From: zqian@umich.edu\n",
      "From: wagnermr@iupui.edu\n",
      "From: stuart.freeman@et.gatech.edu\n",
      "From: tnguyen@iupui.edu\n",
      "From: stuart.freeman@et.gatech.edu\n",
      "From: wagnermr@iupui.edu\n",
      "From: gopal.ramasammycook@gmail.com\n",
      "From: ray@media.berkeley.edu\n",
      "From: ray@media.berkeley.edu\n",
      "From: zqian@umich.edu\n",
      "From: wagnermr@iupui.edu\n",
      "From: stuart.freeman@et.gatech.edu\n",
      "From: chmaurer@iupui.edu\n",
      "From: stuart.freeman@et.gatech.edu\n",
      "From: rjlowe@iupui.edu\n",
      "From: zqian@umich.edu\n",
      "From: rjlowe@iupui.edu\n",
      "From: rjlowe@iupui.edu\n",
      "From: zqian@umich.edu\n",
      "From: rjlowe@iupui.edu\n",
      "From: rjlowe@iupui.edu\n",
      "From: rjlowe@iupui.edu\n",
      "From: david.horwitz@uct.ac.za\n",
      "From: david.horwitz@uct.ac.za\n",
      "From: david.horwitz@uct.ac.za\n",
      "From: david.horwitz@uct.ac.za\n",
      "From: aaronz@vt.edu\n",
      "From: david.horwitz@uct.ac.za\n",
      "From: david.horwitz@uct.ac.za\n",
      "From: david.horwitz@uct.ac.za\n",
      "From: david.horwitz@uct.ac.za\n",
      "From: david.horwitz@uct.ac.za\n",
      "From: gopal.ramasammycook@gmail.com\n",
      "From: david.horwitz@uct.ac.za\n",
      "From: david.horwitz@uct.ac.za\n",
      "From: david.horwitz@uct.ac.za\n",
      "From: david.horwitz@uct.ac.za\n",
      "From: david.horwitz@uct.ac.za\n",
      "From: david.horwitz@uct.ac.za\n",
      "From: david.horwitz@uct.ac.za\n",
      "From: david.horwitz@uct.ac.za\n",
      "From: ian@caret.cam.ac.uk\n",
      "From: ian@caret.cam.ac.uk\n",
      "From: zqian@umich.edu\n",
      "From: zqian@umich.edu\n",
      "From: zqian@umich.edu\n",
      "From: zqian@umich.edu\n",
      "From: zqian@umich.edu\n",
      "From: rjlowe@iupui.edu\n",
      "From: wagnermr@iupui.edu\n",
      "From: csev@umich.edu\n",
      "From: csev@umich.edu\n",
      "From: csev@umich.edu\n",
      "From: rjlowe@iupui.edu\n",
      "From: jimeng@umich.edu\n",
      "From: csev@umich.edu\n",
      "From: csev@umich.edu\n",
      "From: gsilver@umich.edu\n",
      "From: ian@caret.cam.ac.uk\n",
      "From: csev@umich.edu\n",
      "From: csev@umich.edu\n",
      "From: csev@umich.edu\n",
      "From: josrodri@iupui.edu\n",
      "From: josrodri@iupui.edu\n",
      "From: csev@umich.edu\n",
      "From: ian@caret.cam.ac.uk\n",
      "From: csev@umich.edu\n",
      "From: zqian@umich.edu\n",
      "From: zqian@umich.edu\n",
      "From: knoop@umich.edu\n",
      "From: knoop@umich.edu\n",
      "From: knoop@umich.edu\n",
      "From: knoop@umich.edu\n",
      "From: knoop@umich.edu\n",
      "From: cwen@iupui.edu\n",
      "From: jimeng@umich.edu\n",
      "From: jimeng@umich.edu\n",
      "From: csev@umich.edu\n",
      "From: csev@umich.edu\n",
      "From: csev@umich.edu\n",
      "From: csev@umich.edu\n",
      "From: csev@umich.edu\n",
      "From: csev@umich.edu\n",
      "From: jimeng@umich.edu\n",
      "From: jimeng@umich.edu\n",
      "From: bkirschn@umich.edu\n",
      "From: jimeng@umich.edu\n",
      "From: ian@caret.cam.ac.uk\n",
      "From: stephen.marquard@uct.ac.za\n",
      "From: stephen.marquard@uct.ac.za\n",
      "From: ian@caret.cam.ac.uk\n",
      "From: jimeng@umich.edu\n",
      "From: jimeng@umich.edu\n",
      "From: ray@media.berkeley.edu\n",
      "From: ian@caret.cam.ac.uk\n",
      "From: ian@caret.cam.ac.uk\n",
      "From: stuart.freeman@et.gatech.edu\n",
      "From: bkirschn@umich.edu\n",
      "From: zqian@umich.edu\n",
      "From: louis@media.berkeley.edu\n",
      "From: dlhaines@umich.edu\n",
      "From: bkirschn@umich.edu\n",
      "From: dlhaines@umich.edu\n",
      "From: dlhaines@umich.edu\n",
      "From: zqian@umich.edu\n",
      "From: bkirschn@umich.edu\n",
      "From: cwen@iupui.edu\n",
      "From: cwen@iupui.edu\n",
      "From: bkirschn@umich.edu\n",
      "From: bkirschn@umich.edu\n",
      "From: david.horwitz@uct.ac.za\n",
      "From: david.horwitz@uct.ac.za\n",
      "From: david.horwitz@uct.ac.za\n",
      "From: david.horwitz@uct.ac.za\n",
      "From: david.horwitz@uct.ac.za\n",
      "From: stephen.marquard@uct.ac.za\n",
      "From: david.horwitz@uct.ac.za\n",
      "From: bkirschn@umich.edu\n",
      "From: cwen@iupui.edu\n",
      "From: cwen@iupui.edu\n",
      "From: cwen@iupui.edu\n",
      "From: cwen@iupui.edu\n",
      "From: david.horwitz@uct.ac.za\n",
      "From: david.horwitz@uct.ac.za\n",
      "From: david.horwitz@uct.ac.za\n",
      "From: david.horwitz@uct.ac.za\n",
      "From: david.horwitz@uct.ac.za\n",
      "From: david.horwitz@uct.ac.za\n",
      "From: david.horwitz@uct.ac.za\n",
      "From: david.horwitz@uct.ac.za\n",
      "From: david.horwitz@uct.ac.za\n",
      "From: dlhaines@umich.edu\n",
      "From: josrodri@iupui.edu\n",
      "From: dlhaines@umich.edu\n",
      "From: dlhaines@umich.edu\n",
      "From: dlhaines@umich.edu\n",
      "From: hu2@iupui.edu\n",
      "From: louis@media.berkeley.edu\n",
      "From: bkirschn@umich.edu\n",
      "From: josrodri@iupui.edu\n",
      "From: louis@media.berkeley.edu\n",
      "From: zqian@umich.edu\n",
      "From: cwen@iupui.edu\n",
      "From: cwen@iupui.edu\n",
      "From: cwen@iupui.edu\n",
      "From: cwen@iupui.edu\n",
      "From: josrodri@iupui.edu\n",
      "From: cwen@iupui.edu\n",
      "From: cwen@iupui.edu\n",
      "From: hu2@iupui.edu\n",
      "From: cwen@iupui.edu\n",
      "From: tnguyen@iupui.edu\n",
      "From: sgithens@caret.cam.ac.uk\n",
      "From: arwhyte@umich.edu\n",
      "From: rjlowe@iupui.edu\n",
      "From: cwen@iupui.edu\n",
      "From: cwen@iupui.edu\n",
      "From: cwen@iupui.edu\n",
      "From: zqian@umich.edu\n",
      "From: david.horwitz@uct.ac.za\n",
      "From: josrodri@iupui.edu\n",
      "From: sgithens@caret.cam.ac.uk\n",
      "From: sgithens@caret.cam.ac.uk\n",
      "From: sgithens@caret.cam.ac.uk\n",
      "From: sgithens@caret.cam.ac.uk\n",
      "From: sgithens@caret.cam.ac.uk\n",
      "From: sgithens@caret.cam.ac.uk\n",
      "From: sgithens@caret.cam.ac.uk\n",
      "From: sgithens@caret.cam.ac.uk\n",
      "From: sgithens@caret.cam.ac.uk\n",
      "From: sgithens@caret.cam.ac.uk\n",
      "From: sgithens@caret.cam.ac.uk\n",
      "From: sgithens@caret.cam.ac.uk\n",
      "From: sgithens@caret.cam.ac.uk\n",
      "From: sgithens@caret.cam.ac.uk\n",
      "From: sgithens@caret.cam.ac.uk\n",
      "From: sgithens@caret.cam.ac.uk\n",
      "From: sgithens@caret.cam.ac.uk\n",
      "From: david.horwitz@uct.ac.za\n",
      "From: dlhaines@umich.edu\n",
      "From: stephen.marquard@uct.ac.za\n",
      "From: david.horwitz@uct.ac.za\n",
      "From: david.horwitz@uct.ac.za\n",
      "From: stephen.marquard@uct.ac.za\n",
      "From: stephen.marquard@uct.ac.za\n",
      "From: david.horwitz@uct.ac.za\n",
      "From: david.horwitz@uct.ac.za\n",
      "From: zqian@umich.edu\n",
      "From: zqian@umich.edu\n",
      "From: gbhatnag@umich.edu\n",
      "From: dlhaines@umich.edu\n",
      "From: jimeng@umich.edu\n",
      "From: cwen@iupui.edu\n",
      "From: cwen@iupui.edu\n",
      "From: cwen@iupui.edu\n",
      "From: cwen@iupui.edu\n",
      "From: cwen@iupui.edu\n",
      "From: ray@media.berkeley.edu\n",
      "From: rjlowe@iupui.edu\n",
      "From: jimeng@umich.edu\n",
      "From: wagnermr@iupui.edu\n",
      "From: cwen@iupui.edu\n",
      "From: cwen@iupui.edu\n",
      "From: wagnermr@iupui.edu\n",
      "From: cwen@iupui.edu\n",
      "From: gsilver@umich.edu\n",
      "From: gsilver@umich.edu\n",
      "From: gsilver@umich.edu\n",
      "From: cwen@iupui.edu\n",
      "From: cwen@iupui.edu\n",
      "From: cwen@iupui.edu\n",
      "From: stephen.marquard@uct.ac.za\n",
      "From: gjthomas@iupui.edu\n",
      "From: dlhaines@umich.edu\n",
      "From: zqian@umich.edu\n",
      "From: cwen@iupui.edu\n",
      "From: jimeng@umich.edu\n",
      "From: a.fish@lancaster.ac.uk\n",
      "From: a.fish@lancaster.ac.uk\n",
      "From: cwen@iupui.edu\n",
      "From: gsilver@umich.edu\n",
      "From: cwen@iupui.edu\n",
      "From: stuart.freeman@et.gatech.edu\n",
      "From: wagnermr@iupui.edu\n",
      "From: stuart.freeman@et.gatech.edu\n",
      "From: stephen.marquard@uct.ac.za\n",
      "From: stephen.marquard@uct.ac.za\n",
      "From: stephen.marquard@uct.ac.za\n",
      "From: stephen.marquard@uct.ac.za\n",
      "From: stephen.marquard@uct.ac.za\n",
      "From: louis@media.berkeley.edu\n",
      "From: gsilver@umich.edu\n",
      "From: cwen@iupui.edu\n",
      "From: cwen@iupui.edu\n",
      "From: tnguyen@iupui.edu\n",
      "From: cwen@iupui.edu\n",
      "From: bkirschn@umich.edu\n",
      "From: cwen@iupui.edu\n",
      "From: chmaurer@iupui.edu\n",
      "From: tnguyen@iupui.edu\n",
      "From: cwen@iupui.edu\n",
      "From: tnguyen@iupui.edu\n",
      "From: cwen@iupui.edu\n",
      "From: dlhaines@umich.edu\n",
      "From: cwen@iupui.edu\n",
      "From: jimeng@umich.edu\n",
      "From: jimeng@umich.edu\n",
      "From: cwen@iupui.edu\n",
      "From: cwen@iupui.edu\n",
      "From: ajpoland@iupui.edu\n",
      "From: josrodri@iupui.edu\n",
      "From: gjthomas@iupui.edu\n",
      "From: gjthomas@iupui.edu\n",
      "From: gjthomas@iupui.edu\n",
      "From: gjthomas@iupui.edu\n",
      "From: gjthomas@iupui.edu\n",
      "From: dlhaines@umich.edu\n",
      "From: gjthomas@iupui.edu\n",
      "From: gjthomas@iupui.edu\n",
      "From: gjthomas@iupui.edu\n",
      "From: gjthomas@iupui.edu\n",
      "From: gjthomas@iupui.edu\n",
      "From: gjthomas@iupui.edu\n",
      "From: gsilver@umich.edu\n",
      "From: ian@caret.cam.ac.uk\n",
      "From: cwen@iupui.edu\n",
      "From: cwen@iupui.edu\n",
      "From: lance@indiana.edu\n",
      "From: lance@indiana.edu\n",
      "From: dlhaines@umich.edu\n",
      "From: lance@indiana.edu\n",
      "From: chmaurer@iupui.edu\n",
      "From: ian@caret.cam.ac.uk\n",
      "From: lance@indiana.edu\n",
      "From: lance@indiana.edu\n",
      "From: cwen@iupui.edu\n",
      "From: cwen@iupui.edu\n",
      "From: cwen@iupui.edu\n",
      "From: ajpoland@iupui.edu\n",
      "From: cwen@iupui.edu\n",
      "From: gjthomas@iupui.edu\n",
      "From: gjthomas@iupui.edu\n",
      "From: stephen.marquard@uct.ac.za\n",
      "From: chmaurer@iupui.edu\n",
      "From: chmaurer@iupui.edu\n",
      "From: chmaurer@iupui.edu\n",
      "From: stephen.marquard@uct.ac.za\n",
      "From: stephen.marquard@uct.ac.za\n",
      "From: stephen.marquard@uct.ac.za\n",
      "From: stephen.marquard@uct.ac.za\n",
      "From: stephen.marquard@uct.ac.za\n",
      "From: stephen.marquard@uct.ac.za\n",
      "From: stephen.marquard@uct.ac.za\n",
      "From: stephen.marquard@uct.ac.za\n",
      "From: stephen.marquard@uct.ac.za\n",
      "From: stephen.marquard@uct.ac.za\n",
      "From: stephen.marquard@uct.ac.za\n",
      "From: stephen.marquard@uct.ac.za\n",
      "From: ian@caret.cam.ac.uk\n",
      "From: rjlowe@iupui.edu\n",
      "From: wagnermr@iupui.edu\n",
      "From: arwhyte@umich.edu\n",
      "From: arwhyte@umich.edu\n",
      "From: louis@media.berkeley.edu\n",
      "From: ian@caret.cam.ac.uk\n",
      "From: wagnermr@iupui.edu\n",
      "From: wagnermr@iupui.edu\n",
      "From: gsilver@umich.edu\n",
      "From: wagnermr@iupui.edu\n",
      "From: zqian@umich.edu\n",
      "From: wagnermr@iupui.edu\n",
      "From: stuart.freeman@et.gatech.edu\n",
      "From: cwen@iupui.edu\n",
      "From: mmmay@indiana.edu\n",
      "From: mmmay@indiana.edu\n",
      "From: ssmail@indiana.edu\n",
      "From: cwen@iupui.edu\n",
      "From: mmmay@indiana.edu\n",
      "From: mmmay@indiana.edu\n",
      "From: cwen@iupui.edu\n",
      "From: wagnermr@iupui.edu\n",
      "From: rjlowe@iupui.edu\n",
      "From: dlhaines@umich.edu\n",
      "From: jlrenfro@ucdavis.edu\n",
      "From: cwen@iupui.edu\n",
      "From: zqian@umich.edu\n",
      "From: arwhyte@umich.edu\n",
      "From: cwen@iupui.edu\n",
      "From: cwen@iupui.edu\n",
      "From: nuno@ufp.pt\n",
      "From: wagnermr@iupui.edu\n",
      "From: ian@caret.cam.ac.uk\n",
      "From: ian@caret.cam.ac.uk\n",
      "From: ian@caret.cam.ac.uk\n",
      "From: ian@caret.cam.ac.uk\n",
      "From: nuno@ufp.pt\n",
      "From: ian@caret.cam.ac.uk\n",
      "From: ian@caret.cam.ac.uk\n",
      "From: cwen@iupui.edu\n",
      "From: cwen@iupui.edu\n",
      "From: arwhyte@umich.edu\n",
      "From: arwhyte@umich.edu\n",
      "From: rjlowe@iupui.edu\n",
      "From: wagnermr@iupui.edu\n",
      "From: gjthomas@iupui.edu\n",
      "From: nuno@ufp.pt\n",
      "From: wagnermr@iupui.edu\n",
      "From: cwen@iupui.edu\n",
      "From: ian@caret.cam.ac.uk\n",
      "From: cwen@iupui.edu\n",
      "From: cwen@iupui.edu\n",
      "From: ian@caret.cam.ac.uk\n",
      "From: ian@caret.cam.ac.uk\n",
      "From: sgithens@caret.cam.ac.uk\n",
      "From: arwhyte@umich.edu\n",
      "From: arwhyte@umich.edu\n",
      "From: zach.thomas@txstate.edu\n",
      "From: zach.thomas@txstate.edu\n",
      "From: zach.thomas@txstate.edu\n",
      "From: zach.thomas@txstate.edu\n",
      "From: zach.thomas@txstate.edu\n",
      "From: zach.thomas@txstate.edu\n",
      "From: zach.thomas@txstate.edu\n",
      "From: zach.thomas@txstate.edu\n",
      "From: jimeng@umich.edu\n",
      "From: jimeng@umich.edu\n",
      "From: arwhyte@umich.edu\n",
      "From: josrodri@iupui.edu\n",
      "From: arwhyte@umich.edu\n",
      "From: josrodri@iupui.edu\n",
      "From: stephen.marquard@uct.ac.za\n",
      "From: stephen.marquard@uct.ac.za\n",
      "From: gjthomas@iupui.edu\n",
      "From: cwen@iupui.edu\n",
      "From: cwen@iupui.edu\n",
      "From: cwen@iupui.edu\n",
      "From: cwen@iupui.edu\n",
      "From: gjthomas@iupui.edu\n",
      "From: cwen@iupui.edu\n",
      "From: cwen@iupui.edu\n",
      "From: cwen@iupui.edu\n",
      "From: cwen@iupui.edu\n",
      "From: cwen@iupui.edu\n",
      "From: cwen@iupui.edu\n",
      "From: cwen@iupui.edu\n",
      "From: cwen@iupui.edu\n",
      "From: cwen@iupui.edu\n",
      "From: cwen@iupui.edu\n",
      "From: cwen@iupui.edu\n",
      "From: cwen@iupui.edu\n",
      "From: ian@caret.cam.ac.uk\n",
      "From: cwen@iupui.edu\n",
      "From: tnguyen@iupui.edu\n",
      "From: cwen@iupui.edu\n",
      "From: cwen@iupui.edu\n",
      "From: cwen@iupui.edu\n",
      "From: ian@caret.cam.ac.uk\n",
      "From: cwen@iupui.edu\n",
      "From: ian@caret.cam.ac.uk\n",
      "From: ian@caret.cam.ac.uk\n",
      "From: mmmay@indiana.edu\n",
      "From: louis@media.berkeley.edu\n",
      "From: louis@media.berkeley.edu\n",
      "From: louis@media.berkeley.edu\n",
      "From: cwen@iupui.edu\n",
      "From: louis@media.berkeley.edu\n",
      "From: louis@media.berkeley.edu\n",
      "From: cwen@iupui.edu\n",
      "From: cwen@iupui.edu\n",
      "From: louis@media.berkeley.edu\n",
      "From: louis@media.berkeley.edu\n",
      "From: louis@media.berkeley.edu\n",
      "From: louis@media.berkeley.edu\n",
      "From: cwen@iupui.edu\n",
      "From: bkirschn@umich.edu\n",
      "From: ian@caret.cam.ac.uk\n",
      "From: cwen@iupui.edu\n",
      "From: cwen@iupui.edu\n",
      "From: cwen@iupui.edu\n",
      "From: cwen@iupui.edu\n",
      "From: cwen@iupui.edu\n",
      "From: cwen@iupui.edu\n",
      "From: cwen@iupui.edu\n",
      "From: dlhaines@umich.edu\n",
      "From: zqian@umich.edu\n",
      "From: mmmay@indiana.edu\n",
      "From: cwen@iupui.edu\n",
      "From: mmmay@indiana.edu\n",
      "From: cwen@iupui.edu\n",
      "From: cwen@iupui.edu\n",
      "From: lance@indiana.edu\n",
      "From: cwen@iupui.edu\n",
      "From: cwen@iupui.edu\n",
      "From: cwen@iupui.edu\n",
      "From: cwen@iupui.edu\n",
      "From: cwen@iupui.edu\n",
      "From: josrodri@iupui.edu\n",
      "From: cwen@iupui.edu\n",
      "From: cwen@iupui.edu\n",
      "From: cwen@iupui.edu\n",
      "From: cwen@iupui.edu\n",
      "From: cwen@iupui.edu\n",
      "From: cwen@iupui.edu\n",
      "From: cwen@iupui.edu\n",
      "From: cwen@iupui.edu\n",
      "From: cwen@iupui.edu\n",
      "From: cwen@iupui.edu\n",
      "From: cwen@iupui.edu\n",
      "From: cwen@iupui.edu\n",
      "From: cwen@iupui.edu\n",
      "From: cwen@iupui.edu\n",
      "From: david.horwitz@uct.ac.za\n",
      "From: rjlowe@iupui.edu\n",
      "From: sgithens@caret.cam.ac.uk\n",
      "From: louis@media.berkeley.edu\n",
      "From: louis@media.berkeley.edu\n",
      "From: ktsao@stanford.edu\n",
      "From: ray@media.berkeley.edu\n",
      "From: ian@caret.cam.ac.uk\n",
      "From: ian@caret.cam.ac.uk\n",
      "From: ian@caret.cam.ac.uk\n",
      "From: ian@caret.cam.ac.uk\n",
      "From: cwen@iupui.edu\n",
      "From: arwhyte@umich.edu\n",
      "From: arwhyte@umich.edu\n",
      "From: ostermmg@whitman.edu\n",
      "From: zqian@umich.edu\n",
      "From: zqian@umich.edu\n",
      "From: mmmay@indiana.edu\n",
      "From: mmmay@indiana.edu\n",
      "From: gsilver@umich.edu\n",
      "From: gsilver@umich.edu\n",
      "From: mmmay@indiana.edu\n",
      "From: mmmay@indiana.edu\n",
      "From: zqian@umich.edu\n",
      "From: zqian@umich.edu\n",
      "From: mmmay@indiana.edu\n",
      "From: zqian@umich.edu\n",
      "From: dlhaines@umich.edu\n",
      "From: gopal.ramasammycook@gmail.com\n",
      "From: jimeng@umich.edu\n",
      "From: josrodri@iupui.edu\n",
      "From: nuno@ufp.pt\n",
      "From: nuno@ufp.pt\n",
      "From: nuno@ufp.pt\n",
      "From: nuno@ufp.pt\n",
      "From: nuno@ufp.pt\n",
      "From: nuno@ufp.pt\n",
      "From: nuno@ufp.pt\n",
      "From: nuno@ufp.pt\n",
      "From: nuno@ufp.pt\n",
      "From: nuno@ufp.pt\n",
      "From: nuno@ufp.pt\n",
      "From: nuno@ufp.pt\n",
      "From: nuno@ufp.pt\n",
      "From: nuno@ufp.pt\n",
      "From: nuno@ufp.pt\n",
      "From: nuno@ufp.pt\n",
      "From: nuno@ufp.pt\n",
      "From: nuno@ufp.pt\n",
      "From: nuno@ufp.pt\n",
      "From: nuno@ufp.pt\n",
      "From: nuno@ufp.pt\n",
      "From: wagnermr@iupui.edu\n",
      "From: cwen@iupui.edu\n",
      "From: ian@caret.cam.ac.uk\n",
      "From: ian@caret.cam.ac.uk\n",
      "From: gopal.ramasammycook@gmail.com\n",
      "From: stuart.freeman@et.gatech.edu\n",
      "From: cwen@iupui.edu\n",
      "From: ian@caret.cam.ac.uk\n",
      "From: ian@caret.cam.ac.uk\n",
      "From: mmmay@indiana.edu\n",
      "From: mmmay@indiana.edu\n",
      "From: mmmay@indiana.edu\n",
      "From: mmmay@indiana.edu\n",
      "From: mmmay@indiana.edu\n",
      "From: mmmay@indiana.edu\n",
      "From: mmmay@indiana.edu\n",
      "From: mmmay@indiana.edu\n",
      "From: mmmay@indiana.edu\n",
      "From: mmmay@indiana.edu\n",
      "From: gjthomas@iupui.edu\n",
      "From: gjthomas@iupui.edu\n",
      "From: dlhaines@umich.edu\n",
      "From: dlhaines@umich.edu\n",
      "From: chmaurer@iupui.edu\n",
      "From: zqian@umich.edu\n",
      "From: jimeng@umich.edu\n",
      "From: gjthomas@iupui.edu\n",
      "From: gjthomas@iupui.edu\n",
      "From: jimeng@umich.edu\n",
      "From: zqian@umich.edu\n",
      "From: cwen@iupui.edu\n",
      "From: arwhyte@umich.edu\n",
      "From: chmaurer@iupui.edu\n",
      "From: cwen@iupui.edu\n",
      "From: chmaurer@iupui.edu\n",
      "From: chmaurer@iupui.edu\n",
      "From: gjthomas@iupui.edu\n",
      "From: dlhaines@umich.edu\n",
      "From: dlhaines@umich.edu\n",
      "From: josrodri@iupui.edu\n",
      "From: dlhaines@umich.edu\n",
      "From: jimeng@umich.edu\n",
      "From: dlhaines@umich.edu\n",
      "From: jimeng@umich.edu\n",
      "From: ray@media.berkeley.edu\n",
      "From: chmaurer@iupui.edu\n",
      "From: cwen@iupui.edu\n",
      "From: wagnermr@iupui.edu\n",
      "From: cwen@iupui.edu\n",
      "From: ssmail@indiana.edu\n",
      "From: chmaurer@iupui.edu\n",
      "From: chmaurer@iupui.edu\n",
      "From: chmaurer@iupui.edu\n",
      "From: josrodri@iupui.edu\n",
      "From: sgithens@caret.cam.ac.uk\n",
      "From: jimeng@umich.edu\n",
      "From: jimeng@umich.edu\n",
      "From: ktsao@stanford.edu\n",
      "From: ray@media.berkeley.edu\n",
      "From: ray@media.berkeley.edu\n",
      "From: jimeng@umich.edu\n",
      "From: louis@media.berkeley.edu\n",
      "From: ktsao@stanford.edu\n",
      "From: gbhatnag@umich.edu\n",
      "From: ktsao@stanford.edu\n",
      "From: chmaurer@iupui.edu\n",
      "From: chmaurer@iupui.edu\n",
      "From: chmaurer@iupui.edu\n",
      "From: chmaurer@iupui.edu\n",
      "From: chmaurer@iupui.edu\n",
      "From: gbhatnag@umich.edu\n",
      "From: dlhaines@umich.edu\n",
      "From: chmaurer@iupui.edu\n",
      "From: cwen@iupui.edu\n",
      "From: cwen@iupui.edu\n",
      "From: josrodri@iupui.edu\n",
      "From: josrodri@iupui.edu\n",
      "From: dlhaines@umich.edu\n",
      "From: zqian@umich.edu\n",
      "From: zqian@umich.edu\n",
      "From: wagnermr@iupui.edu\n",
      "From: chmaurer@iupui.edu\n",
      "From: chmaurer@iupui.edu\n",
      "From: gjthomas@iupui.edu\n",
      "From: gjthomas@iupui.edu\n",
      "From: gjthomas@iupui.edu\n",
      "From: aaronz@vt.edu\n",
      "From: jimeng@umich.edu\n",
      "From: jimeng@umich.edu\n",
      "From: jimeng@umich.edu\n",
      "From: jimeng@umich.edu\n",
      "From: wagnermr@iupui.edu\n",
      "From: gjthomas@iupui.edu\n",
      "From: rjlowe@iupui.edu\n",
      "From: rjlowe@iupui.edu\n",
      "From: aaronz@vt.edu\n",
      "From: gjthomas@iupui.edu\n",
      "From: zqian@umich.edu\n",
      "From: josrodri@iupui.edu\n",
      "From: jimeng@umich.edu\n",
      "From: jimeng@umich.edu\n",
      "From: jimeng@umich.edu\n",
      "From: ian@caret.cam.ac.uk\n",
      "From: ian@caret.cam.ac.uk\n",
      "From: zqian@umich.edu\n",
      "From: zqian@umich.edu\n",
      "From: zqian@umich.edu\n",
      "From: zqian@umich.edu\n",
      "From: zqian@umich.edu\n",
      "From: chmaurer@iupui.edu\n",
      "From: mmmay@indiana.edu\n",
      "From: chmaurer@iupui.edu\n",
      "From: mmmay@indiana.edu\n",
      "From: zqian@umich.edu\n",
      "From: zqian@umich.edu\n",
      "From: zqian@umich.edu\n",
      "From: chmaurer@iupui.edu\n",
      "From: mmmay@indiana.edu\n",
      "From: mmmay@indiana.edu\n",
      "From: chmaurer@iupui.edu\n",
      "From: zqian@umich.edu\n",
      "From: mmmay@indiana.edu\n",
      "From: zqian@umich.edu\n",
      "From: zqian@umich.edu\n",
      "From: zqian@umich.edu\n",
      "From: zqian@umich.edu\n",
      "From: zqian@umich.edu\n",
      "From: zqian@umich.edu\n",
      "From: zqian@umich.edu\n",
      "From: zqian@umich.edu\n",
      "From: zqian@umich.edu\n",
      "From: zqian@umich.edu\n",
      "From: zqian@umich.edu\n",
      "From: zqian@umich.edu\n",
      "From: zqian@umich.edu\n",
      "From: zqian@umich.edu\n",
      "From: zqian@umich.edu\n",
      "From: zqian@umich.edu\n",
      "From: chmaurer@iupui.edu\n",
      "From: chmaurer@iupui.edu\n",
      "From: zqian@umich.edu\n",
      "From: zqian@umich.edu\n",
      "From: zqian@umich.edu\n",
      "From: ian@caret.cam.ac.uk\n",
      "From: zqian@umich.edu\n",
      "From: zqian@umich.edu\n",
      "From: josrodri@iupui.edu\n",
      "From: chmaurer@iupui.edu\n",
      "From: chmaurer@iupui.edu\n",
      "From: zqian@umich.edu\n",
      "From: zqian@umich.edu\n",
      "From: zqian@umich.edu\n",
      "From: chmaurer@iupui.edu\n",
      "From: chmaurer@iupui.edu\n",
      "From: ray@media.berkeley.edu\n",
      "From: chmaurer@iupui.edu\n",
      "From: gopal.ramasammycook@gmail.com\n",
      "From: david.horwitz@uct.ac.za\n",
      "From: david.horwitz@uct.ac.za\n",
      "From: rjlowe@iupui.edu\n",
      "From: ian@caret.cam.ac.uk\n",
      "From: gjthomas@iupui.edu\n",
      "From: gjthomas@iupui.edu\n",
      "From: gjthomas@iupui.edu\n",
      "From: zqian@umich.edu\n",
      "From: zqian@umich.edu\n",
      "From: zqian@umich.edu\n",
      "From: zqian@umich.edu\n",
      "From: zqian@umich.edu\n",
      "From: chmaurer@iupui.edu\n",
      "From: zqian@umich.edu\n",
      "From: zqian@umich.edu\n",
      "From: chmaurer@iupui.edu\n",
      "From: chmaurer@iupui.edu\n",
      "From: chmaurer@iupui.edu\n",
      "From: chmaurer@iupui.edu\n",
      "From: chmaurer@iupui.edu\n",
      "From: chmaurer@iupui.edu\n",
      "From: chmaurer@iupui.edu\n",
      "From: chmaurer@iupui.edu\n",
      "From: chmaurer@iupui.edu\n",
      "From: chmaurer@iupui.edu\n",
      "From: aaronz@vt.edu\n",
      "From: gjthomas@iupui.edu\n",
      "From: gjthomas@iupui.edu\n",
      "From: gjthomas@iupui.edu\n",
      "From: zqian@umich.edu\n",
      "From: zqian@umich.edu\n",
      "From: zqian@umich.edu\n",
      "From: chmaurer@iupui.edu\n",
      "From: zqian@umich.edu\n",
      "From: zqian@umich.edu\n",
      "From: zqian@umich.edu\n",
      "From: zqian@umich.edu\n",
      "From: chmaurer@iupui.edu\n",
      "From: gopal.ramasammycook@gmail.com\n",
      "From: david.horwitz@uct.ac.za\n",
      "From: david.horwitz@uct.ac.za\n",
      "From: chmaurer@iupui.edu\n",
      "From: ian@caret.cam.ac.uk\n",
      "From: zqian@umich.edu\n",
      "From: a.fish@lancaster.ac.uk\n",
      "From: a.fish@lancaster.ac.uk\n",
      "From: a.fish@lancaster.ac.uk\n",
      "From: a.fish@lancaster.ac.uk\n",
      "From: jimeng@umich.edu\n",
      "From: chmaurer@iupui.edu\n",
      "From: wagnermr@iupui.edu\n",
      "From: josrodri@iupui.edu\n",
      "From: aaronz@vt.edu\n",
      "From: aaronz@vt.edu\n",
      "From: josrodri@iupui.edu\n",
      "From: chmaurer@iupui.edu\n",
      "From: chmaurer@iupui.edu\n",
      "From: chmaurer@iupui.edu\n",
      "From: gopal.ramasammycook@gmail.com\n",
      "From: ostermmg@whitman.edu\n",
      "From: ostermmg@whitman.edu\n",
      "From: ian@caret.cam.ac.uk\n",
      "From: jimeng@umich.edu\n",
      "From: chmaurer@iupui.edu\n",
      "From: zqian@umich.edu\n",
      "From: zqian@umich.edu\n",
      "From: chmaurer@iupui.edu\n",
      "From: chmaurer@iupui.edu\n",
      "From: chmaurer@iupui.edu\n",
      "From: chmaurer@iupui.edu\n",
      "From: david.horwitz@uct.ac.za\n",
      "From: gopal.ramasammycook@gmail.com\n",
      "From: chmaurer@iupui.edu\n",
      "From: chmaurer@iupui.edu\n",
      "From: gopal.ramasammycook@gmail.com\n",
      "From: a.fish@lancaster.ac.uk\n",
      "From: stuart.freeman@et.gatech.edu\n",
      "From: stuart.freeman@et.gatech.edu\n",
      "From: stuart.freeman@et.gatech.edu\n",
      "From: sgithens@caret.cam.ac.uk\n",
      "From: sgithens@caret.cam.ac.uk\n",
      "From: aaronz@vt.edu\n",
      "From: aaronz@vt.edu\n",
      "From: aaronz@vt.edu\n",
      "From: aaronz@vt.edu\n",
      "From: aaronz@vt.edu\n",
      "From: aaronz@vt.edu\n",
      "From: ian@caret.cam.ac.uk\n",
      "From: sgithens@caret.cam.ac.uk\n",
      "From: sgithens@caret.cam.ac.uk\n",
      "From: zqian@umich.edu\n",
      "From: zqian@umich.edu\n",
      "From: zqian@umich.edu\n",
      "From: gjthomas@iupui.edu\n",
      "From: gjthomas@iupui.edu\n",
      "From: chmaurer@iupui.edu\n",
      "From: chmaurer@iupui.edu\n",
      "From: cwen@iupui.edu\n",
      "From: chmaurer@iupui.edu\n",
      "From: chmaurer@iupui.edu\n",
      "From: cwen@iupui.edu\n",
      "From: gjthomas@iupui.edu\n",
      "From: gjthomas@iupui.edu\n",
      "From: cwen@iupui.edu\n",
      "From: chmaurer@iupui.edu\n",
      "From: chmaurer@iupui.edu\n",
      "From: chmaurer@iupui.edu\n",
      "From: chmaurer@iupui.edu\n",
      "From: david.horwitz@uct.ac.za\n",
      "From: cwen@iupui.edu\n",
      "From: cwen@iupui.edu\n",
      "From: cwen@iupui.edu\n",
      "From: chmaurer@iupui.edu\n",
      "From: chmaurer@iupui.edu\n",
      "From: gopal.ramasammycook@gmail.com\n",
      "From: cwen@iupui.edu\n",
      "From: cwen@iupui.edu\n",
      "From: chmaurer@iupui.edu\n",
      "From: chmaurer@iupui.edu\n",
      "From: chmaurer@iupui.edu\n",
      "From: jimeng@umich.edu\n",
      "From: jimeng@umich.edu\n",
      "From: jimeng@umich.edu\n",
      "From: jimeng@umich.edu\n",
      "From: jimeng@umich.edu\n",
      "From: ian@caret.cam.ac.uk\n",
      "From: ian@caret.cam.ac.uk\n",
      "From: ian@caret.cam.ac.uk\n",
      "From: jimeng@umich.edu\n",
      "From: mmmay@indiana.edu\n",
      "From: jimeng@umich.edu\n",
      "From: mmmay@indiana.edu\n",
      "From: mmmay@indiana.edu\n",
      "From: wagnermr@iupui.edu\n",
      "From: mmmay@indiana.edu\n",
      "From: chmaurer@iupui.edu\n",
      "From: chmaurer@iupui.edu\n",
      "From: mmmay@indiana.edu\n",
      "From: mmmay@indiana.edu\n",
      "From: mmmay@indiana.edu\n",
      "From: cwen@iupui.edu\n",
      "From: chmaurer@iupui.edu\n",
      "From: zqian@umich.edu\n",
      "From: chmaurer@iupui.edu\n",
      "From: cwen@iupui.edu\n",
      "From: cwen@iupui.edu\n",
      "From: chmaurer@iupui.edu\n",
      "From: dlhaines@umich.edu\n",
      "From: dlhaines@umich.edu\n",
      "From: zqian@umich.edu\n",
      "From: dlhaines@umich.edu\n",
      "From: zqian@umich.edu\n",
      "From: zqian@umich.edu\n",
      "From: john.ellis@rsmart.com\n",
      "From: chmaurer@iupui.edu\n",
      "From: chmaurer@iupui.edu\n",
      "From: chmaurer@iupui.edu\n",
      "From: chmaurer@iupui.edu\n",
      "From: chmaurer@iupui.edu\n",
      "From: chmaurer@iupui.edu\n",
      "From: chmaurer@iupui.edu\n",
      "From: chmaurer@iupui.edu\n",
      "From: chmaurer@iupui.edu\n",
      "From: stuart.freeman@et.gatech.edu\n",
      "From: stuart.freeman@et.gatech.edu\n",
      "From: zqian@umich.edu\n",
      "From: jleasia@umich.edu\n",
      "From: chmaurer@iupui.edu\n",
      "From: chmaurer@iupui.edu\n",
      "From: chmaurer@iupui.edu\n",
      "From: gopal.ramasammycook@gmail.com\n",
      "From: dlhaines@umich.edu\n",
      "From: sgithens@caret.cam.ac.uk\n",
      "From: dlhaines@umich.edu\n",
      "From: aaronz@vt.edu\n",
      "From: dlhaines@umich.edu\n",
      "From: dlhaines@umich.edu\n",
      "From: cwen@iupui.edu\n",
      "From: dlhaines@umich.edu\n",
      "From: zqian@umich.edu\n",
      "From: dlhaines@umich.edu\n",
      "From: antranig@caret.cam.ac.uk\n",
      "From: ian@caret.cam.ac.uk\n",
      "From: zach.thomas@txstate.edu\n",
      "From: dlhaines@umich.edu\n",
      "From: aaronz@vt.edu\n",
      "From: jimeng@umich.edu\n",
      "From: jimeng@umich.edu\n",
      "From: jimeng@umich.edu\n",
      "From: jimeng@umich.edu\n",
      "From: jimeng@umich.edu\n",
      "From: jimeng@umich.edu\n",
      "From: jimeng@umich.edu\n",
      "From: jimeng@umich.edu\n",
      "From: aaronz@vt.edu\n",
      "From: ssmail@indiana.edu\n",
      "From: zqian@umich.edu\n",
      "From: aaronz@vt.edu\n",
      "From: ian@caret.cam.ac.uk\n",
      "From: ian@caret.cam.ac.uk\n",
      "From: ian@caret.cam.ac.uk\n",
      "From: ian@caret.cam.ac.uk\n",
      "From: sgithens@caret.cam.ac.uk\n",
      "From: ian@caret.cam.ac.uk\n",
      "From: ian@caret.cam.ac.uk\n",
      "From: ssmail@indiana.edu\n",
      "From: zqian@umich.edu\n",
      "From: stuart.freeman@et.gatech.edu\n",
      "From: dlhaines@umich.edu\n",
      "From: dlhaines@umich.edu\n",
      "From: stuart.freeman@et.gatech.edu\n",
      "From: chmaurer@iupui.edu\n",
      "From: chmaurer@iupui.edu\n",
      "From: cwen@iupui.edu\n",
      "From: cwen@iupui.edu\n",
      "From: cwen@iupui.edu\n",
      "From: ian@caret.cam.ac.uk\n",
      "From: dlhaines@umich.edu\n",
      "From: zqian@umich.edu\n",
      "From: zqian@umich.edu\n",
      "From: zqian@umich.edu\n",
      "From: gopal.ramasammycook@gmail.com\n",
      "From: dlhaines@umich.edu\n",
      "From: zqian@umich.edu\n",
      "From: ian@caret.cam.ac.uk\n",
      "From: aaronz@vt.edu\n",
      "From: john.ellis@rsmart.com\n",
      "From: john.ellis@rsmart.com\n",
      "From: aaronz@vt.edu\n",
      "From: cwen@iupui.edu\n",
      "From: zqian@umich.edu\n",
      "From: wagnermr@iupui.edu\n",
      "From: aaronz@vt.edu\n",
      "From: wagnermr@iupui.edu\n",
      "From: gopal.ramasammycook@gmail.com\n",
      "From: lance@indiana.edu\n",
      "From: sgithens@caret.cam.ac.uk\n",
      "From: ggolden@umich.edu\n",
      "From: ggolden@umich.edu\n",
      "From: cwen@iupui.edu\n",
      "From: ggolden@umich.edu\n",
      "From: ggolden@umich.edu\n",
      "From: ggolden@umich.edu\n",
      "From: ggolden@umich.edu\n",
      "From: david.horwitz@uct.ac.za\n",
      "From: antranig@caret.cam.ac.uk\n",
      "From: ian@caret.cam.ac.uk\n",
      "From: ian@caret.cam.ac.uk\n",
      "From: ian@caret.cam.ac.uk\n",
      "From: antranig@caret.cam.ac.uk\n",
      "From: ian@caret.cam.ac.uk\n",
      "From: ian@caret.cam.ac.uk\n",
      "From: ian@caret.cam.ac.uk\n",
      "From: david.horwitz@uct.ac.za\n",
      "From: ian@caret.cam.ac.uk\n",
      "From: aaronz@vt.edu\n",
      "From: aaronz@vt.edu\n",
      "From: rjlowe@iupui.edu\n",
      "From: rjlowe@iupui.edu\n",
      "From: rjlowe@iupui.edu\n",
      "From: ian@caret.cam.ac.uk\n",
      "From: gopal.ramasammycook@gmail.com\n",
      "From: ian@caret.cam.ac.uk\n",
      "From: david.horwitz@uct.ac.za\n",
      "From: gopal.ramasammycook@gmail.com\n",
      "From: antranig@caret.cam.ac.uk\n",
      "From: arwhyte@umich.edu\n",
      "From: arwhyte@umich.edu\n",
      "From: arwhyte@umich.edu\n",
      "From: ian@caret.cam.ac.uk\n",
      "From: ian@caret.cam.ac.uk\n",
      "From: ray@media.berkeley.edu\n",
      "From: ktsao@stanford.edu\n",
      "From: sgithens@caret.cam.ac.uk\n",
      "From: zqian@umich.edu\n",
      "From: cwen@iupui.edu\n",
      "From: antranig@caret.cam.ac.uk\n",
      "From: zqian@umich.edu\n",
      "From: jimeng@umich.edu\n",
      "From: jimeng@umich.edu\n",
      "From: antranig@caret.cam.ac.uk\n",
      "From: antranig@caret.cam.ac.uk\n",
      "From: ssmail@indiana.edu\n",
      "From: ian@caret.cam.ac.uk\n",
      "From: ian@caret.cam.ac.uk\n",
      "From: zqian@umich.edu\n",
      "From: ian@caret.cam.ac.uk\n",
      "From: aaronz@vt.edu\n",
      "From: zqian@umich.edu\n",
      "From: ian@caret.cam.ac.uk\n",
      "From: aaronz@vt.edu\n",
      "From: mmmay@indiana.edu\n",
      "From: gopal.ramasammycook@gmail.com\n",
      "From: aaronz@vt.edu\n",
      "From: mmmay@indiana.edu\n",
      "From: mmmay@indiana.edu\n",
      "From: mmmay@indiana.edu\n",
      "From: ian@caret.cam.ac.uk\n",
      "From: mmmay@indiana.edu\n",
      "From: jimeng@umich.edu\n",
      "From: mmmay@indiana.edu\n",
      "From: mmmay@indiana.edu\n",
      "From: mmmay@indiana.edu\n",
      "From: mmmay@indiana.edu\n",
      "From: mmmay@indiana.edu\n",
      "From: mmmay@indiana.edu\n",
      "From: mmmay@indiana.edu\n",
      "From: mmmay@indiana.edu\n",
      "From: mmmay@indiana.edu\n",
      "From: mmmay@indiana.edu\n",
      "From: mmmay@indiana.edu\n",
      "From: lance@indiana.edu\n",
      "From: sgithens@caret.cam.ac.uk\n",
      "From: aaronz@vt.edu\n",
      "From: rjlowe@iupui.edu\n",
      "From: rjlowe@iupui.edu\n",
      "From: rjlowe@iupui.edu\n",
      "From: rjlowe@iupui.edu\n",
      "From: rjlowe@iupui.edu\n",
      "From: rjlowe@iupui.edu\n",
      "From: rjlowe@iupui.edu\n",
      "From: rjlowe@iupui.edu\n",
      "From: rjlowe@iupui.edu\n",
      "From: rjlowe@iupui.edu\n",
      "From: rjlowe@iupui.edu\n",
      "From: rjlowe@iupui.edu\n",
      "From: rjlowe@iupui.edu\n",
      "From: rjlowe@iupui.edu\n",
      "From: rjlowe@iupui.edu\n",
      "From: rjlowe@iupui.edu\n",
      "From: rjlowe@iupui.edu\n",
      "From: rjlowe@iupui.edu\n",
      "From: jimeng@umich.edu\n",
      "From: jimeng@umich.edu\n",
      "From: jimeng@umich.edu\n",
      "From: jimeng@umich.edu\n",
      "From: jimeng@umich.edu\n",
      "From: jimeng@umich.edu\n",
      "From: jimeng@umich.edu\n",
      "From: jimeng@umich.edu\n",
      "From: jimeng@umich.edu\n",
      "From: jimeng@umich.edu\n",
      "From: john.ellis@rsmart.com\n",
      "From: mmmay@indiana.edu\n",
      "From: mmmay@indiana.edu\n",
      "From: mmmay@indiana.edu\n",
      "From: mmmay@indiana.edu\n",
      "From: ktsao@stanford.edu\n",
      "From: jimeng@umich.edu\n",
      "From: jimeng@umich.edu\n",
      "From: jimeng@umich.edu\n",
      "From: cwen@iupui.edu\n",
      "From: mmmay@indiana.edu\n",
      "From: zqian@umich.edu\n",
      "From: mmmay@indiana.edu\n",
      "From: mmmay@indiana.edu\n",
      "From: mmmay@indiana.edu\n",
      "From: mmmay@indiana.edu\n",
      "From: mmmay@indiana.edu\n",
      "From: mmmay@indiana.edu\n",
      "From: mmmay@indiana.edu\n",
      "From: mmmay@indiana.edu\n",
      "From: mmmay@indiana.edu\n",
      "From: thoppaymallika@fhda.edu\n",
      "From: chmaurer@iupui.edu\n",
      "From: mmmay@indiana.edu\n",
      "From: mmmay@indiana.edu\n",
      "From: mmmay@indiana.edu\n",
      "From: mmmay@indiana.edu\n",
      "From: mmmay@indiana.edu\n",
      "From: mmmay@indiana.edu\n",
      "From: mmmay@indiana.edu\n",
      "From: mmmay@indiana.edu\n",
      "From: chmaurer@iupui.edu\n",
      "From: sgithens@caret.cam.ac.uk\n",
      "From: chmaurer@iupui.edu\n",
      "From: gsilver@umich.edu\n",
      "From: zqian@umich.edu\n",
      "From: chmaurer@iupui.edu\n",
      "From: chmaurer@iupui.edu\n",
      "From: chmaurer@iupui.edu\n",
      "From: aaronz@vt.edu\n",
      "From: aaronz@vt.edu\n",
      "From: sgithens@caret.cam.ac.uk\n",
      "From: david.horwitz@uct.ac.za\n",
      "From: zqian@umich.edu\n",
      "From: sgithens@caret.cam.ac.uk\n",
      "From: ajpoland@iupui.edu\n",
      "From: cwen@iupui.edu\n",
      "From: gsilver@umich.edu\n",
      "From: sgithens@caret.cam.ac.uk\n",
      "From: jimeng@umich.edu\n",
      "From: zqian@umich.edu\n",
      "From: sgithens@caret.cam.ac.uk\n",
      "From: sgithens@caret.cam.ac.uk\n",
      "From: aaronz@vt.edu\n",
      "From: aaronz@vt.edu\n",
      "From: ian@caret.cam.ac.uk\n",
      "From: ian@caret.cam.ac.uk\n",
      "From: bkirschn@umich.edu\n",
      "From: antranig@caret.cam.ac.uk\n",
      "From: antranig@caret.cam.ac.uk\n",
      "From: zqian@umich.edu\n",
      "From: jimeng@umich.edu\n",
      "From: jimeng@umich.edu\n",
      "From: jimeng@umich.edu\n",
      "From: gopal.ramasammycook@gmail.com\n",
      "From: zqian@umich.edu\n",
      "From: jimeng@umich.edu\n",
      "From: jimeng@umich.edu\n",
      "From: jimeng@umich.edu\n",
      "From: jimeng@umich.edu\n",
      "From: jimeng@umich.edu\n",
      "From: jimeng@umich.edu\n",
      "From: jimeng@umich.edu\n",
      "From: jimeng@umich.edu\n",
      "From: john.ellis@rsmart.com\n",
      "From: ajpoland@iupui.edu\n",
      "From: chmaurer@iupui.edu\n",
      "From: antranig@caret.cam.ac.uk\n",
      "From: antranig@caret.cam.ac.uk\n",
      "From: rjlowe@iupui.edu\n",
      "From: rjlowe@iupui.edu\n",
      "From: rjlowe@iupui.edu\n",
      "From: rjlowe@iupui.edu\n",
      "From: rjlowe@iupui.edu\n",
      "From: rjlowe@iupui.edu\n",
      "From: rjlowe@iupui.edu\n",
      "From: rjlowe@iupui.edu\n",
      "From: rjlowe@iupui.edu\n",
      "From: rjlowe@iupui.edu\n",
      "From: rjlowe@iupui.edu\n",
      "From: rjlowe@iupui.edu\n",
      "From: zqian@umich.edu\n",
      "From: antranig@caret.cam.ac.uk\n",
      "From: zqian@umich.edu\n",
      "From: rjlowe@iupui.edu\n",
      "From: zqian@umich.edu\n",
      "From: zqian@umich.edu\n",
      "From: rjlowe@iupui.edu\n",
      "From: gopal.ramasammycook@gmail.com\n",
      "From: zqian@umich.edu\n",
      "From: kimsooil@bu.edu\n",
      "From: kimsooil@bu.edu\n",
      "From: kimsooil@bu.edu\n",
      "From: zqian@umich.edu\n",
      "From: ostermmg@whitman.edu\n",
      "From: jimeng@umich.edu\n",
      "From: jimeng@umich.edu\n",
      "From: jimeng@umich.edu\n",
      "From: jimeng@umich.edu\n",
      "From: jimeng@umich.edu\n",
      "From: jimeng@umich.edu\n",
      "From: zqian@umich.edu\n",
      "From: jimeng@umich.edu\n",
      "From: jimeng@umich.edu\n",
      "From: jimeng@umich.edu\n",
      "From: jimeng@umich.edu\n",
      "From: ray@media.berkeley.edu\n",
      "From: ostermmg@whitman.edu\n",
      "From: josrodri@iupui.edu\n",
      "From: ostermmg@whitman.edu\n",
      "From: ostermmg@whitman.edu\n",
      "From: ostermmg@whitman.edu\n",
      "From: rjlowe@iupui.edu\n",
      "From: antranig@caret.cam.ac.uk\n",
      "From: antranig@caret.cam.ac.uk\n",
      "From: josrodri@iupui.edu\n",
      "From: zqian@umich.edu\n",
      "From: rjlowe@iupui.edu\n",
      "From: ian@caret.cam.ac.uk\n",
      "From: antranig@caret.cam.ac.uk\n",
      "From: zqian@umich.edu\n",
      "From: wagnermr@iupui.edu\n",
      "From: gsilver@umich.edu\n",
      "From: gopal.ramasammycook@gmail.com\n",
      "From: ajpoland@iupui.edu\n",
      "From: wagnermr@iupui.edu\n",
      "From: wagnermr@iupui.edu\n",
      "From: aaronz@vt.edu\n",
      "From: aaronz@vt.edu\n",
      "From: ajpoland@iupui.edu\n",
      "From: wagnermr@iupui.edu\n",
      "From: wagnermr@iupui.edu\n",
      "From: david.horwitz@uct.ac.za\n",
      "From: ray@media.berkeley.edu\n",
      "From: ostermmg@whitman.edu\n",
      "From: ostermmg@whitman.edu\n",
      "From: ostermmg@whitman.edu\n",
      "From: ostermmg@whitman.edu\n",
      "From: ostermmg@whitman.edu\n",
      "From: ajpoland@iupui.edu\n",
      "From: ostermmg@whitman.edu\n",
      "From: cwen@iupui.edu\n",
      "From: jimeng@umich.edu\n",
      "From: josrodri@iupui.edu\n",
      "From: zqian@umich.edu\n",
      "From: zqian@umich.edu\n",
      "From: zqian@umich.edu\n",
      "From: aaronz@vt.edu\n",
      "From: aaronz@vt.edu\n",
      "From: wagnermr@iupui.edu\n",
      "From: hu2@iupui.edu\n",
      "From: josrodri@iupui.edu\n",
      "From: wagnermr@iupui.edu\n",
      "From: rjlowe@iupui.edu\n",
      "From: zqian@umich.edu\n",
      "From: zqian@umich.edu\n",
      "From: gopal.ramasammycook@gmail.com\n",
      "From: david.horwitz@uct.ac.za\n",
      "From: david.horwitz@uct.ac.za\n",
      "From: david.horwitz@uct.ac.za\n",
      "From: david.horwitz@uct.ac.za\n",
      "From: ian@caret.cam.ac.uk\n",
      "From: ajpoland@iupui.edu\n",
      "From: aaronz@vt.edu\n",
      "From: aaronz@vt.edu\n",
      "From: aaronz@vt.edu\n",
      "From: jimeng@umich.edu\n",
      "From: aaronz@vt.edu\n",
      "From: aaronz@vt.edu\n",
      "From: aaronz@vt.edu\n",
      "From: rjlowe@iupui.edu\n",
      "From: jimeng@umich.edu\n",
      "From: sgithens@caret.cam.ac.uk\n",
      "From: sgithens@caret.cam.ac.uk\n",
      "From: aaronz@vt.edu\n",
      "From: aaronz@vt.edu\n",
      "From: aaronz@vt.edu\n",
      "From: aaronz@vt.edu\n",
      "From: aaronz@vt.edu\n",
      "From: aaronz@vt.edu\n",
      "From: aaronz@vt.edu\n",
      "From: rjlowe@iupui.edu\n",
      "From: rjlowe@iupui.edu\n",
      "From: rjlowe@iupui.edu\n",
      "From: ray@media.berkeley.edu\n",
      "From: ajpoland@iupui.edu\n",
      "From: rjlowe@iupui.edu\n",
      "From: ajpoland@iupui.edu\n",
      "From: rjlowe@iupui.edu\n",
      "From: rjlowe@iupui.edu\n",
      "From: rjlowe@iupui.edu\n",
      "From: cwen@iupui.edu\n",
      "From: bkirschn@umich.edu\n",
      "From: gsilver@umich.edu\n",
      "From: john.ellis@rsmart.com\n",
      "From: aaronz@vt.edu\n",
      "From: bkirschn@umich.edu\n",
      "From: gopal.ramasammycook@gmail.com\n",
      "From: chmaurer@iupui.edu\n",
      "From: chmaurer@iupui.edu\n",
      "From: chmaurer@iupui.edu\n",
      "From: dlhaines@umich.edu\n",
      "From: dlhaines@umich.edu\n",
      "From: ajpoland@iupui.edu\n",
      "From: aaronz@vt.edu\n",
      "From: sgithens@caret.cam.ac.uk\n",
      "From: aaronz@vt.edu\n",
      "From: jimeng@umich.edu\n",
      "From: ostermmg@whitman.edu\n",
      "From: ostermmg@whitman.edu\n",
      "From: jimeng@umich.edu\n",
      "From: aaronz@vt.edu\n",
      "From: aaronz@vt.edu\n",
      "From: dlhaines@umich.edu\n",
      "From: dlhaines@umich.edu\n",
      "From: dlhaines@umich.edu\n",
      "From: dlhaines@umich.edu\n",
      "From: dlhaines@umich.edu\n",
      "From: sgithens@caret.cam.ac.uk\n",
      "From: dlhaines@umich.edu\n",
      "From: dlhaines@umich.edu\n",
      "From: gopal.ramasammycook@gmail.com\n",
      "From: zqian@umich.edu\n",
      "From: chmaurer@iupui.edu\n",
      "From: chmaurer@iupui.edu\n",
      "From: dlhaines@umich.edu\n",
      "From: wagnermr@iupui.edu\n",
      "From: aaronz@vt.edu\n",
      "From: chmaurer@iupui.edu\n",
      "From: chmaurer@iupui.edu\n",
      "From: wagnermr@iupui.edu\n",
      "From: ian@caret.cam.ac.uk\n",
      "From: aaronz@vt.edu\n",
      "From: aaronz@vt.edu\n",
      "From: ian@caret.cam.ac.uk\n",
      "From: aaronz@vt.edu\n",
      "From: aaronz@vt.edu\n",
      "From: aaronz@vt.edu\n",
      "From: zqian@umich.edu\n",
      "From: aaronz@vt.edu\n",
      "From: aaronz@vt.edu\n",
      "From: aaronz@vt.edu\n",
      "From: kimsooil@bu.edu\n",
      "From: kimsooil@bu.edu\n",
      "From: aaronz@vt.edu\n",
      "From: nuno@ufp.pt\n",
      "From: arwhyte@umich.edu\n",
      "From: dlhaines@umich.edu\n",
      "From: dlhaines@umich.edu\n",
      "From: ajpoland@iupui.edu\n",
      "From: mmmay@indiana.edu\n",
      "From: zqian@umich.edu\n",
      "From: mmmay@indiana.edu\n",
      "From: ajpoland@iupui.edu\n",
      "From: rjlowe@iupui.edu\n",
      "From: rjlowe@iupui.edu\n",
      "From: aaronz@vt.edu\n",
      "From: aaronz@vt.edu\n",
      "From: aaronz@vt.edu\n",
      "From: ajpoland@iupui.edu\n",
      "From: wagnermr@iupui.edu\n",
      "From: aaronz@vt.edu\n",
      "From: aaronz@vt.edu\n",
      "From: aaronz@vt.edu\n",
      "From: aaronz@vt.edu\n",
      "From: aaronz@vt.edu\n",
      "From: aaronz@vt.edu\n",
      "From: aaronz@vt.edu\n",
      "From: aaronz@vt.edu\n",
      "From: aaronz@vt.edu\n",
      "From: sgithens@caret.cam.ac.uk\n",
      "From: ian@caret.cam.ac.uk\n",
      "From: mmmay@indiana.edu\n",
      "From: mmmay@indiana.edu\n",
      "From: mmmay@indiana.edu\n",
      "From: josrodri@iupui.edu\n",
      "From: josrodri@iupui.edu\n",
      "From: mmmay@indiana.edu\n",
      "From: mmmay@indiana.edu\n",
      "From: mmmay@indiana.edu\n",
      "From: mmmay@indiana.edu\n",
      "From: dlhaines@umich.edu\n",
      "From: dlhaines@umich.edu\n",
      "From: josrodri@iupui.edu\n",
      "From: zqian@umich.edu\n",
      "From: arwhyte@umich.edu\n",
      "From: rjlowe@iupui.edu\n",
      "From: dlhaines@umich.edu\n",
      "From: arwhyte@umich.edu\n",
      "From: arwhyte@umich.edu\n",
      "From: arwhyte@umich.edu\n",
      "From: arwhyte@umich.edu\n",
      "From: dlhaines@umich.edu\n",
      "From: dlhaines@umich.edu\n",
      "From: arwhyte@umich.edu\n",
      "From: arwhyte@umich.edu\n",
      "From: arwhyte@umich.edu\n",
      "From: arwhyte@umich.edu\n",
      "From: arwhyte@umich.edu\n",
      "From: wagnermr@iupui.edu\n",
      "From: zqian@umich.edu\n",
      "From: zqian@umich.edu\n",
      "From: mmmay@indiana.edu\n",
      "From: josrodri@iupui.edu\n",
      "From: gjthomas@iupui.edu\n",
      "From: mmmay@indiana.edu\n",
      "From: mmmay@indiana.edu\n",
      "From: mmmay@indiana.edu\n",
      "From: mmmay@indiana.edu\n",
      "From: mmmay@indiana.edu\n",
      "From: mmmay@indiana.edu\n",
      "From: mmmay@indiana.edu\n",
      "From: mmmay@indiana.edu\n",
      "From: sgithens@caret.cam.ac.uk\n",
      "From: mmmay@indiana.edu\n",
      "From: mmmay@indiana.edu\n",
      "From: mmmay@indiana.edu\n",
      "From: ray@media.berkeley.edu\n",
      "From: mmmay@indiana.edu\n",
      "From: mmmay@indiana.edu\n",
      "From: david.horwitz@uct.ac.za\n",
      "From: antranig@caret.cam.ac.uk\n",
      "From: ggolden@umich.edu\n",
      "From: antranig@caret.cam.ac.uk\n",
      "From: ggolden@umich.edu\n",
      "From: mmmay@indiana.edu\n",
      "From: mmmay@indiana.edu\n",
      "From: david.horwitz@uct.ac.za\n",
      "From: mmmay@indiana.edu\n",
      "From: mmmay@indiana.edu\n",
      "From: mmmay@indiana.edu\n",
      "From: mmmay@indiana.edu\n",
      "From: mmmay@indiana.edu\n",
      "From: mmmay@indiana.edu\n",
      "From: mmmay@indiana.edu\n",
      "From: mmmay@indiana.edu\n",
      "From: mmmay@indiana.edu\n",
      "From: wagnermr@iupui.edu\n",
      "From: rjlowe@iupui.edu\n",
      "From: gopal.ramasammycook@gmail.com\n",
      "From: david.horwitz@uct.ac.za\n",
      "From: zqian@umich.edu\n",
      "From: zqian@umich.edu\n",
      "From: ian@caret.cam.ac.uk\n",
      "From: ray@media.berkeley.edu\n",
      "From: hu2@iupui.edu\n",
      "From: mmmay@indiana.edu\n",
      "From: bkirschn@umich.edu\n",
      "From: mmmay@indiana.edu\n",
      "From: mmmay@indiana.edu\n",
      "From: mmmay@indiana.edu\n",
      "From: mmmay@indiana.edu\n",
      "From: mmmay@indiana.edu\n",
      "From: zqian@umich.edu\n",
      "From: zqian@umich.edu\n",
      "From: zqian@umich.edu\n",
      "From: ray@media.berkeley.edu\n",
      "From: ray@media.berkeley.edu\n",
      "From: zqian@umich.edu\n",
      "From: zqian@umich.edu\n",
      "From: csev@umich.edu\n",
      "From: josrodri@iupui.edu\n",
      "From: csev@umich.edu\n",
      "From: zqian@umich.edu\n",
      "From: bahollad@indiana.edu\n",
      "From: aaronz@vt.edu\n",
      "From: jzaremba@unicon.net\n",
      "From: ajpoland@iupui.edu\n",
      "From: aaronz@vt.edu\n",
      "From: csev@umich.edu\n",
      "From: rjlowe@iupui.edu\n",
      "From: nuno@ufp.pt\n",
      "From: nuno@ufp.pt\n",
      "From: mmmay@indiana.edu\n",
      "From: bkirschn@umich.edu\n",
      "From: jimeng@umich.edu\n",
      "From: bkirschn@umich.edu\n",
      "From: bkirschn@umich.edu\n",
      "From: zqian@umich.edu\n",
      "From: zqian@umich.edu\n",
      "From: aaronz@vt.edu\n",
      "From: john.ellis@rsmart.com\n",
      "From: zqian@umich.edu\n",
      "From: jzaremba@unicon.net\n",
      "From: jimeng@umich.edu\n",
      "From: bkirschn@umich.edu\n",
      "From: bkirschn@umich.edu\n",
      "From: bkirschn@umich.edu\n",
      "From: bkirschn@umich.edu\n",
      "From: zqian@umich.edu\n",
      "From: ktsao@stanford.edu\n",
      "From: mmmay@indiana.edu\n",
      "From: dlhaines@umich.edu\n",
      "From: zqian@umich.edu\n",
      "From: dlhaines@umich.edu\n",
      "From: bkirschn@umich.edu\n",
      "From: zqian@umich.edu\n",
      "From: bkirschn@umich.edu\n",
      "From: ray@media.berkeley.edu\n",
      "From: ian@caret.cam.ac.uk\n",
      "From: ian@caret.cam.ac.uk\n",
      "From: zach.thomas@txstate.edu\n",
      "From: ostermmg@whitman.edu\n",
      "From: bkirschn@umich.edu\n",
      "From: mmmay@indiana.edu\n",
      "From: mmmay@indiana.edu\n",
      "From: mmmay@indiana.edu\n",
      "From: wagnermr@iupui.edu\n",
      "From: mmmay@indiana.edu\n",
      "From: mmmay@indiana.edu\n",
      "From: mmmay@indiana.edu\n",
      "From: zach.thomas@txstate.edu\n",
      "From: wagnermr@iupui.edu\n",
      "From: gsilver@umich.edu\n",
      "From: gjthomas@iupui.edu\n",
      "From: gjthomas@iupui.edu\n",
      "From: hu2@iupui.edu\n",
      "From: ajpoland@iupui.edu\n",
      "From: wagnermr@iupui.edu\n",
      "From: david.horwitz@uct.ac.za\n",
      "From: zqian@umich.edu\n",
      "From: jzaremba@unicon.net\n",
      "From: cwen@iupui.edu\n",
      "From: ktsao@stanford.edu\n",
      "From: bahollad@indiana.edu\n",
      "From: zach.thomas@txstate.edu\n",
      "From: cwen@iupui.edu\n",
      "From: ajpoland@iupui.edu\n",
      "From: wagnermr@iupui.edu\n",
      "From: wagnermr@iupui.edu\n",
      "From: aaronz@vt.edu\n",
      "From: sgithens@caret.cam.ac.uk\n",
      "From: a.fish@lancaster.ac.uk\n",
      "From: aaronz@vt.edu\n",
      "From: david.horwitz@uct.ac.za\n",
      "From: david.horwitz@uct.ac.za\n",
      "From: zqian@umich.edu\n",
      "From: jzaremba@unicon.net\n",
      "From: zach.thomas@txstate.edu\n",
      "From: jzaremba@unicon.net\n",
      "From: dlhaines@umich.edu\n",
      "From: dlhaines@umich.edu\n",
      "From: dlhaines@umich.edu\n",
      "From: dlhaines@umich.edu\n",
      "From: dlhaines@umich.edu\n",
      "From: dlhaines@umich.edu\n",
      "From: dlhaines@umich.edu\n",
      "From: zqian@umich.edu\n",
      "From: chmaurer@iupui.edu\n",
      "From: john.ellis@rsmart.com\n",
      "From: ajpoland@iupui.edu\n",
      "From: rjlowe@iupui.edu\n",
      "From: chmaurer@iupui.edu\n",
      "From: ajpoland@iupui.edu\n",
      "From: rjlowe@iupui.edu\n",
      "From: kimsooil@bu.edu\n",
      "From: dlhaines@umich.edu\n",
      "From: dlhaines@umich.edu\n",
      "From: dlhaines@umich.edu\n",
      "From: zqian@umich.edu\n",
      "From: kimsooil@bu.edu\n",
      "From: nuno@ufp.pt\n",
      "From: kimsooil@bu.edu\n",
      "From: ajpoland@iupui.edu\n",
      "From: chmaurer@iupui.edu\n",
      "From: ajpoland@iupui.edu\n",
      "From: ajpoland@iupui.edu\n",
      "From: ajpoland@iupui.edu\n",
      "From: ajpoland@iupui.edu\n",
      "From: ajpoland@iupui.edu\n",
      "From: ajpoland@iupui.edu\n",
      "From: ajpoland@iupui.edu\n",
      "From: ajpoland@iupui.edu\n",
      "From: ajpoland@iupui.edu\n",
      "From: ajpoland@iupui.edu\n",
      "From: ajpoland@iupui.edu\n",
      "From: ajpoland@iupui.edu\n",
      "From: ajpoland@iupui.edu\n",
      "From: ajpoland@iupui.edu\n",
      "From: ajpoland@iupui.edu\n",
      "From: ajpoland@iupui.edu\n",
      "From: ajpoland@iupui.edu\n",
      "From: ajpoland@iupui.edu\n",
      "From: ajpoland@iupui.edu\n",
      "From: dlhaines@umich.edu\n",
      "From: rjlowe@iupui.edu\n",
      "From: rjlowe@iupui.edu\n",
      "From: wagnermr@iupui.edu\n",
      "From: david.horwitz@uct.ac.za\n",
      "From: jleasia@umich.edu\n",
      "From: david.horwitz@uct.ac.za\n",
      "From: mmmay@indiana.edu\n",
      "From: mmmay@indiana.edu\n",
      "From: mmmay@indiana.edu\n",
      "From: mmmay@indiana.edu\n",
      "From: mmmay@indiana.edu\n",
      "From: mmmay@indiana.edu\n",
      "From: mmmay@indiana.edu\n",
      "From: mmmay@indiana.edu\n",
      "From: mmmay@indiana.edu\n",
      "From: mmmay@indiana.edu\n",
      "From: mmmay@indiana.edu\n",
      "From: mmmay@indiana.edu\n",
      "From: mmmay@indiana.edu\n",
      "From: mmmay@indiana.edu\n",
      "From: mmmay@indiana.edu\n",
      "From: mmmay@indiana.edu\n",
      "From: mmmay@indiana.edu\n",
      "From: mmmay@indiana.edu\n",
      "From: mmmay@indiana.edu\n",
      "From: mmmay@indiana.edu\n",
      "From: mmmay@indiana.edu\n",
      "From: mmmay@indiana.edu\n",
      "From: mmmay@indiana.edu\n",
      "From: mmmay@indiana.edu\n",
      "From: mmmay@indiana.edu\n",
      "From: cwen@iupui.edu\n",
      "From: mmmay@indiana.edu\n",
      "From: mmmay@indiana.edu\n",
      "From: mmmay@indiana.edu\n",
      "From: kimsooil@bu.edu\n",
      "From: mmmay@indiana.edu\n",
      "From: zqian@umich.edu\n",
      "From: mmmay@indiana.edu\n",
      "From: mmmay@indiana.edu\n",
      "From: mmmay@indiana.edu\n",
      "From: mmmay@indiana.edu\n",
      "From: mmmay@indiana.edu\n",
      "From: mmmay@indiana.edu\n",
      "From: mmmay@indiana.edu\n",
      "From: mmmay@indiana.edu\n",
      "From: mmmay@indiana.edu\n",
      "From: mmmay@indiana.edu\n",
      "From: kimsooil@bu.edu\n",
      "From: aaronz@vt.edu\n",
      "From: dlhaines@umich.edu\n",
      "From: zqian@umich.edu\n",
      "From: mmmay@indiana.edu\n",
      "From: dlhaines@umich.edu\n",
      "From: cwen@iupui.edu\n",
      "From: kimsooil@bu.edu\n",
      "From: kimsooil@bu.edu\n",
      "From: kimsooil@bu.edu\n",
      "From: hu2@iupui.edu\n",
      "From: zqian@umich.edu\n",
      "From: kimsooil@bu.edu\n",
      "From: aaronz@vt.edu\n",
      "From: aaronz@vt.edu\n",
      "From: aaronz@vt.edu\n",
      "From: rjlowe@iupui.edu\n",
      "From: ajpoland@iupui.edu\n",
      "From: rjlowe@iupui.edu\n",
      "From: rjlowe@iupui.edu\n",
      "From: hu2@iupui.edu\n",
      "From: dlhaines@umich.edu\n",
      "From: a.fish@lancaster.ac.uk\n",
      "From: a.fish@lancaster.ac.uk\n",
      "From: a.fish@lancaster.ac.uk\n",
      "From: gsilver@umich.edu\n",
      "From: mbreuker@loi.nl\n",
      "From: mbreuker@loi.nl\n",
      "From: mbreuker@loi.nl\n",
      "From: mbreuker@loi.nl\n",
      "From: mbreuker@loi.nl\n",
      "From: mbreuker@loi.nl\n",
      "From: ajpoland@iupui.edu\n",
      "From: rjlowe@iupui.edu\n",
      "From: rjlowe@iupui.edu\n",
      "From: a.fish@lancaster.ac.uk\n",
      "From: a.fish@lancaster.ac.uk\n",
      "From: a.fish@lancaster.ac.uk\n",
      "From: dlhaines@umich.edu\n",
      "From: mbreuker@loi.nl\n",
      "From: david.horwitz@uct.ac.za\n",
      "From: zach.thomas@txstate.edu\n",
      "From: jimeng@umich.edu\n",
      "From: zqian@umich.edu\n",
      "From: jzaremba@unicon.net\n",
      "From: colin.clark@utoronto.ca\n",
      "From: ray@media.berkeley.edu\n",
      "From: ray@media.berkeley.edu\n",
      "From: ray@media.berkeley.edu\n",
      "From: ray@media.berkeley.edu\n",
      "From: louis@media.berkeley.edu\n",
      "From: dlhaines@umich.edu\n",
      "From: dlhaines@umich.edu\n",
      "From: dlhaines@umich.edu\n",
      "From: dlhaines@umich.edu\n",
      "From: ajpoland@iupui.edu\n",
      "From: wagnermr@iupui.edu\n",
      "From: zqian@umich.edu\n",
      "From: ktsao@stanford.edu\n",
      "From: ray@media.berkeley.edu\n",
      "From: aaronz@vt.edu\n",
      "From: zqian@umich.edu\n",
      "From: aaronz@vt.edu\n",
      "From: bahollad@indiana.edu\n",
      "From: aaronz@vt.edu\n",
      "From: zqian@umich.edu\n",
      "From: ray@media.berkeley.edu\n",
      "From: zqian@umich.edu\n",
      "From: zqian@umich.edu\n",
      "From: zqian@umich.edu\n",
      "From: bahollad@indiana.edu\n",
      "From: ray@media.berkeley.edu\n",
      "From: zqian@umich.edu\n",
      "From: zqian@umich.edu\n",
      "From: louis@media.berkeley.edu\n",
      "From: zqian@umich.edu\n",
      "From: ray@media.berkeley.edu\n",
      "From: jzaremba@unicon.net\n",
      "From: louis@media.berkeley.edu\n",
      "From: rjlowe@iupui.edu\n",
      "From: ajpoland@iupui.edu\n",
      "From: ray@media.berkeley.edu\n",
      "From: ajpoland@iupui.edu\n",
      "From: rjlowe@iupui.edu\n",
      "From: ray@media.berkeley.edu\n",
      "From: zqian@umich.edu\n",
      "From: bkirschn@umich.edu\n",
      "From: mbreuker@loi.nl\n",
      "From: zqian@umich.edu\n",
      "From: gsilver@umich.edu\n",
      "From: louis@media.berkeley.edu\n",
      "From: bkirschn@umich.edu\n",
      "From: bkirschn@umich.edu\n",
      "From: ajpoland@iupui.edu\n",
      "From: rjlowe@iupui.edu\n",
      "From: rjlowe@iupui.edu\n",
      "From: zach.thomas@txstate.edu\n",
      "From: ian@caret.cam.ac.uk\n",
      "From: ian@caret.cam.ac.uk\n",
      "From: ray@media.berkeley.edu\n",
      "From: ktsao@stanford.edu\n",
      "From: zqian@umich.edu\n",
      "From: ian@caret.cam.ac.uk\n",
      "From: chmaurer@iupui.edu\n",
      "From: ian@caret.cam.ac.uk\n",
      "From: gjthomas@iupui.edu\n",
      "From: gjthomas@iupui.edu\n",
      "From: aaronz@vt.edu\n",
      "From: ian@caret.cam.ac.uk\n",
      "From: aaronz@vt.edu\n",
      "From: aaronz@vt.edu\n",
      "From: zqian@umich.edu\n",
      "From: aaronz@vt.edu\n",
      "From: aaronz@vt.edu\n",
      "From: mbreuker@loi.nl\n",
      "From: ian@caret.cam.ac.uk\n",
      "From: zqian@umich.edu\n",
      "From: zqian@umich.edu\n",
      "From: ian@caret.cam.ac.uk\n",
      "From: ian@caret.cam.ac.uk\n",
      "From: ian@caret.cam.ac.uk\n",
      "From: ian@caret.cam.ac.uk\n",
      "From: dlhaines@umich.edu\n",
      "From: ian@caret.cam.ac.uk\n",
      "From: ian@caret.cam.ac.uk\n",
      "From: ian@caret.cam.ac.uk\n",
      "From: zqian@umich.edu\n",
      "From: ian@caret.cam.ac.uk\n",
      "From: aaronz@vt.edu\n",
      "From: zqian@umich.edu\n",
      "From: zqian@umich.edu\n",
      "From: zqian@umich.edu\n",
      "From: chmaurer@iupui.edu\n",
      "From: chmaurer@iupui.edu\n",
      "From: zqian@umich.edu\n",
      "From: gjthomas@iupui.edu\n",
      "From: gsilver@umich.edu\n",
      "From: ian@caret.cam.ac.uk\n",
      "From: ajpoland@iupui.edu\n",
      "From: aaronz@vt.edu\n",
      "From: aaronz@vt.edu\n",
      "From: aaronz@vt.edu\n",
      "From: zach.thomas@txstate.edu\n",
      "From: ajpoland@iupui.edu\n",
      "From: zqian@umich.edu\n",
      "From: zqian@umich.edu\n",
      "From: zqian@umich.edu\n",
      "From: gjthomas@iupui.edu\n",
      "From: rjlowe@iupui.edu\n",
      "From: rjlowe@iupui.edu\n",
      "From: dlhaines@umich.edu\n",
      "From: rjlowe@iupui.edu\n",
      "From: rjlowe@iupui.edu\n",
      "From: aaronz@vt.edu\n",
      "From: aaronz@vt.edu\n",
      "From: cwen@iupui.edu\n",
      "From: ktsao@stanford.edu\n",
      "From: aaronz@vt.edu\n",
      "From: aaronz@vt.edu\n",
      "From: gsilver@umich.edu\n",
      "From: gsilver@umich.edu\n",
      "From: zqian@umich.edu\n",
      "From: jzaremba@unicon.net\n",
      "From: aaronz@vt.edu\n",
      "From: aaronz@vt.edu\n",
      "From: dlhaines@umich.edu\n",
      "From: dlhaines@umich.edu\n",
      "From: dlhaines@umich.edu\n",
      "From: ajpoland@iupui.edu\n",
      "From: rjlowe@iupui.edu\n",
      "From: rjlowe@iupui.edu\n",
      "From: rjlowe@iupui.edu\n",
      "From: dlhaines@umich.edu\n",
      "From: aaronz@vt.edu\n",
      "From: aaronz@vt.edu\n",
      "From: aaronz@vt.edu\n",
      "From: aaronz@vt.edu\n",
      "From: aaronz@vt.edu\n",
      "From: aaronz@vt.edu\n",
      "From: ian@caret.cam.ac.uk\n",
      "From: aaronz@vt.edu\n",
      "From: aaronz@vt.edu\n",
      "From: ktsao@stanford.edu\n",
      "From: ian@caret.cam.ac.uk\n",
      "From: zqian@umich.edu\n",
      "From: zqian@umich.edu\n",
      "From: zqian@umich.edu\n",
      "From: zqian@umich.edu\n",
      "From: zqian@umich.edu\n",
      "From: aaronz@vt.edu\n",
      "From: aaronz@vt.edu\n",
      "From: jzaremba@unicon.net\n",
      "From: dlhaines@umich.edu\n",
      "From: chmaurer@iupui.edu\n",
      "From: zach.thomas@txstate.edu\n",
      "From: dlhaines@umich.edu\n"
     ]
    }
   ],
   "source": [
    "file=open('A.txt')\n",
    "for line in file:\n",
    "    line=line.rstrip()\n",
    "    if not line.startswith('From:'):\n",
    "        continue\n",
    "    print(line)\n",
    "    "
   ]
  },
  {
   "cell_type": "code",
   "execution_count": 209,
   "id": "7f55ecda",
   "metadata": {},
   "outputs": [
    {
     "name": "stdout",
     "output_type": "stream",
     "text": [
      "From stephen.marquard@uct.ac.za Sat Jan  5 09:14:16 2008\n",
      "X-Authentication-Warning: nakamura.uits.iupui.edu: apache set sender to stephen.marquard@uct.ac.za using -f\n",
      "From: stephen.marquard@uct.ac.za\n",
      "Author: stephen.marquard@uct.ac.za\n",
      "From david.horwitz@uct.ac.za Fri Jan  4 07:02:32 2008\n",
      "X-Authentication-Warning: nakamura.uits.iupui.edu: apache set sender to david.horwitz@uct.ac.za using -f\n",
      "From: david.horwitz@uct.ac.za\n",
      "Author: david.horwitz@uct.ac.za\n",
      "r39753 | david.horwitz@uct.ac.za | 2008-01-04 13:05:51 +0200 (Fri, 04 Jan 2008) | 1 line\n",
      "From david.horwitz@uct.ac.za Fri Jan  4 06:08:27 2008\n",
      "X-Authentication-Warning: nakamura.uits.iupui.edu: apache set sender to david.horwitz@uct.ac.za using -f\n",
      "From: david.horwitz@uct.ac.za\n",
      "Author: david.horwitz@uct.ac.za\n",
      "From david.horwitz@uct.ac.za Fri Jan  4 04:49:08 2008\n",
      "X-Authentication-Warning: nakamura.uits.iupui.edu: apache set sender to david.horwitz@uct.ac.za using -f\n",
      "From: david.horwitz@uct.ac.za\n",
      "Author: david.horwitz@uct.ac.za\n",
      "From david.horwitz@uct.ac.za Fri Jan  4 04:33:44 2008\n",
      "X-Authentication-Warning: nakamura.uits.iupui.edu: apache set sender to david.horwitz@uct.ac.za using -f\n",
      "From: david.horwitz@uct.ac.za\n",
      "Author: david.horwitz@uct.ac.za\n",
      "From stephen.marquard@uct.ac.za Fri Jan  4 04:07:34 2008\n",
      "X-Authentication-Warning: nakamura.uits.iupui.edu: apache set sender to stephen.marquard@uct.ac.za using -f\n",
      "From: stephen.marquard@uct.ac.za\n",
      "Author: stephen.marquard@uct.ac.za\n",
      "r35793 | david.horwitz@uct.ac.za | 2007-09-26 05:26:53 -0400 (Wed, 26 Sep 2007) | 2 lines\n",
      "r38153 | david.horwitz@uct.ac.za | 2007-11-14 01:53:07 -0500 (Wed, 14 Nov 2007) | 1 line\n",
      "r39548 | david.horwitz@uct.ac.za | 2007-12-20 10:00:05 -0500 (Thu, 20 Dec 2007) | 1 line\n",
      "From david.horwitz@uct.ac.za Wed Jan  2 09:54:32 2008\n",
      "X-Authentication-Warning: nakamura.uits.iupui.edu: apache set sender to david.horwitz@uct.ac.za using -f\n",
      "From: david.horwitz@uct.ac.za\n",
      "Author: david.horwitz@uct.ac.za\n",
      "From david.horwitz@uct.ac.za Wed Jan  2 09:40:42 2008\n",
      "X-Authentication-Warning: nakamura.uits.iupui.edu: apache set sender to david.horwitz@uct.ac.za using -f\n",
      "From: david.horwitz@uct.ac.za\n",
      "Author: david.horwitz@uct.ac.za\n",
      "From david.horwitz@uct.ac.za Wed Jan  2 09:38:43 2008\n",
      "X-Authentication-Warning: nakamura.uits.iupui.edu: apache set sender to david.horwitz@uct.ac.za using -f\n",
      "From: david.horwitz@uct.ac.za\n",
      "Author: david.horwitz@uct.ac.za\n",
      "From david.horwitz@uct.ac.za Wed Jan  2 09:16:03 2008\n",
      "X-Authentication-Warning: nakamura.uits.iupui.edu: apache set sender to david.horwitz@uct.ac.za using -f\n",
      "From: david.horwitz@uct.ac.za\n",
      "Author: david.horwitz@uct.ac.za\n",
      "From david.horwitz@uct.ac.za Wed Jan  2 09:07:48 2008\n",
      "X-Authentication-Warning: nakamura.uits.iupui.edu: apache set sender to david.horwitz@uct.ac.za using -f\n",
      "From: david.horwitz@uct.ac.za\n",
      "Author: david.horwitz@uct.ac.za\n",
      "From david.horwitz@uct.ac.za Wed Jan  2 08:55:03 2008\n",
      "X-Authentication-Warning: nakamura.uits.iupui.edu: apache set sender to david.horwitz@uct.ac.za using -f\n",
      "From: david.horwitz@uct.ac.za\n",
      "Author: david.horwitz@uct.ac.za\n",
      "From david.horwitz@uct.ac.za Wed Jan  2 08:37:45 2008\n",
      "X-Authentication-Warning: nakamura.uits.iupui.edu: apache set sender to david.horwitz@uct.ac.za using -f\n",
      "From: david.horwitz@uct.ac.za\n",
      "Author: david.horwitz@uct.ac.za\n",
      "From david.horwitz@uct.ac.za Wed Jan  2 08:23:44 2008\n",
      "X-Authentication-Warning: nakamura.uits.iupui.edu: apache set sender to david.horwitz@uct.ac.za using -f\n",
      "From: david.horwitz@uct.ac.za\n",
      "Author: david.horwitz@uct.ac.za\n",
      "From david.horwitz@uct.ac.za Wed Jan  2 08:17:41 2008\n",
      "X-Authentication-Warning: nakamura.uits.iupui.edu: apache set sender to david.horwitz@uct.ac.za using -f\n",
      "From: david.horwitz@uct.ac.za\n",
      "Author: david.horwitz@uct.ac.za\n",
      "From david.horwitz@uct.ac.za Wed Jan  2 05:16:10 2008\n",
      "X-Authentication-Warning: nakamura.uits.iupui.edu: apache set sender to david.horwitz@uct.ac.za using -f\n",
      "From: david.horwitz@uct.ac.za\n",
      "Author: david.horwitz@uct.ac.za\n",
      "From david.horwitz@uct.ac.za Wed Jan  2 04:40:56 2008\n",
      "X-Authentication-Warning: nakamura.uits.iupui.edu: apache set sender to david.horwitz@uct.ac.za using -f\n",
      "From: david.horwitz@uct.ac.za\n",
      "Author: david.horwitz@uct.ac.za\n",
      "From david.horwitz@uct.ac.za Wed Jan  2 04:24:50 2008\n",
      "X-Authentication-Warning: nakamura.uits.iupui.edu: apache set sender to david.horwitz@uct.ac.za using -f\n",
      "From: david.horwitz@uct.ac.za\n",
      "Author: david.horwitz@uct.ac.za\n",
      "From david.horwitz@uct.ac.za Wed Jan  2 03:56:59 2008\n",
      "X-Authentication-Warning: nakamura.uits.iupui.edu: apache set sender to david.horwitz@uct.ac.za using -f\n",
      "From: david.horwitz@uct.ac.za\n",
      "Author: david.horwitz@uct.ac.za\n",
      "From david.horwitz@uct.ac.za Wed Jan  2 03:22:37 2008\n",
      "X-Authentication-Warning: nakamura.uits.iupui.edu: apache set sender to david.horwitz@uct.ac.za using -f\n",
      "From: david.horwitz@uct.ac.za\n",
      "Author: david.horwitz@uct.ac.za\n",
      "From david.horwitz@uct.ac.za Wed Jan  2 03:04:19 2008\n",
      "X-Authentication-Warning: nakamura.uits.iupui.edu: apache set sender to david.horwitz@uct.ac.za using -f\n",
      "From: david.horwitz@uct.ac.za\n",
      "Author: david.horwitz@uct.ac.za\n",
      "From david.horwitz@uct.ac.za Wed Jan  2 03:02:55 2008\n",
      "X-Authentication-Warning: nakamura.uits.iupui.edu: apache set sender to david.horwitz@uct.ac.za using -f\n",
      "From: david.horwitz@uct.ac.za\n",
      "Author: david.horwitz@uct.ac.za\n",
      "From david.horwitz@uct.ac.za Wed Jan  2 02:53:22 2008\n",
      "X-Authentication-Warning: nakamura.uits.iupui.edu: apache set sender to david.horwitz@uct.ac.za using -f\n",
      "From: david.horwitz@uct.ac.za\n",
      "Author: david.horwitz@uct.ac.za\n",
      "From stephen.marquard@uct.ac.za Mon Dec 24 03:06:42 2007\n",
      "X-Authentication-Warning: nakamura.uits.iupui.edu: apache set sender to stephen.marquard@uct.ac.za using -f\n",
      "From: stephen.marquard@uct.ac.za\n",
      "Author: stephen.marquard@uct.ac.za\n",
      "From stephen.marquard@uct.ac.za Mon Dec 24 02:06:31 2007\n",
      "X-Authentication-Warning: nakamura.uits.iupui.edu: apache set sender to stephen.marquard@uct.ac.za using -f\n",
      "From: stephen.marquard@uct.ac.za\n",
      "Author: stephen.marquard@uct.ac.za\n",
      "From david.horwitz@uct.ac.za Fri Dec 21 09:54:17 2007\n",
      "X-Authentication-Warning: nakamura.uits.iupui.edu: apache set sender to david.horwitz@uct.ac.za using -f\n",
      "From: david.horwitz@uct.ac.za\n",
      "Author: david.horwitz@uct.ac.za\n",
      "From david.horwitz@uct.ac.za Fri Dec 21 09:50:38 2007\n",
      "X-Authentication-Warning: nakamura.uits.iupui.edu: apache set sender to david.horwitz@uct.ac.za using -f\n",
      "From: david.horwitz@uct.ac.za\n",
      "Author: david.horwitz@uct.ac.za\n",
      "From david.horwitz@uct.ac.za Fri Dec 21 09:44:11 2007\n",
      "X-Authentication-Warning: nakamura.uits.iupui.edu: apache set sender to david.horwitz@uct.ac.za using -f\n",
      "From: david.horwitz@uct.ac.za\n",
      "Author: david.horwitz@uct.ac.za\n",
      "r39593 | david.horwitz@uct.ac.za | 2007-12-21 16:08:28 +0200 (Fri, 21 Dec 2007) | 3 lines\n",
      "From david.horwitz@uct.ac.za Fri Dec 21 09:33:55 2007\n",
      "X-Authentication-Warning: nakamura.uits.iupui.edu: apache set sender to david.horwitz@uct.ac.za using -f\n",
      "From: david.horwitz@uct.ac.za\n",
      "Author: david.horwitz@uct.ac.za\n",
      "From david.horwitz@uct.ac.za Fri Dec 21 09:09:23 2007\n",
      "X-Authentication-Warning: nakamura.uits.iupui.edu: apache set sender to david.horwitz@uct.ac.za using -f\n",
      "From: david.horwitz@uct.ac.za\n",
      "Author: david.horwitz@uct.ac.za\n",
      "From stephen.marquard@uct.ac.za Fri Dec 21 09:08:22 2007\n",
      "X-Authentication-Warning: nakamura.uits.iupui.edu: apache set sender to stephen.marquard@uct.ac.za using -f\n",
      "From: stephen.marquard@uct.ac.za\n",
      "Author: stephen.marquard@uct.ac.za\n",
      "From david.horwitz@uct.ac.za Fri Dec 21 09:03:52 2007\n",
      "X-Authentication-Warning: nakamura.uits.iupui.edu: apache set sender to david.horwitz@uct.ac.za using -f\n",
      "From: david.horwitz@uct.ac.za\n",
      "Author: david.horwitz@uct.ac.za\n",
      "From david.horwitz@uct.ac.za Fri Dec 21 06:30:05 2007\n",
      "X-Authentication-Warning: nakamura.uits.iupui.edu: apache set sender to david.horwitz@uct.ac.za using -f\n",
      "From: david.horwitz@uct.ac.za\n",
      "Author: david.horwitz@uct.ac.za\n",
      "From david.horwitz@uct.ac.za Fri Dec 21 06:17:07 2007\n",
      "X-Authentication-Warning: nakamura.uits.iupui.edu: apache set sender to david.horwitz@uct.ac.za using -f\n",
      "From: david.horwitz@uct.ac.za\n",
      "Author: david.horwitz@uct.ac.za\n",
      "r39578 | david.horwitz@uct.ac.za | 2007-12-21 10:30:23 +0200 (Fri, 21 Dec 2007) | 1 line\n",
      "From david.horwitz@uct.ac.za Fri Dec 21 06:12:21 2007\n",
      "X-Authentication-Warning: nakamura.uits.iupui.edu: apache set sender to david.horwitz@uct.ac.za using -f\n",
      "From: david.horwitz@uct.ac.za\n",
      "Author: david.horwitz@uct.ac.za\n",
      "r39577 | david.horwitz@uct.ac.za | 2007-12-21 10:19:00 +0200 (Fri, 21 Dec 2007) | 1 line\n",
      "From david.horwitz@uct.ac.za Fri Dec 21 06:05:26 2007\n",
      "X-Authentication-Warning: nakamura.uits.iupui.edu: apache set sender to david.horwitz@uct.ac.za using -f\n",
      "From: david.horwitz@uct.ac.za\n",
      "Author: david.horwitz@uct.ac.za\n",
      "From david.horwitz@uct.ac.za Fri Dec 21 06:01:02 2007\n",
      "X-Authentication-Warning: nakamura.uits.iupui.edu: apache set sender to david.horwitz@uct.ac.za using -f\n",
      "From: david.horwitz@uct.ac.za\n",
      "Author: david.horwitz@uct.ac.za\n",
      "From david.horwitz@uct.ac.za Fri Dec 21 04:29:36 2007\n",
      "X-Authentication-Warning: nakamura.uits.iupui.edu: apache set sender to david.horwitz@uct.ac.za using -f\n",
      "From: david.horwitz@uct.ac.za\n",
      "Author: david.horwitz@uct.ac.za\n",
      "From david.horwitz@uct.ac.za Fri Dec 21 04:24:25 2007\n",
      "X-Authentication-Warning: nakamura.uits.iupui.edu: apache set sender to david.horwitz@uct.ac.za using -f\n",
      "From: david.horwitz@uct.ac.za\n",
      "Author: david.horwitz@uct.ac.za\n",
      "From david.horwitz@uct.ac.za Fri Dec 21 03:31:56 2007\n",
      "X-Authentication-Warning: nakamura.uits.iupui.edu: apache set sender to david.horwitz@uct.ac.za using -f\n",
      "From: david.horwitz@uct.ac.za\n",
      "Author: david.horwitz@uct.ac.za\n",
      "From david.horwitz@uct.ac.za Fri Dec 21 03:20:08 2007\n",
      "X-Authentication-Warning: nakamura.uits.iupui.edu: apache set sender to david.horwitz@uct.ac.za using -f\n",
      "From: david.horwitz@uct.ac.za\n",
      "Author: david.horwitz@uct.ac.za\n",
      "From david.horwitz@uct.ac.za Thu Dec 20 10:01:26 2007\n",
      "X-Authentication-Warning: nakamura.uits.iupui.edu: apache set sender to david.horwitz@uct.ac.za using -f\n",
      "From: david.horwitz@uct.ac.za\n",
      "Author: david.horwitz@uct.ac.za\n",
      "From david.horwitz@uct.ac.za Thu Dec 20 07:59:57 2007\n",
      "X-Authentication-Warning: nakamura.uits.iupui.edu: apache set sender to david.horwitz@uct.ac.za using -f\n",
      "From: david.horwitz@uct.ac.za\n",
      "Author: david.horwitz@uct.ac.za\n",
      "From stephen.marquard@uct.ac.za Thu Dec 20 06:43:49 2007\n",
      "X-Authentication-Warning: nakamura.uits.iupui.edu: apache set sender to stephen.marquard@uct.ac.za using -f\n",
      "From: stephen.marquard@uct.ac.za\n",
      "Author: stephen.marquard@uct.ac.za\n",
      "From david.horwitz@uct.ac.za Thu Dec 20 05:49:17 2007\n",
      "X-Authentication-Warning: nakamura.uits.iupui.edu: apache set sender to david.horwitz@uct.ac.za using -f\n",
      "From: david.horwitz@uct.ac.za\n",
      "Author: david.horwitz@uct.ac.za\n",
      "From david.horwitz@uct.ac.za Thu Dec 20 05:39:52 2007\n",
      "X-Authentication-Warning: nakamura.uits.iupui.edu: apache set sender to david.horwitz@uct.ac.za using -f\n",
      "From: david.horwitz@uct.ac.za\n",
      "Author: david.horwitz@uct.ac.za\n",
      "From stephen.marquard@uct.ac.za Thu Dec 20 04:22:43 2007\n",
      "X-Authentication-Warning: nakamura.uits.iupui.edu: apache set sender to stephen.marquard@uct.ac.za using -f\n",
      "From: stephen.marquard@uct.ac.za\n",
      "Author: stephen.marquard@uct.ac.za\n",
      "From stephen.marquard@uct.ac.za Thu Dec 20 04:19:28 2007\n",
      "X-Authentication-Warning: nakamura.uits.iupui.edu: apache set sender to stephen.marquard@uct.ac.za using -f\n",
      "From: stephen.marquard@uct.ac.za\n",
      "Author: stephen.marquard@uct.ac.za\n",
      "From david.horwitz@uct.ac.za Thu Dec 20 04:13:41 2007\n",
      "X-Authentication-Warning: nakamura.uits.iupui.edu: apache set sender to david.horwitz@uct.ac.za using -f\n",
      "From: david.horwitz@uct.ac.za\n",
      "Author: david.horwitz@uct.ac.za\n",
      "From david.horwitz@uct.ac.za Thu Dec 20 03:59:12 2007\n",
      "X-Authentication-Warning: nakamura.uits.iupui.edu: apache set sender to david.horwitz@uct.ac.za using -f\n",
      "From: david.horwitz@uct.ac.za\n",
      "Author: david.horwitz@uct.ac.za\n",
      "From stephen.marquard@uct.ac.za Wed Dec 19 13:31:20 2007\n",
      "X-Authentication-Warning: nakamura.uits.iupui.edu: apache set sender to stephen.marquard@uct.ac.za using -f\n",
      "From: stephen.marquard@uct.ac.za\n",
      "Author: stephen.marquard@uct.ac.za\n",
      "From stephen.marquard@uct.ac.za Wed Dec 19 03:40:33 2007\n",
      "X-Authentication-Warning: nakamura.uits.iupui.edu: apache set sender to stephen.marquard@uct.ac.za using -f\n",
      "From: stephen.marquard@uct.ac.za\n",
      "Author: stephen.marquard@uct.ac.za\n",
      "From stephen.marquard@uct.ac.za Wed Dec 19 03:20:57 2007\n",
      "X-Authentication-Warning: nakamura.uits.iupui.edu: apache set sender to stephen.marquard@uct.ac.za using -f\n",
      "From: stephen.marquard@uct.ac.za\n",
      "Author: stephen.marquard@uct.ac.za\n",
      "From stephen.marquard@uct.ac.za Wed Dec 19 03:08:44 2007\n",
      "X-Authentication-Warning: nakamura.uits.iupui.edu: apache set sender to stephen.marquard@uct.ac.za using -f\n",
      "From: stephen.marquard@uct.ac.za\n",
      "Author: stephen.marquard@uct.ac.za\n",
      "From stephen.marquard@uct.ac.za Wed Dec 19 02:55:09 2007\n",
      "X-Authentication-Warning: nakamura.uits.iupui.edu: apache set sender to stephen.marquard@uct.ac.za using -f\n",
      "From: stephen.marquard@uct.ac.za\n",
      "Author: stephen.marquard@uct.ac.za\n",
      "From stephen.marquard@uct.ac.za Wed Dec 19 02:40:51 2007\n",
      "X-Authentication-Warning: nakamura.uits.iupui.edu: apache set sender to stephen.marquard@uct.ac.za using -f\n",
      "From: stephen.marquard@uct.ac.za\n",
      "Author: stephen.marquard@uct.ac.za\n",
      "From stephen.marquard@uct.ac.za Tue Dec 18 09:08:11 2007\n",
      "X-Authentication-Warning: nakamura.uits.iupui.edu: apache set sender to stephen.marquard@uct.ac.za using -f\n",
      "From: stephen.marquard@uct.ac.za\n",
      "Author: stephen.marquard@uct.ac.za\n",
      "From stephen.marquard@uct.ac.za Tue Dec 18 07:49:52 2007\n",
      "X-Authentication-Warning: nakamura.uits.iupui.edu: apache set sender to stephen.marquard@uct.ac.za using -f\n",
      "From: stephen.marquard@uct.ac.za\n",
      "Author: stephen.marquard@uct.ac.za\n",
      "From stephen.marquard@uct.ac.za Tue Dec 18 07:49:28 2007\n",
      "X-Authentication-Warning: nakamura.uits.iupui.edu: apache set sender to stephen.marquard@uct.ac.za using -f\n",
      "From: stephen.marquard@uct.ac.za\n",
      "Author: stephen.marquard@uct.ac.za\n",
      "From stephen.marquard@uct.ac.za Tue Dec 18 07:49:19 2007\n",
      "X-Authentication-Warning: nakamura.uits.iupui.edu: apache set sender to stephen.marquard@uct.ac.za using -f\n",
      "From: stephen.marquard@uct.ac.za\n",
      "Author: stephen.marquard@uct.ac.za\n",
      "From stephen.marquard@uct.ac.za Tue Dec 18 07:49:06 2007\n",
      "X-Authentication-Warning: nakamura.uits.iupui.edu: apache set sender to stephen.marquard@uct.ac.za using -f\n",
      "From: stephen.marquard@uct.ac.za\n",
      "Author: stephen.marquard@uct.ac.za\n",
      "From stephen.marquard@uct.ac.za Tue Dec 18 07:47:38 2007\n",
      "X-Authentication-Warning: nakamura.uits.iupui.edu: apache set sender to stephen.marquard@uct.ac.za using -f\n",
      "From: stephen.marquard@uct.ac.za\n",
      "Author: stephen.marquard@uct.ac.za\n",
      "From stephen.marquard@uct.ac.za Tue Dec 18 06:56:24 2007\n",
      "X-Authentication-Warning: nakamura.uits.iupui.edu: apache set sender to stephen.marquard@uct.ac.za using -f\n",
      "From: stephen.marquard@uct.ac.za\n",
      "Author: stephen.marquard@uct.ac.za\n",
      "From stephen.marquard@uct.ac.za Tue Dec 18 06:55:54 2007\n",
      "X-Authentication-Warning: nakamura.uits.iupui.edu: apache set sender to stephen.marquard@uct.ac.za using -f\n",
      "From: stephen.marquard@uct.ac.za\n",
      "Author: stephen.marquard@uct.ac.za\n",
      "From stephen.marquard@uct.ac.za Tue Dec 18 06:51:56 2007\n",
      "X-Authentication-Warning: nakamura.uits.iupui.edu: apache set sender to stephen.marquard@uct.ac.za using -f\n",
      "From: stephen.marquard@uct.ac.za\n",
      "Author: stephen.marquard@uct.ac.za\n",
      "From stephen.marquard@uct.ac.za Tue Dec 18 06:50:02 2007\n",
      "X-Authentication-Warning: nakamura.uits.iupui.edu: apache set sender to stephen.marquard@uct.ac.za using -f\n",
      "From: stephen.marquard@uct.ac.za\n",
      "Author: stephen.marquard@uct.ac.za\n",
      "From stephen.marquard@uct.ac.za Tue Dec 18 06:33:34 2007\n",
      "X-Authentication-Warning: nakamura.uits.iupui.edu: apache set sender to stephen.marquard@uct.ac.za using -f\n",
      "From: stephen.marquard@uct.ac.za\n",
      "Author: stephen.marquard@uct.ac.za\n",
      "From stephen.marquard@uct.ac.za Tue Dec 18 06:32:11 2007\n",
      "X-Authentication-Warning: nakamura.uits.iupui.edu: apache set sender to stephen.marquard@uct.ac.za using -f\n",
      "From: stephen.marquard@uct.ac.za\n",
      "Author: stephen.marquard@uct.ac.za\n",
      "From stephen.marquard@uct.ac.za Tue Dec 18 06:31:24 2007\n",
      "X-Authentication-Warning: nakamura.uits.iupui.edu: apache set sender to stephen.marquard@uct.ac.za using -f\n",
      "From: stephen.marquard@uct.ac.za\n",
      "Author: stephen.marquard@uct.ac.za\n",
      "From stephen.marquard@uct.ac.za Sun Dec 16 03:59:13 2007\n",
      "X-Authentication-Warning: nakamura.uits.iupui.edu: apache set sender to stephen.marquard@uct.ac.za using -f\n",
      "From: stephen.marquard@uct.ac.za\n",
      "Author: stephen.marquard@uct.ac.za\n",
      "From stephen.marquard@uct.ac.za Sun Dec 16 03:57:28 2007\n",
      "X-Authentication-Warning: nakamura.uits.iupui.edu: apache set sender to stephen.marquard@uct.ac.za using -f\n",
      "From: stephen.marquard@uct.ac.za\n",
      "Author: stephen.marquard@uct.ac.za\n",
      "From david.horwitz@uct.ac.za Fri Dec 14 03:31:09 2007\n",
      "X-Authentication-Warning: nakamura.uits.iupui.edu: apache set sender to david.horwitz@uct.ac.za using -f\n",
      "From: david.horwitz@uct.ac.za\n",
      "Author: david.horwitz@uct.ac.za\n",
      "#38981  \tThu Dec 06 03:19:40 MST 2007  \tdavid.horwitz@uct.ac.za  \t SAK-12324 Modifications to site-manage\n",
      "#39019  \tFri Dec 07 00:55:01 MST 2007  \tdavid.horwitz@uct.ac.za  \t SAK-12324 Modify site\n",
      "#39020  \tFri Dec 07 02:53:25 MST 2007  \tdavid.horwitz@uct.ac.za  \t SAK-12324 add the course site logic to allowAddCourseSite(id)\n",
      "r38948 | david.horwitz@uct.ac.za | 2007-12-03 10:18:02 -0500 (Mon, 03 Dec 2007) | 1 line\n",
      "#34436\tMon Aug 27 03:41:14 MST 2007\tdavid.horwitz@uct.ac.za\tSAK-11282 check content suitablity before submitting\n",
      "From david.horwitz@uct.ac.za Fri Dec  7 05:01:19 2007\n",
      "X-Authentication-Warning: nakamura.uits.iupui.edu: apache set sender to david.horwitz@uct.ac.za using -f\n",
      "From: david.horwitz@uct.ac.za\n",
      "Author: david.horwitz@uct.ac.za\n",
      "From david.horwitz@uct.ac.za Fri Dec  7 03:28:37 2007\n",
      "X-Authentication-Warning: nakamura.uits.iupui.edu: apache set sender to david.horwitz@uct.ac.za using -f\n",
      "From: david.horwitz@uct.ac.za\n",
      "Author: david.horwitz@uct.ac.za\n",
      "From david.horwitz@uct.ac.za Thu Dec  6 05:27:28 2007\n",
      "X-Authentication-Warning: nakamura.uits.iupui.edu: apache set sender to david.horwitz@uct.ac.za using -f\n",
      "From: david.horwitz@uct.ac.za\n",
      "Author: david.horwitz@uct.ac.za\n",
      "From david.horwitz@uct.ac.za Thu Dec  6 03:57:03 2007\n",
      "X-Authentication-Warning: nakamura.uits.iupui.edu: apache set sender to david.horwitz@uct.ac.za using -f\n",
      "From: david.horwitz@uct.ac.za\n",
      "Author: david.horwitz@uct.ac.za\n",
      "From david.horwitz@uct.ac.za Mon Dec  3 10:25:25 2007\n",
      "X-Authentication-Warning: nakamura.uits.iupui.edu: apache set sender to david.horwitz@uct.ac.za using -f\n",
      "From: david.horwitz@uct.ac.za\n",
      "Author: david.horwitz@uct.ac.za\n",
      "From david.horwitz@uct.ac.za Fri Nov 30 10:21:12 2007\n",
      "X-Authentication-Warning: nakamura.uits.iupui.edu: apache set sender to david.horwitz@uct.ac.za using -f\n",
      "From: david.horwitz@uct.ac.za\n",
      "Author: david.horwitz@uct.ac.za\n",
      "r38522 | david.horwitz@uct.ac.za | 2007-11-21 05:14:25 -0500 (Wed, 21 Nov 2007) | 1 line\n",
      "r38523 | david.horwitz@uct.ac.za | 2007-11-21 05:41:48 -0500 (Wed, 21 Nov 2007) | 1 line\n",
      "From david.horwitz@uct.ac.za Fri Nov 23 04:27:02 2007\n",
      "X-Authentication-Warning: nakamura.uits.iupui.edu: apache set sender to david.horwitz@uct.ac.za using -f\n",
      "From: david.horwitz@uct.ac.za\n",
      "Author: david.horwitz@uct.ac.za\n",
      "From david.horwitz@uct.ac.za Wed Nov 21 11:26:30 2007\n",
      "X-Authentication-Warning: nakamura.uits.iupui.edu: apache set sender to david.horwitz@uct.ac.za using -f\n",
      "From: david.horwitz@uct.ac.za\n",
      "Author: david.horwitz@uct.ac.za\n",
      "From david.horwitz@uct.ac.za Wed Nov 21 05:48:24 2007\n",
      "X-Authentication-Warning: nakamura.uits.iupui.edu: apache set sender to david.horwitz@uct.ac.za using -f\n",
      "From: david.horwitz@uct.ac.za\n",
      "Author: david.horwitz@uct.ac.za\n",
      "r38114 | david.horwitz@uct.ac.za | 2007-11-12 04:17:19 -0500 (Mon, 12 Nov 2007) | 1 line\n",
      "r38115 | david.horwitz@uct.ac.za | 2007-11-12 04:36:57 -0500 (Mon, 12 Nov 2007) | 1 line\n",
      "r38116 | david.horwitz@uct.ac.za | 2007-11-12 04:39:21 -0500 (Mon, 12 Nov 2007) | 1 line\n",
      "r38114 | david.horwitz@uct.ac.za | 2007-11-12 04:17:19 -0500 (Mon, 12 Nov 2007) | 1 line\n",
      "r38117 | david.horwitz@uct.ac.za | 2007-11-12 04:53:08 -0500 (Mon, 12 Nov 2007) | 1 line\n",
      "r38259 | david.horwitz@uct.ac.za | 2007-11-18 02:35:09 -0500 (Sun, 18 Nov 2007) | 1 line\n",
      "r38153 | david.horwitz@uct.ac.za | 2007-11-14 01:53:07 -0500 (Wed, 14 Nov 2007) | 1 line\n",
      "From david.horwitz@uct.ac.za Sun Nov 18 02:41:27 2007\n",
      "X-Authentication-Warning: nakamura.uits.iupui.edu: apache set sender to david.horwitz@uct.ac.za using -f\n",
      "From: david.horwitz@uct.ac.za\n",
      "Author: david.horwitz@uct.ac.za\n",
      "From david.horwitz@uct.ac.za Wed Nov 14 01:58:47 2007\n",
      "X-Authentication-Warning: nakamura.uits.iupui.edu: apache set sender to david.horwitz@uct.ac.za using -f\n",
      "From: david.horwitz@uct.ac.za\n",
      "Author: david.horwitz@uct.ac.za\n",
      "From david.horwitz@uct.ac.za Mon Nov 12 04:58:44 2007\n",
      "X-Authentication-Warning: nakamura.uits.iupui.edu: apache set sender to david.horwitz@uct.ac.za using -f\n",
      "From: david.horwitz@uct.ac.za\n",
      "Author: david.horwitz@uct.ac.za\n",
      "From david.horwitz@uct.ac.za Mon Nov 12 04:44:46 2007\n",
      "X-Authentication-Warning: nakamura.uits.iupui.edu: apache set sender to david.horwitz@uct.ac.za using -f\n",
      "From: david.horwitz@uct.ac.za\n",
      "Author: david.horwitz@uct.ac.za\n",
      "From david.horwitz@uct.ac.za Mon Nov 12 04:42:30 2007\n",
      "X-Authentication-Warning: nakamura.uits.iupui.edu: apache set sender to david.horwitz@uct.ac.za using -f\n",
      "From: david.horwitz@uct.ac.za\n",
      "Author: david.horwitz@uct.ac.za\n",
      "From david.horwitz@uct.ac.za Mon Nov 12 04:22:56 2007\n",
      "X-Authentication-Warning: nakamura.uits.iupui.edu: apache set sender to david.horwitz@uct.ac.za using -f\n",
      "From: david.horwitz@uct.ac.za\n",
      "Author: david.horwitz@uct.ac.za\n",
      "r37784 | david.horwitz@uct.ac.za | 2007-11-06 11:11:51 -0500 (Tue, 06 Nov 2007) | 1 line\n",
      "From david.horwitz@uct.ac.za Tue Nov  6 11:47:55 2007\n",
      "X-Authentication-Warning: nakamura.uits.iupui.edu: apache set sender to david.horwitz@uct.ac.za using -f\n",
      "From: david.horwitz@uct.ac.za\n",
      "Author: david.horwitz@uct.ac.za\n",
      "From david.horwitz@uct.ac.za Tue Nov  6 11:16:42 2007\n",
      "X-Authentication-Warning: nakamura.uits.iupui.edu: apache set sender to david.horwitz@uct.ac.za using -f\n",
      "From: david.horwitz@uct.ac.za\n",
      "Author: david.horwitz@uct.ac.za\n",
      "From david.horwitz@uct.ac.za Tue Nov  6 04:20:19 2007\n",
      "X-Authentication-Warning: nakamura.uits.iupui.edu: apache set sender to david.horwitz@uct.ac.za using -f\n",
      "From: david.horwitz@uct.ac.za\n",
      "Author: david.horwitz@uct.ac.za\n",
      "r37660 | david.horwitz@uct.ac.za | 2007-10-31 04:16:00 -0400 (Wed, 31 Oct 2007) | 1 line\n",
      "From david.horwitz@uct.ac.za Thu Nov  1 03:45:50 2007\n",
      "X-Authentication-Warning: nakamura.uits.iupui.edu: apache set sender to david.horwitz@uct.ac.za using -f\n",
      "From: david.horwitz@uct.ac.za\n",
      "Author: david.horwitz@uct.ac.za\n",
      "From david.horwitz@uct.ac.za Wed Oct 31 04:50:54 2007\n",
      "X-Authentication-Warning: nakamura.uits.iupui.edu: apache set sender to david.horwitz@uct.ac.za using -f\n",
      "From: david.horwitz@uct.ac.za\n",
      "Author: david.horwitz@uct.ac.za\n",
      "From david.horwitz@uct.ac.za Wed Oct 31 04:19:43 2007\n",
      "X-Authentication-Warning: nakamura.uits.iupui.edu: apache set sender to david.horwitz@uct.ac.za using -f\n",
      "From: david.horwitz@uct.ac.za\n",
      "Author: david.horwitz@uct.ac.za\n",
      "r37532 | david.horwitz@uct.ac.za | 2007-10-30 05:35:42 -0400 (Tue, 30 Oct 2007) | 1 line\n",
      "From david.horwitz@uct.ac.za Tue Oct 30 07:48:17 2007\n",
      "X-Authentication-Warning: nakamura.uits.iupui.edu: apache set sender to david.horwitz@uct.ac.za using -f\n",
      "From: david.horwitz@uct.ac.za\n",
      "Author: david.horwitz@uct.ac.za\n",
      "From david.horwitz@uct.ac.za Tue Oct 30 05:40:21 2007\n",
      "X-Authentication-Warning: nakamura.uits.iupui.edu: apache set sender to david.horwitz@uct.ac.za using -f\n",
      "From: david.horwitz@uct.ac.za\n",
      "Author: david.horwitz@uct.ac.za\n",
      "From david.horwitz@uct.ac.za Mon Oct 29 06:46:00 2007\n",
      "X-Authentication-Warning: nakamura.uits.iupui.edu: apache set sender to david.horwitz@uct.ac.za using -f\n",
      "From: david.horwitz@uct.ac.za\n",
      "Author: david.horwitz@uct.ac.za\n"
     ]
    }
   ],
   "source": [
    "file=open('A.txt')\n",
    "for line in file:\n",
    "    line=line.rstrip() \n",
    "    if line.find('@uct.ac.za') == -1:\n",
    "        continue \n",
    "    print(line)    \n"
   ]
  },
  {
   "cell_type": "code",
   "execution_count": 210,
   "id": "c2bbbf66",
   "metadata": {},
   "outputs": [
    {
     "name": "stdout",
     "output_type": "stream",
     "text": [
      "Enter the file name: A.txt\n",
      "There are 1797 subject lines in A.txt\n"
     ]
    }
   ],
   "source": [
    "fname=input('Enter the file name: ')\n",
    "file=open(fname)\n",
    "count=0\n",
    "for line in file:\n",
    "    if line.startswith('Subject: '):\n",
    "        count=count+1\n",
    "print('There are', count, 'subject lines in', fname)"
   ]
  },
  {
   "cell_type": "code",
   "execution_count": 214,
   "id": "3ce877b2",
   "metadata": {},
   "outputs": [
    {
     "name": "stdout",
     "output_type": "stream",
     "text": [
      "Received: from murder (mail.umich.edu [141.211.14.90])\n",
      "Received: from murder ([unix socket])\n",
      "Received: from holes.mr.itd.umich.edu (holes.mr.itd.umich.edu [141.211.14.79])\n",
      "Received: FROM paploo.uhi.ac.uk (app1.prod.collab.uhi.ac.uk [194.35.219.184])\n",
      "Received: from paploo.uhi.ac.uk (localhost [127.0.0.1])\n",
      "Received: from prod.collab.uhi.ac.uk ([194.35.219.182])\n",
      "Received: from nakamura.uits.iupui.edu (nakamura.uits.iupui.edu [134.68.220.122])\n",
      "Received: from nakamura.uits.iupui.edu (localhost [127.0.0.1])\n",
      "Received: (from apache@localhost)\n",
      "Received: from murder (mail.umich.edu [141.211.14.97])\n",
      "Received: from murder ([unix socket])\n",
      "Received: from icestorm.mr.itd.umich.edu (icestorm.mr.itd.umich.edu [141.211.93.149])\n",
      "Received: FROM paploo.uhi.ac.uk (app1.prod.collab.uhi.ac.uk [194.35.219.184])\n",
      "Received: from paploo.uhi.ac.uk (localhost [127.0.0.1])\n",
      "Received: from prod.collab.uhi.ac.uk ([194.35.219.182])\n",
      "Received: from nakamura.uits.iupui.edu (nakamura.uits.iupui.edu [134.68.220.122])\n",
      "Received: from nakamura.uits.iupui.edu (localhost [127.0.0.1])\n",
      "Received: (from apache@localhost)\n",
      "Received: from murder (mail.umich.edu [141.211.14.25])\n",
      "Received: from murder ([unix socket])\n",
      "Received: from ghostbusters.mr.itd.umich.edu (ghostbusters.mr.itd.umich.edu [141.211.93.144])\n",
      "Received: FROM paploo.uhi.ac.uk (app1.prod.collab.uhi.ac.uk [194.35.219.184])\n",
      "Received: from paploo.uhi.ac.uk (localhost [127.0.0.1])\n",
      "Received: from prod.collab.uhi.ac.uk ([194.35.219.182])\n",
      "Received: from nakamura.uits.iupui.edu (nakamura.uits.iupui.edu [134.68.220.122])\n",
      "Received: from nakamura.uits.iupui.edu (localhost [127.0.0.1])\n",
      "Received: (from apache@localhost)\n",
      "Received: from murder (mail.umich.edu [141.211.14.25])\n",
      "Received: from murder ([unix socket])\n",
      "Received: from dreamcatcher.mr.itd.umich.edu (dreamcatcher.mr.itd.umich.edu [141.211.14.43])\n",
      "Received: FROM paploo.uhi.ac.uk (app1.prod.collab.uhi.ac.uk [194.35.219.184])\n",
      "Received: from paploo.uhi.ac.uk (localhost [127.0.0.1])\n",
      "Received: from prod.collab.uhi.ac.uk ([194.35.219.182])\n",
      "Received: from nakamura.uits.iupui.edu (nakamura.uits.iupui.edu [134.68.220.122])\n",
      "Received: from nakamura.uits.iupui.edu (localhost [127.0.0.1])\n",
      "Received: (from apache@localhost)\n",
      "Received: from murder (mail.umich.edu [141.211.14.46])\n",
      "Received: from murder ([unix socket])\n",
      "Received: from firestarter.mr.itd.umich.edu (firestarter.mr.itd.umich.edu [141.211.14.83])\n",
      "Received: FROM paploo.uhi.ac.uk (app1.prod.collab.uhi.ac.uk [194.35.219.184])\n",
      "Received: from paploo.uhi.ac.uk (localhost [127.0.0.1])\n",
      "Received: from prod.collab.uhi.ac.uk ([194.35.219.182])\n",
      "Received: from nakamura.uits.iupui.edu (nakamura.uits.iupui.edu [134.68.220.122])\n",
      "Received: from nakamura.uits.iupui.edu (localhost [127.0.0.1])\n",
      "Received: (from apache@localhost)\n",
      "Received: from murder (mail.umich.edu [141.211.14.93])\n",
      "Received: from murder ([unix socket])\n",
      "Received: from eyewitness.mr.itd.umich.edu (eyewitness.mr.itd.umich.edu [141.211.93.142])\n",
      "Received: FROM paploo.uhi.ac.uk (app1.prod.collab.uhi.ac.uk [194.35.219.184])\n",
      "Received: from paploo.uhi.ac.uk (localhost [127.0.0.1])\n",
      "Received: from prod.collab.uhi.ac.uk ([194.35.219.182])\n",
      "Received: from nakamura.uits.iupui.edu (nakamura.uits.iupui.edu [134.68.220.122])\n",
      "Received: from nakamura.uits.iupui.edu (localhost [127.0.0.1])\n",
      "Received: (from apache@localhost)\n",
      "Received: from murder (mail.umich.edu [141.211.14.46])\n",
      "Received: from murder ([unix socket])\n",
      "Received: from tadpole.mr.itd.umich.edu (tadpole.mr.itd.umich.edu [141.211.14.72])\n",
      "Received: FROM paploo.uhi.ac.uk (app1.prod.collab.uhi.ac.uk [194.35.219.184])\n",
      "Received: from paploo.uhi.ac.uk (localhost [127.0.0.1])\n",
      "Received: from prod.collab.uhi.ac.uk ([194.35.219.182])\n",
      "Received: from nakamura.uits.iupui.edu (nakamura.uits.iupui.edu [134.68.220.122])\n",
      "Received: from nakamura.uits.iupui.edu (localhost [127.0.0.1])\n",
      "Received: (from apache@localhost)\n",
      "Received: from murder (mail.umich.edu [141.211.14.46])\n",
      "Received: from murder ([unix socket])\n",
      "Received: from it.mr.itd.umich.edu (it.mr.itd.umich.edu [141.211.93.151])\n",
      "Received: FROM paploo.uhi.ac.uk (app1.prod.collab.uhi.ac.uk [194.35.219.184])\n",
      "Received: from paploo.uhi.ac.uk (localhost [127.0.0.1])\n",
      "Received: from prod.collab.uhi.ac.uk ([194.35.219.182])\n",
      "Received: from nakamura.uits.iupui.edu (nakamura.uits.iupui.edu [134.68.220.122])\n",
      "Received: from nakamura.uits.iupui.edu (localhost [127.0.0.1])\n",
      "Received: (from apache@localhost)\n",
      "Received: from murder (mail.umich.edu [141.211.14.25])\n",
      "Received: from murder ([unix socket])\n",
      "Received: from holes.mr.itd.umich.edu (holes.mr.itd.umich.edu [141.211.14.79])\n",
      "Received: FROM paploo.uhi.ac.uk (app1.prod.collab.uhi.ac.uk [194.35.219.184])\n",
      "Received: from paploo.uhi.ac.uk (localhost [127.0.0.1])\n",
      "Received: from prod.collab.uhi.ac.uk ([194.35.219.182])\n",
      "Received: from nakamura.uits.iupui.edu (nakamura.uits.iupui.edu [134.68.220.122])\n",
      "Received: from nakamura.uits.iupui.edu (localhost [127.0.0.1])\n",
      "Received: (from apache@localhost)\n",
      "Received: from murder (mail.umich.edu [141.211.14.36])\n",
      "Received: from murder ([unix socket])\n",
      "Received: from creepshow.mr.itd.umich.edu (creepshow.mr.itd.umich.edu [141.211.14.84])\n",
      "Received: FROM paploo.uhi.ac.uk (app1.prod.collab.uhi.ac.uk [194.35.219.184])\n",
      "Received: from paploo.uhi.ac.uk (localhost [127.0.0.1])\n",
      "Received: from prod.collab.uhi.ac.uk ([194.35.219.182])\n",
      "Received: from nakamura.uits.iupui.edu (nakamura.uits.iupui.edu [134.68.220.122])\n",
      "Received: from nakamura.uits.iupui.edu (localhost [127.0.0.1])\n",
      "Received: (from apache@localhost)\n",
      "Received: from murder (mail.umich.edu [141.211.14.97])\n",
      "Received: from murder ([unix socket])\n",
      "Received: from carrie.mr.itd.umich.edu (carrie.mr.itd.umich.edu [141.211.93.152])\n",
      "Received: FROM paploo.uhi.ac.uk (app1.prod.collab.uhi.ac.uk [194.35.219.184])\n",
      "Received: from paploo.uhi.ac.uk (localhost [127.0.0.1])\n",
      "Received: from prod.collab.uhi.ac.uk ([194.35.219.182])\n",
      "Received: from nakamura.uits.iupui.edu (nakamura.uits.iupui.edu [134.68.220.122])\n",
      "Received: from nakamura.uits.iupui.edu (localhost [127.0.0.1])\n",
      "Received: (from apache@localhost)\n",
      "Received: from murder (mail.umich.edu [141.211.14.39])\n",
      "Received: from murder ([unix socket])\n",
      "Received: from holes.mr.itd.umich.edu (holes.mr.itd.umich.edu [141.211.14.79])\n",
      "Received: FROM paploo.uhi.ac.uk (app1.prod.collab.uhi.ac.uk [194.35.219.184])\n",
      "Received: from paploo.uhi.ac.uk (localhost [127.0.0.1])\n",
      "Received: from prod.collab.uhi.ac.uk ([194.35.219.182])\n",
      "Received: from nakamura.uits.iupui.edu (nakamura.uits.iupui.edu [134.68.220.122])\n",
      "Received: from nakamura.uits.iupui.edu (localhost [127.0.0.1])\n",
      "Received: (from apache@localhost)\n",
      "Received: from murder (mail.umich.edu [141.211.14.90])\n",
      "Received: from murder ([unix socket])\n",
      "Received: from shining.mr.itd.umich.edu (shining.mr.itd.umich.edu [141.211.93.153])\n",
      "Received: FROM paploo.uhi.ac.uk (app1.prod.collab.uhi.ac.uk [194.35.219.184])\n",
      "Received: from paploo.uhi.ac.uk (localhost [127.0.0.1])\n",
      "Received: from prod.collab.uhi.ac.uk ([194.35.219.182])\n",
      "Received: from nakamura.uits.iupui.edu (nakamura.uits.iupui.edu [134.68.220.122])\n",
      "Received: from nakamura.uits.iupui.edu (localhost [127.0.0.1])\n",
      "Received: (from apache@localhost)\n",
      "Received: from murder (mail.umich.edu [141.211.14.97])\n",
      "Received: from murder ([unix socket])\n",
      "Received: from creepshow.mr.itd.umich.edu (creepshow.mr.itd.umich.edu [141.211.14.84])\n",
      "Received: FROM paploo.uhi.ac.uk (app1.prod.collab.uhi.ac.uk [194.35.219.184])\n",
      "Received: from paploo.uhi.ac.uk (localhost [127.0.0.1])\n",
      "Received: from prod.collab.uhi.ac.uk ([194.35.219.182])\n",
      "Received: from nakamura.uits.iupui.edu (nakamura.uits.iupui.edu [134.68.220.122])\n",
      "Received: from nakamura.uits.iupui.edu (localhost [127.0.0.1])\n",
      "Received: (from apache@localhost)\n",
      "Received: from murder (mail.umich.edu [141.211.14.25])\n",
      "Received: from murder ([unix socket])\n",
      "Received: from holes.mr.itd.umich.edu (holes.mr.itd.umich.edu [141.211.14.79])\n",
      "Received: FROM paploo.uhi.ac.uk (app1.prod.collab.uhi.ac.uk [194.35.219.184])\n",
      "Received: from paploo.uhi.ac.uk (localhost [127.0.0.1])\n",
      "Received: from prod.collab.uhi.ac.uk ([194.35.219.182])\n",
      "Received: from nakamura.uits.iupui.edu (nakamura.uits.iupui.edu [134.68.220.122])\n",
      "Received: from nakamura.uits.iupui.edu (localhost [127.0.0.1])\n",
      "Received: (from apache@localhost)\n",
      "Received: from murder (mail.umich.edu [141.211.14.90])\n",
      "Received: from murder ([unix socket])\n",
      "Received: from guys.mr.itd.umich.edu (guys.mr.itd.umich.edu [141.211.14.76])\n",
      "Received: FROM paploo.uhi.ac.uk (app1.prod.collab.uhi.ac.uk [194.35.219.184])\n",
      "Received: from paploo.uhi.ac.uk (localhost [127.0.0.1])\n",
      "Received: from prod.collab.uhi.ac.uk ([194.35.219.182])\n",
      "Received: from nakamura.uits.iupui.edu (nakamura.uits.iupui.edu [134.68.220.122])\n",
      "Received: from nakamura.uits.iupui.edu (localhost [127.0.0.1])\n",
      "Received: (from apache@localhost)\n",
      "Received: from murder (mail.umich.edu [141.211.14.39])\n",
      "Received: from murder ([unix socket])\n",
      "Received: from guys.mr.itd.umich.edu (guys.mr.itd.umich.edu [141.211.14.76])\n",
      "Received: FROM paploo.uhi.ac.uk (app1.prod.collab.uhi.ac.uk [194.35.219.184])\n",
      "Received: from paploo.uhi.ac.uk (localhost [127.0.0.1])\n",
      "Received: from prod.collab.uhi.ac.uk ([194.35.219.182])\n",
      "Received: from nakamura.uits.iupui.edu (nakamura.uits.iupui.edu [134.68.220.122])\n",
      "Received: from nakamura.uits.iupui.edu (localhost [127.0.0.1])\n",
      "Received: (from apache@localhost)\n",
      "Received: from murder (mail.umich.edu [141.211.14.98])\n",
      "Received: from murder ([unix socket])\n",
      "Received: from firestarter.mr.itd.umich.edu (firestarter.mr.itd.umich.edu [141.211.14.83])\n",
      "Received: FROM paploo.uhi.ac.uk (app1.prod.collab.uhi.ac.uk [194.35.219.184])\n",
      "Received: from paploo.uhi.ac.uk (localhost [127.0.0.1])\n",
      "Received: from prod.collab.uhi.ac.uk ([194.35.219.182])\n",
      "Received: from nakamura.uits.iupui.edu (nakamura.uits.iupui.edu [134.68.220.122])\n",
      "Received: from nakamura.uits.iupui.edu (localhost [127.0.0.1])\n",
      "Received: (from apache@localhost)\n",
      "Received: from murder (mail.umich.edu [141.211.14.92])\n",
      "Received: from murder ([unix socket])\n",
      "Received: from galaxyquest.mr.itd.umich.edu (galaxyquest.mr.itd.umich.edu [141.211.93.145])\n",
      "Received: FROM paploo.uhi.ac.uk (app1.prod.collab.uhi.ac.uk [194.35.219.184])\n",
      "Received: from paploo.uhi.ac.uk (localhost [127.0.0.1])\n",
      "Received: from prod.collab.uhi.ac.uk ([194.35.219.182])\n",
      "Received: from nakamura.uits.iupui.edu (nakamura.uits.iupui.edu [134.68.220.122])\n",
      "Received: from nakamura.uits.iupui.edu (localhost [127.0.0.1])\n",
      "Received: (from apache@localhost)\n",
      "Received: from murder (mail.umich.edu [141.211.14.46])\n",
      "Received: from murder ([unix socket])\n",
      "Received: from workinggirl.mr.itd.umich.edu (workinggirl.mr.itd.umich.edu [141.211.93.143])\n",
      "Received: FROM paploo.uhi.ac.uk (app1.prod.collab.uhi.ac.uk [194.35.219.184])\n",
      "Received: from paploo.uhi.ac.uk (localhost [127.0.0.1])\n",
      "Received: from prod.collab.uhi.ac.uk ([194.35.219.182])\n",
      "Received: from nakamura.uits.iupui.edu (nakamura.uits.iupui.edu [134.68.220.122])\n",
      "Received: from nakamura.uits.iupui.edu (localhost [127.0.0.1])\n",
      "Received: (from apache@localhost)\n",
      "Received: from murder (mail.umich.edu [141.211.14.25])\n",
      "Received: from murder ([unix socket])\n",
      "Received: from salemslot.mr.itd.umich.edu (salemslot.mr.itd.umich.edu [141.211.14.58])\n",
      "Received: FROM paploo.uhi.ac.uk (app1.prod.collab.uhi.ac.uk [194.35.219.184])\n",
      "Received: from paploo.uhi.ac.uk (localhost [127.0.0.1])\n",
      "Received: from prod.collab.uhi.ac.uk ([194.35.219.182])\n",
      "Received: from nakamura.uits.iupui.edu (nakamura.uits.iupui.edu [134.68.220.122])\n",
      "Received: from nakamura.uits.iupui.edu (localhost [127.0.0.1])\n",
      "Received: (from apache@localhost)\n",
      "Received: from murder (mail.umich.edu [141.211.14.91])\n",
      "Received: from murder ([unix socket])\n",
      "Received: from eyewitness.mr.itd.umich.edu (eyewitness.mr.itd.umich.edu [141.211.93.142])\n",
      "Received: FROM paploo.uhi.ac.uk (app1.prod.collab.uhi.ac.uk [194.35.219.184])\n",
      "Received: from paploo.uhi.ac.uk (localhost [127.0.0.1])\n",
      "Received: from prod.collab.uhi.ac.uk ([194.35.219.182])\n",
      "Received: from nakamura.uits.iupui.edu (nakamura.uits.iupui.edu [134.68.220.122])\n",
      "Received: from nakamura.uits.iupui.edu (localhost [127.0.0.1])\n",
      "Received: (from apache@localhost)\n",
      "Received: from murder (mail.umich.edu [141.211.14.91])\n",
      "Received: from murder ([unix socket])\n",
      "Received: from salemslot.mr.itd.umich.edu (salemslot.mr.itd.umich.edu [141.211.14.58])\n",
      "Received: FROM paploo.uhi.ac.uk (app1.prod.collab.uhi.ac.uk [194.35.219.184])\n",
      "Received: from paploo.uhi.ac.uk (localhost [127.0.0.1])\n",
      "Received: from prod.collab.uhi.ac.uk ([194.35.219.182])\n",
      "Received: from nakamura.uits.iupui.edu (nakamura.uits.iupui.edu [134.68.220.122])\n",
      "Received: from nakamura.uits.iupui.edu (localhost [127.0.0.1])\n",
      "Received: (from apache@localhost)\n",
      "Received: from murder (mail.umich.edu [141.211.14.39])\n",
      "Received: from murder ([unix socket])\n",
      "Received: from anniehall.mr.itd.umich.edu (anniehall.mr.itd.umich.edu [141.211.93.141])\n",
      "Received: FROM paploo.uhi.ac.uk (app1.prod.collab.uhi.ac.uk [194.35.219.184])\n",
      "Received: from paploo.uhi.ac.uk (localhost [127.0.0.1])\n",
      "Received: from prod.collab.uhi.ac.uk ([194.35.219.182])\n",
      "Received: from nakamura.uits.iupui.edu (nakamura.uits.iupui.edu [134.68.220.122])\n",
      "Received: from nakamura.uits.iupui.edu (localhost [127.0.0.1])\n",
      "Received: (from apache@localhost)\n",
      "Received: from murder (mail.umich.edu [141.211.14.34])\n",
      "Received: from murder ([unix socket])\n",
      "Received: from icestorm.mr.itd.umich.edu (icestorm.mr.itd.umich.edu [141.211.93.149])\n",
      "Received: FROM paploo.uhi.ac.uk (app1.prod.collab.uhi.ac.uk [194.35.219.184])\n",
      "Received: from paploo.uhi.ac.uk (localhost [127.0.0.1])\n",
      "Received: from prod.collab.uhi.ac.uk ([194.35.219.182])\n",
      "Received: from nakamura.uits.iupui.edu (nakamura.uits.iupui.edu [134.68.220.122])\n",
      "Received: from nakamura.uits.iupui.edu (localhost [127.0.0.1])\n",
      "Received: (from apache@localhost)\n",
      "Received: from murder (mail.umich.edu [141.211.14.46])\n",
      "Received: from murder ([unix socket])\n",
      "Received: from galaxyquest.mr.itd.umich.edu (galaxyquest.mr.itd.umich.edu [141.211.93.145])\n",
      "Received: FROM paploo.uhi.ac.uk (app1.prod.collab.uhi.ac.uk [194.35.219.184])\n",
      "Received: from paploo.uhi.ac.uk (localhost [127.0.0.1])\n",
      "Received: from prod.collab.uhi.ac.uk ([194.35.219.182])\n",
      "Received: from nakamura.uits.iupui.edu (nakamura.uits.iupui.edu [134.68.220.122])\n",
      "Received: from nakamura.uits.iupui.edu (localhost [127.0.0.1])\n",
      "Received: (from apache@localhost)\n",
      "Received: from murder (mail.umich.edu [141.211.14.91])\n",
      "Received: from murder ([unix socket])\n",
      "Received: from salemslot.mr.itd.umich.edu (salemslot.mr.itd.umich.edu [141.211.14.58])\n",
      "Received: FROM paploo.uhi.ac.uk (app1.prod.collab.uhi.ac.uk [194.35.219.184])\n",
      "Received: from paploo.uhi.ac.uk (localhost [127.0.0.1])\n",
      "Received: from prod.collab.uhi.ac.uk ([194.35.219.182])\n",
      "Received: from nakamura.uits.iupui.edu (nakamura.uits.iupui.edu [134.68.220.122])\n",
      "Received: from nakamura.uits.iupui.edu (localhost [127.0.0.1])\n",
      "Received: (from apache@localhost)\n"
     ]
    }
   ],
   "source": [
    "file=open('E.txt')\n",
    "for line in file:\n",
    "    line=line.rstrip()\n",
    "    if not line.startswith('Received: '):\n",
    "        continue\n",
    "    print(line)\n",
    "    "
   ]
  },
  {
   "cell_type": "code",
   "execution_count": 218,
   "id": "e9e710cf",
   "metadata": {},
   "outputs": [
    {
     "name": "stdout",
     "output_type": "stream",
     "text": [
      "Enter the file name: A.txt\n",
      "There are 1797 subject lines in A.txt\n"
     ]
    }
   ],
   "source": [
    "fname=input('Enter the file name: ')\n",
    "try:\n",
    "    file=open(fname)\n",
    "except:\n",
    "    print('file can not be opened', fname)\n",
    "count=0\n",
    "for line in file:\n",
    "    if line.startswith('Subject: '):\n",
    "        count=count+1\n",
    "print('There are', count, 'subject lines in', fname)"
   ]
  },
  {
   "cell_type": "markdown",
   "id": "267ba18e",
   "metadata": {},
   "source": [
    "### Writing files\n",
    "To write a file, you have to open it with mode “w” as a second parameter:\n",
    "If the file already exists, opening it in write mode clears out the old data and starts\n",
    "fresh, so be careful! If the file doesn’t exist, a new one is created."
   ]
  },
  {
   "cell_type": "code",
   "execution_count": 222,
   "id": "28656f9e",
   "metadata": {},
   "outputs": [
    {
     "data": {
      "text/plain": [
       "<_io.TextIOWrapper name='W.txt' mode='w' encoding='cp1252'>"
      ]
     },
     "execution_count": 222,
     "metadata": {},
     "output_type": "execute_result"
    }
   ],
   "source": [
    "file=open('W.txt', 'w')\n",
    "file"
   ]
  },
  {
   "cell_type": "code",
   "execution_count": 223,
   "id": "ccc64ebc",
   "metadata": {},
   "outputs": [
    {
     "data": {
      "text/plain": [
       "34"
      ]
     },
     "execution_count": 223,
     "metadata": {},
     "output_type": "execute_result"
    }
   ],
   "source": [
    "line1='Hello! I am Dr. Sharafat Hussain \\n'\n",
    "file.write(line1)"
   ]
  },
  {
   "cell_type": "code",
   "execution_count": 231,
   "id": "22a86571",
   "metadata": {},
   "outputs": [],
   "source": [
    "file.write('I am reading Py4e book')\n",
    "file.close()"
   ]
  },
  {
   "cell_type": "code",
   "execution_count": 232,
   "id": "45c3abd6",
   "metadata": {},
   "outputs": [
    {
     "name": "stdout",
     "output_type": "stream",
     "text": [
      "I am reading Py4e bookI am reading Py4e book\n"
     ]
    }
   ],
   "source": [
    "f=open('W.txt')\n",
    "for line in f:\n",
    "    if not line.startswith('I'):\n",
    "        continue\n",
    "    print(line)"
   ]
  },
  {
   "cell_type": "code",
   "execution_count": 235,
   "id": "b09b5719",
   "metadata": {},
   "outputs": [],
   "source": [
    "file=open('W.txt','w')\n",
    "file.write('I am a lecturer \\n My passion is to be a good data sciencetics')\n",
    "file.close()"
   ]
  },
  {
   "cell_type": "code",
   "execution_count": 236,
   "id": "66f146a0",
   "metadata": {},
   "outputs": [
    {
     "name": "stdout",
     "output_type": "stream",
     "text": [
      "I am a lecturer \n",
      "\n"
     ]
    }
   ],
   "source": [
    "f=open('W.txt')\n",
    "for line in f:\n",
    "    if not line.startswith('I'):\n",
    "        continue\n",
    "    print(line)"
   ]
  },
  {
   "cell_type": "markdown",
   "id": "2ca9f517",
   "metadata": {},
   "source": [
    "### Chapter 7 Quiz"
   ]
  },
  {
   "cell_type": "markdown",
   "id": "46f2c8a7",
   "metadata": {},
   "source": [
    "Question 1\n",
    "Given the architecture and terminology we introduced in Chapter 1, where are files stored?\n",
    "\n",
    "Answer: Secondary memory\n"
   ]
  },
  {
   "cell_type": "markdown",
   "id": "db43ea6e",
   "metadata": {},
   "source": [
    "Question 2\n",
    "What is stored in a \"file handle\" that is returned from a successful open() call?\n",
    "\n",
    "Answer: The handle is a connection to the file's data"
   ]
  },
  {
   "cell_type": "markdown",
   "id": "8386a906",
   "metadata": {},
   "source": [
    "Question 3 What do we use the second parameter of the open() call to indicate?\n",
    "\n",
    "Answer: Whether we want to read data from the file or write data to the file"
   ]
  },
  {
   "cell_type": "markdown",
   "id": "b9492ba6",
   "metadata": {},
   "source": [
    "Question 4\n",
    "What Python function would you use if you wanted to prompt the user for a file name to open?\n",
    "\n",
    "Answer: input()"
   ]
  },
  {
   "cell_type": "markdown",
   "id": "a65442a7",
   "metadata": {},
   "source": [
    "Question 5\n",
    "What is the purpose of the newline character in text files?\n",
    "\n",
    "Answer: It indicates the end of one line of text and the beginning of another line of text"
   ]
  },
  {
   "cell_type": "markdown",
   "id": "0ca3e0da",
   "metadata": {},
   "source": [
    "\n",
    "Question 6\n",
    "If we open a file as follows:\n",
    "xfile = open('mbox.txt')\n",
    "What statement would we use to read the file one line at a time?\n",
    "\n",
    "\n",
    "Answer: for line in xfile:"
   ]
  },
  {
   "cell_type": "markdown",
   "id": "e4348928",
   "metadata": {},
   "source": [
    "Question 7 What is the purpose of the following Python code?\n",
    "\n",
    "Answer: Count the lines in the file 'mbox.txt'"
   ]
  },
  {
   "cell_type": "code",
   "execution_count": 26,
   "id": "0f0f9744",
   "metadata": {},
   "outputs": [
    {
     "name": "stdout",
     "output_type": "stream",
     "text": [
      "1910\n"
     ]
    }
   ],
   "source": [
    "fhand = open('M.txt')\n",
    "x = 0\n",
    "for line in fhand:\n",
    "       x = x + 1\n",
    "print(x)"
   ]
  },
  {
   "cell_type": "markdown",
   "id": "2013a5ed",
   "metadata": {},
   "source": [
    "Question 8\n",
    "If you write a Python program to read a text file and you see extra blank lines in the output that are not present in the file input as shown below,\n",
    "what Python string function will likely solve the problem?\\\n",
    "\n",
    "Answer: rstrip()"
   ]
  },
  {
   "cell_type": "markdown",
   "id": "65f3894c",
   "metadata": {},
   "source": [
    "Question 9\n",
    "The following code sequence fails with a traceback when the user enters a file that does not exist.  How would you avoid the traceback and make it so you could print out your \n",
    "own error message when a bad file name was entered?\n",
    "\n",
    "Answer: try / except"
   ]
  },
  {
   "cell_type": "markdown",
   "id": "29b23167",
   "metadata": {},
   "source": [
    "Question 10\n",
    "What does the following Python code do?\n",
    "\n",
    "\n",
    "Answer: Reads the entire file into the variable inp as a string"
   ]
  },
  {
   "cell_type": "markdown",
   "id": "9771c38b",
   "metadata": {},
   "source": [
    "### Assigment \n",
    "7.1 Write a program that prompts for a file name, then opens that file and reads through the file, and print the contents of the file in upper case. Use the file words.txt to produce the output below.\n",
    "You can download the sample data at http://www.py4e.com/code3/words.txt"
   ]
  },
  {
   "cell_type": "code",
   "execution_count": 2,
   "id": "949d0b3d",
   "metadata": {
    "scrolled": true
   },
   "outputs": [
    {
     "name": "stdout",
     "output_type": "stream",
     "text": [
      "Enter file name: words.txt\n",
      "WRITING PROGRAMS OR PROGRAMMING IS A VERY CREATIVE\n",
      "AND REWARDING ACTIVITY  YOU CAN WRITE PROGRAMS FOR\n",
      "MANY REASONS RANGING FROM MAKING YOUR LIVING TO SOLVING\n",
      "A DIFFICULT DATA ANALYSIS PROBLEM TO HAVING FUN TO HELPING\n",
      "SOMEONE ELSE SOLVE A PROBLEM  THIS BOOK ASSUMES THAT\n",
      "{\\EM EVERYONE} NEEDS TO KNOW HOW TO PROGRAM AND THAT ONCE\n",
      "YOU KNOW HOW TO PROGRAM, YOU WILL FIGURE OUT WHAT YOU WANT\n",
      "TO DO WITH YOUR NEWFOUND SKILLS\n",
      "\n",
      "WE ARE SURROUNDED IN OUR DAILY LIVES WITH COMPUTERS RANGING\n",
      "FROM LAPTOPS TO CELL PHONES  WE CAN THINK OF THESE COMPUTERS\n",
      "AS OUR PERSONAL ASSISTANTS WHO CAN TAKE CARE OF MANY THINGS\n",
      "ON OUR BEHALF  THE HARDWARE IN OUR CURRENT-DAY COMPUTERS\n",
      "IS ESSENTIALLY BUILT TO CONTINUOUSLY ASK US THE QUESTION\n",
      "WHAT WOULD YOU LIKE ME TO DO NEXT\n",
      "\n",
      "OUR COMPUTERS ARE FAST AND HAVE VASTS AMOUNTS OF MEMORY AND\n",
      "COULD BE VERY HELPFUL TO US IF WE ONLY KNEW THE LANGUAGE TO\n",
      "SPEAK TO EXPLAIN TO THE COMPUTER WHAT WE WOULD LIKE IT TO\n",
      "DO NEXT IF WE KNEW THIS LANGUAGE WE COULD TELL THE\n",
      "COMPUTER TO DO TASKS ON OUR BEHALF THAT WERE REPTITIVE\n",
      "INTERESTINGLY, THE KINDS OF THINGS COMPUTERS CAN DO BEST\n",
      "ARE OFTEN THE KINDS OF THINGS THAT WE HUMANS FIND BORING\n",
      "AND MIND-NUMBING\n"
     ]
    }
   ],
   "source": [
    "# Use words.txt as the file name\n",
    "fname = input(\"Enter file name: \")\n",
    "fh = open(fname)\n",
    "\n",
    "for line in fh:\n",
    "        line = line.rstrip()\n",
    "        line = line.upper()\n",
    "        print(line)"
   ]
  },
  {
   "cell_type": "markdown",
   "id": "97759754",
   "metadata": {},
   "source": [
    "## Assigment \n",
    "7.2 Write a program that prompts for a file name, then opens that file and reads through the file, looking for lines of the form:\n",
    "X-DSPAM-Confidence:    0.8475\n",
    "Count these lines and extract the floating point values from each of the lines and compute the average of those values and produce an output as shown below. Do not use the sum() function or a variable named sum in your solution.\n",
    "You can download the sample data at http://www.py4e.com/code3/mbox-short.txt when you are testing below enter mbox-short.txt as the file name."
   ]
  },
  {
   "cell_type": "code",
   "execution_count": 7,
   "id": "7984fa39",
   "metadata": {},
   "outputs": [
    {
     "name": "stdout",
     "output_type": "stream",
     "text": [
      "Enter file name: mbox-short.txt\n",
      "Average spam confidence: 0.7507185185185187\n"
     ]
    }
   ],
   "source": [
    "# Use the file name mbox-short.txt as the file name\n",
    "fname = input(\"Enter file name: \")\n",
    "fh = open(fname)\n",
    "s = 0.0\n",
    "count = 0\n",
    "\n",
    "for line in fh:\n",
    "        if not line.startswith(\"X-DSPAM-Confidence:\") :\n",
    "                continue\n",
    "        else:\n",
    "                s = s+ float(line[20:])\n",
    "                count = count + 1\n",
    "\n",
    "print(\"Average spam confidence:\", s/count)"
   ]
  },
  {
   "cell_type": "markdown",
   "id": "18f8d18c",
   "metadata": {},
   "source": [
    " ## Chapter 08 Lists\n",
    "Like a string, a list is a sequence of values. In a string, the values are characters;\n",
    "in a list, they can be any type. The values in list are called elements or sometimes\n",
    "items. A list in enclosed in square brackets []"
   ]
  },
  {
   "cell_type": "code",
   "execution_count": 240,
   "id": "9ba37ab9",
   "metadata": {},
   "outputs": [],
   "source": [
    "L=['A','B','C']"
   ]
  },
  {
   "cell_type": "code",
   "execution_count": 241,
   "id": "dff03ba6",
   "metadata": {},
   "outputs": [
    {
     "data": {
      "text/plain": [
       "'B'"
      ]
     },
     "execution_count": 241,
     "metadata": {},
     "output_type": "execute_result"
    }
   ],
   "source": [
    "L[1]"
   ]
  },
  {
   "cell_type": "code",
   "execution_count": 242,
   "id": "9dfaad3b",
   "metadata": {},
   "outputs": [],
   "source": [
    "# list is muteable \n",
    "L[2]='D'"
   ]
  },
  {
   "cell_type": "code",
   "execution_count": 243,
   "id": "b571558f",
   "metadata": {},
   "outputs": [
    {
     "data": {
      "text/plain": [
       "['A', 'B', 'D']"
      ]
     },
     "execution_count": 243,
     "metadata": {},
     "output_type": "execute_result"
    }
   ],
   "source": [
    "L"
   ]
  },
  {
   "cell_type": "markdown",
   "id": "cdbf6d03",
   "metadata": {},
   "source": [
    "### Traversing a list\n",
    "The most common way to traverse the elements of a list is with a for loop. The\n",
    "syntax is the same as for strings:"
   ]
  },
  {
   "cell_type": "code",
   "execution_count": 245,
   "id": "bf4c2355",
   "metadata": {},
   "outputs": [
    {
     "name": "stdout",
     "output_type": "stream",
     "text": [
      "A\n",
      "B\n",
      "D\n"
     ]
    }
   ],
   "source": [
    "for i in L:\n",
    "    print(i)"
   ]
  },
  {
   "cell_type": "markdown",
   "id": "6068ea9a",
   "metadata": {},
   "source": [
    "### List operations\n",
    "The + operator concatenates lists:"
   ]
  },
  {
   "cell_type": "code",
   "execution_count": 248,
   "id": "94794e3d",
   "metadata": {},
   "outputs": [
    {
     "name": "stdout",
     "output_type": "stream",
     "text": [
      "[1, 2, 3, 4, 5, 6]\n"
     ]
    }
   ],
   "source": [
    "a = [1, 2, 3]\n",
    "b = [4, 5, 6]\n",
    "c = a + b\n",
    "print(c)"
   ]
  },
  {
   "cell_type": "markdown",
   "id": "d95041d4",
   "metadata": {},
   "source": [
    "### List slices\n",
    "The slice operator also works on lists:"
   ]
  },
  {
   "cell_type": "code",
   "execution_count": 252,
   "id": "3915a300",
   "metadata": {},
   "outputs": [
    {
     "name": "stdout",
     "output_type": "stream",
     "text": [
      "['b', 'c']\n",
      "['a', 'b', 'c', 'd']\n",
      "d\n"
     ]
    }
   ],
   "source": [
    "t = ['a', 'b', 'c', 'd', 'e', 'f']\n",
    "print(t[1:3])\n",
    "print(t[:4])\n",
    "print(t[3])"
   ]
  },
  {
   "cell_type": "code",
   "execution_count": 253,
   "id": "f7d313f3",
   "metadata": {},
   "outputs": [
    {
     "data": {
      "text/plain": [
       "['b', 'c', 'e']"
      ]
     },
     "execution_count": 253,
     "metadata": {},
     "output_type": "execute_result"
    }
   ],
   "source": [
    "t[1:3]+t[4:5]"
   ]
  },
  {
   "cell_type": "code",
   "execution_count": 256,
   "id": "b905b5ac",
   "metadata": {},
   "outputs": [
    {
     "name": "stdout",
     "output_type": "stream",
     "text": [
      "['a', 'x', 'y', 'd', 'e', 'f']\n"
     ]
    }
   ],
   "source": [
    "# A slice operator on the left side of an assignment can update multiple elements:\n",
    "t = ['a', 'b', 'c', 'd', 'e', 'f']\n",
    "t[1:3] = ['x', 'y']\n",
    "print(t)"
   ]
  },
  {
   "cell_type": "markdown",
   "id": "7fd1fc2c",
   "metadata": {},
   "source": [
    "### List methods\n",
    "Python provides methods that operate on lists. For example, append adds a new\n",
    "element to the end of a list:"
   ]
  },
  {
   "cell_type": "code",
   "execution_count": 265,
   "id": "7d8a5196",
   "metadata": {},
   "outputs": [],
   "source": [
    "t = ['a', 'b', 'c', 'd', 'e', 'f']\n",
    "t.append('i,j,k')"
   ]
  },
  {
   "cell_type": "code",
   "execution_count": 266,
   "id": "c007cc9f",
   "metadata": {},
   "outputs": [
    {
     "data": {
      "text/plain": [
       "['a', 'b', 'c', 'd', 'e', 'f', 'i,j,k']"
      ]
     },
     "execution_count": 266,
     "metadata": {},
     "output_type": "execute_result"
    }
   ],
   "source": [
    "t"
   ]
  },
  {
   "cell_type": "code",
   "execution_count": 267,
   "id": "5ad159dd",
   "metadata": {},
   "outputs": [],
   "source": [
    "t.append(['i,j,k'])"
   ]
  },
  {
   "cell_type": "code",
   "execution_count": 268,
   "id": "96132fce",
   "metadata": {},
   "outputs": [
    {
     "data": {
      "text/plain": [
       "['a', 'b', 'c', 'd', 'e', 'f', 'i,j,k', ['i,j,k']]"
      ]
     },
     "execution_count": 268,
     "metadata": {},
     "output_type": "execute_result"
    }
   ],
   "source": [
    "t"
   ]
  },
  {
   "cell_type": "markdown",
   "id": "1136f0ef",
   "metadata": {},
   "source": [
    "extend takes a list as an argument and appends all of the elements:"
   ]
  },
  {
   "cell_type": "code",
   "execution_count": 269,
   "id": "958fb28c",
   "metadata": {},
   "outputs": [],
   "source": [
    "t1=['a','b','c','d']\n",
    "t2=[1,2,3]"
   ]
  },
  {
   "cell_type": "code",
   "execution_count": 270,
   "id": "0aa28bc9",
   "metadata": {},
   "outputs": [],
   "source": [
    "t1.extend(t2)"
   ]
  },
  {
   "cell_type": "code",
   "execution_count": 271,
   "id": "392fb61e",
   "metadata": {},
   "outputs": [
    {
     "data": {
      "text/plain": [
       "['a', 'b', 'c', 'd', 1, 2, 3]"
      ]
     },
     "execution_count": 271,
     "metadata": {},
     "output_type": "execute_result"
    }
   ],
   "source": [
    "t1"
   ]
  },
  {
   "cell_type": "code",
   "execution_count": 277,
   "id": "9583fbb0",
   "metadata": {},
   "outputs": [
    {
     "data": {
      "text/plain": [
       "['1', '4', 'A', 'a', 'b', 'r', 'u', 'v']"
      ]
     },
     "execution_count": 277,
     "metadata": {},
     "output_type": "execute_result"
    }
   ],
   "source": [
    "# sort arranges the elements of the list from low to high:\n",
    "# note that sort will work only if the list have same types of charachter \n",
    "t=['v','b','r','A','a','u','1','4']\n",
    "t.sort()\n",
    "t"
   ]
  },
  {
   "cell_type": "markdown",
   "id": "da521908",
   "metadata": {},
   "source": [
    "### Deleting elements\n",
    "There are several ways to delete elements from a list. If you know the index of the\n",
    "element you want, you can use pop:"
   ]
  },
  {
   "cell_type": "code",
   "execution_count": 278,
   "id": "b8cbad4c",
   "metadata": {},
   "outputs": [
    {
     "data": {
      "text/plain": [
       "'4'"
      ]
     },
     "execution_count": 278,
     "metadata": {},
     "output_type": "execute_result"
    }
   ],
   "source": [
    "t.pop(1)"
   ]
  },
  {
   "cell_type": "code",
   "execution_count": 279,
   "id": "3961dd60",
   "metadata": {},
   "outputs": [
    {
     "data": {
      "text/plain": [
       "['1', 'A', 'a', 'b', 'r', 'u', 'v']"
      ]
     },
     "execution_count": 279,
     "metadata": {},
     "output_type": "execute_result"
    }
   ],
   "source": [
    "t"
   ]
  },
  {
   "cell_type": "code",
   "execution_count": 281,
   "id": "6f4d2267",
   "metadata": {},
   "outputs": [],
   "source": [
    "# If you don’t need the removed value, you can use the del statement:\n",
    "del t[1]"
   ]
  },
  {
   "cell_type": "code",
   "execution_count": 282,
   "id": "40b04d99",
   "metadata": {},
   "outputs": [
    {
     "data": {
      "text/plain": [
       "['1', 'a', 'b', 'r', 'u', 'v']"
      ]
     },
     "execution_count": 282,
     "metadata": {},
     "output_type": "execute_result"
    }
   ],
   "source": [
    "t"
   ]
  },
  {
   "cell_type": "code",
   "execution_count": 286,
   "id": "1ceda0cd",
   "metadata": {},
   "outputs": [],
   "source": [
    "del t[0:3]"
   ]
  },
  {
   "cell_type": "code",
   "execution_count": 287,
   "id": "2bdee852",
   "metadata": {},
   "outputs": [
    {
     "data": {
      "text/plain": [
       "['r', 'u', 'v']"
      ]
     },
     "execution_count": 287,
     "metadata": {},
     "output_type": "execute_result"
    }
   ],
   "source": [
    "t"
   ]
  },
  {
   "cell_type": "code",
   "execution_count": 288,
   "id": "0503845a",
   "metadata": {},
   "outputs": [],
   "source": [
    "# If you know the element you want to remove (but not the index), you can use remove:\n",
    "t.remove('u')"
   ]
  },
  {
   "cell_type": "code",
   "execution_count": 289,
   "id": "3c107bcd",
   "metadata": {},
   "outputs": [
    {
     "data": {
      "text/plain": [
       "['r', 'v']"
      ]
     },
     "execution_count": 289,
     "metadata": {},
     "output_type": "execute_result"
    }
   ],
   "source": [
    "t"
   ]
  },
  {
   "cell_type": "markdown",
   "id": "192af23c",
   "metadata": {},
   "source": [
    "### Lists and functions\n",
    "There are a number of built-in functions that can be used on lists that allow you\n",
    "to quickly look through a list without writing your own loops:"
   ]
  },
  {
   "cell_type": "code",
   "execution_count": 290,
   "id": "153198c2",
   "metadata": {},
   "outputs": [],
   "source": [
    "nums = [3, 41, 12, 9, 74, 15]"
   ]
  },
  {
   "cell_type": "code",
   "execution_count": 291,
   "id": "54e5d46c",
   "metadata": {},
   "outputs": [
    {
     "name": "stdout",
     "output_type": "stream",
     "text": [
      "6\n"
     ]
    }
   ],
   "source": [
    "print(len(nums))"
   ]
  },
  {
   "cell_type": "code",
   "execution_count": 292,
   "id": "9175f8f4",
   "metadata": {},
   "outputs": [
    {
     "name": "stdout",
     "output_type": "stream",
     "text": [
      "74\n"
     ]
    }
   ],
   "source": [
    "print(max(nums))"
   ]
  },
  {
   "cell_type": "code",
   "execution_count": 293,
   "id": "52720a7c",
   "metadata": {},
   "outputs": [
    {
     "name": "stdout",
     "output_type": "stream",
     "text": [
      "3\n"
     ]
    }
   ],
   "source": [
    "print(min(nums))"
   ]
  },
  {
   "cell_type": "code",
   "execution_count": 294,
   "id": "d08d38b5",
   "metadata": {},
   "outputs": [
    {
     "name": "stdout",
     "output_type": "stream",
     "text": [
      "154\n"
     ]
    }
   ],
   "source": [
    "print(sum(nums))"
   ]
  },
  {
   "cell_type": "code",
   "execution_count": 297,
   "id": "44f1ef53",
   "metadata": {},
   "outputs": [
    {
     "name": "stdout",
     "output_type": "stream",
     "text": [
      "25.666666666666668\n"
     ]
    }
   ],
   "source": [
    "print(sum(nums)/len(nums))"
   ]
  },
  {
   "cell_type": "markdown",
   "id": "b15f739b",
   "metadata": {},
   "source": [
    "### Lists and strings\n",
    "A string is a sequence of characters and a list is a sequence of values, but a list\n",
    "of characters is not the same as a string. To convert from a string to a list of\n",
    "characters, you can use list:"
   ]
  },
  {
   "cell_type": "code",
   "execution_count": 299,
   "id": "a912bb53",
   "metadata": {},
   "outputs": [
    {
     "name": "stdout",
     "output_type": "stream",
     "text": [
      "['s', 'p', 'a', 'm']\n"
     ]
    }
   ],
   "source": [
    "s = 'spam'\n",
    "t = list(s)\n",
    "print(t)"
   ]
  },
  {
   "cell_type": "code",
   "execution_count": 300,
   "id": "502c6162",
   "metadata": {},
   "outputs": [
    {
     "data": {
      "text/plain": [
       "['s', 'h', 'a', 'r', 'a', 'f', 'a', 't']"
      ]
     },
     "execution_count": 300,
     "metadata": {},
     "output_type": "execute_result"
    }
   ],
   "source": [
    "list('sharafat')"
   ]
  },
  {
   "cell_type": "code",
   "execution_count": 302,
   "id": "87018805",
   "metadata": {},
   "outputs": [],
   "source": [
    "s='my name is dr. sharafat hussain'"
   ]
  },
  {
   "cell_type": "code",
   "execution_count": 303,
   "id": "d8ea5038",
   "metadata": {},
   "outputs": [
    {
     "data": {
      "text/plain": [
       "['my', 'name', 'is', 'dr.', 'sharafat', 'hussain']"
      ]
     },
     "execution_count": 303,
     "metadata": {},
     "output_type": "execute_result"
    }
   ],
   "source": [
    "s.split()"
   ]
  },
  {
   "cell_type": "code",
   "execution_count": 304,
   "id": "c5517b84",
   "metadata": {},
   "outputs": [],
   "source": [
    "name='I;am;not;learning;anything'"
   ]
  },
  {
   "cell_type": "code",
   "execution_count": 305,
   "id": "ff9dee4c",
   "metadata": {},
   "outputs": [
    {
     "data": {
      "text/plain": [
       "['I;am;not;learning;anything']"
      ]
     },
     "execution_count": 305,
     "metadata": {},
     "output_type": "execute_result"
    }
   ],
   "source": [
    "name.split()"
   ]
  },
  {
   "cell_type": "code",
   "execution_count": 306,
   "id": "21669e34",
   "metadata": {},
   "outputs": [
    {
     "data": {
      "text/plain": [
       "['I', 'am', 'not', 'learning', 'anything']"
      ]
     },
     "execution_count": 306,
     "metadata": {},
     "output_type": "execute_result"
    }
   ],
   "source": [
    "name.split(';')"
   ]
  },
  {
   "cell_type": "code",
   "execution_count": 307,
   "id": "9d232265",
   "metadata": {},
   "outputs": [],
   "source": [
    "name='He-is-doing-well'"
   ]
  },
  {
   "cell_type": "code",
   "execution_count": 308,
   "id": "aa41451f",
   "metadata": {},
   "outputs": [
    {
     "data": {
      "text/plain": [
       "['He-is-doing-well']"
      ]
     },
     "execution_count": 308,
     "metadata": {},
     "output_type": "execute_result"
    }
   ],
   "source": [
    "name.split()"
   ]
  },
  {
   "cell_type": "code",
   "execution_count": 309,
   "id": "008832fb",
   "metadata": {},
   "outputs": [
    {
     "data": {
      "text/plain": [
       "['He', 'is', 'doing', 'well']"
      ]
     },
     "execution_count": 309,
     "metadata": {},
     "output_type": "execute_result"
    }
   ],
   "source": [
    "name.split('-')"
   ]
  },
  {
   "cell_type": "code",
   "execution_count": 310,
   "id": "f262bb88",
   "metadata": {},
   "outputs": [
    {
     "data": {
      "text/plain": [
       "'He-is-doing-well'"
      ]
     },
     "execution_count": 310,
     "metadata": {},
     "output_type": "execute_result"
    }
   ],
   "source": [
    "# join is the inverse of split.\n",
    "name"
   ]
  },
  {
   "cell_type": "code",
   "execution_count": 311,
   "id": "b0e2422f",
   "metadata": {},
   "outputs": [],
   "source": [
    "n=['he','is','doing','well']"
   ]
  },
  {
   "cell_type": "code",
   "execution_count": 319,
   "id": "1fd54a58",
   "metadata": {},
   "outputs": [
    {
     "data": {
      "text/plain": [
       "'he is doing well'"
      ]
     },
     "execution_count": 319,
     "metadata": {},
     "output_type": "execute_result"
    }
   ],
   "source": [
    "a=' '\n",
    "a.join(n)\n"
   ]
  },
  {
   "cell_type": "code",
   "execution_count": 320,
   "id": "8ebdeaff",
   "metadata": {},
   "outputs": [
    {
     "data": {
      "text/plain": [
       "'he ;is ;doing ;well'"
      ]
     },
     "execution_count": 320,
     "metadata": {},
     "output_type": "execute_result"
    }
   ],
   "source": [
    "a=' ;'\n",
    "a.join(n)"
   ]
  },
  {
   "cell_type": "code",
   "execution_count": 321,
   "id": "a4541c44",
   "metadata": {},
   "outputs": [
    {
     "data": {
      "text/plain": [
       "'he-is-doing-well'"
      ]
     },
     "execution_count": 321,
     "metadata": {},
     "output_type": "execute_result"
    }
   ],
   "source": [
    "a='-'\n",
    "a.join(n)"
   ]
  },
  {
   "cell_type": "code",
   "execution_count": 322,
   "id": "c2e9f9fe",
   "metadata": {},
   "outputs": [
    {
     "data": {
      "text/plain": [
       "'he & is & doing & well'"
      ]
     },
     "execution_count": 322,
     "metadata": {},
     "output_type": "execute_result"
    }
   ],
   "source": [
    "a=' & '\n",
    "a.join(n)"
   ]
  },
  {
   "cell_type": "markdown",
   "id": "9a2a5fc3",
   "metadata": {},
   "source": [
    "### Parsing lines\n",
    "Usually when we are reading a file we want to do something to the lines other than\n",
    "just printing the whole line. Often we want to find the “interesting lines” and then\n",
    "parse the line to find some interesting part of the line. What if we wanted to print\n",
    "out the day of the week from those lines that start with “From”?\n",
    "\n",
    "\n",
    "From stephen.marquard@uct.ac.za Sat Jan 5 09:14:16 2008"
   ]
  },
  {
   "cell_type": "code",
   "execution_count": 331,
   "id": "f4d6f764",
   "metadata": {},
   "outputs": [],
   "source": [
    "file=open('E.txt')"
   ]
  },
  {
   "cell_type": "code",
   "execution_count": 332,
   "id": "09dcf7f1",
   "metadata": {},
   "outputs": [
    {
     "name": "stdout",
     "output_type": "stream",
     "text": [
      "1909\n"
     ]
    }
   ],
   "source": [
    "count=0\n",
    "for line in file:\n",
    "    count=count+1\n",
    "print(count)"
   ]
  },
  {
   "cell_type": "code",
   "execution_count": 5,
   "id": "9ab0fdaa",
   "metadata": {},
   "outputs": [
    {
     "ename": "IndexError",
     "evalue": "list index out of range",
     "output_type": "error",
     "traceback": [
      "\u001b[1;31m---------------------------------------------------------------------------\u001b[0m",
      "\u001b[1;31mIndexError\u001b[0m                                Traceback (most recent call last)",
      "\u001b[1;32m~\\AppData\\Local\\Temp/ipykernel_10260/383852809.py\u001b[0m in \u001b[0;36m<module>\u001b[1;34m\u001b[0m\n\u001b[0;32m      4\u001b[0m         \u001b[1;32mcontinue\u001b[0m\u001b[1;33m\u001b[0m\u001b[1;33m\u001b[0m\u001b[0m\n\u001b[0;32m      5\u001b[0m     \u001b[0mwords\u001b[0m\u001b[1;33m=\u001b[0m\u001b[0mline\u001b[0m\u001b[1;33m.\u001b[0m\u001b[0msplit\u001b[0m\u001b[1;33m(\u001b[0m\u001b[1;33m)\u001b[0m\u001b[1;33m\u001b[0m\u001b[1;33m\u001b[0m\u001b[0m\n\u001b[1;32m----> 6\u001b[1;33m     \u001b[0mprint\u001b[0m\u001b[1;33m(\u001b[0m\u001b[0mwords\u001b[0m\u001b[1;33m[\u001b[0m\u001b[1;36m2\u001b[0m\u001b[1;33m]\u001b[0m\u001b[1;33m)\u001b[0m\u001b[1;33m\u001b[0m\u001b[1;33m\u001b[0m\u001b[0m\n\u001b[0m",
      "\u001b[1;31mIndexError\u001b[0m: list index out of range"
     ]
    }
   ],
   "source": [
    "file=open('A.txt')\n",
    "for line in file:\n",
    "    if not line.startswith('From:'):\n",
    "        continue\n",
    "    words=line.split()\n",
    "    print(words[2])"
   ]
  },
  {
   "cell_type": "code",
   "execution_count": 13,
   "id": "6272e08a",
   "metadata": {},
   "outputs": [
    {
     "name": "stdout",
     "output_type": "stream",
     "text": [
      "IT\n",
      "Support\n",
      "Bits\n",
      "Systems\n",
      "System\n",
      "IT\n",
      "Project\n",
      "of\n",
      "Initiation:\n",
      "Planning:\n",
      "Execution:\n",
      "Project\n",
      "Applying\n",
      "Social\n",
      "to\n",
      "Media\n",
      "of\n",
      "with\n",
      "and\n",
      "Data\n",
      "to\n",
      "Basics\n",
      "Visualization\n",
      "for\n",
      "and\n",
      "Analysis\n",
      "Visualization\n",
      "Data\n",
      "Skills\n",
      "&\n",
      "Skills\n",
      "Thinking\n",
      "Skills\n",
      "Skills\n",
      "English\n",
      "English:\n",
      "English:\n",
      "English:\n",
      "English:\n",
      "English:\n",
      "Skills\n",
      "Skills\n",
      "Skills\n",
      "Skills\n",
      "Skills\n",
      "and\n",
      "Research\n",
      "Interviewing,Course,University\n",
      "Interviewing\n",
      "Winning\n",
      "To\n",
      "Skills\n",
      "and\n",
      "Thinking\n",
      "Growth\n",
      "and\n",
      "Presentation\n",
      "skills:\n",
      "skills:\n",
      "skills:\n",
      "skills:\n",
      "Complex\n",
      "Complexity,Course,Macquarie\n",
      "Problems,Course,Macquarie\n",
      "Innovation,Course,Macquarie\n",
      "Complex\n",
      "Career\n",
      "personal\n",
      "intelligence:\n",
      "planning:\n",
      "development:\n",
      "UX\n",
      "of\n",
      "the\n",
      "Wireframes\n",
      "UX\n",
      "High-Fidelity\n",
      "Web\n",
      "a\n",
      "Sigma\n",
      "Planning\n",
      "Management\n",
      "Define\n",
      "Measure\n",
      "Analyze\n",
      "Improve\n",
      "Control\n",
      "for\n",
      "Sigma\n",
      "Sigma\n",
      "Sigma\n",
      "Sigma\n",
      "Sigma\n",
      "Sigma\n",
      "Sigma\n",
      "Sigma\n",
      "Sigma\n",
      "Sigma\n",
      "for\n",
      "for\n",
      "for\n",
      "For\n",
      "Chain\n",
      "Chain\n",
      "Chain\n",
      "Chain\n",
      "Chain\n",
      "Chain\n",
      "for\n",
      "for\n",
      "Data\n",
      "Python\n",
      "Databases\n",
      "Retrieving\n",
      "Mapping\n",
      "to\n",
      "Data\n",
      "Analysis\n",
      "Mapping\n",
      "TensorFlow\n",
      "to\n",
      "Neural\n",
      "Language\n",
      "Time\n",
      "Learning,Specialization,DeepLearning.AI,NA,NA,NA,NA,NA,NA,NA,NA,NA,NA,NA,NA,NA,NA,NA,W62RsyrdEeeFQQqyuQaohA,,\n",
      "Networks\n",
      "Deep\n",
      "Machine\n",
      "Neural\n",
      "Models,Course,DeepLearning.AI,Beginner,15.3,4.8,https://www.coursera.org/learn/nlp-sequence-models,\"In\n"
     ]
    }
   ],
   "source": [
    "# if we want to print the day we use the following code\n",
    "file=open('HECQ.csv')\n",
    "for line in file:\n",
    "    if not line.startswith('Specialization'):\n",
    "        continue\n",
    "    line=line.split()\n",
    "    print(line[3])"
   ]
  },
  {
   "cell_type": "code",
   "execution_count": 373,
   "id": "955829f8",
   "metadata": {},
   "outputs": [
    {
     "data": {
      "text/plain": [
       "True"
      ]
     },
     "execution_count": 373,
     "metadata": {},
     "output_type": "execute_result"
    }
   ],
   "source": [
    "# To check whether two variables refer to the same object, you can use the is operator.\n",
    "a='banana'\n",
    "b='banana'\n",
    "a is b"
   ]
  },
  {
   "cell_type": "code",
   "execution_count": 374,
   "id": "2a8c3ca2",
   "metadata": {},
   "outputs": [
    {
     "data": {
      "text/plain": [
       "False"
      ]
     },
     "execution_count": 374,
     "metadata": {},
     "output_type": "execute_result"
    }
   ],
   "source": [
    "a='Banana'\n",
    "b='banana'\n",
    "a is b"
   ]
  },
  {
   "cell_type": "code",
   "execution_count": 375,
   "id": "bdfd7279",
   "metadata": {},
   "outputs": [
    {
     "data": {
      "text/plain": [
       "False"
      ]
     },
     "execution_count": 375,
     "metadata": {},
     "output_type": "execute_result"
    }
   ],
   "source": [
    "# let's try on lists. \n",
    "L1=[1,2,3]\n",
    "L2=[1,2,3]\n",
    "L1 is L2"
   ]
  },
  {
   "cell_type": "markdown",
   "id": "3b5db64d",
   "metadata": {},
   "source": [
    "In this case we would say that the two lists are equivalent, because they have the\n",
    "same elements, but not identical, because they are not the same object. If two\n",
    "objects are identical, they are also equivalent, but if they are equivalent, they are\n",
    "not necessarily identical."
   ]
  },
  {
   "cell_type": "markdown",
   "id": "d2f7e47c",
   "metadata": {},
   "source": [
    "### Aliasing\n",
    "If a refers to an object and you assign b = a, then both variables refer to the same\n",
    "object:"
   ]
  },
  {
   "cell_type": "code",
   "execution_count": 376,
   "id": "ed17fe40",
   "metadata": {},
   "outputs": [
    {
     "data": {
      "text/plain": [
       "True"
      ]
     },
     "execution_count": 376,
     "metadata": {},
     "output_type": "execute_result"
    }
   ],
   "source": [
    "a=[1,2,3]\n",
    "b=a\n",
    "a is b"
   ]
  },
  {
   "cell_type": "markdown",
   "id": "f2ae1ec5",
   "metadata": {},
   "source": [
    "The association of a variable with an object is called a reference. In this example,\n",
    "there are two references to the same object.\n",
    "An object with more than one reference has more than one name, so we say that\n",
    "the object is aliased.\n",
    "If the aliased object is mutable, changes made with one alias affect the other:"
   ]
  },
  {
   "cell_type": "code",
   "execution_count": 377,
   "id": "f7fbe1a0",
   "metadata": {},
   "outputs": [
    {
     "data": {
      "text/plain": [
       "[1, 8, 3]"
      ]
     },
     "execution_count": 377,
     "metadata": {},
     "output_type": "execute_result"
    }
   ],
   "source": [
    "b[1]=8\n",
    "a"
   ]
  },
  {
   "cell_type": "markdown",
   "id": "ee15cc9d",
   "metadata": {},
   "source": [
    "### List arguments\n",
    "When you pass a list to a function, the function gets a reference to the list. If\n",
    "the function modifies a list parameter, the caller sees the change. For example,\n",
    "delete_head removes the first element from a list:"
   ]
  },
  {
   "cell_type": "code",
   "execution_count": 378,
   "id": "564725fb",
   "metadata": {},
   "outputs": [],
   "source": [
    "def delete_head(t):\n",
    "    del t[0]"
   ]
  },
  {
   "cell_type": "code",
   "execution_count": 380,
   "id": "0169f349",
   "metadata": {},
   "outputs": [
    {
     "data": {
      "text/plain": [
       "[2, 3, 4, 5]"
      ]
     },
     "execution_count": 380,
     "metadata": {},
     "output_type": "execute_result"
    }
   ],
   "source": [
    "a=[1,2,3,4,5]\n",
    "delete_head(a)\n",
    "a"
   ]
  },
  {
   "cell_type": "code",
   "execution_count": 381,
   "id": "5b87a3a9",
   "metadata": {},
   "outputs": [
    {
     "data": {
      "text/plain": [
       "[3, 4, 5]"
      ]
     },
     "execution_count": 381,
     "metadata": {},
     "output_type": "execute_result"
    }
   ],
   "source": [
    "delete_head(a)\n",
    "a"
   ]
  },
  {
   "cell_type": "code",
   "execution_count": 382,
   "id": "e3d18c5c",
   "metadata": {},
   "outputs": [
    {
     "data": {
      "text/plain": [
       "[4, 5]"
      ]
     },
     "execution_count": 382,
     "metadata": {},
     "output_type": "execute_result"
    }
   ],
   "source": [
    "delete_head(a)\n",
    "a"
   ]
  },
  {
   "cell_type": "code",
   "execution_count": 383,
   "id": "11e31f73",
   "metadata": {},
   "outputs": [
    {
     "data": {
      "text/plain": [
       "[5]"
      ]
     },
     "execution_count": 383,
     "metadata": {},
     "output_type": "execute_result"
    }
   ],
   "source": [
    "delete_head(a)\n",
    "a"
   ]
  },
  {
   "cell_type": "code",
   "execution_count": 392,
   "id": "2957f569",
   "metadata": {},
   "outputs": [],
   "source": [
    "file=open('A.txt')"
   ]
  },
  {
   "cell_type": "code",
   "execution_count": 393,
   "id": "0f19910e",
   "metadata": {},
   "outputs": [
    {
     "data": {
      "text/plain": [
       "<_io.TextIOWrapper name='A.txt' mode='r' encoding='cp1252'>"
      ]
     },
     "execution_count": 393,
     "metadata": {},
     "output_type": "execute_result"
    }
   ],
   "source": [
    "file"
   ]
  },
  {
   "cell_type": "code",
   "execution_count": 405,
   "id": "26f58789",
   "metadata": {},
   "outputs": [
    {
     "name": "stdout",
     "output_type": "stream",
     "text": [
      "['stephen.marquard@uct.ac.za']\n",
      "['louis@media.berkeley.edu']\n",
      "['zqian@umich.edu']\n",
      "['rjlowe@iupui.edu']\n",
      "['zqian@umich.edu']\n",
      "['rjlowe@iupui.edu']\n",
      "['cwen@iupui.edu']\n",
      "['cwen@iupui.edu']\n",
      "['gsilver@umich.edu']\n",
      "['gsilver@umich.edu']\n",
      "['zqian@umich.edu']\n",
      "['gsilver@umich.edu']\n",
      "['wagnermr@iupui.edu']\n",
      "['zqian@umich.edu']\n",
      "['antranig@caret.cam.ac.uk']\n",
      "['gopal.ramasammycook@gmail.com']\n",
      "['david.horwitz@uct.ac.za']\n",
      "['david.horwitz@uct.ac.za']\n",
      "['david.horwitz@uct.ac.za']\n",
      "['david.horwitz@uct.ac.za']\n",
      "['stephen.marquard@uct.ac.za']\n",
      "['louis@media.berkeley.edu']\n",
      "['louis@media.berkeley.edu']\n",
      "['ray@media.berkeley.edu']\n",
      "['cwen@iupui.edu']\n",
      "['cwen@iupui.edu']\n",
      "['cwen@iupui.edu']\n"
     ]
    }
   ],
   "source": [
    "file=open('E.txt')\n",
    "for line in file:\n",
    "    if not line.startswith('From:'):\n",
    "        continue\n",
    "    line=line.split()\n",
    "    delete_head(line)\n",
    "    print(line)"
   ]
  },
  {
   "cell_type": "markdown",
   "id": "0c0f25c1",
   "metadata": {},
   "source": [
    "It is important to distinguish between operations that modify lists and operations\n",
    "that create new lists. For example, the append method modifies a list, but the +\n",
    "operator creates a new list:"
   ]
  },
  {
   "cell_type": "code",
   "execution_count": 411,
   "id": "d6291fcd",
   "metadata": {},
   "outputs": [
    {
     "data": {
      "text/plain": [
       "[1, 2, 3]"
      ]
     },
     "execution_count": 411,
     "metadata": {},
     "output_type": "execute_result"
    }
   ],
   "source": [
    "t1=[1,2]\n",
    "t2=t1.append(3)\n",
    "t1"
   ]
  },
  {
   "cell_type": "code",
   "execution_count": 415,
   "id": "93a3ef4e",
   "metadata": {},
   "outputs": [
    {
     "data": {
      "text/plain": [
       "[1, 2, 3]"
      ]
     },
     "execution_count": 415,
     "metadata": {},
     "output_type": "execute_result"
    }
   ],
   "source": [
    "t1=[1,2]\n",
    "t3=t1+[3]\n",
    "t3"
   ]
  },
  {
   "cell_type": "code",
   "execution_count": 416,
   "id": "e41d29f3",
   "metadata": {},
   "outputs": [
    {
     "data": {
      "text/plain": [
       "False"
      ]
     },
     "execution_count": 416,
     "metadata": {},
     "output_type": "execute_result"
    }
   ],
   "source": [
    "t2 is t3"
   ]
  },
  {
   "cell_type": "code",
   "execution_count": 417,
   "id": "deb16b1b",
   "metadata": {},
   "outputs": [],
   "source": [
    "def tail(t):\n",
    "    return(t[1:])"
   ]
  },
  {
   "cell_type": "code",
   "execution_count": 420,
   "id": "d0f04b31",
   "metadata": {},
   "outputs": [
    {
     "data": {
      "text/plain": [
       "[2, 3, 4, 5, 6, 7]"
      ]
     },
     "execution_count": 420,
     "metadata": {},
     "output_type": "execute_result"
    }
   ],
   "source": [
    "a=[1,2,3,4,5,6,7]\n",
    "tail(a)"
   ]
  },
  {
   "cell_type": "code",
   "execution_count": 423,
   "id": "a20d4262",
   "metadata": {},
   "outputs": [],
   "source": [
    "def head(t):\n",
    "    return(t[:-1])"
   ]
  },
  {
   "cell_type": "code",
   "execution_count": 424,
   "id": "406ad2f5",
   "metadata": {},
   "outputs": [
    {
     "data": {
      "text/plain": [
       "[1, 2, 3, 4, 5, 6]"
      ]
     },
     "execution_count": 424,
     "metadata": {},
     "output_type": "execute_result"
    }
   ],
   "source": [
    "head(a)"
   ]
  },
  {
   "cell_type": "markdown",
   "id": "5ea4ac28",
   "metadata": {},
   "source": [
    "Exercise: Write a function called chop that takes a list and modifies\n",
    "it, removing the first and last elements, and returns None. Then write\n",
    "a function called middle that takes a list and returns a new list that\n",
    "contains all but the first and last elements."
   ]
  },
  {
   "cell_type": "code",
   "execution_count": 433,
   "id": "b0dfbce4",
   "metadata": {},
   "outputs": [],
   "source": [
    "def chop(t):\n",
    "    del t[0]\n",
    "    del t[-1]\n",
    "    return None"
   ]
  },
  {
   "cell_type": "code",
   "execution_count": 434,
   "id": "98f2a81e",
   "metadata": {},
   "outputs": [],
   "source": [
    "def middle(t):\n",
    "    return(t[1:-1])\n"
   ]
  },
  {
   "cell_type": "code",
   "execution_count": 435,
   "id": "c346515c",
   "metadata": {},
   "outputs": [
    {
     "data": {
      "text/plain": [
       "[2, 3, 4, 5, 6]"
      ]
     },
     "execution_count": 435,
     "metadata": {},
     "output_type": "execute_result"
    }
   ],
   "source": [
    "a=[1,2,3,4,5,6,7]\n",
    "middle(a)"
   ]
  },
  {
   "cell_type": "code",
   "execution_count": 436,
   "id": "a8fb917f",
   "metadata": {},
   "outputs": [
    {
     "name": "stdout",
     "output_type": "stream",
     "text": [
      "None\n"
     ]
    }
   ],
   "source": [
    "print(chop(a))"
   ]
  },
  {
   "cell_type": "markdown",
   "id": "9ab2e4ec",
   "metadata": {},
   "source": [
    "## Exercise : Find all unique words in a file\n",
    "\n",
    "### Steps to find unique words\n",
    "To find unique words in a text file, follow these steps.\n",
    "\n",
    "Read text file in read mode.\n",
    "\n",
    "Convert text to lower case or upper case. We do not want ‘apple’ to be different from ‘Apple’.\n",
    "\n",
    "Split file contents into list of words.\n",
    "\n",
    "Clean the words that are infested with punctuation marks. Something like stripping the words from full-stops, commas, etc.\n",
    "\n",
    "Also, remove apostrophe-s ‘s.\n",
    "\n",
    "You may also add more text cleaning steps here.\n",
    "\n",
    "Now find the unique words in the list using a Python For Loop and Python Membership Operator.\n",
    "\n",
    "After finding unique words, sort them for presentation.\n",
    "\n",
    "In the text cleaning, you can also remove helping verbs, etc."
   ]
  },
  {
   "cell_type": "code",
   "execution_count": 1,
   "id": "992c6d75",
   "metadata": {},
   "outputs": [
    {
     "name": "stdout",
     "output_type": "stream",
     "text": [
      "[\"'ay,'\", \"'havior\", \"'it\", \"'tis\", '2', 'a', 'above', 'act', 'adieu', 'adventure', 'afeard', 'again', 'against', 'air', 'airy', 'alack', 'all', 'almost', 'aloud', 'already', 'although', 'am', 'am:', 'an', 'and', 'angel', 'anon', 'anon.--but', 'answer', 'any', 'appears', 'are', 'arise', 'arm', 'art', 'as', 'aside', 'at', 'attempt', 'attending', 'ay', 'back', 'baptized', 'be', 'beauteous', 'because', 'been', 'before', 'being', 'believe', 'belonging', 'bent', 'bepaint', \"bescreen'd\", 'beseech', 'bestrides', 'better', 'bird', 'birds', 'blessed', 'blush', 'bold', 'bondage', 'books', 'bosom', 'both', 'boundless', 'bounty', 'breaks?', 'breast', 'breath', 'bright', 'brightness', 'bud', 'business', 'but', 'by', 'by?', 'call', \"call'd\", 'calls', 'camest', 'can', 'cannot', 'canst', 'capulet', 'cast', 'cave', 'cease', 'cell', 'changes', 'cheek', 'cherishing', 'circled', 'climb', 'cloak', 'clouds', 'come', 'come:--', 'company', 'compliment', 'confess', 'considering', 'contract', 'counsel', 'counsel?', 'crave', 'cunning', 'dares', 'dark', 'daylight', 'dear', 'dear?', 'death', 'deep', 'deny', 'did', 'didst', 'direction', 'discourses', 'discovered', 'dislike', 'do', 'doff', 'dost', 'doth', 'dream', 'drunk', 'dwell', 'ears', 'east', 'echo', 'either', 'else', 'ended', 'enemy', 'enmity', 'enter', 'entreat', 'envious', 'ere', 'exchange', 'exit', 'eye', 'eyes', 'face', 'fail:', 'fain', 'fair', 'fairest', 'faithful', 'faithfully:', 'falconer', 'fall', 'false', 'far', 'farewell', 'farthest', 'father', 'felt', 'find', 'first', 'flattering-sweet', 'flower', 'follow', 'fond', 'fools', 'foot', 'for', 'forget', 'forgetting', 'forgot', 'form', 'fortunes', 'foundt', 'frank', 'from', 'frown', 'fruit-tree', 'further', 'gave', 'gaze', 'gentle', 'gentleman', 'ghostly', 'give', 'glorious', 'glove', 'god', 'goes', 'gone:', 'good', 'gracious', 'green', 'grief', 'grief:', 'gyves', 'had', 'hand', 'hap', 'hard', 'hast', 'hate', 'hateful', 'hath', 'have', 'have:', 'having', 'he', 'head', 'head?', 'hear', 'heard', 'heart', 'heaven', 'heavy', 'help', 'hence', 'henceforth', 'her', 'here', 'here:', 'hide', 'high', 'him', 'his', 'hist', 'hither', 'hoarse', 'hold', 'home', 'honourable', 'hop', 'hour', 'how', 'hundred', 'i', \"i'll\", 'i:', 'idolatry', 'if', 'ii', 'impute', 'in', 'inconstant', 'indeed', 'infinite', 'inquire', 'is', 'it', 'it:', 'it?', 'jests', 'jove', 'joy', 'juliet', 'kill', 'kinsmen', 'knew', 'know', 'knowt', 'lady', 'lamp', 'laughs', 'lay', 'lazy-pacing', 'leans', 'leave', 'lent', 'lest', 'let', 'lets', 'liberty', 'lies', 'life', 'light', 'light:', \"lightens.'\", 'lightning', 'like', 'likewise', 'limits', 'little', 'livery', 'longer', 'look', 'looks', 'lord', 'love', 'love--', 'love?', \"lovers'\", 'loving-jealous', 'lure', 'madam', 'maid', 'maiden', 'make', 'man', 'marriage', 'mask', 'may', 'mayst', 'me', 'me?', 'meant', 'meet', 'merchandise', 'messenger', 'might', 'mine', 'montague', 'montague?', 'monthly', 'moon', 'more', 'morning', 'morrow', 'mortals', 'much', 'murder', 'music', 'must', 'my', 'myself', 'name', 'name:', 'name?', 'nay', 'neither', 'never', 'new', 'next', 'night', 'nine', 'no', 'noise', 'none', 'nor', 'not', 'nothing:', 'nurse', 'o', \"o'clock\", \"o'er\", \"o'er-perch\", 'of', 'off', 'on', 'one', 'or', 'orb', 'orchard', 'other', 'out', 'overheardt', 'owes', 'pale', 'pardon', 'part', 'parting', 'passion:', 'peace', 'perfection', 'perform', 'peril', 'perjuries', 'perverse', 'pilot', 'place', 'place?', 'plucks', 'poor', 'prisoner', 'procure', 'prompt', 'pronounce', 'proof', 'prorogued', 'prove', 'purpose', 'quickly', 'rash', 're-enter', 'refuse', 'region', 'remember', 'remembering', 'repetition', 'repose', 'request', 'rest', 'retain', 'retiring', 'return', 'ripening', 'rite', 'romeo', 'romeo?', 'rose', 'sails', 'saint', 'satisfaction', 'saw', 'say', 'says', 'scars', 'scene', 'school', 'schoolboys', 'sea', 'see', 'self', 'send', 'shall', 'shame', 'she', 'she:', 'shore', 'should', 'sick', 'sight', 'silk', 'silver', 'silver-sweet', 'since', 'sing', 'sleep', 'smell', 'so', 'soft', 'softest', 'some', 'sorrow', 'soul', 'soul--', 'sound', 'sound:', 'speak', 'speaks', 'speaks:', 'spheres', 'spoke:', 'stand', 'stars', 'stay', 'still', 'stony', 'strange', 'stream', 'stumblest', 'substantial', 'such', 'sudden', 'suit', 'summer', 'sun', 'swear', 'swear:', 'sweart', 'sweet', 'swords:', 'sworn', 'take', 'tassel-gentle', 'tear', 'tell', 'than', 'that', 'that?', 'the', 'thee', 'thee--', 'thee?', 'their', 'them', 'then', 'there', 'therefore', 'these', 'they', 'thine', 'thing', 'think', 'thinkt', 'this', 'this?', 'those', 'thou', 'though', 'thousand', 'thread', 'three', 'thrive', 'through', 'throughout', 'thus', 'thy', 'thyself', 'till', 'time', 'times', 'tips', 'title', 'to', 'to-morrow', 'to-night', 'to-night:', 'to-night?', 'tongue', 'tongues', 'too', 'tops--', 'touch', 'toward', 'true', 'trust', 'truth', 'twenty', 'twinkle', 'twisted', 'two', 'unadvised', 'unsatisfied?', 'unto', 'upon', 'utterance', 'variable', 'vast', 'vestal', 'voice', 'vow', 'walls', 'want', 'wanting', 'wanton', 'ware', 'was', \"wash'd\", 'we', 'wear', 'well', 'were', 'wert', 'what', 'when', 'where', 'wherefore', 'wherefore?', 'which', 'white-upturned', 'who', 'whose', 'why', 'will', 'wilt', 'window', 'winged', 'wings', 'wish', 'with', 'withdraw', 'within', 'without', 'won', 'wondering', 'woo', 'word', 'word:', 'words', 'world', 'worse', 'would', 'wouldst', 'wound', 'written', 'years', 'yet', 'yielding', 'yonder']\n"
     ]
    }
   ],
   "source": [
    "text_file = open('Q.txt', 'r')\n",
    "text = text_file.read()\n",
    "\n",
    "#cleaning\n",
    "text = text.lower()\n",
    "words = text.split()\n",
    "words = [word.strip('.,!;()[]') for word in words]\n",
    "words = [word.replace(\"'s\", '') for word in words]\n",
    "\n",
    "#finding unique\n",
    "unique = []\n",
    "for word in words:\n",
    "    if word not in unique:\n",
    "        unique.append(word)\n",
    "\n",
    "#sort\n",
    "unique.sort()\n",
    "\n",
    "#print\n",
    "print(unique)"
   ]
  },
  {
   "cell_type": "code",
   "execution_count": 6,
   "id": "319ce29d",
   "metadata": {},
   "outputs": [
    {
     "name": "stdout",
     "output_type": "stream",
     "text": [
      "[\"'ay,'\", \"'havior\", \"'it\", \"'tis\", '2', 'a', 'above', 'act', 'adieu', 'adventure', 'afeard', 'again', 'against', 'air', 'airy', 'alack', 'all', 'almost', 'aloud', 'already', 'although', 'am', 'am:', 'an', 'and', 'angel', 'anon', 'anon.--but', 'answer', 'any', 'appears', 'are', 'arise', 'arm', 'art', 'as', 'aside', 'at', 'attempt', 'attending', 'ay', 'back', 'baptized', 'be', 'beauteous', 'because', 'been', 'before', 'being', 'believe', 'belonging', 'bent', 'bepaint', \"bescreen'd\", 'beseech', 'bestrides', 'better', 'bird', 'birds', 'blessed', 'blush', 'bold', 'bondage', 'books', 'bosom', 'both', 'boundless', 'bounty', 'breaks?', 'breast', 'breath', 'bright', 'brightness', 'bud', 'business', 'but', 'by', 'by?', 'call', \"call'd\", 'calls', 'camest', 'can', 'cannot', 'canst', 'capulet', 'cast', 'cave', 'cease', 'cell', 'changes', 'cheek', 'cherishing', 'circled', 'climb', 'cloak', 'clouds', 'come', 'come:--', 'company', 'compliment', 'confess', 'considering', 'contract', 'counsel', 'counsel?', 'crave', 'cunning', 'dares', 'dark', 'daylight', 'dear', 'dear?', 'death', 'deep', 'deny', 'did', 'didst', 'direction', 'discourses', 'discovered', 'dislike', 'do', 'doff', 'dost', 'doth', 'dream', 'drunk', 'dwell', 'ears', 'east', 'echo', 'either', 'else', 'ended', 'enemy', 'enmity', 'enter', 'entreat', 'envious', 'ere', 'exchange', 'exit', 'eye', 'eyes', 'face', 'fail:', 'fain', 'fair', 'fairest', 'faithful', 'faithfully:', 'falconer', 'fall', 'false', 'far', 'farewell', 'farthest', 'father', 'felt', 'find', 'first', 'flattering-sweet', 'flower', 'follow', 'fond', 'fools', 'foot', 'for', 'forget', 'forgetting', 'forgot', 'form', 'fortunes', 'foundt', 'frank', 'from', 'frown', 'fruit-tree', 'further', 'gave', 'gaze', 'gentle', 'gentleman', 'ghostly', 'give', 'glorious', 'glove', 'god', 'goes', 'gone:', 'good', 'gracious', 'green', 'grief', 'grief:', 'gyves', 'had', 'hand', 'hap', 'hard', 'hast', 'hate', 'hateful', 'hath', 'have', 'have:', 'having', 'he', 'head', 'head?', 'hear', 'heard', 'heart', 'heaven', 'heavy', 'help', 'hence', 'henceforth', 'her', 'here', 'here:', 'hide', 'high', 'him', 'his', 'hist', 'hither', 'hoarse', 'hold', 'home', 'honourable', 'hop', 'hour', 'how', 'hundred', 'i', \"i'll\", 'i:', 'idolatry', 'if', 'ii', 'impute', 'in', 'inconstant', 'indeed', 'infinite', 'inquire', 'is', 'it', 'it:', 'it?', 'jests', 'jove', 'joy', 'juliet', 'kill', 'kinsmen', 'knew', 'know', 'knowt', 'lady', 'lamp', 'laughs', 'lay', 'lazy-pacing', 'leans', 'leave', 'lent', 'lest', 'let', 'lets', 'liberty', 'lies', 'life', 'light', 'light:', \"lightens.'\", 'lightning', 'like', 'likewise', 'limits', 'little', 'livery', 'longer', 'look', 'looks', 'lord', 'love', 'love--', 'love?', \"lovers'\", 'loving-jealous', 'lure', 'madam', 'maid', 'maiden', 'make', 'man', 'marriage', 'mask', 'may', 'mayst', 'me', 'me?', 'meant', 'meet', 'merchandise', 'messenger', 'might', 'mine', 'montague', 'montague?', 'monthly', 'moon', 'more', 'morning', 'morrow', 'mortals', 'much', 'murder', 'music', 'must', 'my', 'myself', 'name', 'name:', 'name?', 'nay', 'neither', 'never', 'new', 'next', 'night', 'nine', 'no', 'noise', 'none', 'nor', 'not', 'nothing:', 'nurse', 'o', \"o'clock\", \"o'er\", \"o'er-perch\", 'of', 'off', 'on', 'one', 'or', 'orb', 'orchard', 'other', 'out', 'overheardt', 'owes', 'pale', 'pardon', 'part', 'parting', 'passion:', 'peace', 'perfection', 'perform', 'peril', 'perjuries', 'perverse', 'pilot', 'place', 'place?', 'plucks', 'poor', 'prisoner', 'procure', 'prompt', 'pronounce', 'proof', 'prorogued', 'prove', 'purpose', 'quickly', 'rash', 're-enter', 'refuse', 'region', 'remember', 'remembering', 'repetition', 'repose', 'request', 'rest', 'retain', 'retiring', 'return', 'ripening', 'rite', 'romeo', 'romeo?', 'rose', 'sails', 'saint', 'satisfaction', 'saw', 'say', 'says', 'scars', 'scene', 'school', 'schoolboys', 'sea', 'see', 'self', 'send', 'shall', 'shame', 'she', 'she:', 'shore', 'should', 'sick', 'sight', 'silk', 'silver', 'silver-sweet', 'since', 'sing', 'sleep', 'smell', 'so', 'soft', 'softest', 'some', 'sorrow', 'soul', 'soul--', 'sound', 'sound:', 'speak', 'speaks', 'speaks:', 'spheres', 'spoke:', 'stand', 'stars', 'stay', 'still', 'stony', 'strange', 'stream', 'stumblest', 'substantial', 'such', 'sudden', 'suit', 'summer', 'sun', 'swear', 'swear:', 'sweart', 'sweet', 'swords:', 'sworn', 'take', 'tassel-gentle', 'tear', 'tell', 'than', 'that', 'that?', 'the', 'thee', 'thee--', 'thee?', 'their', 'them', 'then', 'there', 'therefore', 'these', 'they', 'thine', 'thing', 'think', 'thinkt', 'this', 'this?', 'those', 'thou', 'though', 'thousand', 'thread', 'three', 'thrive', 'through', 'throughout', 'thus', 'thy', 'thyself', 'till', 'time', 'times', 'tips', 'title', 'to', 'to-morrow', 'to-night', 'to-night:', 'to-night?', 'tongue', 'tongues', 'too', 'tops--', 'touch', 'toward', 'true', 'trust', 'truth', 'twenty', 'twinkle', 'twisted', 'two', 'unadvised', 'unsatisfied?', 'unto', 'upon', 'utterance', 'variable', 'vast', 'vestal', 'voice', 'vow', 'walls', 'want', 'wanting', 'wanton', 'ware', 'was', \"wash'd\", 'we', 'wear', 'well', 'were', 'wert', 'what', 'when', 'where', 'wherefore', 'wherefore?', 'which', 'white-upturned', 'who', 'whose', 'why', 'will', 'wilt', 'window', 'winged', 'wings', 'wish', 'with', 'withdraw', 'within', 'without', 'won', 'wondering', 'woo', 'word', 'word:', 'words', 'world', 'worse', 'would', 'wouldst', 'wound', 'written', 'years', 'yet', 'yielding', 'yonder']\n"
     ]
    }
   ],
   "source": [
    "file=open('Q.txt','r')\n",
    "file=file.read()\n",
    "file=file.lower()\n",
    "words=[word.strip(',.!;()[]') for word in words]\n",
    "words = [word.replace(\"'s\", '') for word in words]\n",
    "#finding unique\n",
    "unique = []\n",
    "for word in words:\n",
    "    if word not in unique:\n",
    "        unique.append(word)\n",
    "\n",
    "#sort\n",
    "unique.sort()\n",
    "\n",
    "#print\n",
    "print(unique)"
   ]
  },
  {
   "cell_type": "code",
   "execution_count": 11,
   "id": "0b0d4f97",
   "metadata": {},
   "outputs": [
    {
     "data": {
      "text/plain": [
       "580"
      ]
     },
     "execution_count": 11,
     "metadata": {},
     "output_type": "execute_result"
    }
   ],
   "source": [
    "# to check the number of unique words in the text we use len function\n",
    "len(unique)"
   ]
  },
  {
   "cell_type": "code",
   "execution_count": 24,
   "id": "299c483a",
   "metadata": {},
   "outputs": [
    {
     "name": "stdout",
     "output_type": "stream",
     "text": [
      "['from stephen.marquard@uct.ac.za sat jan  5 09:14:16 2008\\nreturn-path: <postmaster@collab.sakaiproject.org>\\nreceived: from murder (mail.umich.edu [141.211.14.90])\\n\\t by frankenstein.mail.umich.edu (cyrus v2.3.8) with lmtpa;\\n\\t sat, 05 jan 2008 09:14:16 -0500\\nx-sieve: cmu sieve 2.3\\nreceived: from murder ([unix socket])\\n\\t by mail.umich.edu (cyrus v2.2.12) with lmtpa;\\n\\t sat, 05 jan 2008 09:14:16 -0500\\nreceived: from holes.mr.itd.umich.edu (holes.mr.itd.umich.edu [141.211.14.79])\\n\\tby flawless.mail.umich.edu () with esmtp id m05eefr1013674;\\n\\tsat, 5 jan 2008 09:14:15 -0500\\nreceived: from paploo.uhi.ac.uk (app1.prod.collab.uhi.ac.uk [194.35.219.184])\\n\\tby holes.mr.itd.umich.edu id 477f90b0.2db2f.12494 ; \\n\\t 5 jan 2008 09:14:10 -0500\\nreceived: from paploo.uhi.ac.uk (localhost [127.0.0.1])\\n\\tby paploo.uhi.ac.uk (postfix) with esmtp id 5f919bc2f2;\\n\\tsat,  5 jan 2008 14:10:05 +0000 (gmt)\\nmessage-id: <200801051412.m05eciah010327@nakamura.uits.iupui.edu>\\nmime-version: 1.0\\ncontent-transfer-encoding: 7bit\\nreceived: from prod.collab.uhi.ac.uk ([194.35.219.182])\\n          by paploo.uhi.ac.uk (james smtp server 2.1.3) with smtp id 899\\n          for <source@collab.sakaiproject.org>;\\n          sat, 5 jan 2008 14:09:50 +0000 (gmt)\\nreceived: from nakamura.uits.iupui.edu (nakamura.uits.iupui.edu [134.68.220.122])\\n\\tby shmi.uhi.ac.uk (postfix) with esmtp id a215243002\\n\\tfor <source@collab.sakaiproject.org>; sat,  5 jan 2008 14:13:33 +0000 (gmt)\\nreceived: from nakamura.uits.iupui.edu (localhost [127.0.0.1])\\n\\tby nakamura.uits.iupui.edu (8.12.11.20060308/8.12.11) with esmtp id m05ecjvp010329\\n\\tfor <source@collab.sakaiproject.org>; sat, 5 jan 2008 09:12:19 -0500\\nreceived: (from apache@localhost)\\n\\tby nakamura.uits.iupui.edu (8.12.11.20060308/8.12.11/submit) id m05eciah010327\\n\\tfor source@collab.sakaiproject.org; sat, 5 jan 2008 09:12:18 -0500\\ndate: sat, 5 jan 2008 09:12:18 -0500\\nx-authentication-warning: nakamura.uits.iupui.edu: apache set sender to stephen.marquard@uct.ac.za using -f\\nto: source@collab.sakaiproject.org\\nfrom: stephen.marquard@uct.ac.za\\nsubject: [sakai] svn commit: r39772 - content/branches/sakai_2-5-x/content-impl/impl/src/java/org/sakaiproject/content/impl\\nx-content-type-outer-envelope: text/plain; charset=utf-8\\nx-content-type-message-body: text/plain; charset=utf-8\\ncontent-type: text/plain; charset=utf-8\\nx-dspam-result: innocent\\nx-dspam-processed: sat jan  5 09:14:16 2008\\nx-dspam-confidence: 0.8475\\nx-dspam-probability: 0.0000\\n\\ndetails: http://source.sakaiproject.org/viewsvn/?view=rev&rev=39772\\n\\nauthor: stephen.marquard@uct.ac.za\\ndate: 2008-01-05 09:12:07 -0500 (sat, 05 jan 2008)\\nnew revision: 39772\\n\\nmodified:\\ncontent/branches/sakai_2-5-x/content-impl/impl/src/java/org/sakaiproject/content/impl/contentservicesqloracle.java\\ncontent/branches/sakai_2-5-x/content-impl/impl/src/java/org/sakaiproject/content/impl/dbcontentservice.java\\nlog:\\nsak-12501 merge to 2-5-x: r39622, r39624:5, r39632:3 (resolve conflict from differing linebreaks for r39622)\\n\\n----------------------\\nthis automatic notification message was sent by sakai collab (https://collab.sakaiproject.org/portal) from the source site.\\nyou can modify how you receive notifications at my workspace > preferences.\\n\\n\\n\\nfrom louis@media.berkeley.edu fri jan  4 18:10:48 2008\\nreturn-path: <postmaster@collab.sakaiproject.org>\\nreceived: from murder (mail.umich.edu [141.211.14.97])\\n\\t by frankenstein.mail.umich.edu (cyrus v2.3.8) with lmtpa;\\n\\t fri, 04 jan 2008 18:10:48 -0500\\nx-sieve: cmu sieve 2.3\\nreceived: from murder ([unix socket])\\n\\t by mail.umich.edu (cyrus v2.2.12) with lmtpa;\\n\\t fri, 04 jan 2008 18:10:48 -0500\\nreceived: from icestorm.mr.itd.umich.edu (icestorm.mr.itd.umich.edu [141.211.93.149])\\n\\tby sleepers.mail.umich.edu () with esmtp id m04nabga029441;\\n\\tfri, 4 jan 2008 18:10:37 -0500\\nreceived: from paploo.uhi.ac.uk (app1.prod.collab.uhi.ac.uk [194.35.219.184])\\n\\tby icestorm.mr.itd.umich.edu id 477ebce3.161bb.4320 ; \\n\\t 4 jan 2008 18:10:31 -0500\\nreceived: from paploo.uhi.ac.uk (localhost [127.0.0.1])\\n\\tby paploo.uhi.ac.uk (postfix) with esmtp id 07969bb706;\\n\\tfri,  4 jan 2008 23:10:33 +0000 (gmt)\\nmessage-id: <200801042308.m04n8v6o008125@nakamura.uits.iupui.edu>\\nmime-version: 1.0\\ncontent-transfer-encoding: 7bit\\nreceived: from prod.collab.uhi.ac.uk ([194.35.219.182])\\n          by paploo.uhi.ac.uk (james smtp server 2.1.3) with smtp id 710\\n          for <source@collab.sakaiproject.org>;\\n          fri, 4 jan 2008 23:10:10 +0000 (gmt)\\nreceived: from nakamura.uits.iupui.edu (nakamura.uits.iupui.edu [134.68.220.122])\\n\\tby shmi.uhi.ac.uk (postfix) with esmtp id 4ba2f42f57\\n\\tfor <source@collab.sakaiproject.org>; fri,  4 jan 2008 23:10:10 +0000 (gmt)\\nreceived: from nakamura.uits.iupui.edu (localhost [127.0.0.1])\\n\\tby nakamura.uits.iupui.edu (8.12.11.20060308/8.12.11) with esmtp id m04n8vhg008127\\n\\tfor <source@collab.sakaiproject.org>; fri, 4 jan 2008 18:08:57 -0500\\nreceived: (from apache@localhost)\\n\\tby nakamura.uits.iupui.edu (8.12.11.20060308/8.12.11/submit) id m04n8v6o008125\\n\\tfor source@collab.sakaiproject.org; fri, 4 jan 2008 18:08:57 -0500\\ndate: fri, 4 jan 2008 18:08:57 -0500\\nx-authentication-warning: nakamura.uits.iupui.edu: apache set sender to louis@media.berkeley.edu using -f\\nto: source@collab.sakaiproject.org\\nfrom: louis@media.berkeley.edu\\nsubject: [sakai] svn commit: r39771 - in bspace/site-manage/sakai_2-4-x/site-manage-tool/tool/src: bundle java/org/sakaiproject/site/tool\\nx-content-type-outer-envelope: text/plain; charset=utf-8\\nx-content-type-message-body: text/plain; charset=utf-8\\ncontent-type: text/plain; charset=utf-8\\nx-dspam-result: innocent\\nx-dspam-processed: fri jan  4 18:10:48 2008\\nx-dspam-confidence: 0.6178\\nx-dspam-probability: 0.0000\\n\\ndetails: http://source.sakaiproject.org/viewsvn/?view=rev&rev=39771\\n\\nauthor: louis@media.berkeley.edu\\ndate: 2008-01-04 18:08:50 -0500 (fri, 04 jan 2008)\\nnew revision: 39771\\n\\nmodified:\\nbspace/site-manage/sakai_2-4-x/site-manage-tool/tool/src/bundle/sitesetupgeneric.properties\\nbspace/site-manage/sakai_2-4-x/site-manage-tool/tool/src/java/org/sakaiproject/site/tool/siteaction.java\\nlog:\\nbsp-1415 new (guest) user notification\\n\\n----------------------\\nthis automatic notification message was sent by sakai collab (https://collab.sakaiproject.org/portal) from the source site.\\nyou can modify how you receive notifications at my workspace > preferences.\\n\\n\\n\\nfrom zqian@umich.edu fri jan  4 16:10:39 2008\\nreturn-path: <postmaster@collab.sakaiproject.org>\\nreceived: from murder (mail.umich.edu [141.211.14.25])\\n\\t by frankenstein.mail.umich.edu (cyrus v2.3.8) with lmtpa;\\n\\t fri, 04 jan 2008 16:10:39 -0500\\nx-sieve: cmu sieve 2.3\\nreceived: from murder ([unix socket])\\n\\t by mail.umich.edu (cyrus v2.2.12) with lmtpa;\\n\\t fri, 04 jan 2008 16:10:39 -0500\\nreceived: from ghostbusters.mr.itd.umich.edu (ghostbusters.mr.itd.umich.edu [141.211.93.144])\\n\\tby panther.mail.umich.edu () with esmtp id m04laczw014275;\\n\\tfri, 4 jan 2008 16:10:38 -0500\\nreceived: from paploo.uhi.ac.uk (app1.prod.collab.uhi.ac.uk [194.35.219.184])\\n\\tby ghostbusters.mr.itd.umich.edu id 477ea0c6.a0214.25480 ; \\n\\t 4 jan 2008 16:10:33 -0500\\nreceived: from paploo.uhi.ac.uk (localhost [127.0.0.1])\\n\\tby paploo.uhi.ac.uk (postfix) with esmtp id c48cdbb490;\\n\\tfri,  4 jan 2008 21:10:31 +0000 (gmt)\\nmessage-id: <200801042109.m04l92hb007923@nakamura.uits.iupui.edu>\\nmime-version: 1.0\\ncontent-transfer-encoding: 7bit\\nreceived: from prod.collab.uhi.ac.uk ([194.35.219.182])\\n          by paploo.uhi.ac.uk (james smtp server 2.1.3) with smtp id 906\\n          for <source@collab.sakaiproject.org>;\\n          fri, 4 jan 2008 21:10:18 +0000 (gmt)\\nreceived: from nakamura.uits.iupui.edu (nakamura.uits.iupui.edu [134.68.220.122])\\n\\tby shmi.uhi.ac.uk (postfix) with esmtp id 7d13042f71\\n\\tfor <source@collab.sakaiproject.org>; fri,  4 jan 2008 21:10:14 +0000 (gmt)\\nreceived: from nakamura.uits.iupui.edu (localhost [127.0.0.1])\\n\\tby nakamura.uits.iupui.edu (8.12.11.20060308/8.12.11) with esmtp id m04l927e007925\\n\\tfor <source@collab.sakaiproject.org>; fri, 4 jan 2008 16:09:02 -0500\\nreceived: (from apache@localhost)\\n\\tby nakamura.uits.iupui.edu (8.12.11.20060308/8.12.11/submit) id m04l92hb007923\\n\\tfor source@collab.sakaiproject.org; fri, 4 jan 2008 16:09:02 -0500\\ndate: fri, 4 jan 2008 16:09:02 -0500\\nx-authentication-warning: nakamura.uits.iupui.edu: apache set sender to zqian@umich.edu using -f\\nto: source@collab.sakaiproject.org\\nfrom: zqian@umich.edu\\nsubject: [sakai] svn commit: r39770 - site-manage/branches/sakai_2-5-x/site-manage-tool/tool/src/webapp/vm/sitesetup\\nx-content-type-outer-envelope: text/plain; charset=utf-8\\nx-content-type-message-body: text/plain; charset=utf-8\\ncontent-type: text/plain; charset=utf-8\\nx-dspam-result: innocent\\nx-dspam-processed: fri jan  4 16:10:39 2008\\nx-dspam-confidence: 0.6961\\nx-dspam-probability: 0.0000\\n\\ndetails: http://source.sakaiproject.org/viewsvn/?view=rev&rev=39770\\n\\nauthor: zqian@umich.edu\\ndate: 2008-01-04 16:09:01 -0500 (fri, 04 jan 2008)\\nnew revision: 39770\\n\\nmodified:\\nsite-manage/branches/sakai_2-5-x/site-manage-tool/tool/src/webapp/vm/sitesetup/chef_site-siteinfo-list.vm\\nlog:\\nmerge fix to sak-9996 into 2-5-x branch: svn merge -r 39687:39688 https://source.sakaiproject.org/svn/site-manage/trunk/\\n\\n----------------------\\nthis automatic notification message was sent by sakai collab (https://collab.sakaiproject.org/portal) from the source site.\\nyou can modify how you receive notifications at my workspace > preferences.\\n\\n\\n\\nfrom rjlowe@iupui.edu fri jan  4 15:46:24 2008\\nreturn-path: <postmaster@collab.sakaiproject.org>\\nreceived: from murder (mail.umich.edu [141.211.14.25])\\n\\t by frankenstein.mail.umich.edu (cyrus v2.3.8) with lmtpa;\\n\\t fri, 04 jan 2008 15:46:24 -0500\\nx-sieve: cmu sieve 2.3\\nreceived: from murder ([unix socket])\\n\\t by mail.umich.edu (cyrus v2.2.12) with lmtpa;\\n\\t fri, 04 jan 2008 15:46:24 -0500\\nreceived: from dreamcatcher.mr.itd.umich.edu (dreamcatcher.mr.itd.umich.edu [141.211.14.43])\\n\\tby panther.mail.umich.edu () with esmtp id m04kknbx032077;\\n\\tfri, 4 jan 2008 15:46:23 -0500\\nreceived: from paploo.uhi.ac.uk (app1.prod.collab.uhi.ac.uk [194.35.219.184])\\n\\tby dreamcatcher.mr.itd.umich.edu id 477e9b13.2f3bc.22965 ; \\n\\t 4 jan 2008 15:46:13 -0500\\nreceived: from paploo.uhi.ac.uk (localhost [127.0.0.1])\\n\\tby paploo.uhi.ac.uk (postfix) with esmtp id 4ae03bb552;\\n\\tfri,  4 jan 2008 20:46:13 +0000 (gmt)\\nmessage-id: <200801042044.m04kiem3007881@nakamura.uits.iupui.edu>\\nmime-version: 1.0\\ncontent-transfer-encoding: 7bit\\nreceived: from prod.collab.uhi.ac.uk ([194.35.219.182])\\n          by paploo.uhi.ac.uk (james smtp server 2.1.3) with smtp id 38\\n          for <source@collab.sakaiproject.org>;\\n          fri, 4 jan 2008 20:45:56 +0000 (gmt)\\nreceived: from nakamura.uits.iupui.edu (nakamura.uits.iupui.edu [134.68.220.122])\\n\\tby shmi.uhi.ac.uk (postfix) with esmtp id a55d242f57\\n\\tfor <source@collab.sakaiproject.org>; fri,  4 jan 2008 20:45:52 +0000 (gmt)\\nreceived: from nakamura.uits.iupui.edu (localhost [127.0.0.1])\\n\\tby nakamura.uits.iupui.edu (8.12.11.20060308/8.12.11) with esmtp id m04kieqe007883\\n\\tfor <source@collab.sakaiproject.org>; fri, 4 jan 2008 15:44:40 -0500\\nreceived: (from apache@localhost)\\n\\tby nakamura.uits.iupui.edu (8.12.11.20060308/8.12.11/submit) id m04kiem3007881\\n\\tfor source@collab.sakaiproject.org; fri, 4 jan 2008 15:44:40 -0500\\ndate: fri, 4 jan 2008 15:44:40 -0500\\nx-authentication-warning: nakamura.uits.iupui.edu: apache set sender to rjlowe@iupui.edu using -f\\nto: source@collab.sakaiproject.org\\nfrom: rjlowe@iupui.edu\\nsubject: [sakai] svn commit: r39769 - in gradebook/trunk/app/ui/src: java/org/sakaiproject/tool/gradebook/ui/helpers/beans java/org/sakaiproject/tool/gradebook/ui/helpers/producers webapp/web-inf webapp/web-inf/bundle\\nx-content-type-outer-envelope: text/plain; charset=utf-8\\nx-content-type-message-body: text/plain; charset=utf-8\\ncontent-type: text/plain; charset=utf-8\\nx-dspam-result: innocent\\nx-dspam-processed: fri jan  4 15:46:24 2008\\nx-dspam-confidence: 0.7565\\nx-dspam-probability: 0.0000\\n\\ndetails: http://source.sakaiproject.org/viewsvn/?view=rev&rev=39769\\n\\nauthor: rjlowe@iupui.edu\\ndate: 2008-01-04 15:44:39 -0500 (fri, 04 jan 2008)\\nnew revision: 39769\\n\\nmodified:\\ngradebook/trunk/app/ui/src/java/org/sakaiproject/tool/gradebook/ui/helpers/beans/assignmentgraderecordbean.java\\ngradebook/trunk/app/ui/src/java/org/sakaiproject/tool/gradebook/ui/helpers/producers/gradegradebookitemproducer.java\\ngradebook/trunk/app/ui/src/webapp/web-inf/applicationcontext.xml\\ngradebook/trunk/app/ui/src/webapp/web-inf/bundle/messages.properties\\ngradebook/trunk/app/ui/src/webapp/web-inf/requestcontext.xml\\nlog:\\nsak-12180 - fixed errors with grading helper\\n\\n----------------------\\nthis automatic notification message was sent by sakai collab (https://collab.sakaiproject.org/portal) from the source site.\\nyou can modify how you receive notifications at my workspace > preferences.\\n\\n\\n\\nfrom zqian@umich.edu fri jan  4 15:03:18 2008\\nreturn-path: <postmaster@collab.sakaiproject.org>\\nreceived: from murder (mail.umich.edu [141.211.14.46])\\n\\t by frankenstein.mail.umich.edu (cyrus v2.3.8) with lmtpa;\\n\\t fri, 04 jan 2008 15:03:18 -0500\\nx-sieve: cmu sieve 2.3\\nreceived: from murder ([unix socket])\\n\\t by mail.umich.edu (cyrus v2.2.12) with lmtpa;\\n\\t fri, 04 jan 2008 15:03:18 -0500\\nreceived: from firestarter.mr.itd.umich.edu (firestarter.mr.itd.umich.edu [141.211.14.83])\\n\\tby fan.mail.umich.edu () with esmtp id m04k3hgf006563;\\n\\tfri, 4 jan 2008 15:03:17 -0500\\nreceived: from paploo.uhi.ac.uk (app1.prod.collab.uhi.ac.uk [194.35.219.184])\\n\\tby firestarter.mr.itd.umich.edu id 477e9100.8f7f4.1590 ; \\n\\t 4 jan 2008 15:03:15 -0500\\nreceived: from paploo.uhi.ac.uk (localhost [127.0.0.1])\\n\\tby paploo.uhi.ac.uk (postfix) with esmtp id 57770bb477;\\n\\tfri,  4 jan 2008 20:03:09 +0000 (gmt)\\nmessage-id: <200801042001.m04k1co0007738@nakamura.uits.iupui.edu>\\nmime-version: 1.0\\ncontent-transfer-encoding: 7bit\\nreceived: from prod.collab.uhi.ac.uk ([194.35.219.182])\\n          by paploo.uhi.ac.uk (james smtp server 2.1.3) with smtp id 622\\n          for <source@collab.sakaiproject.org>;\\n          fri, 4 jan 2008 20:02:46 +0000 (gmt)\\nreceived: from nakamura.uits.iupui.edu (nakamura.uits.iupui.edu [134.68.220.122])\\n\\tby shmi.uhi.ac.uk (postfix) with esmtp id ab4d042f4d\\n\\tfor <source@collab.sakaiproject.org>; fri,  4 jan 2008 20:02:50 +0000 (gmt)\\nreceived: from nakamura.uits.iupui.edu (localhost [127.0.0.1])\\n\\tby nakamura.uits.iupui.edu (8.12.11.20060308/8.12.11) with esmtp id m04k1cxv007740\\n\\tfor <source@collab.sakaiproject.org>; fri, 4 jan 2008 15:01:38 -0500\\nreceived: (from apache@localhost)\\n\\tby nakamura.uits.iupui.edu (8.12.11.20060308/8.12.11/submit) id m04k1co0007738\\n\\tfor source@collab.sakaiproject.org; fri, 4 jan 2008 15:01:38 -0500\\ndate: fri, 4 jan 2008 15:01:38 -0500\\nx-authentication-warning: nakamura.uits.iupui.edu: apache set sender to zqian@umich.edu using -f\\nto: source@collab.sakaiproject.org\\nfrom: zqian@umich.edu\\nsubject: [sakai] svn commit: r39766 - site-manage/branches/sakai_2-4-x/site-manage-tool/tool/src/java/org/sakaiproject/site/tool\\nx-content-type-outer-envelope: text/plain; charset=utf-8\\nx-content-type-message-body: text/plain; charset=utf-8\\ncontent-type: text/plain; charset=utf-8\\nx-dspam-result: innocent\\nx-dspam-processed: fri jan  4 15:03:18 2008\\nx-dspam-confidence: 0.7626\\nx-dspam-probability: 0.0000\\n\\ndetails: http://source.sakaiproject.org/viewsvn/?view=rev&rev=39766\\n\\nauthor: zqian@umich.edu\\ndate: 2008-01-04 15:01:37 -0500 (fri, 04 jan 2008)\\nnew revision: 39766\\n\\nmodified:\\nsite-manage/branches/sakai_2-4-x/site-manage-tool/tool/src/java/org/sakaiproject/site/tool/siteaction.java\\nlog:\\nmerge fix to sak-10788 into site-manage 2.4.x branch:\\n\\nsakai source repository  \\t#38024  \\twed nov 07 14:54:46 mst 2007  \\tzqian@umich.edu  \\t fix to sak-10788: if a provided id in a couse site is fake or doesn\\'t provide any user information, site info appears to be like project site with empty participant list\\n\\nwatch for enrollments object being null and concatenate provider ids when there are more than one.\\nfiles changed\\nmodify /site-manage/trunk/site-manage-tool/tool/src/java/org/sakaiproject/site/tool/siteaction.java \\n\\n\\n\\n\\n----------------------\\nthis automatic notification message was sent by sakai collab (https://collab.sakaiproject.org/portal) from the source site.\\nyou can modify how you receive notifications at my workspace > preferences.\\n\\n\\n\\nfrom rjlowe@iupui.edu fri jan  4 14:50:18 2008\\nreturn-path: <postmaster@collab.sakaiproject.org>\\nreceived: from murder (mail.umich.edu [141.211.14.93])\\n\\t by frankenstein.mail.umich.edu (cyrus v2.3.8) with lmtpa;\\n\\t fri, 04 jan 2008 14:50:18 -0500\\nx-sieve: cmu sieve 2.3\\nreceived: from murder ([unix socket])\\n\\t by mail.umich.edu (cyrus v2.2.12) with lmtpa;\\n\\t fri, 04 jan 2008 14:50:18 -0500\\nreceived: from eyewitness.mr.itd.umich.edu (eyewitness.mr.itd.umich.edu [141.211.93.142])\\n\\tby mission.mail.umich.edu () with esmtp id m04johji019755;\\n\\tfri, 4 jan 2008 14:50:17 -0500\\nreceived: from paploo.uhi.ac.uk (app1.prod.collab.uhi.ac.uk [194.35.219.184])\\n\\tby eyewitness.mr.itd.umich.edu id 477e8df2.67b91.5278 ; \\n\\t 4 jan 2008 14:50:13 -0500\\nreceived: from paploo.uhi.ac.uk (localhost [127.0.0.1])\\n\\tby paploo.uhi.ac.uk (postfix) with esmtp id 2d1b9bb492;\\n\\tfri,  4 jan 2008 19:47:10 +0000 (gmt)\\nmessage-id: <200801041948.m04jmdwo007705@nakamura.uits.iupui.edu>\\nmime-version: 1.0\\ncontent-transfer-encoding: 7bit\\nreceived: from prod.collab.uhi.ac.uk ([194.35.219.182])\\n          by paploo.uhi.ac.uk (james smtp server 2.1.3) with smtp id 960\\n          for <source@collab.sakaiproject.org>;\\n          fri, 4 jan 2008 19:46:50 +0000 (gmt)\\nreceived: from nakamura.uits.iupui.edu (nakamura.uits.iupui.edu [134.68.220.122])\\n\\tby shmi.uhi.ac.uk (postfix) with esmtp id b3e6742f4a\\n\\tfor <source@collab.sakaiproject.org>; fri,  4 jan 2008 19:49:51 +0000 (gmt)\\nreceived: from nakamura.uits.iupui.edu (localhost [127.0.0.1])\\n\\tby nakamura.uits.iupui.edu (8.12.11.20060308/8.12.11) with esmtp id m04jmev9007707\\n\\tfor <source@collab.sakaiproject.org>; fri, 4 jan 2008 14:48:40 -0500\\nreceived: (from apache@localhost)\\n\\tby nakamura.uits.iupui.edu (8.12.11.20060308/8.12.11/submit) id m04jmdwo007705\\n\\tfor source@collab.sakaiproject.org; fri, 4 jan 2008 14:48:39 -0500\\ndate: fri, 4 jan 2008 14:48:39 -0500\\nx-authentication-warning: nakamura.uits.iupui.edu: apache set sender to rjlowe@iupui.edu using -f\\nto: source@collab.sakaiproject.org\\nfrom: rjlowe@iupui.edu\\nsubject: [sakai] svn commit: r39765 - in gradebook/trunk/app: business/src/java/org/sakaiproject/tool/gradebook/business business/src/java/org/sakaiproject/tool/gradebook/business/impl ui ui/src/java/org/sakaiproject/tool/gradebook/ui/helpers/beans ui/src/java/org/sakaiproject/tool/gradebook/ui/helpers/entity ui/src/java/org/sakaiproject/tool/gradebook/ui/helpers/params ui/src/java/org/sakaiproject/tool/gradebook/ui/helpers/producers ui/src/webapp/web-inf ui/src/webapp/web-inf/bundle ui/src/webapp/content/templates\\nx-content-type-outer-envelope: text/plain; charset=utf-8\\nx-content-type-message-body: text/plain; charset=utf-8\\ncontent-type: text/plain; charset=utf-8\\nx-dspam-result: innocent\\nx-dspam-processed: fri jan  4 14:50:18 2008\\nx-dspam-confidence: 0.7556\\nx-dspam-probability: 0.0000\\n\\ndetails: http://source.sakaiproject.org/viewsvn/?view=rev&rev=39765\\n\\nauthor: rjlowe@iupui.edu\\ndate: 2008-01-04 14:48:37 -0500 (fri, 04 jan 2008)\\nnew revision: 39765\\n\\nadded:\\ngradebook/trunk/app/ui/src/java/org/sakaiproject/tool/gradebook/ui/helpers/beans/assignmentgraderecordbean.java\\ngradebook/trunk/app/ui/src/java/org/sakaiproject/tool/gradebook/ui/helpers/beans/assignmentgraderecordcreator.java\\ngradebook/trunk/app/ui/src/java/org/sakaiproject/tool/gradebook/ui/helpers/entity/gradebookentrygradeentityprovider.java\\ngradebook/trunk/app/ui/src/java/org/sakaiproject/tool/gradebook/ui/helpers/params/gradegradebookitemviewparams.java\\ngradebook/trunk/app/ui/src/java/org/sakaiproject/tool/gradebook/ui/helpers/producers/gradegradebookitemproducer.java\\ngradebook/trunk/app/ui/src/webapp/content/templates/grade-gradebook-item.html\\nmodified:\\ngradebook/trunk/app/business/src/java/org/sakaiproject/tool/gradebook/business/gradebookmanager.java\\ngradebook/trunk/app/business/src/java/org/sakaiproject/tool/gradebook/business/impl/gradebookmanagerhibernateimpl.java\\ngradebook/trunk/app/ui/pom.xml\\ngradebook/trunk/app/ui/src/java/org/sakaiproject/tool/gradebook/ui/helpers/beans/gradebookitembean.java\\ngradebook/trunk/app/ui/src/java/org/sakaiproject/tool/gradebook/ui/helpers/entity/gradebookentryentityprovider.java\\ngradebook/trunk/app/ui/src/java/org/sakaiproject/tool/gradebook/ui/helpers/producers/addgradebookitemproducer.java\\ngradebook/trunk/app/ui/src/webapp/web-inf/applicationcontext.xml\\ngradebook/trunk/app/ui/src/webapp/web-inf/bundle/messages.properties\\ngradebook/trunk/app/ui/src/webapp/web-inf/requestcontext.xml\\nlog:\\nsak-12180 - new helper tool to grade an assignment\\n\\n----------------------\\nthis automatic notification message was sent by sakai collab (https://collab.sakaiproject.org/portal) from the source site.\\nyou can modify how you receive notifications at my workspace > preferences.\\n\\n\\n\\nfrom cwen@iupui.edu fri jan  4 11:37:30 2008\\nreturn-path: <postmaster@collab.sakaiproject.org>\\nreceived: from murder (mail.umich.edu [141.211.14.46])\\n\\t by frankenstein.mail.umich.edu (cyrus v2.3.8) with lmtpa;\\n\\t fri, 04 jan 2008 11:37:30 -0500\\nx-sieve: cmu sieve 2.3\\nreceived: from murder ([unix socket])\\n\\t by mail.umich.edu (cyrus v2.2.12) with lmtpa;\\n\\t fri, 04 jan 2008 11:37:30 -0500\\nreceived: from tadpole.mr.itd.umich.edu (tadpole.mr.itd.umich.edu [141.211.14.72])\\n\\tby fan.mail.umich.edu () with esmtp id m04gbt9x022078;\\n\\tfri, 4 jan 2008 11:37:29 -0500\\nreceived: from paploo.uhi.ac.uk (app1.prod.collab.uhi.ac.uk [194.35.219.184])\\n\\tby tadpole.mr.itd.umich.edu id 477e60b2.82756.9904 ; \\n\\t 4 jan 2008 11:37:09 -0500\\nreceived: from paploo.uhi.ac.uk (localhost [127.0.0.1])\\n\\tby paploo.uhi.ac.uk (postfix) with esmtp id 8d13dbb001;\\n\\tfri,  4 jan 2008 16:37:07 +0000 (gmt)\\nmessage-id: <200801041635.m04gzqgz007313@nakamura.uits.iupui.edu>\\nmime-version: 1.0\\ncontent-transfer-encoding: 7bit\\nreceived: from prod.collab.uhi.ac.uk ([194.35.219.182])\\n          by paploo.uhi.ac.uk (james smtp server 2.1.3) with smtp id 120\\n          for <source@collab.sakaiproject.org>;\\n          fri, 4 jan 2008 16:36:40 +0000 (gmt)\\nreceived: from nakamura.uits.iupui.edu (nakamura.uits.iupui.edu [134.68.220.122])\\n\\tby shmi.uhi.ac.uk (postfix) with esmtp id d430b42e42\\n\\tfor <source@collab.sakaiproject.org>; fri,  4 jan 2008 16:36:37 +0000 (gmt)\\nreceived: from nakamura.uits.iupui.edu (localhost [127.0.0.1])\\n\\tby nakamura.uits.iupui.edu (8.12.11.20060308/8.12.11) with esmtp id m04gzq7w007315\\n\\tfor <source@collab.sakaiproject.org>; fri, 4 jan 2008 11:35:26 -0500\\nreceived: (from apache@localhost)\\n\\tby nakamura.uits.iupui.edu (8.12.11.20060308/8.12.11/submit) id m04gzqgz007313\\n\\tfor source@collab.sakaiproject.org; fri, 4 jan 2008 11:35:26 -0500\\ndate: fri, 4 jan 2008 11:35:26 -0500\\nx-authentication-warning: nakamura.uits.iupui.edu: apache set sender to cwen@iupui.edu using -f\\nto: source@collab.sakaiproject.org\\nfrom: cwen@iupui.edu\\nsubject: [sakai] svn commit: r39764 - in msgcntr/trunk/messageforums-app/src/java/org/sakaiproject/tool/messageforums: . ui\\nx-content-type-outer-envelope: text/plain; charset=utf-8\\nx-content-type-message-body: text/plain; charset=utf-8\\ncontent-type: text/plain; charset=utf-8\\nx-dspam-result: innocent\\nx-dspam-processed: fri jan  4 11:37:30 2008\\nx-dspam-confidence: 0.7002\\nx-dspam-probability: 0.0000\\n\\ndetails: http://source.sakaiproject.org/viewsvn/?view=rev&rev=39764\\n\\nauthor: cwen@iupui.edu\\ndate: 2008-01-04 11:35:25 -0500 (fri, 04 jan 2008)\\nnew revision: 39764\\n\\nmodified:\\nmsgcntr/trunk/messageforums-app/src/java/org/sakaiproject/tool/messageforums/privatemessagestool.java\\nmsgcntr/trunk/messageforums-app/src/java/org/sakaiproject/tool/messageforums/ui/privatemessagedecoratedbean.java\\nlog:\\nunmerge xingtang checkin for sak-12488.\\n\\nsvn merge -r39558:39557 https://source.sakaiproject.org/svn/msgcntr/trunk\\nu    messageforums-app/src/java/org/sakaiproject/tool/messageforums/privatemessagestool.java\\nu    messageforums-app/src/java/org/sakaiproject/tool/messageforums/ui/privatemessagedecoratedbean.java\\n\\nsvn log -r 39558\\n------------------------------------------------------------------------\\nr39558 | hu2@iupui.edu | 2007-12-20 15:25:38 -0500 (thu, 20 dec 2007) | 3 lines\\n\\nsak-12488\\nwhen send a message to yourself. click reply to all, cc row should be null.\\nhttp://jira.sakaiproject.org/jira/browse/sak-12488\\n------------------------------------------------------------------------\\n\\n\\n----------------------\\nthis automatic notification message was sent by sakai collab (https://collab.sakaiproject.org/portal) from the source site.\\nyou can modify how you receive notifications at my workspace > preferences.\\n\\n\\n\\nfrom cwen@iupui.edu fri jan  4 11:35:08 2008\\nreturn-path: <postmaster@collab.sakaiproject.org>\\nreceived: from murder (mail.umich.edu [141.211.14.46])\\n\\t by frankenstein.mail.umich.edu (cyrus v2.3.8) with lmtpa;\\n\\t fri, 04 jan 2008 11:35:08 -0500\\nx-sieve: cmu sieve 2.3\\nreceived: from murder ([unix socket])\\n\\t by mail.umich.edu (cyrus v2.2.12) with lmtpa;\\n\\t fri, 04 jan 2008 11:35:08 -0500\\nreceived: from it.mr.itd.umich.edu (it.mr.itd.umich.edu [141.211.93.151])\\n\\tby fan.mail.umich.edu () with esmtp id m04gz6lt020480;\\n\\tfri, 4 jan 2008 11:35:06 -0500\\nreceived: from paploo.uhi.ac.uk (app1.prod.collab.uhi.ac.uk [194.35.219.184])\\n\\tby it.mr.itd.umich.edu id 477e6033.6469d.21870 ; \\n\\t 4 jan 2008 11:35:02 -0500\\nreceived: from paploo.uhi.ac.uk (localhost [127.0.0.1])\\n\\tby paploo.uhi.ac.uk (postfix) with esmtp id e40fabae5b;\\n\\tfri,  4 jan 2008 16:34:38 +0000 (gmt)\\nmessage-id: <200801041633.m04gx6eg007292@nakamura.uits.iupui.edu>\\nmime-version: 1.0\\ncontent-transfer-encoding: 7bit\\nreceived: from prod.collab.uhi.ac.uk ([194.35.219.182])\\n          by paploo.uhi.ac.uk (james smtp server 2.1.3) with smtp id 697\\n          for <source@collab.sakaiproject.org>;\\n          fri, 4 jan 2008 16:34:01 +0000 (gmt)\\nreceived: from nakamura.uits.iupui.edu (nakamura.uits.iupui.edu [134.68.220.122])\\n\\tby shmi.uhi.ac.uk (postfix) with esmtp id 1cd0c42e42\\n\\tfor <source@collab.sakaiproject.org>; fri,  4 jan 2008 16:34:17 +0000 (gmt)\\nreceived: from nakamura.uits.iupui.edu (localhost [127.0.0.1])\\n\\tby nakamura.uits.iupui.edu (8.12.11.20060308/8.12.11) with esmtp id m04gx6y3007294\\n\\tfor <source@collab.sakaiproject.org>; fri, 4 jan 2008 11:33:06 -0500\\nreceived: (from apache@localhost)\\n\\tby nakamura.uits.iupui.edu (8.12.11.20060308/8.12.11/submit) id m04gx6eg007292\\n\\tfor source@collab.sakaiproject.org; fri, 4 jan 2008 11:33:06 -0500\\ndate: fri, 4 jan 2008 11:33:06 -0500\\nx-authentication-warning: nakamura.uits.iupui.edu: apache set sender to cwen@iupui.edu using -f\\nto: source@collab.sakaiproject.org\\nfrom: cwen@iupui.edu\\nsubject: [sakai] svn commit: r39763 - in msgcntr/trunk: messageforums-api/src/bundle/org/sakaiproject/api/app/messagecenter/bundle messageforums-app/src/java/org/sakaiproject/tool/messageforums\\nx-content-type-outer-envelope: text/plain; charset=utf-8\\nx-content-type-message-body: text/plain; charset=utf-8\\ncontent-type: text/plain; charset=utf-8\\nx-dspam-result: innocent\\nx-dspam-processed: fri jan  4 11:35:08 2008\\nx-dspam-confidence: 0.7615\\nx-dspam-probability: 0.0000\\n\\ndetails: http://source.sakaiproject.org/viewsvn/?view=rev&rev=39763\\n\\nauthor: cwen@iupui.edu\\ndate: 2008-01-04 11:33:05 -0500 (fri, 04 jan 2008)\\nnew revision: 39763\\n\\nmodified:\\nmsgcntr/trunk/messageforums-api/src/bundle/org/sakaiproject/api/app/messagecenter/bundle/messages.properties\\nmsgcntr/trunk/messageforums-app/src/java/org/sakaiproject/tool/messageforums/privatemessagestool.java\\nlog:\\nunmerge xingtang check in for sak-12484.\\n\\nsvn merge -r39571:39570 https://source.sakaiproject.org/svn/msgcntr/trunk\\nu    messageforums-api/src/bundle/org/sakaiproject/api/app/messagecenter/bundle/messages.properties\\nu    messageforums-app/src/java/org/sakaiproject/tool/messageforums/privatemessagestool.java\\n\\nsvn log -r 39571\\n------------------------------------------------------------------------\\nr39571 | hu2@iupui.edu | 2007-12-20 21:26:28 -0500 (thu, 20 dec 2007) | 3 lines\\n\\nsak-12484\\nreply all cc list should not include the current user name.\\nhttp://jira.sakaiproject.org/jira/browse/sak-12484\\n------------------------------------------------------------------------\\n\\n\\n----------------------\\nthis automatic notification message was sent by sakai collab (https://collab.sakaiproject.org/portal) from the source site.\\nyou can modify how you receive notifications at my workspace > preferences.\\n\\n\\n\\nfrom gsilver@umich.edu fri jan  4 11:12:37 2008\\nreturn-path: <postmaster@collab.sakaiproject.org>\\nreceived: from murder (mail.umich.edu [141.211.14.25])\\n\\t by frankenstein.mail.umich.edu (cyrus v2.3.8) with lmtpa;\\n\\t fri, 04 jan 2008 11:12:37 -0500\\nx-sieve: cmu sieve 2.3\\nreceived: from murder ([unix socket])\\n\\t by mail.umich.edu (cyrus v2.2.12) with lmtpa;\\n\\t fri, 04 jan 2008 11:12:37 -0500\\nreceived: from holes.mr.itd.umich.edu (holes.mr.itd.umich.edu [141.211.14.79])\\n\\tby panther.mail.umich.edu () with esmtp id m04gcahb030887;\\n\\tfri, 4 jan 2008 11:12:36 -0500\\nreceived: from paploo.uhi.ac.uk (app1.prod.collab.uhi.ac.uk [194.35.219.184])\\n\\tby holes.mr.itd.umich.edu id 477e5aeb.e670b.28397 ; \\n\\t 4 jan 2008 11:12:30 -0500\\nreceived: from paploo.uhi.ac.uk (localhost [127.0.0.1])\\n\\tby paploo.uhi.ac.uk (postfix) with esmtp id 99715bae7d;\\n\\tfri,  4 jan 2008 16:12:27 +0000 (gmt)\\nmessage-id: <200801041611.m04gb1lb007221@nakamura.uits.iupui.edu>\\nmime-version: 1.0\\ncontent-transfer-encoding: 7bit\\nreceived: from prod.collab.uhi.ac.uk ([194.35.219.182])\\n          by paploo.uhi.ac.uk (james smtp server 2.1.3) with smtp id 272\\n          for <source@collab.sakaiproject.org>;\\n          fri, 4 jan 2008 16:12:14 +0000 (gmt)\\nreceived: from nakamura.uits.iupui.edu (nakamura.uits.iupui.edu [134.68.220.122])\\n\\tby shmi.uhi.ac.uk (postfix) with esmtp id 0a6ed42dfc\\n\\tfor <source@collab.sakaiproject.org>; fri,  4 jan 2008 16:12:12 +0000 (gmt)\\nreceived: from nakamura.uits.iupui.edu (localhost [127.0.0.1])\\n\\tby nakamura.uits.iupui.edu (8.12.11.20060308/8.12.11) with esmtp id m04gb1wt007223\\n\\tfor <source@collab.sakaiproject.org>; fri, 4 jan 2008 11:11:01 -0500\\nreceived: (from apache@localhost)\\n\\tby nakamura.uits.iupui.edu (8.12.11.20060308/8.12.11/submit) id m04gb1lb007221\\n\\tfor source@collab.sakaiproject.org; fri, 4 jan 2008 11:11:01 -0500\\ndate: fri, 4 jan 2008 11:11:01 -0500\\nx-authentication-warning: nakamura.uits.iupui.edu: apache set sender to gsilver@umich.edu using -f\\nto: source@collab.sakaiproject.org\\nfrom: gsilver@umich.edu\\nsubject: [sakai] svn commit: r39762 - web/trunk/web-tool/tool/src/bundle\\nx-content-type-outer-envelope: text/plain; charset=utf-8\\nx-content-type-message-body: text/plain; charset=utf-8\\ncontent-type: text/plain; charset=utf-8\\nx-dspam-result: innocent\\nx-dspam-processed: fri jan  4 11:12:37 2008\\nx-dspam-confidence: 0.7601\\nx-dspam-probability: 0.0000\\n\\ndetails: http://source.sakaiproject.org/viewsvn/?view=rev&rev=39762\\n\\nauthor: gsilver@umich.edu\\ndate: 2008-01-04 11:11:00 -0500 (fri, 04 jan 2008)\\nnew revision: 39762\\n\\nmodified:\\nweb/trunk/web-tool/tool/src/bundle/iframe.properties\\nlog:\\nsak-12596\\nhttp://bugs.sakaiproject.org/jira/browse/sak-12596\\n- left moot (unused) entries commented for now\\n\\n----------------------\\nthis automatic notification message was sent by sakai collab (https://collab.sakaiproject.org/portal) from the source site.\\nyou can modify how you receive notifications at my workspace > preferences.\\n\\n\\n\\nfrom gsilver@umich.edu fri jan  4 11:11:52 2008\\nreturn-path: <postmaster@collab.sakaiproject.org>\\nreceived: from murder (mail.umich.edu [141.211.14.36])\\n\\t by frankenstein.mail.umich.edu (cyrus v2.3.8) with lmtpa;\\n\\t fri, 04 jan 2008 11:11:52 -0500\\nx-sieve: cmu sieve 2.3\\nreceived: from murder ([unix socket])\\n\\t by mail.umich.edu (cyrus v2.2.12) with lmtpa;\\n\\t fri, 04 jan 2008 11:11:52 -0500\\nreceived: from creepshow.mr.itd.umich.edu (creepshow.mr.itd.umich.edu [141.211.14.84])\\n\\tby godsend.mail.umich.edu () with esmtp id m04gbqqv025330;\\n\\tfri, 4 jan 2008 11:11:52 -0500\\nreceived: from paploo.uhi.ac.uk (app1.prod.collab.uhi.ac.uk [194.35.219.184])\\n\\tby creepshow.mr.itd.umich.edu id 477e5ab3.5cc32.30840 ; \\n\\t 4 jan 2008 11:11:34 -0500\\nreceived: from paploo.uhi.ac.uk (localhost [127.0.0.1])\\n\\tby paploo.uhi.ac.uk (postfix) with esmtp id 62aa4bae46;\\n\\tfri,  4 jan 2008 16:11:31 +0000 (gmt)\\nmessage-id: <200801041610.m04ga5kp007209@nakamura.uits.iupui.edu>\\nmime-version: 1.0\\ncontent-transfer-encoding: 7bit\\nreceived: from prod.collab.uhi.ac.uk ([194.35.219.182])\\n          by paploo.uhi.ac.uk (james smtp server 2.1.3) with smtp id 1006\\n          for <source@collab.sakaiproject.org>;\\n          fri, 4 jan 2008 16:11:18 +0000 (gmt)\\nreceived: from nakamura.uits.iupui.edu (nakamura.uits.iupui.edu [134.68.220.122])\\n\\tby shmi.uhi.ac.uk (postfix) with esmtp id c596a3dfa2\\n\\tfor <source@collab.sakaiproject.org>; fri,  4 jan 2008 16:11:16 +0000 (gmt)\\nreceived: from nakamura.uits.iupui.edu (localhost [127.0.0.1])\\n\\tby nakamura.uits.iupui.edu (8.12.11.20060308/8.12.11) with esmtp id m04ga5lr007211\\n\\tfor <source@collab.sakaiproject.org>; fri, 4 jan 2008 11:10:05 -0500\\nreceived: (from apache@localhost)\\n\\tby nakamura.uits.iupui.edu (8.12.11.20060308/8.12.11/submit) id m04ga5kp007209\\n\\tfor source@collab.sakaiproject.org; fri, 4 jan 2008 11:10:05 -0500\\ndate: fri, 4 jan 2008 11:10:05 -0500\\nx-authentication-warning: nakamura.uits.iupui.edu: apache set sender to gsilver@umich.edu using -f\\nto: source@collab.sakaiproject.org\\nfrom: gsilver@umich.edu\\nsubject: [sakai] svn commit: r39761 - site/trunk/site-tool/tool/src/bundle\\nx-content-type-outer-envelope: text/plain; charset=utf-8\\nx-content-type-message-body: text/plain; charset=utf-8\\ncontent-type: text/plain; charset=utf-8\\nx-dspam-result: innocent\\nx-dspam-processed: fri jan  4 11:11:52 2008\\nx-dspam-confidence: 0.7605\\nx-dspam-probability: 0.0000\\n\\ndetails: http://source.sakaiproject.org/viewsvn/?view=rev&rev=39761\\n\\nauthor: gsilver@umich.edu\\ndate: 2008-01-04 11:10:04 -0500 (fri, 04 jan 2008)\\nnew revision: 39761\\n\\nmodified:\\nsite/trunk/site-tool/tool/src/bundle/admin.properties\\nlog:\\nsak-12595\\nhttp://bugs.sakaiproject.org/jira/browse/sak-12595\\n- left moot (unused) entries commented for now\\n\\n----------------------\\nthis automatic notification message was sent by sakai collab (https://collab.sakaiproject.org/portal) from the source site.\\nyou can modify how you receive notifications at my workspace > preferences.\\n\\n\\n\\nfrom zqian@umich.edu fri jan  4 11:11:03 2008\\nreturn-path: <postmaster@collab.sakaiproject.org>\\nreceived: from murder (mail.umich.edu [141.211.14.97])\\n\\t by frankenstein.mail.umich.edu (cyrus v2.3.8) with lmtpa;\\n\\t fri, 04 jan 2008 11:11:03 -0500\\nx-sieve: cmu sieve 2.3\\nreceived: from murder ([unix socket])\\n\\t by mail.umich.edu (cyrus v2.2.12) with lmtpa;\\n\\t fri, 04 jan 2008 11:11:03 -0500\\nreceived: from carrie.mr.itd.umich.edu (carrie.mr.itd.umich.edu [141.211.93.152])\\n\\tby sleepers.mail.umich.edu () with esmtp id m04gb3vg011502;\\n\\tfri, 4 jan 2008 11:11:03 -0500\\nreceived: from paploo.uhi.ac.uk (app1.prod.collab.uhi.ac.uk [194.35.219.184])\\n\\tby carrie.mr.itd.umich.edu id 477e5a8d.b378f.24200 ; \\n\\t 4 jan 2008 11:10:56 -0500\\nreceived: from paploo.uhi.ac.uk (localhost [127.0.0.1])\\n\\tby paploo.uhi.ac.uk (postfix) with esmtp id c7251bad44;\\n\\tfri,  4 jan 2008 16:10:53 +0000 (gmt)\\nmessage-id: <200801041609.m04g9eux007197@nakamura.uits.iupui.edu>\\nmime-version: 1.0\\ncontent-transfer-encoding: 7bit\\nreceived: from prod.collab.uhi.ac.uk ([194.35.219.182])\\n          by paploo.uhi.ac.uk (james smtp server 2.1.3) with smtp id 483\\n          for <source@collab.sakaiproject.org>;\\n          fri, 4 jan 2008 16:10:27 +0000 (gmt)\\nreceived: from nakamura.uits.iupui.edu (nakamura.uits.iupui.edu [134.68.220.122])\\n\\tby shmi.uhi.ac.uk (postfix) with esmtp id 2e7043dfa2\\n\\tfor <source@collab.sakaiproject.org>; fri,  4 jan 2008 16:10:26 +0000 (gmt)\\nreceived: from nakamura.uits.iupui.edu (localhost [127.0.0.1])\\n\\tby nakamura.uits.iupui.edu (8.12.11.20060308/8.12.11) with esmtp id m04g9eqg007199\\n\\tfor <source@collab.sakaiproject.org>; fri, 4 jan 2008 11:09:15 -0500\\nreceived: (from apache@localhost)\\n\\tby nakamura.uits.iupui.edu (8.12.11.20060308/8.12.11/submit) id m04g9eux007197\\n\\tfor source@collab.sakaiproject.org; fri, 4 jan 2008 11:09:14 -0500\\ndate: fri, 4 jan 2008 11:09:14 -0500\\nx-authentication-warning: nakamura.uits.iupui.edu: apache set sender to zqian@umich.edu using -f\\nto: source@collab.sakaiproject.org\\nfrom: zqian@umich.edu\\nsubject: [sakai] svn commit: r39760 - in site-manage/trunk/site-manage-tool/tool/src: java/org/sakaiproject/site/tool webapp/vm/sitesetup\\nx-content-type-outer-envelope: text/plain; charset=utf-8\\nx-content-type-message-body: text/plain; charset=utf-8\\ncontent-type: text/plain; charset=utf-8\\nx-dspam-result: innocent\\nx-dspam-processed: fri jan  4 11:11:03 2008\\nx-dspam-confidence: 0.6959\\nx-dspam-probability: 0.0000\\n\\ndetails: http://source.sakaiproject.org/viewsvn/?view=rev&rev=39760\\n\\nauthor: zqian@umich.edu\\ndate: 2008-01-04 11:09:12 -0500 (fri, 04 jan 2008)\\nnew revision: 39760\\n\\nmodified:\\nsite-manage/trunk/site-manage-tool/tool/src/java/org/sakaiproject/site/tool/siteaction.java\\nsite-manage/trunk/site-manage-tool/tool/src/webapp/vm/sitesetup/chef_site-siteinfo-list.vm\\nlog:\\nfix to sak-10911: refactor use of site.upd, site.upd.site.mbrship and site.upd.grp.mbrship permissions\\n\\n----------------------\\nthis automatic notification message was sent by sakai collab (https://collab.sakaiproject.org/portal) from the source site.\\nyou can modify how you receive notifications at my workspace > preferences.\\n\\n\\n\\nfrom gsilver@umich.edu fri jan  4 11:10:22 2008\\nreturn-path: <postmaster@collab.sakaiproject.org>\\nreceived: from murder (mail.umich.edu [141.211.14.39])\\n\\t by frankenstein.mail.umich.edu (cyrus v2.3.8) with lmtpa;\\n\\t fri, 04 jan 2008 11:10:22 -0500\\nx-sieve: cmu sieve 2.3\\nreceived: from murder ([unix socket])\\n\\t by mail.umich.edu (cyrus v2.2.12) with lmtpa;\\n\\t fri, 04 jan 2008 11:10:22 -0500\\nreceived: from holes.mr.itd.umich.edu (holes.mr.itd.umich.edu [141.211.14.79])\\n\\tby faithful.mail.umich.edu () with esmtp id m04gal9k010604;\\n\\tfri, 4 jan 2008 11:10:21 -0500\\nreceived: from paploo.uhi.ac.uk (app1.prod.collab.uhi.ac.uk [194.35.219.184])\\n\\tby holes.mr.itd.umich.edu id 477e5a67.34350.23015 ; \\n\\t 4 jan 2008 11:10:18 -0500\\nreceived: from paploo.uhi.ac.uk (localhost [127.0.0.1])\\n\\tby paploo.uhi.ac.uk (postfix) with esmtp id 98d04bad43;\\n\\tfri,  4 jan 2008 16:10:11 +0000 (gmt)\\nmessage-id: <200801041608.m04g8d7w007184@nakamura.uits.iupui.edu>\\nmime-version: 1.0\\ncontent-transfer-encoding: 7bit\\nreceived: from prod.collab.uhi.ac.uk ([194.35.219.182])\\n          by paploo.uhi.ac.uk (james smtp server 2.1.3) with smtp id 966\\n          for <source@collab.sakaiproject.org>;\\n          fri, 4 jan 2008 16:09:51 +0000 (gmt)\\nreceived: from nakamura.uits.iupui.edu (nakamura.uits.iupui.edu [134.68.220.122])\\n\\tby shmi.uhi.ac.uk (postfix) with esmtp id 9f89542dd0\\n\\tfor <source@collab.sakaiproject.org>; fri,  4 jan 2008 16:09:50 +0000 (gmt)\\nreceived: from nakamura.uits.iupui.edu (localhost [127.0.0.1])\\n\\tby nakamura.uits.iupui.edu (8.12.11.20060308/8.12.11) with esmtp id m04g8dxn007186\\n\\tfor <source@collab.sakaiproject.org>; fri, 4 jan 2008 11:08:39 -0500\\nreceived: (from apache@localhost)\\n\\tby nakamura.uits.iupui.edu (8.12.11.20060308/8.12.11/submit) id m04g8d7w007184\\n\\tfor source@collab.sakaiproject.org; fri, 4 jan 2008 11:08:39 -0500\\ndate: fri, 4 jan 2008 11:08:39 -0500\\nx-authentication-warning: nakamura.uits.iupui.edu: apache set sender to gsilver@umich.edu using -f\\nto: source@collab.sakaiproject.org\\nfrom: gsilver@umich.edu\\nsubject: [sakai] svn commit: r39759 - mailarchive/trunk/mailarchive-tool/tool/src/bundle\\nx-content-type-outer-envelope: text/plain; charset=utf-8\\nx-content-type-message-body: text/plain; charset=utf-8\\ncontent-type: text/plain; charset=utf-8\\nx-dspam-result: innocent\\nx-dspam-processed: fri jan  4 11:10:22 2008\\nx-dspam-confidence: 0.7606\\nx-dspam-probability: 0.0000\\n\\ndetails: http://source.sakaiproject.org/viewsvn/?view=rev&rev=39759\\n\\nauthor: gsilver@umich.edu\\ndate: 2008-01-04 11:08:38 -0500 (fri, 04 jan 2008)\\nnew revision: 39759\\n\\nmodified:\\nmailarchive/trunk/mailarchive-tool/tool/src/bundle/email.properties\\nlog:\\nsak-12592\\nhttp://bugs.sakaiproject.org/jira/browse/sak-12592\\n- left moot (unused) entries commented for now\\n\\n----------------------\\nthis automatic notification message was sent by sakai collab (https://collab.sakaiproject.org/portal) from the source site.\\nyou can modify how you receive notifications at my workspace > preferences.\\n\\n\\n\\nfrom wagnermr@iupui.edu fri jan  4 10:38:42 2008\\nreturn-path: <postmaster@collab.sakaiproject.org>\\nreceived: from murder (mail.umich.edu [141.211.14.90])\\n\\t by frankenstein.mail.umich.edu (cyrus v2.3.8) with lmtpa;\\n\\t fri, 04 jan 2008 10:38:42 -0500\\nx-sieve: cmu sieve 2.3\\nreceived: from murder ([unix socket])\\n\\t by mail.umich.edu (cyrus v2.2.12) with lmtpa;\\n\\t fri, 04 jan 2008 10:38:42 -0500\\nreceived: from shining.mr.itd.umich.edu (shining.mr.itd.umich.edu [141.211.93.153])\\n\\tby flawless.mail.umich.edu () with esmtp id m04fcfjm012313;\\n\\tfri, 4 jan 2008 10:38:41 -0500\\nreceived: from paploo.uhi.ac.uk (app1.prod.collab.uhi.ac.uk [194.35.219.184])\\n\\tby shining.mr.itd.umich.edu id 477e52fa.e6c6e.24093 ; \\n\\t 4 jan 2008 10:38:37 -0500\\nreceived: from paploo.uhi.ac.uk (localhost [127.0.0.1])\\n\\tby paploo.uhi.ac.uk (postfix) with esmtp id 6a39594cd2;\\n\\tfri,  4 jan 2008 15:37:36 +0000 (gmt)\\nmessage-id: <200801041537.m04fb6ci007092@nakamura.uits.iupui.edu>\\nmime-version: 1.0\\ncontent-transfer-encoding: 7bit\\nreceived: from prod.collab.uhi.ac.uk ([194.35.219.182])\\n          by paploo.uhi.ac.uk (james smtp server 2.1.3) with smtp id 690\\n          for <source@collab.sakaiproject.org>;\\n          fri, 4 jan 2008 15:37:21 +0000 (gmt)\\nreceived: from nakamura.uits.iupui.edu (nakamura.uits.iupui.edu [134.68.220.122])\\n\\tby shmi.uhi.ac.uk (postfix) with esmtp id cefa037ace\\n\\tfor <source@collab.sakaiproject.org>; fri,  4 jan 2008 15:38:17 +0000 (gmt)\\nreceived: from nakamura.uits.iupui.edu (localhost [127.0.0.1])\\n\\tby nakamura.uits.iupui.edu (8.12.11.20060308/8.12.11) with esmtp id m04fb6nh007094\\n\\tfor <source@collab.sakaiproject.org>; fri, 4 jan 2008 10:37:06 -0500\\nreceived: (from apache@localhost)\\n\\tby nakamura.uits.iupui.edu (8.12.11.20060308/8.12.11/submit) id m04fb6ci007092\\n\\tfor source@collab.sakaiproject.org; fri, 4 jan 2008 10:37:06 -0500\\ndate: fri, 4 jan 2008 10:37:06 -0500\\nx-authentication-warning: nakamura.uits.iupui.edu: apache set sender to wagnermr@iupui.edu using -f\\nto: source@collab.sakaiproject.org\\nfrom: wagnermr@iupui.edu\\nsubject: [sakai] svn commit: r39758 - in gradebook/trunk: app/business/src/java/org/sakaiproject/tool/gradebook/business/impl service/api/src/java/org/sakaiproject/service/gradebook/shared service/impl/src/java/org/sakaiproject/component/gradebook\\nx-content-type-outer-envelope: text/plain; charset=utf-8\\nx-content-type-message-body: text/plain; charset=utf-8\\ncontent-type: text/plain; charset=utf-8\\nx-dspam-result: innocent\\nx-dspam-processed: fri jan  4 10:38:42 2008\\nx-dspam-confidence: 0.7559\\nx-dspam-probability: 0.0000\\n\\ndetails: http://source.sakaiproject.org/viewsvn/?view=rev&rev=39758\\n\\nauthor: wagnermr@iupui.edu\\ndate: 2008-01-04 10:37:04 -0500 (fri, 04 jan 2008)\\nnew revision: 39758\\n\\nmodified:\\ngradebook/trunk/app/business/src/java/org/sakaiproject/tool/gradebook/business/impl/gradebookmanagerhibernateimpl.java\\ngradebook/trunk/service/api/src/java/org/sakaiproject/service/gradebook/shared/gradebookservice.java\\ngradebook/trunk/service/impl/src/java/org/sakaiproject/component/gradebook/gradebookservicehibernateimpl.java\\nlog:\\nsak-12175\\nhttp://bugs.sakaiproject.org/jira/browse/sak-12175\\ncreate methods required for gb integration with the assignment2 tool\\ngetgradedefinitionforstudentforitem\\n\\n----------------------\\nthis automatic notification message was sent by sakai collab (https://collab.sakaiproject.org/portal) from the source site.\\nyou can modify how you receive notifications at my workspace > preferences.\\n\\n\\n\\nfrom zqian@umich.edu fri jan  4 10:17:43 2008\\nreturn-path: <postmaster@collab.sakaiproject.org>\\nreceived: from murder (mail.umich.edu [141.211.14.97])\\n\\t by frankenstein.mail.umich.edu (cyrus v2.3.8) with lmtpa;\\n\\t fri, 04 jan 2008 10:17:43 -0500\\nx-sieve: cmu sieve 2.3\\nreceived: from murder ([unix socket])\\n\\t by mail.umich.edu (cyrus v2.2.12) with lmtpa;\\n\\t fri, 04 jan 2008 10:17:42 -0500\\nreceived: from creepshow.mr.itd.umich.edu (creepshow.mr.itd.umich.edu [141.211.14.84])\\n\\tby sleepers.mail.umich.edu () with esmtp id m04fhgfs011536;\\n\\tfri, 4 jan 2008 10:17:42 -0500\\nreceived: from paploo.uhi.ac.uk (app1.prod.collab.uhi.ac.uk [194.35.219.184])\\n\\tby creepshow.mr.itd.umich.edu id 477e4e0f.cca4b.926 ; \\n\\t 4 jan 2008 10:17:38 -0500\\nreceived: from paploo.uhi.ac.uk (localhost [127.0.0.1])\\n\\tby paploo.uhi.ac.uk (postfix) with esmtp id bd02dbac64;\\n\\tfri,  4 jan 2008 15:17:34 +0000 (gmt)\\nmessage-id: <200801041515.m04ffv42007050@nakamura.uits.iupui.edu>\\nmime-version: 1.0\\ncontent-transfer-encoding: 7bit\\nreceived: from prod.collab.uhi.ac.uk ([194.35.219.182])\\n          by paploo.uhi.ac.uk (james smtp server 2.1.3) with smtp id 25\\n          for <source@collab.sakaiproject.org>;\\n          fri, 4 jan 2008 15:17:11 +0000 (gmt)\\nreceived: from nakamura.uits.iupui.edu (nakamura.uits.iupui.edu [134.68.220.122])\\n\\tby shmi.uhi.ac.uk (postfix) with esmtp id 5b396236b9\\n\\tfor <source@collab.sakaiproject.org>; fri,  4 jan 2008 15:17:08 +0000 (gmt)\\nreceived: from nakamura.uits.iupui.edu (localhost [127.0.0.1])\\n\\tby nakamura.uits.iupui.edu (8.12.11.20060308/8.12.11) with esmtp id m04ffv85007052\\n\\tfor <source@collab.sakaiproject.org>; fri, 4 jan 2008 10:15:57 -0500\\nreceived: (from apache@localhost)\\n\\tby nakamura.uits.iupui.edu (8.12.11.20060308/8.12.11/submit) id m04ffv42007050\\n\\tfor source@collab.sakaiproject.org; fri, 4 jan 2008 10:15:57 -0500\\ndate: fri, 4 jan 2008 10:15:57 -0500\\nx-authentication-warning: nakamura.uits.iupui.edu: apache set sender to zqian@umich.edu using -f\\nto: source@collab.sakaiproject.org\\nfrom: zqian@umich.edu\\nsubject: [sakai] svn commit: r39757 - in assignment/trunk: assignment-impl/impl/src/java/org/sakaiproject/assignment/impl assignment-tool/tool/src/webapp/vm/assignment\\nx-content-type-outer-envelope: text/plain; charset=utf-8\\nx-content-type-message-body: text/plain; charset=utf-8\\ncontent-type: text/plain; charset=utf-8\\nx-dspam-result: innocent\\nx-dspam-processed: fri jan  4 10:17:42 2008\\nx-dspam-confidence: 0.7605\\nx-dspam-probability: 0.0000\\n\\ndetails: http://source.sakaiproject.org/viewsvn/?view=rev&rev=39757\\n\\nauthor: zqian@umich.edu\\ndate: 2008-01-04 10:15:54 -0500 (fri, 04 jan 2008)\\nnew revision: 39757\\n\\nmodified:\\nassignment/trunk/assignment-impl/impl/src/java/org/sakaiproject/assignment/impl/baseassignmentservice.java\\nassignment/trunk/assignment-tool/tool/src/webapp/vm/assignment/chef_assignments_instructor_list_submissions.vm\\nlog:\\nfix to sak-12604:don\\'t show groups/sections filter if the site doesn\\'t have any\\n\\n----------------------\\nthis automatic notification message was sent by sakai collab (https://collab.sakaiproject.org/portal) from the source site.\\nyou can modify how you receive notifications at my workspace > preferences.\\n\\n\\n\\nfrom antranig@caret.cam.ac.uk fri jan  4 10:04:14 2008\\nreturn-path: <postmaster@collab.sakaiproject.org>\\nreceived: from murder (mail.umich.edu [141.211.14.25])\\n\\t by frankenstein.mail.umich.edu (cyrus v2.3.8) with lmtpa;\\n\\t fri, 04 jan 2008 10:04:14 -0500\\nx-sieve: cmu sieve 2.3\\nreceived: from murder ([unix socket])\\n\\t by mail.umich.edu (cyrus v2.2.12) with lmtpa;\\n\\t fri, 04 jan 2008 10:04:14 -0500\\nreceived: from holes.mr.itd.umich.edu (holes.mr.itd.umich.edu [141.211.14.79])\\n\\tby panther.mail.umich.edu () with esmtp id m04f4dci015108;\\n\\tfri, 4 jan 2008 10:04:13 -0500\\nreceived: from paploo.uhi.ac.uk (app1.prod.collab.uhi.ac.uk [194.35.219.184])\\n\\tby holes.mr.itd.umich.edu id 477e4ae3.d7af.31669 ; \\n\\t 4 jan 2008 10:04:05 -0500\\nreceived: from paploo.uhi.ac.uk (localhost [127.0.0.1])\\n\\tby paploo.uhi.ac.uk (postfix) with esmtp id 933e3bac17;\\n\\tfri,  4 jan 2008 15:04:00 +0000 (gmt)\\nmessage-id: <200801041502.m04f21jo007031@nakamura.uits.iupui.edu>\\nmime-version: 1.0\\ncontent-transfer-encoding: 7bit\\nreceived: from prod.collab.uhi.ac.uk ([194.35.219.182])\\n          by paploo.uhi.ac.uk (james smtp server 2.1.3) with smtp id 32\\n          for <source@collab.sakaiproject.org>;\\n          fri, 4 jan 2008 15:03:15 +0000 (gmt)\\nreceived: from nakamura.uits.iupui.edu (nakamura.uits.iupui.edu [134.68.220.122])\\n\\tby shmi.uhi.ac.uk (postfix) with esmtp id ac2f6236b9\\n\\tfor <source@collab.sakaiproject.org>; fri,  4 jan 2008 15:03:12 +0000 (gmt)\\nreceived: from nakamura.uits.iupui.edu (localhost [127.0.0.1])\\n\\tby nakamura.uits.iupui.edu (8.12.11.20060308/8.12.11) with esmtp id m04f21hn007033\\n\\tfor <source@collab.sakaiproject.org>; fri, 4 jan 2008 10:02:01 -0500\\nreceived: (from apache@localhost)\\n\\tby nakamura.uits.iupui.edu (8.12.11.20060308/8.12.11/submit) id m04f21jo007031\\n\\tfor source@collab.sakaiproject.org; fri, 4 jan 2008 10:02:01 -0500\\ndate: fri, 4 jan 2008 10:02:01 -0500\\nx-authentication-warning: nakamura.uits.iupui.edu: apache set sender to antranig@caret.cam.ac.uk using -f\\nto: source@collab.sakaiproject.org\\nfrom: antranig@caret.cam.ac.uk\\nsubject: [sakai] svn commit: r39756 - in component/branches/sak-12166/component-api/component/src/java/org/sakaiproject/component: impl impl/spring/support impl/spring/support/dynamic impl/support util\\nx-content-type-outer-envelope: text/plain; charset=utf-8\\nx-content-type-message-body: text/plain; charset=utf-8\\ncontent-type: text/plain; charset=utf-8\\nx-dspam-result: innocent\\nx-dspam-processed: fri jan  4 10:04:14 2008\\nx-dspam-confidence: 0.6932\\nx-dspam-probability: 0.0000\\n\\ndetails: http://source.sakaiproject.org/viewsvn/?view=rev&rev=39756\\n\\nauthor: antranig@caret.cam.ac.uk\\ndate: 2008-01-04 10:01:40 -0500 (fri, 04 jan 2008)\\nnew revision: 39756\\n\\nadded:\\ncomponent/branches/sak-12166/component-api/component/src/java/org/sakaiproject/component/impl/spring/support/dynamic/\\ncomponent/branches/sak-12166/component-api/component/src/java/org/sakaiproject/component/impl/spring/support/dynamic/dynamiccomponentmanager.java\\ncomponent/branches/sak-12166/component-api/component/src/java/org/sakaiproject/component/impl/support/\\ncomponent/branches/sak-12166/component-api/component/src/java/org/sakaiproject/component/impl/support/dynamiccomponentrecord.java\\ncomponent/branches/sak-12166/component-api/component/src/java/org/sakaiproject/component/impl/support/dynamicjarmanager.java\\ncomponent/branches/sak-12166/component-api/component/src/java/org/sakaiproject/component/impl/support/jarrecord.java\\ncomponent/branches/sak-12166/component-api/component/src/java/org/sakaiproject/component/util/bytetocharbase64.java\\ncomponent/branches/sak-12166/component-api/component/src/java/org/sakaiproject/component/util/fileutil.java\\ncomponent/branches/sak-12166/component-api/component/src/java/org/sakaiproject/component/util/recordfileio.java\\ncomponent/branches/sak-12166/component-api/component/src/java/org/sakaiproject/component/util/recordreader.java\\ncomponent/branches/sak-12166/component-api/component/src/java/org/sakaiproject/component/util/recordwriter.java\\ncomponent/branches/sak-12166/component-api/component/src/java/org/sakaiproject/component/util/streamdigestor.java\\nmodified:\\ncomponent/branches/sak-12166/component-api/component/src/java/org/sakaiproject/component/impl/spring/support/componentsloaderimpl.java\\nlog:\\ntemporary commit of incomplete work on jar caching\\n\\n----------------------\\nthis automatic notification message was sent by sakai collab (https://collab.sakaiproject.org/portal) from the source site.\\nyou can modify how you receive notifications at my workspace > preferences.\\n\\n\\n\\nfrom gopal.ramasammycook@gmail.com fri jan  4 09:05:31 2008\\nreturn-path: <postmaster@collab.sakaiproject.org>\\nreceived: from murder (mail.umich.edu [141.211.14.90])\\n\\t by frankenstein.mail.umich.edu (cyrus v2.3.8) with lmtpa;\\n\\t fri, 04 jan 2008 09:05:31 -0500\\nx-sieve: cmu sieve 2.3\\nreceived: from murder ([unix socket])\\n\\t by mail.umich.edu (cyrus v2.2.12) with lmtpa;\\n\\t fri, 04 jan 2008 09:05:31 -0500\\nreceived: from guys.mr.itd.umich.edu (guys.mr.itd.umich.edu [141.211.14.76])\\n\\tby flawless.mail.umich.edu () with esmtp id m04e5u3c029277;\\n\\tfri, 4 jan 2008 09:05:30 -0500\\nreceived: from paploo.uhi.ac.uk (app1.prod.collab.uhi.ac.uk [194.35.219.184])\\n\\tby guys.mr.itd.umich.edu id 477e3d23.ee2e7.5237 ; \\n\\t 4 jan 2008 09:05:26 -0500\\nreceived: from paploo.uhi.ac.uk (localhost [127.0.0.1])\\n\\tby paploo.uhi.ac.uk (postfix) with esmtp id 33c7856dc0;\\n\\tfri,  4 jan 2008 14:05:26 +0000 (gmt)\\nmessage-id: <200801041403.m04e3psw006926@nakamura.uits.iupui.edu>\\nmime-version: 1.0\\ncontent-transfer-encoding: 7bit\\nreceived: from prod.collab.uhi.ac.uk ([194.35.219.182])\\n          by paploo.uhi.ac.uk (james smtp server 2.1.3) with smtp id 575\\n          for <source@collab.sakaiproject.org>;\\n          fri, 4 jan 2008 14:05:04 +0000 (gmt)\\nreceived: from nakamura.uits.iupui.edu (nakamura.uits.iupui.edu [134.68.220.122])\\n\\tby shmi.uhi.ac.uk (postfix) with esmtp id 3c0261d617\\n\\tfor <source@collab.sakaiproject.org>; fri,  4 jan 2008 14:05:03 +0000 (gmt)\\nreceived: from nakamura.uits.iupui.edu (localhost [127.0.0.1])\\n\\tby nakamura.uits.iupui.edu (8.12.11.20060308/8.12.11) with esmtp id m04e3pqs006928\\n\\tfor <source@collab.sakaiproject.org>; fri, 4 jan 2008 09:03:52 -0500\\nreceived: (from apache@localhost)\\n\\tby nakamura.uits.iupui.edu (8.12.11.20060308/8.12.11/submit) id m04e3psw006926\\n\\tfor source@collab.sakaiproject.org; fri, 4 jan 2008 09:03:51 -0500\\ndate: fri, 4 jan 2008 09:03:51 -0500\\nx-authentication-warning: nakamura.uits.iupui.edu: apache set sender to gopal.ramasammycook@gmail.com using -f\\nto: source@collab.sakaiproject.org\\nfrom: gopal.ramasammycook@gmail.com\\nsubject: [sakai] svn commit: r39755 - in sam/branches/sak-12065: samigo-api/src/java/org/sakaiproject/tool/assessment/shared/api/grading samigo-app/src/java/org/sakaiproject/tool/assessment/ui/bean/evaluation samigo-app/src/java/org/sakaiproject/tool/assessment/ui/listener/evaluation samigo-services/src/java/org/sakaiproject/tool/assessment/facade samigo-services/src/java/org/sakaiproject/tool/assessment/integration/helper/ifc samigo-services/src/java/org/sakaiproject/tool/assessment/integration/helper/integrated samigo-services/src/java/org/sakaiproject/tool/assessment/integration/helper/standalone samigo-services/src/java/org/sakaiproject/tool/assessment/shared/impl/grading\\nx-content-type-outer-envelope: text/plain; charset=utf-8\\nx-content-type-message-body: text/plain; charset=utf-8\\ncontent-type: text/plain; charset=utf-8\\nx-dspam-result: innocent\\nx-dspam-processed: fri jan  4 09:05:31 2008\\nx-dspam-confidence: 0.7558\\nx-dspam-probability: 0.0000\\n\\ndetails: http://source.sakaiproject.org/viewsvn/?view=rev&rev=39755\\n\\nauthor: gopal.ramasammycook@gmail.com\\ndate: 2008-01-04 09:02:54 -0500 (fri, 04 jan 2008)\\nnew revision: 39755\\n\\nmodified:\\nsam/branches/sak-12065/samigo-api/src/java/org/sakaiproject/tool/assessment/shared/api/grading/gradingsectionawareserviceapi.java\\nsam/branches/sak-12065/samigo-app/src/java/org/sakaiproject/tool/assessment/ui/bean/evaluation/questionscoresbean.java\\nsam/branches/sak-12065/samigo-app/src/java/org/sakaiproject/tool/assessment/ui/bean/evaluation/submissionstatusbean.java\\nsam/branches/sak-12065/samigo-app/src/java/org/sakaiproject/tool/assessment/ui/bean/evaluation/totalscoresbean.java\\nsam/branches/sak-12065/samigo-app/src/java/org/sakaiproject/tool/assessment/ui/listener/evaluation/submissionstatuslistener.java\\nsam/branches/sak-12065/samigo-services/src/java/org/sakaiproject/tool/assessment/facade/publishedassessmentfacadequeries.java\\nsam/branches/sak-12065/samigo-services/src/java/org/sakaiproject/tool/assessment/facade/publishedassessmentfacadequeriesapi.java\\nsam/branches/sak-12065/samigo-services/src/java/org/sakaiproject/tool/assessment/integration/helper/ifc/sectionawareservicehelper.java\\nsam/branches/sak-12065/samigo-services/src/java/org/sakaiproject/tool/assessment/integration/helper/integrated/sectionawareservicehelperimpl.java\\nsam/branches/sak-12065/samigo-services/src/java/org/sakaiproject/tool/assessment/integration/helper/standalone/sectionawareservicehelperimpl.java\\nsam/branches/sak-12065/samigo-services/src/java/org/sakaiproject/tool/assessment/shared/impl/grading/gradingsectionawareserviceimpl.java\\nlog:\\nsak-12065 gopal - samigo group release. submissionstatus/totalscores/questions view filter.\\n\\n----------------------\\nthis automatic notification message was sent by sakai collab (https://collab.sakaiproject.org/portal) from the source site.\\nyou can modify how you receive notifications at my workspace > preferences.\\n\\n\\n\\nfrom david.horwitz@uct.ac.za fri jan  4 07:02:32 2008\\nreturn-path: <postmaster@collab.sakaiproject.org>\\nreceived: from murder (mail.umich.edu [141.211.14.39])\\n\\t by frankenstein.mail.umich.edu (cyrus v2.3.8) with lmtpa;\\n\\t fri, 04 jan 2008 07:02:32 -0500\\nx-sieve: cmu sieve 2.3\\nreceived: from murder ([unix socket])\\n\\t by mail.umich.edu (cyrus v2.2.12) with lmtpa;\\n\\t fri, 04 jan 2008 07:02:32 -0500\\nreceived: from guys.mr.itd.umich.edu (guys.mr.itd.umich.edu [141.211.14.76])\\n\\tby faithful.mail.umich.edu () with esmtp id m04c2vn7026678;\\n\\tfri, 4 jan 2008 07:02:31 -0500\\nreceived: from paploo.uhi.ac.uk (app1.prod.collab.uhi.ac.uk [194.35.219.184])\\n\\tby guys.mr.itd.umich.edu id 477e2050.c2599.3263 ; \\n\\t 4 jan 2008 07:02:27 -0500\\nreceived: from paploo.uhi.ac.uk (localhost [127.0.0.1])\\n\\tby paploo.uhi.ac.uk (postfix) with esmtp id 6497fba906;\\n\\tfri,  4 jan 2008 12:02:11 +0000 (gmt)\\nmessage-id: <200801041200.m04c0gfk006793@nakamura.uits.iupui.edu>\\nmime-version: 1.0\\ncontent-transfer-encoding: 7bit\\nreceived: from prod.collab.uhi.ac.uk ([194.35.219.182])\\n          by paploo.uhi.ac.uk (james smtp server 2.1.3) with smtp id 611\\n          for <source@collab.sakaiproject.org>;\\n          fri, 4 jan 2008 12:01:53 +0000 (gmt)\\nreceived: from nakamura.uits.iupui.edu (nakamura.uits.iupui.edu [134.68.220.122])\\n\\tby shmi.uhi.ac.uk (postfix) with esmtp id 5296342d3c\\n\\tfor <source@collab.sakaiproject.org>; fri,  4 jan 2008 12:01:53 +0000 (gmt)\\nreceived: from nakamura.uits.iupui.edu (localhost [127.0.0.1])\\n\\tby nakamura.uits.iupui.edu (8.12.11.20060308/8.12.11) with esmtp id m04c0gnm006795\\n\\tfor <source@collab.sakaiproject.org>; fri, 4 jan 2008 07:00:42 -0500\\nreceived: (from apache@localhost)\\n\\tby nakamura.uits.iupui.edu (8.12.11.20060308/8.12.11/submit) id m04c0gfk006793\\n\\tfor source@collab.sakaiproject.org; fri, 4 jan 2008 07:00:42 -0500\\ndate: fri, 4 jan 2008 07:00:42 -0500\\nx-authentication-warning: nakamura.uits.iupui.edu: apache set sender to david.horwitz@uct.ac.za using -f\\nto: source@collab.sakaiproject.org\\nfrom: david.horwitz@uct.ac.za\\nsubject: [sakai] svn commit: r39754 - in polls/branches/sakai_2-5-x: . tool tool/src/java/org/sakaiproject/poll/tool tool/src/java/org/sakaiproject/poll/tool/evolvers tool/src/webapp/web-inf\\nx-content-type-outer-envelope: text/plain; charset=utf-8\\nx-content-type-message-body: text/plain; charset=utf-8\\ncontent-type: text/plain; charset=utf-8\\nx-dspam-result: innocent\\nx-dspam-processed: fri jan  4 07:02:32 2008\\nx-dspam-confidence: 0.6526\\nx-dspam-probability: 0.0000\\n\\ndetails: http://source.sakaiproject.org/viewsvn/?view=rev&rev=39754\\n\\nauthor: david.horwitz@uct.ac.za\\ndate: 2008-01-04 07:00:10 -0500 (fri, 04 jan 2008)\\nnew revision: 39754\\n\\nadded:\\npolls/branches/sakai_2-5-x/tool/src/java/org/sakaiproject/poll/tool/evolvers/\\npolls/branches/sakai_2-5-x/tool/src/java/org/sakaiproject/poll/tool/evolvers/sakaifcktextevolver.java\\nremoved:\\npolls/branches/sakai_2-5-x/tool/src/java/org/sakaiproject/poll/tool/evolvers/sakaifcktextevolver.java\\nmodified:\\npolls/branches/sakai_2-5-x/.classpath\\npolls/branches/sakai_2-5-x/tool/pom.xml\\npolls/branches/sakai_2-5-x/tool/src/webapp/web-inf/requestcontext.xml\\nlog:\\nsvn log -r39753 https://source.sakaiproject.org/svn/polls/trunk\\n------------------------------------------------------------------------\\nr39753 | david.horwitz@uct.ac.za | 2008-01-04 13:05:51 +0200 (fri, 04 jan 2008) | 1 line\\n\\nsak-12228 implmented workaround sugested by ab - needs to be tested against a trunk build\\n------------------------------------------------------------------------\\ndhorwitz@david-horwitz-6:~/branchmanagemnt/sakai_2-5-x> svn merge -c39753 https://source.sakaiproject.org/svn/polls/trunk polls/\\nu    polls/.classpath\\na    polls/tool/src/java/org/sakaiproject/poll/tool/evolvers\\na    polls/tool/src/java/org/sakaiproject/poll/tool/evolvers/sakaifcktextevolver.java\\nc    polls/tool/src/webapp/web-inf/requestcontext.xml\\nu    polls/tool/pom.xml\\n\\ndhorwitz@david-horwitz-6:~/branchmanagemnt/sakai_2-5-x> svn resolved polls/tool/src/webapp/web-inf/requestcontext.xml\\nresolved conflicted state of \\'polls/tool/src/webapp/web-inf/requestcontext.xml\\n\\n\\n----------------------\\nthis automatic notification message was sent by sakai collab (https://collab.sakaiproject.org/portal) from the source site.\\nyou can modify how you receive notifications at my workspace > preferences.\\n\\n\\n\\nfrom david.horwitz@uct.ac.za fri jan  4 06:08:27 2008\\nreturn-path: <postmaster@collab.sakaiproject.org>\\nreceived: from murder (mail.umich.edu [141.211.14.98])\\n\\t by frankenstein.mail.umich.edu (cyrus v2.3.8) with lmtpa;\\n\\t fri, 04 jan 2008 06:08:27 -0500\\nx-sieve: cmu sieve 2.3\\nreceived: from murder ([unix socket])\\n\\t by mail.umich.edu (cyrus v2.2.12) with lmtpa;\\n\\t fri, 04 jan 2008 06:08:27 -0500\\nreceived: from firestarter.mr.itd.umich.edu (firestarter.mr.itd.umich.edu [141.211.14.83])\\n\\tby casino.mail.umich.edu () with esmtp id m04b8qw9001368;\\n\\tfri, 4 jan 2008 06:08:26 -0500\\nreceived: from paploo.uhi.ac.uk (app1.prod.collab.uhi.ac.uk [194.35.219.184])\\n\\tby firestarter.mr.itd.umich.edu id 477e13a5.30fc0.24054 ; \\n\\t 4 jan 2008 06:08:23 -0500\\nreceived: from paploo.uhi.ac.uk (localhost [127.0.0.1])\\n\\tby paploo.uhi.ac.uk (postfix) with esmtp id 784a476d7b;\\n\\tfri,  4 jan 2008 11:08:12 +0000 (gmt)\\nmessage-id: <200801041106.m04b6lk3006677@nakamura.uits.iupui.edu>\\nmime-version: 1.0\\ncontent-transfer-encoding: 7bit\\nreceived: from prod.collab.uhi.ac.uk ([194.35.219.182])\\n          by paploo.uhi.ac.uk (james smtp server 2.1.3) with smtp id 585\\n          for <source@collab.sakaiproject.org>;\\n          fri, 4 jan 2008 11:07:56 +0000 (gmt)\\nreceived: from nakamura.uits.iupui.edu (nakamura.uits.iupui.edu [134.68.220.122])\\n\\tby shmi.uhi.ac.uk (postfix) with esmtp id 1cacc42d0c\\n\\tfor <source@collab.sakaiproject.org>; fri,  4 jan 2008 11:07:58 +0000 (gmt)\\nreceived: from nakamura.uits.iupui.edu (localhost [127.0.0.1])\\n\\tby nakamura.uits.iupui.edu (8.12.11.20060308/8.12.11) with esmtp id m04b6lwm006679\\n\\tfor <source@collab.sakaiproject.org>; fri, 4 jan 2008 06:06:47 -0500\\nreceived: (from apache@localhost)\\n\\tby nakamura.uits.iupui.edu (8.12.11.20060308/8.12.11/submit) id m04b6lk3006677\\n\\tfor source@collab.sakaiproject.org; fri, 4 jan 2008 06:06:47 -0500\\ndate: fri, 4 jan 2008 06:06:47 -0500\\nx-authentication-warning: nakamura.uits.iupui.edu: apache set sender to david.horwitz@uct.ac.za using -f\\nto: source@collab.sakaiproject.org\\nfrom: david.horwitz@uct.ac.za\\nsubject: [sakai] svn commit: r39753 - in polls/trunk: . tool tool/src/java/org/sakaiproject/poll/tool tool/src/java/org/sakaiproject/poll/tool/evolvers tool/src/webapp/web-inf\\nx-content-type-outer-envelope: text/plain; charset=utf-8\\nx-content-type-message-body: text/plain; charset=utf-8\\ncontent-type: text/plain; charset=utf-8\\nx-dspam-result: innocent\\nx-dspam-processed: fri jan  4 06:08:27 2008\\nx-dspam-confidence: 0.6948\\nx-dspam-probability: 0.0000\\n\\ndetails: http://source.sakaiproject.org/viewsvn/?view=rev&rev=39753\\n\\nauthor: david.horwitz@uct.ac.za\\ndate: 2008-01-04 06:05:51 -0500 (fri, 04 jan 2008)\\nnew revision: 39753\\n\\nadded:\\npolls/trunk/tool/src/java/org/sakaiproject/poll/tool/evolvers/\\npolls/trunk/tool/src/java/org/sakaiproject/poll/tool/evolvers/sakaifcktextevolver.java\\nmodified:\\npolls/trunk/.classpath\\npolls/trunk/tool/pom.xml\\npolls/trunk/tool/src/webapp/web-inf/requestcontext.xml\\nlog:\\nsak-12228 implmented workaround sugested by ab - needs to be tested against a trunk build\\n\\n----------------------\\nthis automatic notification message was sent by sakai collab (https://collab.sakaiproject.org/portal) from the source site.\\nyou can modify how you receive notifications at my workspace > preferences.\\n\\n\\n\\nfrom david.horwitz@uct.ac.za fri jan  4 04:49:08 2008\\nreturn-path: <postmaster@collab.sakaiproject.org>\\nreceived: from murder (mail.umich.edu [141.211.14.92])\\n\\t by frankenstein.mail.umich.edu (cyrus v2.3.8) with lmtpa;\\n\\t fri, 04 jan 2008 04:49:08 -0500\\nx-sieve: cmu sieve 2.3\\nreceived: from murder ([unix socket])\\n\\t by mail.umich.edu (cyrus v2.2.12) with lmtpa;\\n\\t fri, 04 jan 2008 04:49:08 -0500\\nreceived: from galaxyquest.mr.itd.umich.edu (galaxyquest.mr.itd.umich.edu [141.211.93.145])\\n\\tby score.mail.umich.edu () with esmtp id m049n60g017588;\\n\\tfri, 4 jan 2008 04:49:06 -0500\\nreceived: from paploo.uhi.ac.uk (app1.prod.collab.uhi.ac.uk [194.35.219.184])\\n\\tby galaxyquest.mr.itd.umich.edu id 477e010c.48c2.10259 ; \\n\\t 4 jan 2008 04:49:03 -0500\\nreceived: from paploo.uhi.ac.uk (localhost [127.0.0.1])\\n\\tby paploo.uhi.ac.uk (postfix) with esmtp id 254cc8cdee;\\n\\tfri,  4 jan 2008 09:48:55 +0000 (gmt)\\nmessage-id: <200801040947.m049luxo006517@nakamura.uits.iupui.edu>\\nmime-version: 1.0\\ncontent-transfer-encoding: 7bit\\nreceived: from prod.collab.uhi.ac.uk ([194.35.219.182])\\n          by paploo.uhi.ac.uk (james smtp server 2.1.3) with smtp id 246\\n          for <source@collab.sakaiproject.org>;\\n          fri, 4 jan 2008 09:48:36 +0000 (gmt)\\nreceived: from nakamura.uits.iupui.edu (nakamura.uits.iupui.edu [134.68.220.122])\\n\\tby shmi.uhi.ac.uk (postfix) with esmtp id 8c13342c92\\n\\tfor <source@collab.sakaiproject.org>; fri,  4 jan 2008 09:48:40 +0000 (gmt)\\nreceived: from nakamura.uits.iupui.edu (localhost [127.0.0.1])\\n\\tby nakamura.uits.iupui.edu (8.12.11.20060308/8.12.11) with esmtp id m049lu3p006519\\n\\tfor <source@collab.sakaiproject.org>; fri, 4 jan 2008 04:47:30 -0500\\nreceived: (from apache@localhost)\\n\\tby nakamura.uits.iupui.edu (8.12.11.20060308/8.12.11/submit) id m049luxo006517\\n\\tfor source@collab.sakaiproject.org; fri, 4 jan 2008 04:47:30 -0500\\ndate: fri, 4 jan 2008 04:47:30 -0500\\nx-authentication-warning: nakamura.uits.iupui.edu: apache set sender to david.horwitz@uct.ac.za using -f\\nto: source@collab.sakaiproject.org\\nfrom: david.horwitz@uct.ac.za\\nsubject: [sakai] svn commit: r39752 - in podcasts/branches/sakai_2-5-x/podcasts-app/src/webapp: css podcasts\\nx-content-type-outer-envelope: text/plain; charset=utf-8\\nx-content-type-message-body: text/plain; charset=utf-8\\ncontent-type: text/plain; charset=utf-8\\nx-dspam-result: innocent\\nx-dspam-processed: fri jan  4 04:49:08 2008\\nx-dspam-confidence: 0.6528\\nx-dspam-probability: 0.0000\\n\\ndetails: http://source.sakaiproject.org/viewsvn/?view=rev&rev=39752\\n\\nauthor: david.horwitz@uct.ac.za\\ndate: 2008-01-04 04:47:16 -0500 (fri, 04 jan 2008)\\nnew revision: 39752\\n\\nmodified:\\npodcasts/branches/sakai_2-5-x/podcasts-app/src/webapp/css/podcaster.css\\npodcasts/branches/sakai_2-5-x/podcasts-app/src/webapp/podcasts/podmain.jsp\\nlog:\\nsvn log -r39641 https://source.sakaiproject.org/svn/podcasts/trunk\\n------------------------------------------------------------------------\\nr39641 | josrodri@iupui.edu | 2007-12-28 23:44:24 +0200 (fri, 28 dec 2007) | 1 line\\n\\nsak-9882: refactored podmain.jsp the right way (at least much closer to)\\n------------------------------------------------------------------------\\n\\ndhorwitz@david-horwitz-6:~/branchmanagemnt/sakai_2-5-x> svn merge  -c39641 https://source.sakaiproject.org/svn/podcasts/trunk podcasts/\\nc    podcasts/podcasts-app/src/webapp/podcasts/podmain.jsp\\nu    podcasts/podcasts-app/src/webapp/css/podcaster.css\\n\\nconflict merged manualy\\n\\n\\n\\n----------------------\\nthis automatic notification message was sent by sakai collab (https://collab.sakaiproject.org/portal) from the source site.\\nyou can modify how you receive notifications at my workspace > preferences.\\n\\n\\n\\nfrom david.horwitz@uct.ac.za fri jan  4 04:33:44 2008\\nreturn-path: <postmaster@collab.sakaiproject.org>\\nreceived: from murder (mail.umich.edu [141.211.14.46])\\n\\t by frankenstein.mail.umich.edu (cyrus v2.3.8) with lmtpa;\\n\\t fri, 04 jan 2008 04:33:44 -0500\\nx-sieve: cmu sieve 2.3\\nreceived: from murder ([unix socket])\\n\\t by mail.umich.edu (cyrus v2.2.12) with lmtpa;\\n\\t fri, 04 jan 2008 04:33:44 -0500\\nreceived: from workinggirl.mr.itd.umich.edu (workinggirl.mr.itd.umich.edu [141.211.93.143])\\n\\tby fan.mail.umich.edu () with esmtp id m049xge3031803;\\n\\tfri, 4 jan 2008 04:33:42 -0500\\nreceived: from paploo.uhi.ac.uk (app1.prod.collab.uhi.ac.uk [194.35.219.184])\\n\\tby workinggirl.mr.itd.umich.edu id 477dfd6c.75dbe.26054 ; \\n\\t 4 jan 2008 04:33:35 -0500\\nreceived: from paploo.uhi.ac.uk (localhost [127.0.0.1])\\n\\tby paploo.uhi.ac.uk (postfix) with esmtp id 6c929ba656;\\n\\tfri,  4 jan 2008 09:33:27 +0000 (gmt)\\nmessage-id: <200801040932.m049w2i5006493@nakamura.uits.iupui.edu>\\nmime-version: 1.0\\ncontent-transfer-encoding: 7bit\\nreceived: from prod.collab.uhi.ac.uk ([194.35.219.182])\\n          by paploo.uhi.ac.uk (james smtp server 2.1.3) with smtp id 153\\n          for <source@collab.sakaiproject.org>;\\n          fri, 4 jan 2008 09:33:10 +0000 (gmt)\\nreceived: from nakamura.uits.iupui.edu (nakamura.uits.iupui.edu [134.68.220.122])\\n\\tby shmi.uhi.ac.uk (postfix) with esmtp id 6c69423767\\n\\tfor <source@collab.sakaiproject.org>; fri,  4 jan 2008 09:33:13 +0000 (gmt)\\nreceived: from nakamura.uits.iupui.edu (localhost [127.0.0.1])\\n\\tby nakamura.uits.iupui.edu (8.12.11.20060308/8.12.11) with esmtp id m049w3fl006495\\n\\tfor <source@collab.sakaiproject.org>; fri, 4 jan 2008 04:32:03 -0500\\nreceived: (from apache@localhost)\\n\\tby nakamura.uits.iupui.edu (8.12.11.20060308/8.12.11/submit) id m049w2i5006493\\n\\tfor source@collab.sakaiproject.org; fri, 4 jan 2008 04:32:02 -0500\\ndate: fri, 4 jan 2008 04:32:02 -0500\\nx-authentication-warning: nakamura.uits.iupui.edu: apache set sender to david.horwitz@uct.ac.za using -f\\nto: source@collab.sakaiproject.org\\nfrom: david.horwitz@uct.ac.za\\nsubject: [sakai] svn commit: r39751 - in podcasts/branches/sakai_2-5-x/podcasts-app/src/webapp: css images podcasts\\nx-content-type-outer-envelope: text/plain; charset=utf-8\\nx-content-type-message-body: text/plain; charset=utf-8\\ncontent-type: text/plain; charset=utf-8\\nx-dspam-result: innocent\\nx-dspam-processed: fri jan  4 04:33:44 2008\\nx-dspam-confidence: 0.7002\\nx-dspam-probability: 0.0000\\n\\ndetails: http://source.sakaiproject.org/viewsvn/?view=rev&rev=39751\\n\\nauthor: david.horwitz@uct.ac.za\\ndate: 2008-01-04 04:31:35 -0500 (fri, 04 jan 2008)\\nnew revision: 39751\\n\\nremoved:\\npodcasts/branches/sakai_2-5-x/podcasts-app/src/webapp/images/rss-feed-icon.png\\npodcasts/branches/sakai_2-5-x/podcasts-app/src/webapp/podcasts/podpermissions.jsp\\nmodified:\\npodcasts/branches/sakai_2-5-x/podcasts-app/src/webapp/css/podcaster.css\\npodcasts/branches/sakai_2-5-x/podcasts-app/src/webapp/podcasts/poddelete.jsp\\npodcasts/branches/sakai_2-5-x/podcasts-app/src/webapp/podcasts/podmain.jsp\\npodcasts/branches/sakai_2-5-x/podcasts-app/src/webapp/podcasts/podnoresource.jsp\\npodcasts/branches/sakai_2-5-x/podcasts-app/src/webapp/podcasts/podoptions.jsp\\nlog:\\nsvn log -r39146 https://source.sakaiproject.org/svn/podcasts/trunk\\n------------------------------------------------------------------------\\nr39146 | josrodri@iupui.edu | 2007-12-12 21:40:33 +0200 (wed, 12 dec 2007) | 1 line\\n\\nsak-9882: refactored the other pages as well to take advantage of proper jsp components as well as validation cleanup.\\n------------------------------------------------------------------------\\ndhorwitz@david-horwitz-6:~/branchmanagemnt/sakai_2-5-x> svn merge -c39146 https://source.sakaiproject.org/svn/podcasts/trunk podcasts/\\nd    podcasts/podcasts-app/src/webapp/podcasts/podpermissions.jsp\\nu    podcasts/podcasts-app/src/webapp/podcasts/poddelete.jsp\\nu    podcasts/podcasts-app/src/webapp/podcasts/podmain.jsp\\nu    podcasts/podcasts-app/src/webapp/podcasts/podnoresource.jsp\\nu    podcasts/podcasts-app/src/webapp/podcasts/podoptions.jsp\\nd    podcasts/podcasts-app/src/webapp/images/rss-feed-icon.png\\nu    podcasts/podcasts-app/src/webapp/css/podcaster.css\\n\\n\\n\\n----------------------\\nthis automatic notification message was sent by sakai collab (https://collab.sakaiproject.org/portal) from the source site.\\nyou can modify how you receive notifications at my workspace > preferences.\\n\\n\\n\\nfrom stephen.marquard@uct.ac.za fri jan  4 04:07:34 2008\\nreturn-path: <postmaster@collab.sakaiproject.org>\\nreceived: from murder (mail.umich.edu [141.211.14.25])\\n\\t by frankenstein.mail.umich.edu (cyrus v2.3.8) with lmtpa;\\n\\t fri, 04 jan 2008 04:07:34 -0500\\nx-sieve: cmu sieve 2.3\\nreceived: from murder ([unix socket])\\n\\t by mail.umich.edu (cyrus v2.2.12) with lmtpa;\\n\\t fri, 04 jan 2008 04:07:34 -0500\\nreceived: from salemslot.mr.itd.umich.edu (salemslot.mr.itd.umich.edu [141.211.14.58])\\n\\tby panther.mail.umich.edu () with esmtp id m0497wan027902;\\n\\tfri, 4 jan 2008 04:07:32 -0500\\nreceived: from paploo.uhi.ac.uk (app1.prod.collab.uhi.ac.uk [194.35.219.184])\\n\\tby salemslot.mr.itd.umich.edu id 477df74e.49493.30415 ; \\n\\t 4 jan 2008 04:07:29 -0500\\nreceived: from paploo.uhi.ac.uk (localhost [127.0.0.1])\\n\\tby paploo.uhi.ac.uk (postfix) with esmtp id 88598ba5b6;\\n\\tfri,  4 jan 2008 09:07:19 +0000 (gmt)\\nmessage-id: <200801040905.m0495rwb006420@nakamura.uits.iupui.edu>\\nmime-version: 1.0\\ncontent-transfer-encoding: 7bit\\nreceived: from prod.collab.uhi.ac.uk ([194.35.219.182])\\n          by paploo.uhi.ac.uk (james smtp server 2.1.3) with smtp id 385\\n          for <source@collab.sakaiproject.org>;\\n          fri, 4 jan 2008 09:07:04 +0000 (gmt)\\nreceived: from nakamura.uits.iupui.edu (nakamura.uits.iupui.edu [134.68.220.122])\\n\\tby shmi.uhi.ac.uk (postfix) with esmtp id 90636418a8\\n\\tfor <source@collab.sakaiproject.org>; fri,  4 jan 2008 09:07:04 +0000 (gmt)\\nreceived: from nakamura.uits.iupui.edu (localhost [127.0.0.1])\\n\\tby nakamura.uits.iupui.edu (8.12.11.20060308/8.12.11) with esmtp id m0495szs006422\\n\\tfor <source@collab.sakaiproject.org>; fri, 4 jan 2008 04:05:54 -0500\\nreceived: (from apache@localhost)\\n\\tby nakamura.uits.iupui.edu (8.12.11.20060308/8.12.11/submit) id m0495rwb006420\\n\\tfor source@collab.sakaiproject.org; fri, 4 jan 2008 04:05:53 -0500\\ndate: fri, 4 jan 2008 04:05:53 -0500\\nx-authentication-warning: nakamura.uits.iupui.edu: apache set sender to stephen.marquard@uct.ac.za using -f\\nto: source@collab.sakaiproject.org\\nfrom: stephen.marquard@uct.ac.za\\nsubject: [sakai] svn commit: r39750 - event/branches/sak-6216/event-util/util/src/java/org/sakaiproject/util\\nx-content-type-outer-envelope: text/plain; charset=utf-8\\nx-content-type-message-body: text/plain; charset=utf-8\\ncontent-type: text/plain; charset=utf-8\\nx-dspam-result: innocent\\nx-dspam-processed: fri jan  4 04:07:34 2008\\nx-dspam-confidence: 0.7554\\nx-dspam-probability: 0.0000\\n\\ndetails: http://source.sakaiproject.org/viewsvn/?view=rev&rev=39750\\n\\nauthor: stephen.marquard@uct.ac.za\\ndate: 2008-01-04 04:05:43 -0500 (fri, 04 jan 2008)\\nnew revision: 39750\\n\\nmodified:\\nevent/branches/sak-6216/event-util/util/src/java/org/sakaiproject/util/emailnotification.java\\nlog:\\nsak-6216 merge event change from sak-11169 (r39033) to synchronize branch with 2-5-x (for convenience for uct local build)\\n\\n----------------------\\nthis automatic notification message was sent by sakai collab (https://collab.sakaiproject.org/portal) from the source site.\\nyou can modify how you receive notifications at my workspace > preferences.\\n\\n\\n\\nfrom louis@media.berkeley.edu thu jan  3 19:51:21 2008\\nreturn-path: <postmaster@collab.sakaiproject.org>\\nreceived: from murder (mail.umich.edu [141.211.14.91])\\n\\t by frankenstein.mail.umich.edu (cyrus v2.3.8) with lmtpa;\\n\\t thu, 03 jan 2008 19:51:21 -0500\\nx-sieve: cmu sieve 2.3\\nreceived: from murder ([unix socket])\\n\\t by mail.umich.edu (cyrus v2.2.12) with lmtpa;\\n\\t thu, 03 jan 2008 19:51:21 -0500\\nreceived: from eyewitness.mr.itd.umich.edu (eyewitness.mr.itd.umich.edu [141.211.93.142])\\n\\tby jacknife.mail.umich.edu () with esmtp id m040pjhb027171;\\n\\tthu, 3 jan 2008 19:51:19 -0500\\nreceived: from paploo.uhi.ac.uk (app1.prod.collab.uhi.ac.uk [194.35.219.184])\\n\\tby eyewitness.mr.itd.umich.edu id 477d8300.ac098.32562 ; \\n\\t 3 jan 2008 19:51:15 -0500\\nreceived: from paploo.uhi.ac.uk (localhost [127.0.0.1])\\n\\tby paploo.uhi.ac.uk (postfix) with esmtp id e6cc4b9f8a;\\n\\tfri,  4 jan 2008 00:36:06 +0000 (gmt)\\nmessage-id: <200801040023.m040npcc005473@nakamura.uits.iupui.edu>\\nmime-version: 1.0\\ncontent-transfer-encoding: 7bit\\nreceived: from prod.collab.uhi.ac.uk ([194.35.219.182])\\n          by paploo.uhi.ac.uk (james smtp server 2.1.3) with smtp id 754\\n          for <source@collab.sakaiproject.org>;\\n          fri, 4 jan 2008 00:35:43 +0000 (gmt)\\nreceived: from nakamura.uits.iupui.edu (nakamura.uits.iupui.edu [134.68.220.122])\\n\\tby shmi.uhi.ac.uk (postfix) with esmtp id 8889842c49\\n\\tfor <source@collab.sakaiproject.org>; fri,  4 jan 2008 00:25:00 +0000 (gmt)\\nreceived: from nakamura.uits.iupui.edu (localhost [127.0.0.1])\\n\\tby nakamura.uits.iupui.edu (8.12.11.20060308/8.12.11) with esmtp id m040npgm005475\\n\\tfor <source@collab.sakaiproject.org>; thu, 3 jan 2008 19:23:51 -0500\\nreceived: (from apache@localhost)\\n\\tby nakamura.uits.iupui.edu (8.12.11.20060308/8.12.11/submit) id m040npcc005473\\n\\tfor source@collab.sakaiproject.org; thu, 3 jan 2008 19:23:51 -0500\\ndate: thu, 3 jan 2008 19:23:51 -0500\\nx-authentication-warning: nakamura.uits.iupui.edu: apache set sender to louis@media.berkeley.edu using -f\\nto: source@collab.sakaiproject.org\\nfrom: louis@media.berkeley.edu\\nsubject: [sakai] svn commit: r39749 - in bspace/site-manage/sakai_2-4-x/site-manage-tool/tool/src: bundle webapp/vm/sitesetup\\nx-content-type-outer-envelope: text/plain; charset=utf-8\\nx-content-type-message-body: text/plain; charset=utf-8\\ncontent-type: text/plain; charset=utf-8\\nx-dspam-result: innocent\\nx-dspam-processed: thu jan  3 19:51:20 2008\\nx-dspam-confidence: 0.6956\\nx-dspam-probability: 0.0000\\n\\ndetails: http://source.sakaiproject.org/viewsvn/?view=rev&rev=39749\\n\\nauthor: louis@media.berkeley.edu\\ndate: 2008-01-03 19:23:46 -0500 (thu, 03 jan 2008)\\nnew revision: 39749\\n\\nmodified:\\nbspace/site-manage/sakai_2-4-x/site-manage-tool/tool/src/bundle/sitesetupgeneric.properties\\nbspace/site-manage/sakai_2-4-x/site-manage-tool/tool/src/webapp/vm/sitesetup/chef_site-importsites.vm\\nlog:\\nbsp-1420 update text to clarify \"re-use materials...\" option in ws setup\\n\\n----------------------\\nthis automatic notification message was sent by sakai collab (https://collab.sakaiproject.org/portal) from the source site.\\nyou can modify how you receive notifications at my workspace > preferences.\\n\\n\\n\\nfrom louis@media.berkeley.edu thu jan  3 17:18:23 2008\\nreturn-path: <postmaster@collab.sakaiproject.org>\\nreceived: from murder (mail.umich.edu [141.211.14.91])\\n\\t by frankenstein.mail.umich.edu (cyrus v2.3.8) with lmtpa;\\n\\t thu, 03 jan 2008 17:18:23 -0500\\nx-sieve: cmu sieve 2.3\\nreceived: from murder ([unix socket])\\n\\t by mail.umich.edu (cyrus v2.2.12) with lmtpa;\\n\\t thu, 03 jan 2008 17:18:23 -0500\\nreceived: from salemslot.mr.itd.umich.edu (salemslot.mr.itd.umich.edu [141.211.14.58])\\n\\tby jacknife.mail.umich.edu () with esmtp id m03mimxy027729;\\n\\tthu, 3 jan 2008 17:18:22 -0500\\nreceived: from paploo.uhi.ac.uk (app1.prod.collab.uhi.ac.uk [194.35.219.184])\\n\\tby salemslot.mr.itd.umich.edu id 477d5f23.797f6.16348 ; \\n\\t 3 jan 2008 17:18:14 -0500\\nreceived: from paploo.uhi.ac.uk (localhost [127.0.0.1])\\n\\tby paploo.uhi.ac.uk (postfix) with esmtp id ef439b98ce;\\n\\tthu,  3 jan 2008 22:18:19 +0000 (gmt)\\nmessage-id: <200801032216.m03mghda005292@nakamura.uits.iupui.edu>\\nmime-version: 1.0\\ncontent-transfer-encoding: 7bit\\nreceived: from prod.collab.uhi.ac.uk ([194.35.219.182])\\n          by paploo.uhi.ac.uk (james smtp server 2.1.3) with smtp id 236\\n          for <source@collab.sakaiproject.org>;\\n          thu, 3 jan 2008 22:18:04 +0000 (gmt)\\nreceived: from nakamura.uits.iupui.edu (nakamura.uits.iupui.edu [134.68.220.122])\\n\\tby shmi.uhi.ac.uk (postfix) with esmtp id 905d53c2fd\\n\\tfor <source@collab.sakaiproject.org>; thu,  3 jan 2008 22:17:52 +0000 (gmt)\\nreceived: from nakamura.uits.iupui.edu (localhost [127.0.0.1])\\n\\tby nakamura.uits.iupui.edu (8.12.11.20060308/8.12.11) with esmtp id m03mghrs005294\\n\\tfor <source@collab.sakaiproject.org>; thu, 3 jan 2008 17:16:43 -0500\\nreceived: (from apache@localhost)\\n\\tby nakamura.uits.iupui.edu (8.12.11.20060308/8.12.11/submit) id m03mghda005292\\n\\tfor source@collab.sakaiproject.org; thu, 3 jan 2008 17:16:43 -0500\\ndate: thu, 3 jan 2008 17:16:43 -0500\\nx-authentication-warning: nakamura.uits.iupui.edu: apache set sender to louis@media.berkeley.edu using -f\\nto: source@collab.sakaiproject.org\\nfrom: louis@media.berkeley.edu\\nsubject: [sakai] svn commit: r39746 - in bspace/site-manage/sakai_2-4-x/site-manage-tool/tool/src: bundle webapp/vm/sitesetup\\nx-content-type-outer-envelope: text/plain; charset=utf-8\\nx-content-type-message-body: text/plain; charset=utf-8\\ncontent-type: text/plain; charset=utf-8\\nx-dspam-result: innocent\\nx-dspam-processed: thu jan  3 17:18:23 2008\\nx-dspam-confidence: 0.6959\\nx-dspam-probability: 0.0000\\n\\ndetails: http://source.sakaiproject.org/viewsvn/?view=rev&rev=39746\\n\\nauthor: louis@media.berkeley.edu\\ndate: 2008-01-03 17:16:39 -0500 (thu, 03 jan 2008)\\nnew revision: 39746\\n\\nmodified:\\nbspace/site-manage/sakai_2-4-x/site-manage-tool/tool/src/bundle/sitesetupgeneric.properties\\nbspace/site-manage/sakai_2-4-x/site-manage-tool/tool/src/webapp/vm/sitesetup/chef_site-siteinfo-duplicate.vm\\nlog:\\nbsp-1421 add text to clarify \"duplicate site\" option in site info\\n\\n----------------------\\nthis automatic notification message was sent by sakai collab (https://collab.sakaiproject.org/portal) from the source site.\\nyou can modify how you receive notifications at my workspace > preferences.\\n\\n\\n\\nfrom ray@media.berkeley.edu thu jan  3 17:07:00 2008\\nreturn-path: <postmaster@collab.sakaiproject.org>\\nreceived: from murder (mail.umich.edu [141.211.14.39])\\n\\t by frankenstein.mail.umich.edu (cyrus v2.3.8) with lmtpa;\\n\\t thu, 03 jan 2008 17:07:00 -0500\\nx-sieve: cmu sieve 2.3\\nreceived: from murder ([unix socket])\\n\\t by mail.umich.edu (cyrus v2.2.12) with lmtpa;\\n\\t thu, 03 jan 2008 17:07:00 -0500\\nreceived: from anniehall.mr.itd.umich.edu (anniehall.mr.itd.umich.edu [141.211.93.141])\\n\\tby faithful.mail.umich.edu () with esmtp id m03m6xaq014868;\\n\\tthu, 3 jan 2008 17:06:59 -0500\\nreceived: from paploo.uhi.ac.uk (app1.prod.collab.uhi.ac.uk [194.35.219.184])\\n\\tby anniehall.mr.itd.umich.edu id 477d5c7a.4fe1f.22211 ; \\n\\t 3 jan 2008 17:06:53 -0500\\nreceived: from paploo.uhi.ac.uk (localhost [127.0.0.1])\\n\\tby paploo.uhi.ac.uk (postfix) with esmtp id 0bc8d7225e;\\n\\tthu,  3 jan 2008 22:06:57 +0000 (gmt)\\nmessage-id: <200801032205.m03m5ea7005273@nakamura.uits.iupui.edu>\\nmime-version: 1.0\\ncontent-transfer-encoding: 7bit\\nreceived: from prod.collab.uhi.ac.uk ([194.35.219.182])\\n          by paploo.uhi.ac.uk (james smtp server 2.1.3) with smtp id 554\\n          for <source@collab.sakaiproject.org>;\\n          thu, 3 jan 2008 22:06:34 +0000 (gmt)\\nreceived: from nakamura.uits.iupui.edu (nakamura.uits.iupui.edu [134.68.220.122])\\n\\tby shmi.uhi.ac.uk (postfix) with esmtp id 2ab513c2fd\\n\\tfor <source@collab.sakaiproject.org>; thu,  3 jan 2008 22:06:23 +0000 (gmt)\\nreceived: from nakamura.uits.iupui.edu (localhost [127.0.0.1])\\n\\tby nakamura.uits.iupui.edu (8.12.11.20060308/8.12.11) with esmtp id m03m5eqa005275\\n\\tfor <source@collab.sakaiproject.org>; thu, 3 jan 2008 17:05:14 -0500\\nreceived: (from apache@localhost)\\n\\tby nakamura.uits.iupui.edu (8.12.11.20060308/8.12.11/submit) id m03m5ea7005273\\n\\tfor source@collab.sakaiproject.org; thu, 3 jan 2008 17:05:14 -0500\\ndate: thu, 3 jan 2008 17:05:14 -0500\\nx-authentication-warning: nakamura.uits.iupui.edu: apache set sender to ray@media.berkeley.edu using -f\\nto: source@collab.sakaiproject.org\\nfrom: ray@media.berkeley.edu\\nsubject: [sakai] svn commit: r39745 - providers/trunk/cm/cm-authz-provider/src/java/org/sakaiproject/coursemanagement/impl/provider\\nx-content-type-outer-envelope: text/plain; charset=utf-8\\nx-content-type-message-body: text/plain; charset=utf-8\\ncontent-type: text/plain; charset=utf-8\\nx-dspam-result: innocent\\nx-dspam-processed: thu jan  3 17:07:00 2008\\nx-dspam-confidence: 0.7556\\nx-dspam-probability: 0.0000\\n\\ndetails: http://source.sakaiproject.org/viewsvn/?view=rev&rev=39745\\n\\nauthor: ray@media.berkeley.edu\\ndate: 2008-01-03 17:05:11 -0500 (thu, 03 jan 2008)\\nnew revision: 39745\\n\\nmodified:\\nproviders/trunk/cm/cm-authz-provider/src/java/org/sakaiproject/coursemanagement/impl/provider/coursemanagementgroupprovider.java\\nlog:\\nsak-12602 fix logic when a user has multiple roles in a section\\n\\n----------------------\\nthis automatic notification message was sent by sakai collab (https://collab.sakaiproject.org/portal) from the source site.\\nyou can modify how you receive notifications at my workspace > preferences.\\n\\n\\n\\nfrom cwen@iupui.edu thu jan  3 16:34:40 2008\\nreturn-path: <postmaster@collab.sakaiproject.org>\\nreceived: from murder (mail.umich.edu [141.211.14.34])\\n\\t by frankenstein.mail.umich.edu (cyrus v2.3.8) with lmtpa;\\n\\t thu, 03 jan 2008 16:34:40 -0500\\nx-sieve: cmu sieve 2.3\\nreceived: from murder ([unix socket])\\n\\t by mail.umich.edu (cyrus v2.2.12) with lmtpa;\\n\\t thu, 03 jan 2008 16:34:40 -0500\\nreceived: from icestorm.mr.itd.umich.edu (icestorm.mr.itd.umich.edu [141.211.93.149])\\n\\tby chaos.mail.umich.edu () with esmtp id m03lydy1029538;\\n\\tthu, 3 jan 2008 16:34:39 -0500\\nreceived: from paploo.uhi.ac.uk (app1.prod.collab.uhi.ac.uk [194.35.219.184])\\n\\tby icestorm.mr.itd.umich.edu id 477d54ea.13f34.26602 ; \\n\\t 3 jan 2008 16:34:36 -0500\\nreceived: from paploo.uhi.ac.uk (localhost [127.0.0.1])\\n\\tby paploo.uhi.ac.uk (postfix) with esmtp id cc710adc79;\\n\\tthu,  3 jan 2008 21:34:29 +0000 (gmt)\\nmessage-id: <200801032133.m03lx3gg005191@nakamura.uits.iupui.edu>\\nmime-version: 1.0\\ncontent-transfer-encoding: 7bit\\nreceived: from prod.collab.uhi.ac.uk ([194.35.219.182])\\n          by paploo.uhi.ac.uk (james smtp server 2.1.3) with smtp id 611\\n          for <source@collab.sakaiproject.org>;\\n          thu, 3 jan 2008 21:34:08 +0000 (gmt)\\nreceived: from nakamura.uits.iupui.edu (nakamura.uits.iupui.edu [134.68.220.122])\\n\\tby shmi.uhi.ac.uk (postfix) with esmtp id 43c4242b55\\n\\tfor <source@collab.sakaiproject.org>; thu,  3 jan 2008 21:34:12 +0000 (gmt)\\nreceived: from nakamura.uits.iupui.edu (localhost [127.0.0.1])\\n\\tby nakamura.uits.iupui.edu (8.12.11.20060308/8.12.11) with esmtp id m03lx3vb005193\\n\\tfor <source@collab.sakaiproject.org>; thu, 3 jan 2008 16:33:03 -0500\\nreceived: (from apache@localhost)\\n\\tby nakamura.uits.iupui.edu (8.12.11.20060308/8.12.11/submit) id m03lx3gg005191\\n\\tfor source@collab.sakaiproject.org; thu, 3 jan 2008 16:33:03 -0500\\ndate: thu, 3 jan 2008 16:33:03 -0500\\nx-authentication-warning: nakamura.uits.iupui.edu: apache set sender to cwen@iupui.edu using -f\\nto: source@collab.sakaiproject.org\\nfrom: cwen@iupui.edu\\nsubject: [sakai] svn commit: r39744 - oncourse/branches/oncourse_opc_122007\\nx-content-type-outer-envelope: text/plain; charset=utf-8\\nx-content-type-message-body: text/plain; charset=utf-8\\ncontent-type: text/plain; charset=utf-8\\nx-dspam-result: innocent\\nx-dspam-processed: thu jan  3 16:34:40 2008\\nx-dspam-confidence: 0.9846\\nx-dspam-probability: 0.0000\\n\\ndetails: http://source.sakaiproject.org/viewsvn/?view=rev&rev=39744\\n\\nauthor: cwen@iupui.edu\\ndate: 2008-01-03 16:33:02 -0500 (thu, 03 jan 2008)\\nnew revision: 39744\\n\\nmodified:\\noncourse/branches/oncourse_opc_122007/\\noncourse/branches/oncourse_opc_122007/.externals\\nlog:\\nupdate external for gb.\\n\\n----------------------\\nthis automatic notification message was sent by sakai collab (https://collab.sakaiproject.org/portal) from the source site.\\nyou can modify how you receive notifications at my workspace > preferences.\\n\\n\\n\\nfrom cwen@iupui.edu thu jan  3 16:29:07 2008\\nreturn-path: <postmaster@collab.sakaiproject.org>\\nreceived: from murder (mail.umich.edu [141.211.14.46])\\n\\t by frankenstein.mail.umich.edu (cyrus v2.3.8) with lmtpa;\\n\\t thu, 03 jan 2008 16:29:07 -0500\\nx-sieve: cmu sieve 2.3\\nreceived: from murder ([unix socket])\\n\\t by mail.umich.edu (cyrus v2.2.12) with lmtpa;\\n\\t thu, 03 jan 2008 16:29:07 -0500\\nreceived: from galaxyquest.mr.itd.umich.edu (galaxyquest.mr.itd.umich.edu [141.211.93.145])\\n\\tby fan.mail.umich.edu () with esmtp id m03lt6uw027749;\\n\\tthu, 3 jan 2008 16:29:06 -0500\\nreceived: from paploo.uhi.ac.uk (app1.prod.collab.uhi.ac.uk [194.35.219.184])\\n\\tby galaxyquest.mr.itd.umich.edu id 477d5397.e161d.20326 ; \\n\\t 3 jan 2008 16:28:58 -0500\\nreceived: from paploo.uhi.ac.uk (localhost [127.0.0.1])\\n\\tby paploo.uhi.ac.uk (postfix) with esmtp id dec65adc79;\\n\\tthu,  3 jan 2008 21:28:52 +0000 (gmt)\\nmessage-id: <200801032127.m03lruqh005177@nakamura.uits.iupui.edu>\\nmime-version: 1.0\\ncontent-transfer-encoding: 7bit\\nreceived: from prod.collab.uhi.ac.uk ([194.35.219.182])\\n          by paploo.uhi.ac.uk (james smtp server 2.1.3) with smtp id 917\\n          for <source@collab.sakaiproject.org>;\\n          thu, 3 jan 2008 21:28:39 +0000 (gmt)\\nreceived: from nakamura.uits.iupui.edu (nakamura.uits.iupui.edu [134.68.220.122])\\n\\tby shmi.uhi.ac.uk (postfix) with esmtp id 1fbb042b30\\n\\tfor <source@collab.sakaiproject.org>; thu,  3 jan 2008 21:28:38 +0000 (gmt)\\nreceived: from nakamura.uits.iupui.edu (localhost [127.0.0.1])\\n\\tby nakamura.uits.iupui.edu (8.12.11.20060308/8.12.11) with esmtp id m03lruk4005179\\n\\tfor <source@collab.sakaiproject.org>; thu, 3 jan 2008 16:27:30 -0500\\nreceived: (from apache@localhost)\\n\\tby nakamura.uits.iupui.edu (8.12.11.20060308/8.12.11/submit) id m03lruqh005177\\n\\tfor source@collab.sakaiproject.org; thu, 3 jan 2008 16:27:30 -0500\\ndate: thu, 3 jan 2008 16:27:30 -0500\\nx-authentication-warning: nakamura.uits.iupui.edu: apache set sender to cwen@iupui.edu using -f\\nto: source@collab.sakaiproject.org\\nfrom: cwen@iupui.edu\\nsubject: [sakai] svn commit: r39743 - gradebook/branches/oncourse_2-4-2/app/ui/src/java/org/sakaiproject/tool/gradebook/ui\\nx-content-type-outer-envelope: text/plain; charset=utf-8\\nx-content-type-message-body: text/plain; charset=utf-8\\ncontent-type: text/plain; charset=utf-8\\nx-dspam-result: innocent\\nx-dspam-processed: thu jan  3 16:29:07 2008\\nx-dspam-confidence: 0.8509\\nx-dspam-probability: 0.0000\\n\\ndetails: http://source.sakaiproject.org/viewsvn/?view=rev&rev=39743\\n\\nauthor: cwen@iupui.edu\\ndate: 2008-01-03 16:27:29 -0500 (thu, 03 jan 2008)\\nnew revision: 39743\\n\\nmodified:\\ngradebook/branches/oncourse_2-4-2/app/ui/src/java/org/sakaiproject/tool/gradebook/ui/rosterbean.java\\nlog:\\nsvn merge -c 39403 https://source.sakaiproject.org/svn/gradebook/trunk\\nu    app/ui/src/java/org/sakaiproject/tool/gradebook/ui/rosterbean.java\\n\\nsvn log -r 39403 https://source.sakaiproject.org/svn/gradebook/trunk\\n------------------------------------------------------------------------\\nr39403 | wagnermr@iupui.edu | 2007-12-17 17:11:08 -0500 (mon, 17 dec 2007) | 3 lines\\n\\nsak-12504\\nhttp://jira.sakaiproject.org/jira/browse/sak-12504\\nviewing \"all grades\" page as a ta with grader permissions causes stack trace\\n------------------------------------------------------------------------\\n\\n\\n----------------------\\nthis automatic notification message was sent by sakai collab (https://collab.sakaiproject.org/portal) from the source site.\\nyou can modify how you receive notifications at my workspace > preferences.\\n\\n\\n\\nfrom cwen@iupui.edu thu jan  3 16:23:48 2008\\nreturn-path: <postmaster@collab.sakaiproject.org>\\nreceived: from murder (mail.umich.edu [141.211.14.91])\\n\\t by frankenstein.mail.umich.edu (cyrus v2.3.8) with lmtpa;\\n\\t thu, 03 jan 2008 16:23:48 -0500\\nx-sieve: cmu sieve 2.3\\nreceived: from murder ([unix socket])\\n\\t by mail.umich.edu (cyrus v2.2.12) with lmtpa;\\n\\t thu, 03 jan 2008 16:23:48 -0500\\nreceived: from salemslot.mr.itd.umich.edu (salemslot.mr.itd.umich.edu [141.211.14.58])\\n\\tby jacknife.mail.umich.edu () with esmtp id m03lnlf0002115;\\n\\tthu, 3 jan 2008 16:23:47 -0500\\nreceived: from paploo.uhi.ac.uk (app1.prod.collab.uhi.ac.uk [194.35.219.184])\\n\\tby salemslot.mr.itd.umich.edu id 477d525e.1448.30389 ; \\n\\t 3 jan 2008 16:23:44 -0500\\nreceived: from paploo.uhi.ac.uk (localhost [127.0.0.1])\\n\\tby paploo.uhi.ac.uk (postfix) with esmtp id 9d005b9d06;\\n\\tthu,  3 jan 2008 21:23:38 +0000 (gmt)\\nmessage-id: <200801032122.m03lmfo4005148@nakamura.uits.iupui.edu>\\nmime-version: 1.0\\ncontent-transfer-encoding: 7bit\\nreceived: from prod.collab.uhi.ac.uk ([194.35.219.182])\\n          by paploo.uhi.ac.uk (james smtp server 2.1.3) with smtp id 6\\n          for <source@collab.sakaiproject.org>;\\n          thu, 3 jan 2008 21:23:24 +0000 (gmt)\\nreceived: from nakamura.uits.iupui.edu (nakamura.uits.iupui.edu [134.68.220.122])\\n\\tby shmi.uhi.ac.uk (postfix) with esmtp id 3535542b69\\n\\tfor <source@collab.sakaiproject.org>; thu,  3 jan 2008 21:23:24 +0000 (gmt)\\nreceived: from nakamura.uits.iupui.edu (localhost [127.0.0.1])\\n\\tby nakamura.uits.iupui.edu (8.12.11.20060308/8.12.11) with esmtp id m03lmftt005150\\n\\tfor <source@collab.sakaiproject.org>; thu, 3 jan 2008 16:22:15 -0500\\nreceived: (from apache@localhost)\\n\\tby nakamura.uits.iupui.edu (8.12.11.20060308/8.12.11/submit) id m03lmfo4005148\\n\\tfor source@collab.sakaiproject.org; thu, 3 jan 2008 16:22:15 -0500\\ndate: thu, 3 jan 2008 16:22:15 -0500\\nx-authentication-warning: nakamura.uits.iupui.edu: apache set sender to cwen@iupui.edu using -f\\nto: source@collab.sakaiproject.org\\nfrom: cwen@iupui.edu\\nsubject: [sakai] svn commit: r39742 - gradebook/branches/oncourse_2-4-2/app/ui/src/java/org/sakaiproject/tool/gradebook/ui\\nx-content-type-outer-envelope: text/plain; charset=utf-8\\nx-content-type-message-body: text/plain; charset=utf-8\\ncontent-type: text/plain; charset=utf-8\\nx-dspam-result: innocent\\nx-dspam-processed: thu jan  3 16:23:48 2008\\nx-dspam-confidence: 0.9907\\nx-dspam-probability: 0.0000\\n\\ndetails: http://source.sakaiproject.org/viewsvn/?view=rev&rev=39742\\n\\nauthor: cwen@iupui.edu\\ndate: 2008-01-03 16:22:14 -0500 (thu, 03 jan 2008)\\nnew revision: 39742\\n\\nmodified:\\ngradebook/branches/oncourse_2-4-2/app/ui/src/java/org/sakaiproject/tool/gradebook/ui/rosterbean.java\\nlog:\\nsvn merge -c 35014 https://source.sakaiproject.org/svn/gradebook/trunk\\nu    app/ui/src/java/org/sakaiproject/tool/gradebook/ui/rosterbean.java\\n\\nsvn log -r 35014 https://source.sakaiproject.org/svn/gradebook/trunk\\n------------------------------------------------------------------------\\nr35014 | wagnermr@iupui.edu | 2007-09-12 16:17:59 -0400 (wed, 12 sep 2007) | 3 lines\\n\\nsak-11458\\nhttp://bugs.sakaiproject.org/jira/browse/sak-11458\\ncourse grade does not appear on \"all grades\" page if no categories in gb\\n------------------------------------------------------------------------\\n\\n\\n----------------------\\nthis automatic notification message was sent by sakai collab (https://collab.sakaiproject.org/portal) from the source site.\\nyou can modify how you receive notifications at my workspace > preferences']\n"
     ]
    }
   ],
   "source": [
    "file=open('E.txt','r')\n",
    "file=file.read()\n",
    "file=file.lower()\n",
    "words=[word.strip(',.!;()[]') for word in words]\n",
    "words = [word.replace(\"'s\", '') for word in words]\n",
    "#finding unique\n",
    "unique = []\n",
    "for word in words:\n",
    "    if word not in unique:\n",
    "        unique.append(word)\n",
    "\n",
    "#sort\n",
    "unique.sort()\n",
    "\n",
    "#print\n",
    "print(unique)"
   ]
  },
  {
   "cell_type": "code",
   "execution_count": 60,
   "id": "e3852829",
   "metadata": {},
   "outputs": [
    {
     "data": {
      "text/plain": [
       "[]"
      ]
     },
     "execution_count": 60,
     "metadata": {},
     "output_type": "execute_result"
    }
   ],
   "source": [
    "file=open('NT.txt','r')\n",
    "file=file.read()\n",
    "file=file.lower()\n",
    "words=file.split(' ')\n",
    "unique=[]\n",
    "for word in words:\n",
    "    if word not in words:\n",
    "        unique.append(word)\n",
    "unique"
   ]
  },
  {
   "cell_type": "code",
   "execution_count": 66,
   "id": "8def679e",
   "metadata": {},
   "outputs": [
    {
     "data": {
      "text/plain": [
       "1656"
      ]
     },
     "execution_count": 66,
     "metadata": {},
     "output_type": "execute_result"
    }
   ],
   "source": [
    "# word count with split\n",
    "file=open('Q.txt','r')\n",
    "file=file.read()\n",
    "file=file.split()\n",
    "len(file)\n",
    "#file   to see the whole file remove #"
   ]
  },
  {
   "cell_type": "code",
   "execution_count": 70,
   "id": "9af6ff49",
   "metadata": {},
   "outputs": [
    {
     "data": {
      "text/plain": [
       "8863"
      ]
     },
     "execution_count": 70,
     "metadata": {},
     "output_type": "execute_result"
    }
   ],
   "source": [
    "# word count without split\n",
    "file=open('Q.txt','r')\n",
    "file=file.read()\n",
    "# file to see the whole file remove #\n",
    "len(file)"
   ]
  },
  {
   "cell_type": "code",
   "execution_count": 71,
   "id": "eef7fc2a",
   "metadata": {},
   "outputs": [
    {
     "name": "stdout",
     "output_type": "stream",
     "text": [
      "['Romeo', 'and', 'Juliet', 'Act', '2,', 'Scene', '2', 'SCENE', 'II.', \"Capulet's\", 'orchard.', 'Enter', 'ROMEO', 'He', 'jests', 'at', 'scars', 'that', 'never', 'felt', 'a', 'wound.', 'JULIET', 'appears', 'above', 'window', 'But,', 'soft!', 'what', 'light', 'through', 'yonder', 'breaks?', 'It', 'is', 'the', 'east,', 'sun.', 'Arise,', 'fair', 'sun,', 'kill', 'envious', 'moon,', 'Who', 'already', 'sick', 'pale', 'with', 'grief,', 'That', 'thou', 'her', 'maid', 'art', 'far', 'more', 'than', 'she:', 'Be', 'not', 'maid,', 'since', 'she', 'envious;', 'Her', 'vestal', 'livery', 'but', 'green', 'And', 'none', 'fools', 'do', 'wear', 'it;', 'cast', 'it', 'off.', 'my', 'lady,', 'O,', 'love!', 'knew', 'were!', 'She', 'speaks', 'yet', 'says', 'nothing:', 'of', 'that?', 'eye', 'discourses;', 'I', 'will', 'answer', 'it.', 'am', 'too', 'bold,', \"'tis\", 'to', 'me', 'speaks:', 'Two', 'fairest', 'stars', 'in', 'all', 'heaven,', 'Having', 'some', 'business,', 'entreat', 'eyes', 'To', 'twinkle', 'their', 'spheres', 'till', 'they', 'return.', 'What', 'if', 'were', 'there,', 'head?', 'The', 'brightness', 'cheek', 'would', 'shame', 'those', 'stars,', 'As', 'daylight', 'doth', 'lamp;', 'heaven', 'Would', 'airy', 'region', 'stream', 'so', 'bright', 'birds', 'sing', 'think', 'night.', 'See,', 'how', 'leans', 'upon', 'hand!', 'glove', 'hand,', 'might', 'touch', 'cheek!', 'Ay', 'me!', 'speak', 'again,', 'angel!', 'for', 'glorious', 'this', 'night,', 'being', \"o'er\", 'head', 'winged', 'messenger', 'Unto', 'white-upturned', 'wondering', 'Of', 'mortals', 'fall', 'back', 'gaze', 'on', 'him', 'When', 'he', 'bestrides', 'lazy-pacing', 'clouds', 'sails', 'bosom', 'air.', 'O', 'Romeo,', 'Romeo!', 'wherefore', 'Romeo?', 'Deny', 'thy', 'father', 'refuse', 'name;', 'Or,', 'wilt', 'not,', 'be', 'sworn', 'love,', \"I'll\", 'no', 'longer', 'Capulet.', '[Aside]', 'Shall', 'hear', 'more,', 'or', 'shall', 'this?', \"'Tis\", 'name', 'enemy;', 'Thou', 'thyself,', 'though', 'Montague.', \"What's\", 'Montague?', 'nor', 'foot,', 'Nor', 'arm,', 'face,', 'any', 'other', 'part', 'Belonging', 'man.', 'name!', 'name?', 'which', 'we', 'call', 'rose', 'By', 'smell', 'as', 'sweet;', 'So', 'would,', \"call'd,\", 'Retain', 'dear', 'perfection', 'owes', 'Without', 'title.', 'doff', 'name,', 'thee', 'Take', 'myself.', 'take', 'word:', 'Call', 'new', 'baptized;', 'Henceforth', 'Romeo.', 'man', 'thus', \"bescreen'd\", 'night', 'stumblest', 'counsel?', 'know', 'tell', 'who', 'am:', 'My', 'saint,', 'hateful', 'myself,', 'Because', 'an', 'enemy', 'thee;', 'Had', 'written,', 'tear', 'word.', 'ears', 'have', 'drunk', 'hundred', 'words', \"tongue's\", 'utterance,', 'sound:', 'Art', 'Neither,', 'either', 'dislike.', 'How', 'camest', 'hither,', 'me,', 'wherefore?', 'orchard', 'walls', 'are', 'high', 'hard', 'climb,', 'place', 'death,', 'considering', 'art,', 'If', 'kinsmen', 'find', 'here.', 'With', \"love's\", 'wings', 'did', \"o'er-perch\", 'these', 'walls;', 'For', 'stony', 'limits', 'cannot', 'hold', 'love', 'out,', 'can', 'dares', 'attempt;', 'Therefore', 'let', 'me.', 'see', 'thee,', 'murder', 'thee.', 'Alack,', 'there', 'lies', 'peril', 'thine', 'Than', 'twenty', 'swords:', 'look', 'sweet,', 'proof', 'against', 'enmity.', 'world', 'saw', \"night's\", 'cloak', 'hide', 'from', 'sight;', 'them', 'here:', 'life', 'better', 'ended', 'by', 'hate,', 'death', 'prorogued,', 'wanting', 'love.', 'whose', 'direction', \"found'st\", 'out', 'place?', 'first', 'prompt', 'inquire;', 'lent', 'counsel', 'eyes.', 'pilot;', 'yet,', 'wert', 'vast', 'shore', \"wash'd\", 'farthest', 'sea,', 'adventure', 'such', 'merchandise.', \"know'st\", 'mask', 'Else', 'maiden', 'blush', 'bepaint', 'hast', 'heard', 'to-night', 'Fain', 'dwell', 'form,', 'fain,', 'fain', 'deny', 'spoke:', 'farewell', 'compliment!', 'Dost', 'me?', 'say', \"'Ay,'\", \"swear'st,\", 'mayst', 'prove', 'false;', \"lovers'\", 'perjuries', 'Then', 'say,', 'Jove', 'laughs.', 'gentle', 'dost', 'pronounce', 'faithfully:', 'Or', \"think'st\", 'quickly', 'won,', 'frown', 'perverse', 'nay,', 'woo;', 'else,', 'world.', 'In', 'truth,', 'Montague,', 'fond,', 'therefore', \"'havior\", 'light:', 'But', 'trust', 'gentleman,', 'true', 'cunning', 'strange.', 'should', 'been', 'strange,', 'must', 'confess,', \"overheard'st,\", 'ere', 'was', 'ware,', 'passion:', 'pardon', 'impute', 'yielding', 'Which', 'dark', 'hath', 'discovered.', 'Lady,', 'blessed', 'moon', 'swear', 'tips', 'silver', 'fruit-tree', 'tops--', 'inconstant', 'monthly', 'changes', 'circled', 'orb,', 'Lest', 'likewise', 'variable.', 'by?', 'Do', 'all;', 'wilt,', 'gracious', 'self,', 'god', 'idolatry,', 'believe', \"heart's\", 'love--', 'Well,', 'swear:', 'although', 'joy', 'contract', 'to-night:', 'rash,', 'unadvised,', 'sudden;', 'Too', 'like', 'lightning,', 'cease', 'Ere', 'one', \"'It\", \"lightens.'\", 'Sweet,', 'good', 'night!', 'This', 'bud', \"summer's\", 'ripening', 'breath,', 'May', 'beauteous', 'flower', 'when', 'next', 'meet.', 'Good', 'sweet', 'repose', 'rest', 'Come', 'heart', 'within', 'breast!', 'leave', 'unsatisfied?', 'satisfaction', 'canst', 'to-night?', 'exchange', 'faithful', 'vow', 'mine.', 'gave', 'mine', 'before', 'didst', 'request', 'it:', 'give', 'again.', 'Wouldst', 'withdraw', 'it?', 'purpose,', 'love?', 'frank,', 'wish', 'thing', 'have:', 'bounty', 'boundless', 'deep;', 'have,', 'both', 'infinite.', 'Nurse', 'calls', 'noise', 'within;', 'adieu!', 'Anon,', 'nurse!', 'Sweet', 'true.', 'Stay', 'little,', 'come', 'Exit,', 'blessed,', 'afeard.', 'Being', 'dream,', 'flattering-sweet', 'substantial.', 'Re-enter', 'JULIET,', 'Three', 'words,', 'indeed.', 'bent', 'honourable,', 'Thy', 'purpose', 'marriage,', 'send', 'word', 'to-morrow,', 'procure', 'Where', 'time', 'perform', 'rite;', 'fortunes', 'foot', 'lay', 'follow', 'lord', 'throughout', '[Within]', 'Madam!', 'come,', 'anon.--But', \"mean'st\", 'well,', 'beseech', 'thee--', 'by,', 'come:--', 'suit,', 'grief:', 'To-morrow', 'send.', 'thrive', 'soul--', 'A', 'thousand', 'times', 'worse,', 'want', 'light.', 'Love', 'goes', 'toward', 'schoolboys', 'books,', 'school', 'heavy', 'looks.', 'Retiring', 'Hist!', 'hist!', \"falconer's\", 'voice,', 'lure', 'tassel-gentle', 'again!', 'Bondage', 'hoarse,', 'may', 'aloud;', 'cave', 'where', 'Echo', 'lies,', 'make', 'tongue', 'hoarse', 'mine,', 'repetition', \"Romeo's\", 'name.', 'soul', 'name:', 'silver-sweet', 'sound', 'tongues', 'Like', 'softest', 'music', 'attending', 'ears!', 'dear?', 'At', \"o'clock\", 'to-morrow', 'thee?', 'hour', 'nine.', 'fail:', 'years', 'then.', 'forgot', 'why', 'back.', 'Let', 'stand', 'here', 'remember', 'forget,', 'still', 'Remembering', 'company.', 'stay,', 'Forgetting', 'home', 'this.', 'almost', 'morning;', 'gone:', 'further', \"wanton's\", 'bird;', 'lets', 'hop', 'little', 'poor', 'prisoner', 'his', 'twisted', 'gyves,', 'silk', 'thread', 'plucks', 'loving-jealous', 'liberty.', 'bird.', 'I:', 'Yet', 'much', 'cherishing.', 'parting', 'sorrow,', 'morrow.', 'Exit', 'Sleep', 'eyes,', 'peace', 'sleep', 'peace,', 'rest!', 'Hence', 'ghostly', \"father's\", 'cell,', 'His', 'help', 'crave,', 'hap', 'tell.']\n"
     ]
    }
   ],
   "source": [
    "file=open('Q.txt','r')\n",
    "file=file.read()\n",
    "file=file.split()\n",
    "unique=[]\n",
    "for word in file:\n",
    "    if word not in unique:\n",
    "        unique.append(word)\n",
    "print(unique)"
   ]
  },
  {
   "cell_type": "code",
   "execution_count": 72,
   "id": "0dfaf68f",
   "metadata": {},
   "outputs": [
    {
     "data": {
      "text/plain": [
       "747"
      ]
     },
     "execution_count": 72,
     "metadata": {},
     "output_type": "execute_result"
    }
   ],
   "source": [
    "len(unique)"
   ]
  },
  {
   "cell_type": "code",
   "execution_count": 104,
   "id": "fc779015",
   "metadata": {},
   "outputs": [
    {
     "name": "stdout",
     "output_type": "stream",
     "text": [
      "['romeo', 'and', 'julietact', '2,', 'scene', '2', 'ii.', \"capulet's\", 'orchard.enter', 'romeoromeohe', 'jests', 'at', 'scars', 'that', 'never', 'felt', 'a', 'wound.juliet', 'appears', 'above', 'windowbut,', 'soft!', 'what', 'light', 'through', 'yonder', 'window', 'breaks?it', 'is', 'the', 'east,', 'juliet', 'sun.arise,', 'fair', 'sun,', 'kill', 'envious', 'moon,who', 'already', 'sick', 'pale', 'with', 'grief,that', 'thou', 'her', 'maid', 'art', 'far', 'more', 'than', 'she:be', 'not', 'maid,', 'since', 'she', 'envious;her', 'vestal', 'livery', 'but', 'greenand', 'none', 'fools', 'do', 'wear', 'it;', 'cast', 'it', 'off.it', 'my', 'lady,', 'o,', 'love!o,', 'knew', 'were!she', 'speaks', 'yet', 'says', 'nothing:', 'of', 'that?her', 'eye', 'discourses;', 'i', 'will', 'answer', 'it.i', 'am', 'too', 'bold,', \"'tis\", 'to', 'me', 'speaks:two', 'fairest', 'stars', 'in', 'all', 'heaven,having', 'some', 'business,', 'entreat', 'eyesto', 'twinkle', 'their', 'spheres', 'till', 'they', 'return.what', 'if', 'eyes', 'were', 'there,', 'head?the', 'brightness', 'cheek', 'would', 'shame', 'those', 'stars,as', 'daylight', 'doth', 'lamp;', 'heavenwould', 'airy', 'region', 'stream', 'so', 'brightthat', 'birds', 'sing', 'think', 'night.see,', 'how', 'leans', 'upon', 'hand!o,', 'glove', 'hand,that', 'might', 'touch', 'cheek!julietay', 'me!romeoshe', 'speaks:o,', 'speak', 'again,', 'bright', 'angel!', 'for', 'artas', 'glorious', 'this', 'night,', 'being', \"o'er\", 'headas', 'winged', 'messenger', 'heavenunto', 'white-upturned', 'wondering', 'eyesof', 'mortals', 'fall', 'back', 'gaze', 'on', 'himwhen', 'he', 'bestrides', 'lazy-pacing', 'cloudsand', 'sails', 'bosom', 'air.julieto', 'romeo,', 'romeo!', 'wherefore', 'romeo?deny', 'thy', 'father', 'refuse', 'name;or,', 'wilt', 'not,', 'be', 'sworn', 'love,and', \"i'll\", 'no', 'longer', 'capulet.romeo[aside]', 'shall', 'hear', 'more,', 'or', \"this?juliet'tis\", 'name', 'enemy;thou', 'thyself,', 'though', \"montague.what's\", 'montague?', 'nor', 'hand,', 'foot,nor', 'arm,', 'face,', 'any', 'other', 'partbelonging', 'man.', \"name!what's\", 'name?', 'which', 'we', 'call', 'roseby', 'smell', 'as', 'sweet;so', 'would,', \"call'd,retain\", 'dear', 'perfection', 'oweswithout', 'title.', 'doff', 'name,and', 'part', 'theetake', 'myself.romeoi', 'take', 'thee', 'word:call', 'love,', 'new', 'baptized;henceforth', 'romeo.julietwhat', 'man', 'thus', \"bescreen'd\", 'nightso', 'stumblest', 'counsel?romeoby', 'namei', 'know', 'tell', 'who', 'am:my', 'name,', 'saint,', 'hateful', 'myself,because', 'an', 'enemy', 'thee;had', 'written,', 'tear', 'word.julietmy', 'ears', 'have', 'drunk', 'hundred', 'wordsof', \"tongue's\", 'utterance,', 'sound:art', 'montague?romeoneither,', 'either', 'dislike.juliethow', 'camest', 'hither,', 'me,', 'wherefore?the', 'orchard', 'walls', 'are', 'high', 'hard', 'climb,and', 'place', 'death,', 'considering', 'art,if', 'kinsmen', 'find', 'here.romeowith', \"love's\", 'wings', 'did', \"o'er-perch\", 'these', 'walls;for', 'stony', 'limits', 'cannot', 'hold', 'love', 'out,and', 'can', 'dares', 'attempt;therefore', 'let', 'me.julietif', 'see', 'thee,', 'murder', 'thee.romeoalack,', 'there', 'lies', 'peril', 'thine', 'eyethan', 'twenty', 'swords:', 'look', 'sweet,and', 'proof', 'against', 'enmity.julieti', 'world', 'saw', 'here.romeoi', \"night's\", 'cloak', 'hide', 'from', 'sight;and', 'them', 'here:my', 'life', 'better', 'ended', 'by', 'hate,than', 'death', 'prorogued,', 'wanting', 'love.julietby', 'whose', 'direction', \"found'st\", 'out', 'place?romeoby', 'first', 'prompt', 'inquire;he', 'lent', 'counsel', 'him', 'eyes.i', 'pilot;', 'yet,', 'wert', 'faras', 'vast', 'shore', \"wash'd\", 'farthest', 'sea,i', 'adventure', 'such', 'merchandise.julietthou', \"know'st\", 'mask', 'night', 'face,else', 'maiden', 'blush', 'bepaint', 'cheekfor', 'hast', 'heard', 'to-nightfain', 'dwell', 'form,', 'fain,', 'fain', 'denywhat', 'spoke:', 'farewell', 'compliment!dost', 'me?', 'say', \"'ay,'and\", 'word:', \"swear'st,thou\", 'mayst', 'prove', 'false;', \"lovers'\", 'perjuriesthen', 'say,', 'jove', 'laughs.', 'o', 'gentle', 'romeo,if', 'dost', 'pronounce', 'faithfully:or', \"think'st\", 'quickly', \"won,i'll\", 'frown', 'perverse', 'nay,so', 'woo;', 'else,', 'world.in', 'truth,', 'montague,', 'fond,and', 'therefore', \"'havior\", 'light:but', 'trust', 'gentleman,', 'truethan', 'cunning', 'strange.i', 'should', 'been', 'strange,', 'must', 'confess,but', \"overheard'st,\", 'ere', 'was', 'ware,my', 'true', 'passion:', 'pardon', 'me,and', 'impute', 'yielding', 'love,which', 'dark', 'hath', 'discovered.romeolady,', 'blessed', 'moon', 'swearthat', 'tips', 'silver', 'fruit-tree', 'tops--julieto,', 'swear', 'moon,', 'inconstant', 'moon,that', 'monthly', 'changes', 'circled', 'orb,lest', 'likewise', 'variable.romeowhat', 'by?julietdo', 'all;or,', 'wilt,', 'gracious', 'self,which', 'god', 'idolatry,and', 'believe', 'thee.romeoif', \"heart's\", 'love--julietwell,', 'swear:', 'although', 'joy', 'thee,i', 'contract', 'to-night:it', 'rash,', 'unadvised,', 'sudden;too', 'like', 'lightning,', 'cease', 'beere', 'one', \"'it\", \"lightens.'\", 'sweet,', 'good', 'night!this', 'bud', \"summer's\", 'ripening', 'breath,may', 'beauteous', 'flower', 'when', 'next', 'meet.good', 'night!', 'sweet', 'repose', 'restcome', 'heart', 'within', 'breast!romeoo,', 'leave', 'unsatisfied?julietwhat', 'satisfaction', 'canst', 'to-night?romeothe', 'exchange', 'faithful', 'vow', 'mine.julieti', 'gave', 'mine', 'before', 'didst', 'request', 'it:and', 'give', 'again.romeowouldst', 'withdraw', 'it?', 'purpose,', 'love?julietbut', 'frank,', 'again.and', 'wish', 'thing', 'have:my', 'bounty', 'boundless', 'sea,my', 'deep;', 'thee,the', 'have,', 'both', 'infinite.nurse', 'calls', 'withini', 'noise', 'within;', 'adieu!anon,', 'nurse!', 'true.stay', 'little,', 'come', 'again.exit,', 'aboveromeoo', 'blessed,', 'afeard.being', 'dream,too', 'flattering-sweet', 'substantial.re-enter', 'juliet,', 'abovejulietthree', 'words,', 'indeed.if', 'bent', 'honourable,thy', 'purpose', 'marriage,', 'send', 'word', 'to-morrow,by', 'procure', 'thee,where', 'time', 'perform', 'rite;and', 'fortunes', 'foot', 'layand', 'follow', 'lord', 'throughout', 'world.nurse[within]', 'madam!julieti', 'come,', 'anon.--but', \"mean'st\", 'well,i', 'beseech', 'thee--nurse[within]', 'madam!julietby', 'by,', 'come:--to', 'suit,', 'grief:to-morrow', 'send.romeoso', 'thrive', 'soul--julieta', 'thousand', 'times', 'night!exit,', 'aboveromeoa', 'worse,', 'want', 'light.love', 'goes', 'toward', 'schoolboys', 'fromtheir', 'books,but', 'school', 'heavy', 'looks.retiringre-enter', 'abovejuliethist!', 'hist!', \"falconer's\", 'voice,to', 'lure', 'tassel-gentle', 'again!bondage', 'hoarse,', 'may', 'aloud;else', 'cave', 'where', 'echo', 'lies,and', 'make', 'tongue', 'hoarse', 'mine,with', 'repetition', \"romeo's\", 'name.romeoit', 'soul', 'name:how', 'silver-sweet', 'sound', 'tongues', 'night,like', 'softest', 'music', 'attending', 'ears!julietromeo!romeomy', 'dear?julietat', \"o'clock\", 'to-morrowshall', 'thee?romeoat', 'hour', 'nine.julieti', 'fail:', 'years', 'then.i', 'forgot', 'why', 'back.romeolet', 'stand', 'here', 'remember', 'it.julieti', 'forget,', 'still', 'there,remembering', 'company.romeoand', 'stay,', 'forget,forgetting', 'home', \"this.juliet'tis\", 'almost', 'morning;', 'gone:and', 'further', \"wanton's\", 'bird;who', 'lets', 'hop', 'little', 'hand,like', 'poor', 'prisoner', 'his', 'twisted', 'gyves,and', 'silk', 'thread', 'plucks', 'again,so', 'loving-jealous', 'liberty.romeoi', 'bird.julietsweet,', 'i:yet', 'much', 'cherishing.good', 'parting', 'suchsweet', 'sorrow,that', 'morrow.exit', 'aboveromeosleep', 'eyes,', 'peace', 'breast!would', 'sleep', 'peace,', 'rest!hence', 'ghostly', \"father's\", 'cell,his', 'help', 'crave,', 'hap', 'tell.exit']\n",
      "704\n"
     ]
    }
   ],
   "source": [
    "file=open('Q.txt', 'r')\n",
    "file=file.read()\n",
    "file=file.lower()\n",
    "file=file.replace('\\n','')\n",
    "file=file.strip(',;:. \\n |')\n",
    "file=file.split(' ')\n",
    "unique=[]\n",
    "for i in file:\n",
    "    if i not in unique:\n",
    "        unique.append(i)\n",
    "print(unique)\n",
    "print(len(unique))"
   ]
  },
  {
   "cell_type": "code",
   "execution_count": 93,
   "id": "3b833d7e",
   "metadata": {},
   "outputs": [
    {
     "name": "stdout",
     "output_type": "stream",
     "text": [
      "['schoolboys', 'fromtheir', 'books,but', 'school', 'heavy', 'looks.retiringre-enter', 'abovejuliethist!', 'hist!', \"falconer's\", 'voice,to', 'lure', 'tassel-gentle', 'again!bondage', 'hoarse,', 'may', 'aloud;else', 'cave', 'where', 'echo', 'lies,and', 'make', 'tongue', 'hoarse', 'mine,with', 'repetition', \"romeo's\", 'name.romeoit', 'soul', 'name:how', 'silver-sweet', 'sound', 'tongues', 'night,like', 'softest', 'music', 'attending', 'ears!julietromeo!romeomy', 'dear?julietat', \"o'clock\", 'to-morrowshall']\n"
     ]
    }
   ],
   "source": [
    "print(unique[600:640])"
   ]
  },
  {
   "cell_type": "code",
   "execution_count": 100,
   "id": "97a10c13",
   "metadata": {},
   "outputs": [
    {
     "name": "stdout",
     "output_type": "stream",
     "text": [
      "['and', 'at', 'a', 'appears', 'above', 'already', 'art', 'answer', 'am', 'all', 'airy', 'again,', 'angel!', 'artas', 'air.julieto', 'arm,', 'any', 'as', 'am:my', 'an', 'are', 'art,if', 'attempt;therefore', 'against', 'adventure', 'all;or,', 'although', 'again.romeowouldst', 'again.and', 'adieu!anon,', 'again.exit,', 'aboveromeoo', 'afeard.being', 'abovejulietthree', 'anon.--but', 'aboveromeoa', 'abovejuliethist!', 'again!bondage', 'aloud;else', 'attending', 'almost', 'again,so', 'aboveromeosleep']\n",
      "43\n"
     ]
    }
   ],
   "source": [
    "# find word start with specific letter\n",
    "words=[]\n",
    "for i in unique:\n",
    "    if i.startswith('a'):\n",
    "        words.append(i)\n",
    "print(words)\n",
    "print(len(words))"
   ]
  },
  {
   "cell_type": "code",
   "execution_count": 101,
   "id": "ec79c36b",
   "metadata": {},
   "outputs": [
    {
     "name": "stdout",
     "output_type": "stream",
     "text": [
      "['scene', 'scars', 'soft!', 'sun.arise,', 'sun,', 'sick', 'she:be', 'since', 'she', 'speaks', 'says', 'speaks:two', 'stars', 'some', 'spheres', 'shame', 'stars,as', 'stream', 'so', 'sing', 'speaks:o,', 'speak', 'sails', 'sworn', 'shall', 'smell', 'sweet;so', 'stumblest', 'saint,', 'sound:art', 'stony', 'see', 'swords:', 'sweet,and', 'saw', 'sight;and', 'shore', 'sea,i', 'such', 'spoke:', 'say', \"swear'st,thou\", 'say,', 'strange.i', 'should', 'strange,', 'swearthat', 'silver', 'swear', 'self,which', 'swear:', 'sudden;too', 'sweet,', \"summer's\", 'sweet', 'satisfaction', 'sea,my', 'substantial.re-enter', 'send', 'suit,', 'send.romeoso', 'soul--julieta', 'schoolboys', 'school', 'soul', 'silver-sweet', 'sound', 'softest', 'stand', 'still', 'stay,', 'silk', 'suchsweet', 'sorrow,that', 'sleep']\n",
      "75\n"
     ]
    }
   ],
   "source": [
    "words=[]\n",
    "for i in unique:\n",
    "    if i.startswith('s'):\n",
    "        words.append(i)\n",
    "print(words)\n",
    "print(len(words))"
   ]
  },
  {
   "cell_type": "code",
   "execution_count": 102,
   "id": "bd46503a",
   "metadata": {},
   "outputs": [
    {
     "name": "stdout",
     "output_type": "stream",
     "text": [
      "['do', 'discourses;', 'daylight', 'doth', 'dear', 'doff', 'drunk', 'dislike.juliethow', 'death,', 'did', 'dares', 'death', 'direction', 'dwell', 'denywhat', 'dost', 'dark', 'discovered.romeolady,', 'didst', 'deep;', 'dream,too', 'dear?julietat']\n",
      "22\n"
     ]
    }
   ],
   "source": [
    "words=[]\n",
    "for i in unique:\n",
    "    if i.startswith('d'):\n",
    "        words.append(i)\n",
    "print(words)\n",
    "print(len(words))"
   ]
  },
  {
   "cell_type": "markdown",
   "id": "0e34367b",
   "metadata": {},
   "source": [
    " ### Exercise Minimalist Email Client.\n",
    " MBOX (mail box) is a popular file format to store and share a collection\n",
    "of emails. This was used by early email servers and desktop apps.\n",
    "Without getting into too many details, MBOX is a text file, which\n",
    "stores emails consecutively. Emails are separated by a special line which\n",
    "starts with From (notice the space). Importantly, lines starting with\n",
    "From: (notice the colon) describes the email itself and does not act as\n",
    "a separator. Imagine you wrote a minimalist email app, that lists the\n",
    "email of the senders in the user’s Inbox and counts the number of emails.\n",
    "Write a program to read through the mail box data and when you find\n",
    "line that starts with “From”, you will split the line into words using the\n",
    "split function. We are interested in who sent the message, which is the\n",
    "second word on the From line."
   ]
  },
  {
   "cell_type": "code",
   "execution_count": 118,
   "id": "142015d8",
   "metadata": {},
   "outputs": [
    {
     "name": "stdout",
     "output_type": "stream",
     "text": [
      "stephen.marquard@uct.ac.za\n",
      "louis@media.berkeley.edu\n",
      "zqian@umich.edu\n",
      "rjlowe@iupui.edu\n",
      "zqian@umich.edu\n",
      "rjlowe@iupui.edu\n",
      "cwen@iupui.edu\n",
      "cwen@iupui.edu\n",
      "gsilver@umich.edu\n",
      "gsilver@umich.edu\n",
      "zqian@umich.edu\n",
      "gsilver@umich.edu\n",
      "wagnermr@iupui.edu\n",
      "zqian@umich.edu\n",
      "antranig@caret.cam.ac.uk\n",
      "gopal.ramasammycook@gmail.com\n",
      "david.horwitz@uct.ac.za\n",
      "david.horwitz@uct.ac.za\n",
      "david.horwitz@uct.ac.za\n",
      "david.horwitz@uct.ac.za\n",
      "stephen.marquard@uct.ac.za\n",
      "louis@media.berkeley.edu\n",
      "louis@media.berkeley.edu\n",
      "ray@media.berkeley.edu\n",
      "cwen@iupui.edu\n",
      "cwen@iupui.edu\n",
      "cwen@iupui.edu\n",
      "There were 27 lines in the file with From as the first word\n"
     ]
    }
   ],
   "source": [
    "fhand = open('M.txt')\n",
    "count = 0\n",
    "for line in fhand:\n",
    "    words = line.split()\n",
    "    if len(words) < 3 or words[0] != 'From':\n",
    "        continue\n",
    "    print(words[1])\n",
    "    count += 1\n",
    "print('There were %d lines in the file with From as the first word' % count)"
   ]
  },
  {
   "cell_type": "code",
   "execution_count": 150,
   "id": "baa441a5",
   "metadata": {},
   "outputs": [
    {
     "name": "stdout",
     "output_type": "stream",
     "text": [
      "stephen.marquard@uct.ac.za\n",
      "louis@media.berkeley.edu\n",
      "zqian@umich.edu\n",
      "rjlowe@iupui.edu\n",
      "zqian@umich.edu\n",
      "rjlowe@iupui.edu\n",
      "cwen@iupui.edu\n",
      "cwen@iupui.edu\n",
      "gsilver@umich.edu\n",
      "gsilver@umich.edu\n",
      "zqian@umich.edu\n",
      "gsilver@umich.edu\n",
      "wagnermr@iupui.edu\n",
      "zqian@umich.edu\n",
      "antranig@caret.cam.ac.uk\n",
      "gopal.ramasammycook@gmail.com\n",
      "david.horwitz@uct.ac.za\n",
      "david.horwitz@uct.ac.za\n",
      "david.horwitz@uct.ac.za\n",
      "david.horwitz@uct.ac.za\n",
      "stephen.marquard@uct.ac.za\n",
      "louis@media.berkeley.edu\n",
      "louis@media.berkeley.edu\n",
      "ray@media.berkeley.edu\n",
      "cwen@iupui.edu\n",
      "cwen@iupui.edu\n",
      "cwen@iupui.edu\n",
      "There are 27 lines in the file with From as the first word\n"
     ]
    }
   ],
   "source": [
    "file=open('M.txt')\n",
    "count=0\n",
    "for line in file:\n",
    "    words=line.split()\n",
    "    if len(words) < 3 or words[0]!='From':\n",
    "        continue\n",
    "    print(words[1])\n",
    "    count +=1\n",
    "print('There are %d lines in the file with From as the first word' % count)"
   ]
  },
  {
   "cell_type": "code",
   "execution_count": 163,
   "id": "f02e74a2",
   "metadata": {},
   "outputs": [
    {
     "name": "stdout",
     "output_type": "stream",
     "text": [
      "stephen.marquard@uct.ac.za\n",
      "stephen.marquard@uct.ac.za\n",
      "louis@media.berkeley.edu\n",
      "louis@media.berkeley.edu\n",
      "zqian@umich.edu\n",
      "zqian@umich.edu\n",
      "rjlowe@iupui.edu\n",
      "rjlowe@iupui.edu\n",
      "zqian@umich.edu\n",
      "zqian@umich.edu\n",
      "rjlowe@iupui.edu\n",
      "rjlowe@iupui.edu\n",
      "cwen@iupui.edu\n",
      "cwen@iupui.edu\n",
      "cwen@iupui.edu\n",
      "cwen@iupui.edu\n",
      "gsilver@umich.edu\n",
      "gsilver@umich.edu\n",
      "gsilver@umich.edu\n",
      "gsilver@umich.edu\n",
      "zqian@umich.edu\n",
      "zqian@umich.edu\n",
      "gsilver@umich.edu\n",
      "gsilver@umich.edu\n",
      "wagnermr@iupui.edu\n",
      "wagnermr@iupui.edu\n",
      "zqian@umich.edu\n",
      "zqian@umich.edu\n",
      "antranig@caret.cam.ac.uk\n",
      "antranig@caret.cam.ac.uk\n",
      "gopal.ramasammycook@gmail.com\n",
      "gopal.ramasammycook@gmail.com\n",
      "david.horwitz@uct.ac.za\n",
      "david.horwitz@uct.ac.za\n",
      "david.horwitz@uct.ac.za\n",
      "david.horwitz@uct.ac.za\n",
      "david.horwitz@uct.ac.za\n",
      "david.horwitz@uct.ac.za\n",
      "david.horwitz@uct.ac.za\n",
      "david.horwitz@uct.ac.za\n",
      "stephen.marquard@uct.ac.za\n",
      "stephen.marquard@uct.ac.za\n",
      "louis@media.berkeley.edu\n",
      "louis@media.berkeley.edu\n",
      "louis@media.berkeley.edu\n",
      "louis@media.berkeley.edu\n",
      "ray@media.berkeley.edu\n",
      "ray@media.berkeley.edu\n",
      "cwen@iupui.edu\n",
      "cwen@iupui.edu\n",
      "cwen@iupui.edu\n",
      "cwen@iupui.edu\n",
      "cwen@iupui.edu\n",
      "cwen@iupui.edu\n",
      "There are 14 lins strart with From\n"
     ]
    }
   ],
   "source": [
    "file=open('M.txt')\n",
    "for line in file:\n",
    "    if not line.startswith('From'):\n",
    "        continue\n",
    "    words=line.split()\n",
    "    print(words[1])\n",
    "print(\"There are %d lins strart with From\" % len(words[1]))"
   ]
  },
  {
   "cell_type": "markdown",
   "id": "a404f036",
   "metadata": {},
   "source": [
    "### Exercise 6: \n",
    "Rewrite the program that prompts the user for a list of\n",
    "numbers and prints out the maximum and minimum of the numbers at\n",
    "8.16. EXERCISES 107\n",
    "the end when the user enters “done”. Write the program to store the\n",
    "numbers the user enters in a list and use the max() and min() functions to\n",
    "compute the maximum and minimum numbers after the loop completes."
   ]
  },
  {
   "cell_type": "code",
   "execution_count": 1,
   "id": "1ac23317",
   "metadata": {},
   "outputs": [
    {
     "name": "stdout",
     "output_type": "stream",
     "text": [
      "Enter a number: 2\n",
      "Enter a number: 4\n",
      "Enter a number: 5\n",
      "Enter a number: 7\n",
      "Enter a number: done\n",
      "Maximum:  7\n",
      "Minimum:  2\n",
      "['2', '4', '5', '7']\n"
     ]
    }
   ],
   "source": [
    "my_list = []                        # Initialize array\n",
    "while True:\n",
    "    number = 0.00\n",
    "    input_number = input('Enter a number: ')\n",
    "    if input_number == 'done':\n",
    "        break\n",
    "\n",
    "    try:\n",
    "        number = float(input_number)\n",
    "    except ValueError:\n",
    "        print('Invalid input')\n",
    "        quit()\n",
    "\n",
    "    my_list.append(input_number)\n",
    "\n",
    "print('Maximum: ', max(my_list))\n",
    "print('Minimum: ', min(my_list))\n",
    "print(my_list)"
   ]
  },
  {
   "cell_type": "markdown",
   "id": "0d1bd0ed",
   "metadata": {},
   "source": [
    "### Assigment 8.4\n",
    "Open the file romeo.txt and read it line by line. For each line, split the line into a list of words using the split() method. The program should build a list of words. For each word on each line check to see if the word is already in the list and if not append it to the list. When the program completes, sort and print the resulting words in python sort() order as shown in the desired output.\n",
    "You can download the sample data at http://www.py4e.com/code3/romeo.txt"
   ]
  },
  {
   "cell_type": "code",
   "execution_count": 8,
   "id": "40441990",
   "metadata": {
    "scrolled": true
   },
   "outputs": [
    {
     "name": "stdout",
     "output_type": "stream",
     "text": [
      "Enter file name: Q.txt\n",
      "[\"'Ay,'\", \"'It\", \"'Tis\", \"'havior\", \"'tis\", '2', '2,', 'A', 'Act', 'Alack,', 'And', 'Anon,', 'Arise,', 'Art', 'As', 'At', 'Ay', 'Be', 'Because', 'Being', 'Belonging', 'Bondage', 'But', 'But,', 'By', 'Call', \"Capulet's\", 'Capulet.', 'Come', 'Deny', 'Do', 'Dost', 'Echo', 'Else', 'Enter', 'Ere', 'Exit', 'Exit,', 'Fain', 'For', 'Forgetting', 'Good', 'Had', 'Having', 'He', 'Hence', 'Henceforth', 'Her', 'His', 'Hist!', 'How', 'I', \"I'll\", 'I:', 'II.', 'If', 'In', 'It', 'JULIET', 'JULIET,', 'Jove', 'Juliet', 'Lady,', 'Lest', 'Let', 'Like', 'Love', 'Madam!', 'May', 'Montague,', 'Montague.', 'Montague?', 'My', 'Neither,', 'Nor', 'Nurse', 'O', 'O,', 'Of', 'Or', 'Or,', 'ROMEO', 'Re-enter', 'Remembering', 'Retain', 'Retiring', 'Romeo', 'Romeo!', \"Romeo's\", 'Romeo,', 'Romeo.', 'Romeo?', 'SCENE', 'Scene', 'See,', 'Shall', 'She', 'Sleep', 'So', 'Stay', 'Sweet', 'Sweet,', 'Take', 'Than', 'That', 'The', 'Then', 'Therefore', 'This', 'Thou', 'Three', 'Thy', 'To', 'To-morrow', 'Too', 'Two', 'Unto', 'Well,', 'What', \"What's\", 'When', 'Where', 'Which', 'Who', 'With', 'Without', 'Would', 'Wouldst', 'Yet', '[Aside]', '[Within]', 'a', 'above', 'adieu!', 'adventure', 'afeard.', 'again!', 'again,', 'again.', 'against', 'air.', 'airy', 'all', 'all;', 'almost', 'aloud;', 'already', 'although', 'am', 'am:', 'an', 'and', 'angel!', 'anon.--But', 'answer', 'any', 'appears', 'are', 'arm,', 'art', 'art,', 'as', 'at', 'attempt;', 'attending', 'back', 'back.', 'baptized;', 'be', 'beauteous', 'been', 'before', 'being', 'believe', 'bent', 'bepaint', \"bescreen'd\", 'beseech', 'bestrides', 'better', 'bird.', 'bird;', 'birds', 'blessed', 'blessed,', 'blush', 'bold,', 'books,', 'bosom', 'both', 'boundless', 'bounty', 'breaks?', 'breast!', 'breath,', 'bright', 'brightness', 'bud', 'business,', 'but', 'by', 'by,', 'by?', 'call', \"call'd,\", 'calls', 'camest', 'can', 'cannot', 'canst', 'cast', 'cave', 'cease', 'cell,', 'changes', 'cheek', 'cheek!', 'cherishing.', 'circled', 'climb,', 'cloak', 'clouds', 'come', 'come,', 'come:--', 'company.', 'compliment!', 'confess,', 'considering', 'contract', 'counsel', 'counsel?', 'crave,', 'cunning', 'dares', 'dark', 'daylight', 'dear', 'dear?', 'death', 'death,', 'deep;', 'deny', 'did', 'didst', 'direction', 'discourses;', 'discovered.', 'dislike.', 'do', 'doff', 'dost', 'doth', 'dream,', 'drunk', 'dwell', 'ears', 'ears!', 'east,', 'either', 'else,', 'ended', 'enemy', 'enemy;', 'enmity.', 'entreat', 'envious', 'envious;', 'ere', 'exchange', 'eye', 'eyes', 'eyes,', 'eyes.', 'face,', 'fail:', 'fain', 'fain,', 'fair', 'fairest', 'faithful', 'faithfully:', \"falconer's\", 'fall', 'false;', 'far', 'farewell', 'farthest', 'father', \"father's\", 'felt', 'find', 'first', 'flattering-sweet', 'flower', 'follow', 'fond,', 'fools', 'foot', 'foot,', 'for', 'forget,', 'forgot', 'form,', 'fortunes', \"found'st\", 'frank,', 'from', 'frown', 'fruit-tree', 'further', 'gave', 'gaze', 'gentle', 'gentleman,', 'ghostly', 'give', 'glorious', 'glove', 'god', 'goes', 'gone:', 'good', 'gracious', 'green', 'grief,', 'grief:', 'gyves,', 'hand!', 'hand,', 'hap', 'hard', 'hast', 'hate,', 'hateful', 'hath', 'have', 'have,', 'have:', 'he', 'head', 'head?', 'hear', 'heard', 'heart', \"heart's\", 'heaven', 'heaven,', 'heavy', 'help', 'her', 'here', 'here.', 'here:', 'hide', 'high', 'him', 'his', 'hist!', 'hither,', 'hoarse', 'hoarse,', 'hold', 'home', 'honourable,', 'hop', 'hour', 'how', 'hundred', 'idolatry,', 'if', 'impute', 'in', 'inconstant', 'indeed.', 'infinite.', 'inquire;', 'is', 'it', 'it.', 'it:', 'it;', 'it?', 'jests', 'joy', 'kill', 'kinsmen', 'knew', 'know', \"know'st\", 'lady,', 'lamp;', 'laughs.', 'lay', 'lazy-pacing', 'leans', 'leave', 'lent', 'let', 'lets', 'liberty.', 'lies', 'lies,', 'life', 'light', 'light.', 'light:', \"lightens.'\", 'lightning,', 'like', 'likewise', 'limits', 'little', 'little,', 'livery', 'longer', 'look', 'looks.', 'lord', 'love', 'love!', \"love's\", 'love,', 'love--', 'love.', 'love?', \"lovers'\", 'loving-jealous', 'lure', 'maid', 'maid,', 'maiden', 'make', 'man', 'man.', 'marriage,', 'mask', 'may', 'mayst', 'me', 'me!', 'me,', 'me.', 'me?', \"mean'st\", 'meet.', 'merchandise.', 'messenger', 'might', 'mine', 'mine,', 'mine.', 'monthly', 'moon', 'moon,', 'more', 'more,', 'morning;', 'morrow.', 'mortals', 'much', 'murder', 'music', 'must', 'my', 'myself,', 'myself.', 'name', 'name!', 'name,', 'name.', 'name:', 'name;', 'name?', 'nay,', 'never', 'new', 'next', 'night', 'night!', \"night's\", 'night,', 'night.', 'nine.', 'no', 'noise', 'none', 'nor', 'not', 'not,', 'nothing:', 'nurse!', \"o'clock\", \"o'er\", \"o'er-perch\", 'of', 'off.', 'on', 'one', 'or', 'orb,', 'orchard', 'orchard.', 'other', 'out', 'out,', \"overheard'st,\", 'owes', 'pale', 'pardon', 'part', 'parting', 'passion:', 'peace', 'peace,', 'perfection', 'perform', 'peril', 'perjuries', 'perverse', 'pilot;', 'place', 'place?', 'plucks', 'poor', 'prisoner', 'procure', 'prompt', 'pronounce', 'proof', 'prorogued,', 'prove', 'purpose', 'purpose,', 'quickly', 'rash,', 'refuse', 'region', 'remember', 'repetition', 'repose', 'request', 'rest', 'rest!', 'return.', 'ripening', 'rite;', 'rose', 'sails', 'saint,', 'satisfaction', 'saw', 'say', 'say,', 'says', 'scars', 'school', 'schoolboys', 'sea,', 'see', 'self,', 'send', 'send.', 'shall', 'shame', 'she', 'she:', 'shore', 'should', 'sick', 'sight;', 'silk', 'silver', 'silver-sweet', 'since', 'sing', 'sleep', 'smell', 'so', 'soft!', 'softest', 'some', 'sorrow,', 'soul', 'soul--', 'sound', 'sound:', 'speak', 'speaks', 'speaks:', 'spheres', 'spoke:', 'stand', 'stars', 'stars,', 'stay,', 'still', 'stony', 'strange,', 'strange.', 'stream', 'stumblest', 'substantial.', 'such', 'sudden;', 'suit,', \"summer's\", 'sun,', 'sun.', 'swear', \"swear'st,\", 'swear:', 'sweet', 'sweet,', 'sweet;', 'swords:', 'sworn', 'take', 'tassel-gentle', 'tear', 'tell', 'tell.', 'than', 'that', 'that?', 'the', 'thee', 'thee,', 'thee--', 'thee.', 'thee;', 'thee?', 'their', 'them', 'then.', 'there', 'there,', 'therefore', 'these', 'they', 'thine', 'thing', 'think', \"think'st\", 'this', 'this.', 'this?', 'those', 'thou', 'though', 'thousand', 'thread', 'thrive', 'through', 'throughout', 'thus', 'thy', 'thyself,', 'till', 'time', 'times', 'tips', 'title.', 'to', 'to-morrow', 'to-morrow,', 'to-night', 'to-night:', 'to-night?', 'tongue', \"tongue's\", 'tongues', 'too', 'tops--', 'touch', 'toward', 'true', 'true.', 'trust', 'truth,', 'twenty', 'twinkle', 'twisted', 'unadvised,', 'unsatisfied?', 'upon', 'utterance,', 'variable.', 'vast', 'vestal', 'voice,', 'vow', 'walls', 'walls;', 'want', 'wanting', \"wanton's\", 'ware,', 'was', \"wash'd\", 'we', 'wear', 'well,', 'were', 'were!', 'wert', 'what', 'when', 'where', 'wherefore', 'wherefore?', 'which', 'white-upturned', 'who', 'whose', 'why', 'will', 'wilt', 'wilt,', 'window', 'winged', 'wings', 'wish', 'with', 'withdraw', 'within', 'within;', 'won,', 'wondering', 'woo;', 'word', 'word.', 'word:', 'words', 'words,', 'world', 'world.', 'worse,', 'would', 'would,', 'wound.', 'written,', 'years', 'yet', 'yet,', 'yielding', 'yonder']\n"
     ]
    }
   ],
   "source": [
    "fname = input(\"Enter file name: \")\n",
    "fh = open(fname)\n",
    "data=[]\n",
    "for each in fh:\n",
    "    words=each.split()\n",
    "    for word in words:\n",
    "        if word not in data:\n",
    "            data.append(word)\n",
    "print(sorted(data))"
   ]
  },
  {
   "cell_type": "markdown",
   "id": "76aaa459",
   "metadata": {},
   "source": [
    "### Assigment 8.5\n",
    "Open the file mbox-short.txt and read it line by line. When you find a line that starts with 'From ' like the following line:\n",
    "From stephen.marquard@uct.ac.za Sat Jan  5 09:14:16 2008\n",
    "You will parse the From line using split() and print out the second word in the line (i.e. the entire address of the person who sent the message). Then print out a count at the end.\n",
    "Hint: make sure not to include the lines that start with 'From:'. Also look at the last line of the sample output to see how to print the count.\n",
    "\n",
    "You can download the sample data at http://www.py4e.com/code3/mbox-short.txt"
   ]
  },
  {
   "cell_type": "code",
   "execution_count": 12,
   "id": "a764c851",
   "metadata": {},
   "outputs": [
    {
     "name": "stdout",
     "output_type": "stream",
     "text": [
      "Enter file name: mbox-short.txt\n",
      "stephen.marquard@uct.ac.za\n",
      "louis@media.berkeley.edu\n",
      "zqian@umich.edu\n",
      "rjlowe@iupui.edu\n",
      "zqian@umich.edu\n",
      "rjlowe@iupui.edu\n",
      "cwen@iupui.edu\n",
      "cwen@iupui.edu\n",
      "gsilver@umich.edu\n",
      "gsilver@umich.edu\n",
      "zqian@umich.edu\n",
      "gsilver@umich.edu\n",
      "wagnermr@iupui.edu\n",
      "zqian@umich.edu\n",
      "antranig@caret.cam.ac.uk\n",
      "gopal.ramasammycook@gmail.com\n",
      "david.horwitz@uct.ac.za\n",
      "david.horwitz@uct.ac.za\n",
      "david.horwitz@uct.ac.za\n",
      "david.horwitz@uct.ac.za\n",
      "stephen.marquard@uct.ac.za\n",
      "louis@media.berkeley.edu\n",
      "louis@media.berkeley.edu\n",
      "ray@media.berkeley.edu\n",
      "cwen@iupui.edu\n",
      "cwen@iupui.edu\n",
      "cwen@iupui.edu\n",
      "There were 27 lines in the file with From as the first word\n"
     ]
    }
   ],
   "source": [
    "fname = input(\"Enter file name: \")\n",
    "file=open(fname)\n",
    "count=0\n",
    "for line in file:\n",
    "    words=line.split()\n",
    "    if len(words) < 3 or words[0]!='From':\n",
    "        continue\n",
    "    print(words[1])\n",
    "    count +=1\n",
    "print(\"There were\", count, \"lines in the file with From as the first word\")"
   ]
  },
  {
   "cell_type": "code",
   "execution_count": null,
   "id": "e0a59289",
   "metadata": {},
   "outputs": [],
   "source": []
  },
  {
   "cell_type": "markdown",
   "id": "537a1b74",
   "metadata": {},
   "source": [
    "## Chapter 9\n",
    "### Dictionaries"
   ]
  },
  {
   "cell_type": "markdown",
   "id": "02eb5c9e",
   "metadata": {},
   "source": [
    "A dictionary is like a list, but more general. In a list, the index positions have to\n",
    "be integers; in a dictionary, the indices can be (almost) any type."
   ]
  },
  {
   "cell_type": "code",
   "execution_count": 2,
   "id": "f9ebb2ac",
   "metadata": {},
   "outputs": [],
   "source": [
    "dic={'First name':'Sharafat', 'Second Name':'Hussain', 'Email':'shar@gmail.com'}"
   ]
  },
  {
   "cell_type": "code",
   "execution_count": 31,
   "id": "7be35f4b",
   "metadata": {},
   "outputs": [
    {
     "name": "stdout",
     "output_type": "stream",
     "text": [
      "{'First name': 'Sharafat', 'Second Name': 'Hussain', 'Email': 'shar@gmail.com'}\n"
     ]
    }
   ],
   "source": [
    "print(dic)"
   ]
  },
  {
   "cell_type": "code",
   "execution_count": 33,
   "id": "be5f4859",
   "metadata": {},
   "outputs": [
    {
     "data": {
      "text/plain": [
       "{}"
      ]
     },
     "execution_count": 33,
     "metadata": {},
     "output_type": "execute_result"
    }
   ],
   "source": [
    "# Let's start with the empty dictionary with command dict\n",
    "A=dict()\n",
    "A"
   ]
  },
  {
   "cell_type": "code",
   "execution_count": 35,
   "id": "c6239a3c",
   "metadata": {},
   "outputs": [
    {
     "data": {
      "text/plain": [
       "{'key': 'value'}"
      ]
     },
     "execution_count": 35,
     "metadata": {},
     "output_type": "execute_result"
    }
   ],
   "source": [
    "# Now we will add keys and values in dictionary, this pair is called an item\n",
    "A['key']='value'\n",
    "A"
   ]
  },
  {
   "cell_type": "code",
   "execution_count": 37,
   "id": "1a235b6a",
   "metadata": {},
   "outputs": [
    {
     "data": {
      "text/plain": [
       "{'key': 'value', 'Name': 'Sharafat'}"
      ]
     },
     "execution_count": 37,
     "metadata": {},
     "output_type": "execute_result"
    }
   ],
   "source": [
    "A['Name']='Sharafat'\n",
    "A"
   ]
  },
  {
   "cell_type": "code",
   "execution_count": 39,
   "id": "b1b19e12",
   "metadata": {},
   "outputs": [
    {
     "data": {
      "text/plain": [
       "{'key': 'value', 'Name': 'Sharafat', 'Email': 'shar@gmail.com'}"
      ]
     },
     "execution_count": 39,
     "metadata": {},
     "output_type": "execute_result"
    }
   ],
   "source": [
    "# we can add as much as values in the dictionary\n",
    "A['Email']='shar@gmail.com'\n",
    "A"
   ]
  },
  {
   "cell_type": "markdown",
   "id": "d2b13876",
   "metadata": {},
   "source": [
    "### Exercise 1: \n",
    "Download a copy of the file www.py4e.com/code3/words.txt\n",
    "Write a program that reads the words in words.txt and stores them as\n",
    "keys in a dictionary. It doesn’t matter what the values are. Then you\n",
    "can use the in operator as a fast way to check whether a string is in the\n",
    "dictionary."
   ]
  },
  {
   "cell_type": "code",
   "execution_count": 52,
   "id": "bbeb9ed6",
   "metadata": {},
   "outputs": [
    {
     "name": "stdout",
     "output_type": "stream",
     "text": [
      "{'Writing': 1, 'programs': 2, 'or': 1, 'programming': 1, 'is': 2, 'a': 3, 'very': 2, 'creative': 1, 'and': 5, 'rewarding': 1, 'activity': 1, 'You': 1, 'can': 4, 'write': 1, 'for': 1, 'many': 2, 'reasons': 1, 'ranging': 2, 'from': 2, 'making': 1, 'your': 2, 'living': 1, 'to': 16, 'solving': 1, 'difficult': 1, 'data': 1, 'analysis': 1, 'problem': 2, 'having': 1, 'fun': 1, 'helping': 1, 'someone': 1, 'else': 1, 'solve': 1, 'This': 1, 'book': 1, 'assumes': 1, 'that': 4, '{\\\\em': 1, 'everyone}': 1, 'needs': 1, 'know': 2, 'how': 2, 'program': 1, 'once': 1, 'you': 4, 'program,': 1, 'will': 1, 'figure': 1, 'out': 1, 'what': 2, 'want': 1, 'do': 5, 'with': 2, 'newfound': 1, 'skills': 1, 'We': 2, 'are': 3, 'surrounded': 1, 'in': 2, 'our': 5, 'daily': 1, 'lives': 1, 'computers': 5, 'laptops': 1, 'cell': 1, 'phones': 1, 'think': 1, 'of': 5, 'these': 1, 'as': 1, 'personal': 1, 'assistants': 1, 'who': 1, 'take': 1, 'care': 1, 'things': 3, 'on': 2, 'behalf': 2, 'The': 1, 'hardware': 1, 'current-day': 1, 'essentially': 1, 'built': 1, 'continuously': 1, 'ask': 1, 'us': 2, 'the': 6, 'question': 1, 'What': 1, 'would': 2, 'like': 2, 'me': 1, 'next': 2, 'Our': 1, 'fast': 1, 'have': 1, 'vasts': 1, 'amounts': 1, 'memory': 1, 'could': 2, 'be': 1, 'helpful': 1, 'if': 1, 'we': 5, 'only': 1, 'knew': 2, 'language': 2, 'speak': 1, 'explain': 1, 'computer': 2, 'it': 1, 'If': 1, 'this': 1, 'tell': 1, 'tasks': 1, 'were': 1, 'reptitive': 1, 'Interestingly,': 1, 'kinds': 2, 'best': 1, 'often': 1, 'humans': 1, 'find': 1, 'boring': 1, 'mind-numbing': 1}\n"
     ]
    }
   ],
   "source": [
    "file=open('words.txt')   # open file\n",
    "count=dict()             # start with empty dic\n",
    "for line in file:        # read ecah line of file using for loop\n",
    "    words=line.split()   # split each line into words \n",
    "    for word in words:   # read each word of the line\n",
    "        count[word]=count.get(word,0)+1      # add key (word) and value (numer the word occur) \n",
    "print(count)"
   ]
  },
  {
   "cell_type": "code",
   "execution_count": 53,
   "id": "45349422",
   "metadata": {},
   "outputs": [
    {
     "name": "stdout",
     "output_type": "stream",
     "text": [
      "to 16\n"
     ]
    }
   ],
   "source": [
    "bigcount=None\n",
    "bigword=None\n",
    "for word,count in count.items():\n",
    "    if bigcount is None or count>bigcount:\n",
    "        bigword=word\n",
    "        bigcount=count\n",
    "print(bigword, bigcount)"
   ]
  },
  {
   "cell_type": "code",
   "execution_count": 56,
   "id": "612b7fbb",
   "metadata": {},
   "outputs": [
    {
     "name": "stdout",
     "output_type": "stream",
     "text": [
      "{'From': 27, 'stephen.marquard@uct.ac.za': 8, 'Sat': 2, 'Jan': 352, '5': 10, '09:14:16': 4, '2008': 324, 'Return-Path:': 27, '<postmaster@collab.sakaiproject.org>': 27, 'Received:': 243, 'from': 218, 'murder': 54, '(mail.umich.edu': 27, '[141.211.14.90])': 3, 'by': 245, 'frankenstein.mail.umich.edu': 27, '(Cyrus': 54, 'v2.3.8)': 27, 'with': 194, 'LMTPA;': 54, 'Sat,': 9, '05': 3, '-0500': 219, 'X-Sieve:': 27, 'CMU': 27, 'Sieve': 27, '2.3': 27, '([unix': 27, 'socket])': 27, 'mail.umich.edu': 27, 'v2.2.12)': 27, 'holes.mr.itd.umich.edu': 8, '(holes.mr.itd.umich.edu': 4, '[141.211.14.79])': 4, 'flawless.mail.umich.edu': 3, '()': 27, 'ESMTP': 108, 'id': 136, 'm05EEFR1013674;': 1, '09:14:15': 1, 'FROM': 27, 'paploo.uhi.ac.uk': 108, '(app1.prod.collab.uhi.ac.uk': 27, '[194.35.219.184])': 27, 'BY': 27, 'ID': 54, '477F90B0.2DB2F.12494': 1, ';': 27, '09:14:10': 1, '(localhost': 54, '[127.0.0.1])': 54, '(Postfix)': 54, '5F919BC2F2;': 1, '14:10:05': 1, '+0000': 81, '(GMT)': 81, 'Message-ID:': 27, '<200801051412.m05ECIaH010327@nakamura.uits.iupui.edu>': 1, 'Mime-Version:': 27, '1.0': 27, 'Content-Transfer-Encoding:': 27, '7bit': 27, 'prod.collab.uhi.ac.uk': 27, '([194.35.219.182])': 27, '(JAMES': 27, 'SMTP': 54, 'Server': 27, '2.1.3)': 27, '899': 1, 'for': 118, '<source@collab.sakaiproject.org>;': 81, '14:09:50': 1, 'nakamura.uits.iupui.edu': 108, '(nakamura.uits.iupui.edu': 27, '[134.68.220.122])': 27, 'shmi.uhi.ac.uk': 27, 'A215243002': 1, '14:13:33': 1, '(8.12.11.20060308/8.12.11)': 27, 'm05ECJVp010329': 1, '09:12:19': 1, '(from': 27, 'apache@localhost)': 27, '(8.12.11.20060308/8.12.11/Submit)': 27, 'm05ECIaH010327': 1, 'source@collab.sakaiproject.org;': 27, '09:12:18': 2, 'Date:': 54, 'X-Authentication-Warning:': 27, 'nakamura.uits.iupui.edu:': 27, 'apache': 27, 'set': 27, 'sender': 27, 'to': 43, 'using': 27, '-f': 27, 'To:': 27, 'source@collab.sakaiproject.org': 27, 'From:': 27, 'Subject:': 27, '[sakai]': 27, 'svn': 43, 'commit:': 27, 'r39772': 1, '-': 35, 'content/branches/sakai_2-5-x/content-impl/impl/src/java/org/sakaiproject/content/impl': 1, 'X-Content-Type-Outer-Envelope:': 27, 'text/plain;': 81, 'charset=UTF-8': 81, 'X-Content-Type-Message-Body:': 27, 'Content-Type:': 27, 'X-DSPAM-Result:': 27, 'Innocent': 27, 'X-DSPAM-Processed:': 27, 'X-DSPAM-Confidence:': 27, '0.8475': 1, 'X-DSPAM-Probability:': 27, '0.0000': 27, 'Details:': 27, 'http://source.sakaiproject.org/viewsvn/?view=rev&rev=39772': 1, 'Author:': 27, '2008-01-05': 1, '09:12:07': 1, '(Sat,': 1, '2008)': 28, 'New': 29, 'Revision:': 27, '39772': 1, 'Modified:': 27, 'content/branches/sakai_2-5-x/content-impl/impl/src/java/org/sakaiproject/content/impl/ContentServiceSqlOracle.java': 1, 'content/branches/sakai_2-5-x/content-impl/impl/src/java/org/sakaiproject/content/impl/DbContentService.java': 1, 'Log:': 27, 'SAK-12501': 1, 'merge': 12, '2-5-x:': 1, 'r39622,': 1, 'r39624:5,': 1, 'r39632:3': 1, '(resolve': 1, 'conflict': 2, 'differing': 1, 'linebreaks': 1, 'r39622)': 1, '----------------------': 27, 'This': 27, 'automatic': 27, 'notification': 27, 'message': 28, 'was': 27, 'sent': 27, 'Sakai': 28, 'Collab': 27, '(https://collab.sakaiproject.org/portal)': 27, 'the': 32, 'Source': 28, 'site.': 27, 'You': 27, 'can': 27, 'modify': 27, 'how': 27, 'you': 27, 'receive': 27, 'notifications': 27, 'at': 27, 'My': 27, 'Workspace': 27, '>': 27, 'Preferences.': 27, 'louis@media.berkeley.edu': 12, 'Fri': 40, '4': 203, '18:10:48': 4, '[141.211.14.97])': 3, 'Fri,': 183, '04': 61, 'icestorm.mr.itd.umich.edu': 4, '(icestorm.mr.itd.umich.edu': 2, '[141.211.93.149])': 2, 'sleepers.mail.umich.edu': 3, 'm04NAbGa029441;': 1, '18:10:37': 1, '477EBCE3.161BB.4320': 1, '18:10:31': 1, '07969BB706;': 1, '23:10:33': 1, '<200801042308.m04N8v6O008125@nakamura.uits.iupui.edu>': 1, '710': 1, '23:10:10': 2, '4BA2F42F57': 1, 'm04N8vHG008127': 1, '18:08:57': 3, 'm04N8v6O008125': 1, 'r39771': 1, 'in': 22, 'bspace/site-manage/sakai_2-4-x/site-manage-tool/tool/src:': 3, 'bundle': 3, 'java/org/sakaiproject/site/tool': 2, '0.6178': 1, 'http://source.sakaiproject.org/viewsvn/?view=rev&rev=39771': 1, '2008-01-04': 21, '18:08:50': 1, '(Fri,': 22, '39771': 1, 'bspace/site-manage/sakai_2-4-x/site-manage-tool/tool/src/bundle/sitesetupgeneric.properties': 3, 'bspace/site-manage/sakai_2-4-x/site-manage-tool/tool/src/java/org/sakaiproject/site/tool/SiteAction.java': 1, 'BSP-1415': 1, '(Guest)': 1, 'user': 4, 'Notification': 1, 'zqian@umich.edu': 17, '16:10:39': 4, '[141.211.14.25])': 5, 'ghostbusters.mr.itd.umich.edu': 2, '(ghostbusters.mr.itd.umich.edu': 1, '[141.211.93.144])': 1, 'panther.mail.umich.edu': 5, 'm04LAcZw014275;': 1, '16:10:38': 1, '477EA0C6.A0214.25480': 1, '16:10:33': 1, 'C48CDBB490;': 1, '21:10:31': 1, '<200801042109.m04L92hb007923@nakamura.uits.iupui.edu>': 1, '906': 1, '21:10:18': 1, '7D13042F71': 1, '21:10:14': 1, 'm04L927E007925': 1, '16:09:02': 3, 'm04L92hb007923': 1, 'r39770': 1, 'site-manage/branches/sakai_2-5-x/site-manage-tool/tool/src/webapp/vm/sitesetup': 1, '0.6961': 1, 'http://source.sakaiproject.org/viewsvn/?view=rev&rev=39770': 1, '16:09:01': 1, '39770': 1, 'site-manage/branches/sakai_2-5-x/site-manage-tool/tool/src/webapp/vm/sitesetup/chef_site-siteInfo-list.vm': 1, 'fix': 4, 'SAK-9996': 1, 'into': 2, '2-5-x': 2, 'branch:': 2, '-r': 5, '39687:39688': 1, 'https://source.sakaiproject.org/svn/site-manage/trunk/': 1, 'rjlowe@iupui.edu': 8, '15:46:24': 4, 'dreamcatcher.mr.itd.umich.edu': 2, '(dreamcatcher.mr.itd.umich.edu': 1, '[141.211.14.43])': 1, 'm04KkNbx032077;': 1, '15:46:23': 1, '477E9B13.2F3BC.22965': 1, '15:46:13': 1, '4AE03BB552;': 1, '20:46:13': 1, '<200801042044.m04Kiem3007881@nakamura.uits.iupui.edu>': 1, '38': 1, '20:45:56': 1, 'A55D242F57': 1, '20:45:52': 1, 'm04KieqE007883': 1, '15:44:40': 3, 'm04Kiem3007881': 1, 'r39769': 1, 'gradebook/trunk/app/ui/src:': 1, 'java/org/sakaiproject/tool/gradebook/ui/helpers/beans': 1, 'java/org/sakaiproject/tool/gradebook/ui/helpers/producers': 1, 'webapp/WEB-INF': 1, 'webapp/WEB-INF/bundle': 1, '0.7565': 1, 'http://source.sakaiproject.org/viewsvn/?view=rev&rev=39769': 1, '15:44:39': 1, '39769': 1, 'gradebook/trunk/app/ui/src/java/org/sakaiproject/tool/gradebook/ui/helpers/beans/AssignmentGradeRecordBean.java': 2, 'gradebook/trunk/app/ui/src/java/org/sakaiproject/tool/gradebook/ui/helpers/producers/GradeGradebookItemProducer.java': 2, 'gradebook/trunk/app/ui/src/webapp/WEB-INF/applicationContext.xml': 2, 'gradebook/trunk/app/ui/src/webapp/WEB-INF/bundle/messages.properties': 2, 'gradebook/trunk/app/ui/src/webapp/WEB-INF/requestContext.xml': 2, 'SAK-12180': 2, 'Fixed': 1, 'errors': 1, 'grading': 1, 'helper': 2, '15:03:18': 4, '[141.211.14.46])': 5, 'firestarter.mr.itd.umich.edu': 4, '(firestarter.mr.itd.umich.edu': 2, '[141.211.14.83])': 2, 'fan.mail.umich.edu': 5, 'm04K3HGF006563;': 1, '15:03:17': 1, '477E9100.8F7F4.1590': 1, '15:03:15': 2, '57770BB477;': 1, '20:03:09': 1, '<200801042001.m04K1cO0007738@nakamura.uits.iupui.edu>': 1, '622': 1, '20:02:46': 1, 'AB4D042F4D': 1, '20:02:50': 1, 'm04K1cXv007740': 1, '15:01:38': 3, 'm04K1cO0007738': 1, 'r39766': 1, 'site-manage/branches/sakai_2-4-x/site-manage-tool/tool/src/java/org/sakaiproject/site/tool': 1, '0.7626': 1, 'http://source.sakaiproject.org/viewsvn/?view=rev&rev=39766': 1, '15:01:37': 1, '39766': 1, 'site-manage/branches/sakai_2-4-x/site-manage-tool/tool/src/java/org/sakaiproject/site/tool/SiteAction.java': 1, 'SAK-10788': 1, 'site-manage': 1, '2.4.x': 1, 'Repository': 1, '#38024': 1, 'Wed': 1, 'Nov': 1, '07': 1, '14:54:46': 1, 'MST': 1, '2007': 1, 'Fix': 2, 'SAK-10788:': 1, 'If': 1, 'a': 8, 'provided': 1, 'couse': 1, 'site': 3, 'is': 1, 'fake': 1, 'or': 1, \"doesn't\": 2, 'provide': 1, 'any': 2, 'information,': 1, 'Site': 2, 'Info': 2, 'appears': 1, 'be': 4, 'like': 1, 'project': 1, 'empty': 1, 'participant': 1, 'list': 2, 'Watch': 1, 'enrollments': 1, 'object': 1, 'being': 1, 'null': 1, 'and': 2, 'concatenate': 1, 'provider': 1, 'ids': 1, 'when': 3, 'there': 1, 'are': 1, 'more': 1, 'than': 1, 'one.': 1, 'Files': 1, 'Changed': 1, 'MODIFY': 1, '/site-manage/trunk/site-manage-tool/tool/src/java/org/sakaiproject/site/tool/SiteAction.java': 1, '14:50:18': 4, '[141.211.14.93])': 1, 'eyewitness.mr.itd.umich.edu': 4, '(eyewitness.mr.itd.umich.edu': 2, '[141.211.93.142])': 2, 'mission.mail.umich.edu': 1, 'm04JoHJi019755;': 1, '14:50:17': 1, '477E8DF2.67B91.5278': 1, '14:50:13': 1, '2D1B9BB492;': 1, '19:47:10': 1, '<200801041948.m04JmdwO007705@nakamura.uits.iupui.edu>': 1, '960': 1, '19:46:50': 1, 'B3E6742F4A': 1, '19:49:51': 1, 'm04JmeV9007707': 1, '14:48:40': 1, 'm04JmdwO007705': 1, '14:48:39': 2, 'r39765': 1, 'gradebook/trunk/app:': 1, 'business/src/java/org/sakaiproject/tool/gradebook/business': 1, 'business/src/java/org/sakaiproject/tool/gradebook/business/impl': 1, 'ui': 2, 'ui/src/java/org/sakaiproject/tool/gradebook/ui/helpers/beans': 1, 'ui/src/java/org/sakaiproject/tool/gradebook/ui/helpers/entity': 1, 'ui/src/java/org/sakaiproject/tool/gradebook/ui/helpers/params': 1, 'ui/src/java/org/sakaiproject/tool/gradebook/ui/helpers/producers': 1, 'ui/src/webapp/WEB-INF': 1, 'ui/src/webapp/WEB-INF/bundle': 1, 'ui/src/webapp/content/templates': 1, '0.7556': 2, 'http://source.sakaiproject.org/viewsvn/?view=rev&rev=39765': 1, '14:48:37': 1, '39765': 1, 'Added:': 4, 'gradebook/trunk/app/ui/src/java/org/sakaiproject/tool/gradebook/ui/helpers/beans/AssignmentGradeRecordCreator.java': 1, 'gradebook/trunk/app/ui/src/java/org/sakaiproject/tool/gradebook/ui/helpers/entity/GradebookEntryGradeEntityProvider.java': 1, 'gradebook/trunk/app/ui/src/java/org/sakaiproject/tool/gradebook/ui/helpers/params/GradeGradebookItemViewParams.java': 1, 'gradebook/trunk/app/ui/src/webapp/content/templates/grade-gradebook-item.html': 1, 'gradebook/trunk/app/business/src/java/org/sakaiproject/tool/gradebook/business/GradebookManager.java': 1, 'gradebook/trunk/app/business/src/java/org/sakaiproject/tool/gradebook/business/impl/GradebookManagerHibernateImpl.java': 2, 'gradebook/trunk/app/ui/pom.xml': 1, 'gradebook/trunk/app/ui/src/java/org/sakaiproject/tool/gradebook/ui/helpers/beans/GradebookItemBean.java': 1, 'gradebook/trunk/app/ui/src/java/org/sakaiproject/tool/gradebook/ui/helpers/entity/GradebookEntryEntityProvider.java': 1, 'gradebook/trunk/app/ui/src/java/org/sakaiproject/tool/gradebook/ui/helpers/producers/AddGradebookItemProducer.java': 1, 'tool': 4, 'grade': 2, 'an': 1, 'assignment': 1, 'cwen@iupui.edu': 20, '11:37:30': 4, 'tadpole.mr.itd.umich.edu': 2, '(tadpole.mr.itd.umich.edu': 1, '[141.211.14.72])': 1, 'm04GbT9x022078;': 1, '11:37:29': 1, '477E60B2.82756.9904': 1, '11:37:09': 1, '8D13DBB001;': 1, '16:37:07': 1, '<200801041635.m04GZQGZ007313@nakamura.uits.iupui.edu>': 1, '120': 1, '16:36:40': 1, 'D430B42E42': 1, '16:36:37': 1, 'm04GZQ7W007315': 1, '11:35:26': 3, 'm04GZQGZ007313': 1, 'r39764': 1, 'msgcntr/trunk/messageforums-app/src/java/org/sakaiproject/tool/messageforums:': 1, '.': 3, '0.7002': 2, 'http://source.sakaiproject.org/viewsvn/?view=rev&rev=39764': 1, '11:35:25': 1, '39764': 1, 'msgcntr/trunk/messageforums-app/src/java/org/sakaiproject/tool/messageforums/PrivateMessagesTool.java': 2, 'msgcntr/trunk/messageforums-app/src/java/org/sakaiproject/tool/messageforums/ui/PrivateMessageDecoratedBean.java': 1, 'unmerge': 2, \"Xingtang's\": 2, 'checkin': 1, 'SAK-12488.': 1, '-r39558:39557': 1, 'https://source.sakaiproject.org/svn/msgcntr/trunk': 2, 'U': 14, 'messageforums-app/src/java/org/sakaiproject/tool/messageforums/PrivateMessagesTool.java': 2, 'messageforums-app/src/java/org/sakaiproject/tool/messageforums/ui/PrivateMessageDecoratedBean.java': 1, 'log': 7, '39558': 1, '------------------------------------------------------------------------': 14, 'r39558': 1, '|': 21, 'hu2@iupui.edu': 2, '2007-12-20': 2, '15:25:38': 1, '(Thu,': 8, '20': 2, 'Dec': 5, '2007)': 6, '3': 61, 'lines': 4, 'SAK-12488': 1, 'send': 1, 'yourself.': 1, 'click': 1, 'reply': 2, 'all,': 1, 'cc': 2, 'row': 1, 'should': 2, 'null.': 1, 'http://jira.sakaiproject.org/jira/browse/SAK-12488': 1, '11:35:08': 4, 'it.mr.itd.umich.edu': 2, '(it.mr.itd.umich.edu': 1, '[141.211.93.151])': 1, 'm04GZ6lt020480;': 1, '11:35:06': 1, '477E6033.6469D.21870': 1, '11:35:02': 1, 'E40FABAE5B;': 1, '16:34:38': 1, '<200801041633.m04GX6eG007292@nakamura.uits.iupui.edu>': 1, '697': 1, '16:34:01': 1, '1CD0C42E42': 1, '16:34:17': 1, 'm04GX6Y3007294': 1, '11:33:06': 3, 'm04GX6eG007292': 1, 'r39763': 1, 'msgcntr/trunk:': 1, 'messageforums-api/src/bundle/org/sakaiproject/api/app/messagecenter/bundle': 1, 'messageforums-app/src/java/org/sakaiproject/tool/messageforums': 1, '0.7615': 1, 'http://source.sakaiproject.org/viewsvn/?view=rev&rev=39763': 1, '11:33:05': 1, '39763': 1, 'msgcntr/trunk/messageforums-api/src/bundle/org/sakaiproject/api/app/messagecenter/bundle/Messages.properties': 1, 'check': 1, 'SAK-12484.': 1, '-r39571:39570': 1, 'messageforums-api/src/bundle/org/sakaiproject/api/app/messagecenter/bundle/Messages.properties': 1, '39571': 1, 'r39571': 1, '21:26:28': 1, 'SAK-12484': 1, 'all': 1, 'not': 2, 'include': 1, 'current': 1, 'name.': 1, 'http://jira.sakaiproject.org/jira/browse/SAK-12484': 1, 'gsilver@umich.edu': 12, '11:12:37': 4, 'm04GCaHB030887;': 1, '11:12:36': 1, '477E5AEB.E670B.28397': 1, '11:12:30': 1, '99715BAE7D;': 1, '16:12:27': 1, '<200801041611.m04GB1Lb007221@nakamura.uits.iupui.edu>': 1, '272': 1, '16:12:14': 1, '0A6ED42DFC': 1, '16:12:12': 1, 'm04GB1Wt007223': 1, '11:11:01': 3, 'm04GB1Lb007221': 1, 'r39762': 1, 'web/trunk/web-tool/tool/src/bundle': 1, '0.7601': 1, 'http://source.sakaiproject.org/viewsvn/?view=rev&rev=39762': 1, '11:11:00': 1, '39762': 1, 'web/trunk/web-tool/tool/src/bundle/iframe.properties': 1, 'SAK-12596': 1, 'http://bugs.sakaiproject.org/jira/browse/SAK-12596': 1, 'left': 3, 'moot': 3, '(unused)': 3, 'entries': 3, 'commented': 3, 'now': 3, '11:11:52': 5, '[141.211.14.36])': 1, 'creepshow.mr.itd.umich.edu': 4, '(creepshow.mr.itd.umich.edu': 2, '[141.211.14.84])': 2, 'godsend.mail.umich.edu': 1, 'm04GBqqv025330;': 1, '477E5AB3.5CC32.30840': 1, '11:11:34': 1, '62AA4BAE46;': 1, '16:11:31': 1, '<200801041610.m04GA5KP007209@nakamura.uits.iupui.edu>': 1, '1006': 1, '16:11:18': 1, 'C596A3DFA2': 1, '16:11:16': 1, 'm04GA5LR007211': 1, '11:10:05': 3, 'm04GA5KP007209': 1, 'r39761': 1, 'site/trunk/site-tool/tool/src/bundle': 1, '0.7605': 2, 'http://source.sakaiproject.org/viewsvn/?view=rev&rev=39761': 1, '11:10:04': 1, '39761': 1, 'site/trunk/site-tool/tool/src/bundle/admin.properties': 1, 'SAK-12595': 1, 'http://bugs.sakaiproject.org/jira/browse/SAK-12595': 1, '11:11:03': 5, 'carrie.mr.itd.umich.edu': 2, '(carrie.mr.itd.umich.edu': 1, '[141.211.93.152])': 1, 'm04GB3Vg011502;': 1, '477E5A8D.B378F.24200': 1, '11:10:56': 1, 'C7251BAD44;': 1, '16:10:53': 1, '<200801041609.m04G9EuX007197@nakamura.uits.iupui.edu>': 1, '483': 1, '16:10:27': 1, '2E7043DFA2': 1, '16:10:26': 1, 'm04G9Eqg007199': 1, '11:09:15': 1, 'm04G9EuX007197': 1, '11:09:14': 2, 'r39760': 1, 'site-manage/trunk/site-manage-tool/tool/src:': 1, 'webapp/vm/sitesetup': 3, '0.6959': 2, 'http://source.sakaiproject.org/viewsvn/?view=rev&rev=39760': 1, '11:09:12': 1, '39760': 1, 'site-manage/trunk/site-manage-tool/tool/src/java/org/sakaiproject/site/tool/SiteAction.java': 1, 'site-manage/trunk/site-manage-tool/tool/src/webapp/vm/sitesetup/chef_site-siteInfo-list.vm': 1, 'SAK-10911:': 1, 'Refactor': 1, 'use': 1, 'of': 4, 'site.upd,': 1, 'site.upd.site.mbrship': 1, 'site.upd.grp.mbrship': 1, 'permissions': 2, '11:10:22': 4, '[141.211.14.39])': 3, 'faithful.mail.umich.edu': 3, 'm04GAL9k010604;': 1, '11:10:21': 1, '477E5A67.34350.23015': 1, '11:10:18': 1, '98D04BAD43;': 1, '16:10:11': 1, '<200801041608.m04G8d7w007184@nakamura.uits.iupui.edu>': 1, '966': 1, '16:09:51': 1, '9F89542DD0': 1, '16:09:50': 1, 'm04G8dXN007186': 1, '11:08:39': 3, 'm04G8d7w007184': 1, 'r39759': 1, 'mailarchive/trunk/mailarchive-tool/tool/src/bundle': 1, '0.7606': 1, 'http://source.sakaiproject.org/viewsvn/?view=rev&rev=39759': 1, '11:08:38': 1, '39759': 1, 'mailarchive/trunk/mailarchive-tool/tool/src/bundle/email.properties': 1, 'SAK-12592': 1, 'http://bugs.sakaiproject.org/jira/browse/SAK-12592': 1, 'wagnermr@iupui.edu': 6, '10:38:42': 4, 'shining.mr.itd.umich.edu': 2, '(shining.mr.itd.umich.edu': 1, '[141.211.93.153])': 1, 'm04Fcfjm012313;': 1, '10:38:41': 1, '477E52FA.E6C6E.24093': 1, '10:38:37': 1, '6A39594CD2;': 1, '15:37:36': 1, '<200801041537.m04Fb6Ci007092@nakamura.uits.iupui.edu>': 1, '690': 1, '15:37:21': 1, 'CEFA037ACE': 1, '15:38:17': 1, 'm04Fb6nh007094': 1, '10:37:06': 3, 'm04Fb6Ci007092': 1, 'r39758': 1, 'gradebook/trunk:': 1, 'app/business/src/java/org/sakaiproject/tool/gradebook/business/impl': 1, 'service/api/src/java/org/sakaiproject/service/gradebook/shared': 1, 'service/impl/src/java/org/sakaiproject/component/gradebook': 1, '0.7559': 1, 'http://source.sakaiproject.org/viewsvn/?view=rev&rev=39758': 1, '10:37:04': 1, '39758': 1, 'gradebook/trunk/service/api/src/java/org/sakaiproject/service/gradebook/shared/GradebookService.java': 1, 'gradebook/trunk/service/impl/src/java/org/sakaiproject/component/gradebook/GradebookServiceHibernateImpl.java': 1, 'SAK-12175': 1, 'http://bugs.sakaiproject.org/jira/browse/SAK-12175': 1, 'Create': 1, 'methods': 1, 'required': 1, 'gb': 2, 'integration': 1, 'Assignment2': 1, 'getGradeDefinitionForStudentForItem': 1, '10:17:43': 2, '10:17:42': 3, 'm04FHgfs011536;': 1, '477E4E0F.CCA4B.926': 1, '10:17:38': 1, 'BD02DBAC64;': 1, '15:17:34': 1, '<200801041515.m04FFv42007050@nakamura.uits.iupui.edu>': 1, '25': 1, '15:17:11': 1, '5B396236B9': 1, '15:17:08': 1, 'm04FFv85007052': 1, '10:15:57': 3, 'm04FFv42007050': 1, 'r39757': 1, 'assignment/trunk:': 1, 'assignment-impl/impl/src/java/org/sakaiproject/assignment/impl': 1, 'assignment-tool/tool/src/webapp/vm/assignment': 1, 'http://source.sakaiproject.org/viewsvn/?view=rev&rev=39757': 1, '10:15:54': 1, '39757': 1, 'assignment/trunk/assignment-impl/impl/src/java/org/sakaiproject/assignment/impl/BaseAssignmentService.java': 1, 'assignment/trunk/assignment-tool/tool/src/webapp/vm/assignment/chef_assignments_instructor_list_submissions.vm': 1, \"SAK-12604:Don't\": 1, 'show': 1, 'groups/sections': 1, 'filter': 1, 'if': 2, 'have': 1, 'antranig@caret.cam.ac.uk': 4, '10:04:14': 4, 'm04F4Dci015108;': 1, '10:04:13': 1, '477E4AE3.D7AF.31669': 1, '10:04:05': 1, '933E3BAC17;': 1, '15:04:00': 1, '<200801041502.m04F21Jo007031@nakamura.uits.iupui.edu>': 1, '32': 1, 'AC2F6236B9': 1, '15:03:12': 1, 'm04F21hn007033': 1, '10:02:01': 3, 'm04F21Jo007031': 1, 'r39756': 1, 'component/branches/SAK-12166/component-api/component/src/java/org/sakaiproject/component:': 1, 'impl': 1, 'impl/spring/support': 1, 'impl/spring/support/dynamic': 1, 'impl/support': 1, 'util': 1, '0.6932': 1, 'http://source.sakaiproject.org/viewsvn/?view=rev&rev=39756': 1, '10:01:40': 1, '39756': 1, 'component/branches/SAK-12166/component-api/component/src/java/org/sakaiproject/component/impl/spring/support/dynamic/': 1, 'component/branches/SAK-12166/component-api/component/src/java/org/sakaiproject/component/impl/spring/support/dynamic/DynamicComponentManager.java': 1, 'component/branches/SAK-12166/component-api/component/src/java/org/sakaiproject/component/impl/support/': 1, 'component/branches/SAK-12166/component-api/component/src/java/org/sakaiproject/component/impl/support/DynamicComponentRecord.java': 1, 'component/branches/SAK-12166/component-api/component/src/java/org/sakaiproject/component/impl/support/DynamicJARManager.java': 1, 'component/branches/SAK-12166/component-api/component/src/java/org/sakaiproject/component/impl/support/JARRecord.java': 1, 'component/branches/SAK-12166/component-api/component/src/java/org/sakaiproject/component/util/ByteToCharBase64.java': 1, 'component/branches/SAK-12166/component-api/component/src/java/org/sakaiproject/component/util/FileUtil.java': 1, 'component/branches/SAK-12166/component-api/component/src/java/org/sakaiproject/component/util/RecordFileIO.java': 1, 'component/branches/SAK-12166/component-api/component/src/java/org/sakaiproject/component/util/RecordReader.java': 1, 'component/branches/SAK-12166/component-api/component/src/java/org/sakaiproject/component/util/RecordWriter.java': 1, 'component/branches/SAK-12166/component-api/component/src/java/org/sakaiproject/component/util/StreamDigestor.java': 1, 'component/branches/SAK-12166/component-api/component/src/java/org/sakaiproject/component/impl/spring/support/ComponentsLoaderImpl.java': 1, 'Temporary': 1, 'commit': 1, 'incomplete': 1, 'work': 1, 'on': 2, 'JAR': 1, 'caching': 1, 'gopal.ramasammycook@gmail.com': 4, '09:05:31': 4, 'guys.mr.itd.umich.edu': 4, '(guys.mr.itd.umich.edu': 2, '[141.211.14.76])': 2, 'm04E5U3C029277;': 1, '09:05:30': 1, '477E3D23.EE2E7.5237': 1, '09:05:26': 1, '33C7856DC0;': 1, '14:05:26': 1, '<200801041403.m04E3psW006926@nakamura.uits.iupui.edu>': 1, '575': 1, '14:05:04': 1, '3C0261D617': 1, '14:05:03': 1, 'm04E3pQS006928': 1, '09:03:52': 1, 'm04E3psW006926': 1, '09:03:51': 2, 'r39755': 1, 'sam/branches/SAK-12065:': 1, 'samigo-api/src/java/org/sakaiproject/tool/assessment/shared/api/grading': 1, 'samigo-app/src/java/org/sakaiproject/tool/assessment/ui/bean/evaluation': 1, 'samigo-app/src/java/org/sakaiproject/tool/assessment/ui/listener/evaluation': 1, 'samigo-services/src/java/org/sakaiproject/tool/assessment/facade': 1, 'samigo-services/src/java/org/sakaiproject/tool/assessment/integration/helper/ifc': 1, 'samigo-services/src/java/org/sakaiproject/tool/assessment/integration/helper/integrated': 1, 'samigo-services/src/java/org/sakaiproject/tool/assessment/integration/helper/standalone': 1, 'samigo-services/src/java/org/sakaiproject/tool/assessment/shared/impl/grading': 1, '0.7558': 1, 'http://source.sakaiproject.org/viewsvn/?view=rev&rev=39755': 1, '09:02:54': 1, '39755': 1, 'sam/branches/SAK-12065/samigo-api/src/java/org/sakaiproject/tool/assessment/shared/api/grading/GradingSectionAwareServiceAPI.java': 1, 'sam/branches/SAK-12065/samigo-app/src/java/org/sakaiproject/tool/assessment/ui/bean/evaluation/QuestionScoresBean.java': 1, 'sam/branches/SAK-12065/samigo-app/src/java/org/sakaiproject/tool/assessment/ui/bean/evaluation/SubmissionStatusBean.java': 1, 'sam/branches/SAK-12065/samigo-app/src/java/org/sakaiproject/tool/assessment/ui/bean/evaluation/TotalScoresBean.java': 1, 'sam/branches/SAK-12065/samigo-app/src/java/org/sakaiproject/tool/assessment/ui/listener/evaluation/SubmissionStatusListener.java': 1, 'sam/branches/SAK-12065/samigo-services/src/java/org/sakaiproject/tool/assessment/facade/PublishedAssessmentFacadeQueries.java': 1, 'sam/branches/SAK-12065/samigo-services/src/java/org/sakaiproject/tool/assessment/facade/PublishedAssessmentFacadeQueriesAPI.java': 1, 'sam/branches/SAK-12065/samigo-services/src/java/org/sakaiproject/tool/assessment/integration/helper/ifc/SectionAwareServiceHelper.java': 1, 'sam/branches/SAK-12065/samigo-services/src/java/org/sakaiproject/tool/assessment/integration/helper/integrated/SectionAwareServiceHelperImpl.java': 1, 'sam/branches/SAK-12065/samigo-services/src/java/org/sakaiproject/tool/assessment/integration/helper/standalone/SectionAwareServiceHelperImpl.java': 1, 'sam/branches/SAK-12065/samigo-services/src/java/org/sakaiproject/tool/assessment/shared/impl/grading/GradingSectionAwareServiceImpl.java': 1, 'SAK-12065': 1, 'Gopal': 1, 'Samigo': 1, 'Group': 1, 'Release.': 1, 'SubmissionStatus/TotalScores/Questions': 1, 'View': 1, 'filter.': 1, 'david.horwitz@uct.ac.za': 17, '07:02:32': 4, 'm04C2VN7026678;': 1, '07:02:31': 1, '477E2050.C2599.3263': 1, '07:02:27': 1, '6497FBA906;': 1, '12:02:11': 1, '<200801041200.m04C0gfK006793@nakamura.uits.iupui.edu>': 1, '611': 2, '12:01:53': 2, '5296342D3C': 1, 'm04C0gnm006795': 1, '07:00:42': 3, 'm04C0gfK006793': 1, 'r39754': 1, 'polls/branches/sakai_2-5-x:': 1, 'tool/src/java/org/sakaiproject/poll/tool': 2, 'tool/src/java/org/sakaiproject/poll/tool/evolvers': 2, 'tool/src/webapp/WEB-INF': 2, '0.6526': 1, 'http://source.sakaiproject.org/viewsvn/?view=rev&rev=39754': 1, '07:00:10': 1, '39754': 1, 'polls/branches/sakai_2-5-x/tool/src/java/org/sakaiproject/poll/tool/evolvers/': 1, 'polls/branches/sakai_2-5-x/tool/src/java/org/sakaiproject/poll/tool/evolvers/SakaiFCKTextEvolver.java': 2, 'Removed:': 2, 'polls/branches/sakai_2-5-x/.classpath': 1, 'polls/branches/sakai_2-5-x/tool/pom.xml': 1, 'polls/branches/sakai_2-5-x/tool/src/webapp/WEB-INF/requestContext.xml': 1, '-r39753': 1, 'https://source.sakaiproject.org/svn/polls/trunk': 2, 'r39753': 2, '13:05:51': 1, '+0200': 3, '1': 3, 'line': 3, 'SAK-12228': 2, 'implmented': 2, 'workaround': 2, 'sugested': 2, 'AB': 2, 'needs': 2, 'tested': 2, 'against': 2, 'trunk': 2, 'build': 2, 'dhorwitz@david-horwitz-6:~/branchManagemnt/sakai_2-5-x>': 4, '-c39753': 1, 'polls/': 1, 'polls/.classpath': 1, 'A': 2, 'polls/tool/src/java/org/sakaiproject/poll/tool/evolvers': 1, 'polls/tool/src/java/org/sakaiproject/poll/tool/evolvers/SakaiFCKTextEvolver.java': 1, 'C': 2, 'polls/tool/src/webapp/WEB-INF/requestContext.xml': 2, 'polls/tool/pom.xml': 1, 'resolved': 1, 'Resolved': 1, 'conflicted': 1, 'state': 1, \"'polls/tool/src/webapp/WEB-INF/requestContext.xml\": 1, '06:08:27': 4, '[141.211.14.98])': 1, 'casino.mail.umich.edu': 1, 'm04B8Qw9001368;': 1, '06:08:26': 1, '477E13A5.30FC0.24054': 1, '06:08:23': 1, '784A476D7B;': 1, '11:08:12': 1, '<200801041106.m04B6lK3006677@nakamura.uits.iupui.edu>': 1, '585': 1, '11:07:56': 1, '1CACC42D0C': 1, '11:07:58': 1, 'm04B6lWM006679': 1, '06:06:47': 3, 'm04B6lK3006677': 1, 'polls/trunk:': 1, '0.6948': 1, 'http://source.sakaiproject.org/viewsvn/?view=rev&rev=39753': 1, '06:05:51': 1, '39753': 1, 'polls/trunk/tool/src/java/org/sakaiproject/poll/tool/evolvers/': 1, 'polls/trunk/tool/src/java/org/sakaiproject/poll/tool/evolvers/SakaiFCKTextEvolver.java': 1, 'polls/trunk/.classpath': 1, 'polls/trunk/tool/pom.xml': 1, 'polls/trunk/tool/src/webapp/WEB-INF/requestContext.xml': 1, '04:49:08': 4, '[141.211.14.92])': 1, 'galaxyquest.mr.itd.umich.edu': 4, '(galaxyquest.mr.itd.umich.edu': 2, '[141.211.93.145])': 2, 'score.mail.umich.edu': 1, 'm049n60G017588;': 1, '04:49:06': 1, '477E010C.48C2.10259': 1, '04:49:03': 1, '254CC8CDEE;': 1, '09:48:55': 1, '<200801040947.m049lUxo006517@nakamura.uits.iupui.edu>': 1, '246': 1, '09:48:36': 1, '8C13342C92': 1, '09:48:40': 1, 'm049lU3P006519': 1, '04:47:30': 3, 'm049lUxo006517': 1, 'r39752': 1, 'podcasts/branches/sakai_2-5-x/podcasts-app/src/webapp:': 2, 'css': 2, 'podcasts': 2, '0.6528': 1, 'http://source.sakaiproject.org/viewsvn/?view=rev&rev=39752': 1, '04:47:16': 1, '39752': 1, 'podcasts/branches/sakai_2-5-x/podcasts-app/src/webapp/css/podcaster.css': 2, 'podcasts/branches/sakai_2-5-x/podcasts-app/src/webapp/podcasts/podMain.jsp': 2, '-r39641': 1, 'https://source.sakaiproject.org/svn/podcasts/trunk': 4, 'r39641': 1, 'josrodri@iupui.edu': 2, '2007-12-28': 1, '23:44:24': 1, '28': 1, 'SAK-9882:': 2, 'refactored': 2, 'podMain.jsp': 1, 'right': 1, 'way': 1, '(at': 1, 'least': 1, 'much': 1, 'closer': 1, 'to)': 1, '-c39641': 1, 'podcasts/': 2, 'podcasts/podcasts-app/src/webapp/podcasts/podMain.jsp': 2, 'podcasts/podcasts-app/src/webapp/css/podcaster.css': 2, 'merged': 1, 'manualy': 1, '04:33:44': 4, 'workinggirl.mr.itd.umich.edu': 2, '(workinggirl.mr.itd.umich.edu': 1, '[141.211.93.143])': 1, 'm049Xge3031803;': 1, '04:33:42': 1, '477DFD6C.75DBE.26054': 1, '04:33:35': 1, '6C929BA656;': 1, '09:33:27': 1, '<200801040932.m049W2i5006493@nakamura.uits.iupui.edu>': 1, '153': 1, '09:33:10': 1, '6C69423767': 1, '09:33:13': 1, 'm049W3fl006495': 1, '04:32:03': 1, 'm049W2i5006493': 1, '04:32:02': 2, 'r39751': 1, 'images': 1, 'http://source.sakaiproject.org/viewsvn/?view=rev&rev=39751': 1, '04:31:35': 1, '39751': 1, 'podcasts/branches/sakai_2-5-x/podcasts-app/src/webapp/images/rss-feed-icon.png': 1, 'podcasts/branches/sakai_2-5-x/podcasts-app/src/webapp/podcasts/podPermissions.jsp': 1, 'podcasts/branches/sakai_2-5-x/podcasts-app/src/webapp/podcasts/podDelete.jsp': 1, 'podcasts/branches/sakai_2-5-x/podcasts-app/src/webapp/podcasts/podNoResource.jsp': 1, 'podcasts/branches/sakai_2-5-x/podcasts-app/src/webapp/podcasts/podOptions.jsp': 1, '-r39146': 1, 'r39146': 1, '2007-12-12': 1, '21:40:33': 1, '(Wed,': 2, '12': 2, 'other': 1, 'pages': 1, 'as': 4, 'well': 2, 'take': 1, 'advantage': 1, 'proper': 1, 'jsp': 1, 'components': 1, 'validation': 1, 'cleanup.': 1, '-c39146': 1, 'D': 2, 'podcasts/podcasts-app/src/webapp/podcasts/podPermissions.jsp': 1, 'podcasts/podcasts-app/src/webapp/podcasts/podDelete.jsp': 1, 'podcasts/podcasts-app/src/webapp/podcasts/podNoResource.jsp': 1, 'podcasts/podcasts-app/src/webapp/podcasts/podOptions.jsp': 1, 'podcasts/podcasts-app/src/webapp/images/rss-feed-icon.png': 1, '04:07:34': 4, 'salemslot.mr.itd.umich.edu': 6, '(salemslot.mr.itd.umich.edu': 3, '[141.211.14.58])': 3, 'm0497WAN027902;': 1, '04:07:32': 1, '477DF74E.49493.30415': 1, '04:07:29': 1, '88598BA5B6;': 1, '09:07:19': 1, '<200801040905.m0495rWB006420@nakamura.uits.iupui.edu>': 1, '385': 1, '09:07:04': 2, '90636418A8': 1, 'm0495sZs006422': 1, '04:05:54': 1, 'm0495rWB006420': 1, '04:05:53': 2, 'r39750': 1, 'event/branches/SAK-6216/event-util/util/src/java/org/sakaiproject/util': 1, '0.7554': 1, 'http://source.sakaiproject.org/viewsvn/?view=rev&rev=39750': 1, '04:05:43': 1, '39750': 1, 'event/branches/SAK-6216/event-util/util/src/java/org/sakaiproject/util/EmailNotification.java': 1, 'SAK-6216': 1, 'event': 1, 'change': 1, 'SAK-11169': 1, '(r39033)': 1, 'synchronize': 1, 'branch': 1, '(for': 1, 'convenience': 1, 'UCT': 1, 'local': 1, 'build)': 1, 'Thu': 12, '19:51:21': 3, '[141.211.14.91])': 3, 'Thu,': 51, '03': 18, 'jacknife.mail.umich.edu': 3, 'm040pJHB027171;': 1, '19:51:19': 1, '477D8300.AC098.32562': 1, '19:51:15': 1, 'E6CC4B9F8A;': 1, '00:36:06': 1, '<200801040023.m040NpCc005473@nakamura.uits.iupui.edu>': 1, '754': 1, '00:35:43': 1, '8889842C49': 1, '00:25:00': 1, 'm040NpgM005475': 1, '19:23:51': 3, 'm040NpCc005473': 1, 'r39749': 1, '19:51:20': 1, '0.6956': 1, 'http://source.sakaiproject.org/viewsvn/?view=rev&rev=39749': 1, '2008-01-03': 6, '19:23:46': 1, '39749': 1, 'bspace/site-manage/sakai_2-4-x/site-manage-tool/tool/src/webapp/vm/sitesetup/chef_site-importSites.vm': 1, 'BSP-1420': 1, 'Update': 1, 'text': 2, 'clarify': 2, '\"Re-Use': 1, 'Materials...\"': 1, 'option': 2, 'WS': 1, 'Setup': 1, '17:18:23': 4, 'm03MIMXY027729;': 1, '17:18:22': 1, '477D5F23.797F6.16348': 1, '17:18:14': 1, 'EF439B98CE;': 1, '22:18:19': 1, '<200801032216.m03MGhDa005292@nakamura.uits.iupui.edu>': 1, '236': 1, '22:18:04': 1, '905D53C2FD': 1, '22:17:52': 1, 'm03MGhrs005294': 1, '17:16:43': 3, 'm03MGhDa005292': 1, 'r39746': 1, 'http://source.sakaiproject.org/viewsvn/?view=rev&rev=39746': 1, '17:16:39': 1, '39746': 1, 'bspace/site-manage/sakai_2-4-x/site-manage-tool/tool/src/webapp/vm/sitesetup/chef_site-siteInfo-duplicate.vm': 1, 'BSP-1421': 1, 'Add': 1, '\"Duplicate': 1, 'Site\"': 1, 'ray@media.berkeley.edu': 4, '17:07:00': 4, 'anniehall.mr.itd.umich.edu': 2, '(anniehall.mr.itd.umich.edu': 1, '[141.211.93.141])': 1, 'm03M6xaq014868;': 1, '17:06:59': 1, '477D5C7A.4FE1F.22211': 1, '17:06:53': 1, '0BC8D7225E;': 1, '22:06:57': 1, '<200801032205.m03M5Ea7005273@nakamura.uits.iupui.edu>': 1, '554': 1, '22:06:34': 1, '2AB513C2FD': 1, '22:06:23': 1, 'm03M5EQa005275': 1, '17:05:14': 3, 'm03M5Ea7005273': 1, 'r39745': 1, 'providers/trunk/cm/cm-authz-provider/src/java/org/sakaiproject/coursemanagement/impl/provider': 1, 'http://source.sakaiproject.org/viewsvn/?view=rev&rev=39745': 1, '17:05:11': 1, '39745': 1, 'providers/trunk/cm/cm-authz-provider/src/java/org/sakaiproject/coursemanagement/impl/provider/CourseManagementGroupProvider.java': 1, 'SAK-12602': 1, 'logic': 1, 'has': 1, 'multiple': 1, 'roles': 1, 'section': 1, '16:34:40': 4, '[141.211.14.34])': 1, 'chaos.mail.umich.edu': 1, 'm03LYdY1029538;': 1, '16:34:39': 1, '477D54EA.13F34.26602': 1, '16:34:36': 1, 'CC710ADC79;': 1, '21:34:29': 1, '<200801032133.m03LX3gG005191@nakamura.uits.iupui.edu>': 1, '21:34:08': 1, '43C4242B55': 1, '21:34:12': 1, 'm03LX3Vb005193': 1, '16:33:03': 3, 'm03LX3gG005191': 1, 'r39744': 1, 'oncourse/branches/oncourse_OPC_122007': 1, '0.9846': 1, 'http://source.sakaiproject.org/viewsvn/?view=rev&rev=39744': 1, '16:33:02': 1, '39744': 1, 'oncourse/branches/oncourse_OPC_122007/': 1, 'oncourse/branches/oncourse_OPC_122007/.externals': 1, 'update': 1, 'external': 1, 'GB.': 1, '16:29:07': 4, 'm03LT6uw027749;': 1, '16:29:06': 1, '477D5397.E161D.20326': 1, '16:28:58': 1, 'DEC65ADC79;': 1, '21:28:52': 1, '<200801032127.m03LRUqH005177@nakamura.uits.iupui.edu>': 1, '917': 1, '21:28:39': 1, '1FBB042B30': 1, '21:28:38': 1, 'm03LRUk4005179': 1, '16:27:30': 3, 'm03LRUqH005177': 1, 'r39743': 1, 'gradebook/branches/oncourse_2-4-2/app/ui/src/java/org/sakaiproject/tool/gradebook/ui': 2, '0.8509': 1, 'http://source.sakaiproject.org/viewsvn/?view=rev&rev=39743': 1, '16:27:29': 1, '39743': 1, 'gradebook/branches/oncourse_2-4-2/app/ui/src/java/org/sakaiproject/tool/gradebook/ui/RosterBean.java': 2, '-c': 2, '39403': 2, 'https://source.sakaiproject.org/svn/gradebook/trunk': 4, 'app/ui/src/java/org/sakaiproject/tool/gradebook/ui/RosterBean.java': 2, 'r39403': 1, '2007-12-17': 1, '17:11:08': 1, '(Mon,': 1, '17': 1, 'SAK-12504': 1, 'http://jira.sakaiproject.org/jira/browse/SAK-12504': 1, 'Viewing': 1, '\"All': 2, 'Grades\"': 2, 'page': 2, 'TA': 1, 'grader': 1, 'causes': 1, 'stack': 1, 'trace': 1, '16:23:48': 4, 'm03LNlf0002115;': 1, '16:23:47': 1, '477D525E.1448.30389': 1, '16:23:44': 1, '9D005B9D06;': 1, '21:23:38': 1, '<200801032122.m03LMFo4005148@nakamura.uits.iupui.edu>': 1, '6': 1, '21:23:24': 2, '3535542B69': 1, 'm03LMFtT005150': 1, '16:22:15': 3, 'm03LMFo4005148': 1, 'r39742': 1, '0.9907': 1, 'http://source.sakaiproject.org/viewsvn/?view=rev&rev=39742': 1, '16:22:14': 1, '39742': 1, '35014': 2, 'r35014': 1, '2007-09-12': 1, '16:17:59': 1, '-0400': 1, 'Sep': 1, 'SAK-11458': 1, 'http://bugs.sakaiproject.org/jira/browse/SAK-11458': 1, 'Course': 1, 'does': 1, 'appear': 1, 'no': 1, 'categories': 1}\n"
     ]
    }
   ],
   "source": [
    "file=open('M.txt')\n",
    "D=dict()\n",
    "for line in file:\n",
    "    words=line.split()\n",
    "    for word in words:\n",
    "        D[word]=D.get(word,0)+1\n",
    "print(D)"
   ]
  },
  {
   "cell_type": "code",
   "execution_count": 60,
   "id": "2154b5a4",
   "metadata": {},
   "outputs": [
    {
     "name": "stdout",
     "output_type": "stream",
     "text": [
      "Jan 352\n"
     ]
    }
   ],
   "source": [
    "bigword=None\n",
    "bigcount=None\n",
    "for word,count in D.items():\n",
    "    if bigcount is None or count>bigcount:\n",
    "        bigword=word\n",
    "        bigcount=count\n",
    "print(bigword, bigcount)"
   ]
  },
  {
   "cell_type": "code",
   "execution_count": 61,
   "id": "349d9bf1",
   "metadata": {},
   "outputs": [
    {
     "name": "stdout",
     "output_type": "stream",
     "text": [
      "{'From': 27, 'stephen.marquard@uct.ac.za': 8, 'Sat': 2, 'Jan': 352, '5': 10, '09:14:16': 4, '2008': 324, 'Return-Path:': 27, '<postmaster@collab.sakaiproject.org>': 27, 'Received:': 243, 'from': 218, 'murder': 54, '(mail.umich.edu': 27, '[141.211.14.90])': 3, 'by': 245, 'frankenstein.mail.umich.edu': 27, '(Cyrus': 54, 'v2.3.8)': 27, 'with': 194, 'LMTPA;': 54, 'Sat,': 9, '05': 3, '-0500': 219, 'X-Sieve:': 27, 'CMU': 27, 'Sieve': 27, '2.3': 27, '([unix': 27, 'socket])': 27, 'mail.umich.edu': 27, 'v2.2.12)': 27, 'holes.mr.itd.umich.edu': 8, '(holes.mr.itd.umich.edu': 4, '[141.211.14.79])': 4, 'flawless.mail.umich.edu': 3, '()': 27, 'ESMTP': 108, 'id': 136, 'm05EEFR1013674;': 1, '09:14:15': 1, 'FROM': 27, 'paploo.uhi.ac.uk': 108, '(app1.prod.collab.uhi.ac.uk': 27, '[194.35.219.184])': 27, 'BY': 27, 'ID': 54, '477F90B0.2DB2F.12494': 1, ';': 27, '09:14:10': 1, '(localhost': 54, '[127.0.0.1])': 54, '(Postfix)': 54, '5F919BC2F2;': 1, '14:10:05': 1, '+0000': 81, '(GMT)': 81, 'Message-ID:': 27, '<200801051412.m05ECIaH010327@nakamura.uits.iupui.edu>': 1, 'Mime-Version:': 27, '1.0': 27, 'Content-Transfer-Encoding:': 27, '7bit': 27, 'prod.collab.uhi.ac.uk': 27, '([194.35.219.182])': 27, '(JAMES': 27, 'SMTP': 54, 'Server': 27, '2.1.3)': 27, '899': 1, 'for': 118, '<source@collab.sakaiproject.org>;': 81, '14:09:50': 1, 'nakamura.uits.iupui.edu': 108, '(nakamura.uits.iupui.edu': 27, '[134.68.220.122])': 27, 'shmi.uhi.ac.uk': 27, 'A215243002': 1, '14:13:33': 1, '(8.12.11.20060308/8.12.11)': 27, 'm05ECJVp010329': 1, '09:12:19': 1, '(from': 27, 'apache@localhost)': 27, '(8.12.11.20060308/8.12.11/Submit)': 27, 'm05ECIaH010327': 1, 'source@collab.sakaiproject.org;': 27, '09:12:18': 2, 'Date:': 54, 'X-Authentication-Warning:': 27, 'nakamura.uits.iupui.edu:': 27, 'apache': 27, 'set': 27, 'sender': 27, 'to': 43, 'using': 27, '-f': 27, 'To:': 27, 'source@collab.sakaiproject.org': 27, 'From:': 27, 'Subject:': 27, '[sakai]': 27, 'svn': 43, 'commit:': 27, 'r39772': 1, '-': 35, 'content/branches/sakai_2-5-x/content-impl/impl/src/java/org/sakaiproject/content/impl': 1, 'X-Content-Type-Outer-Envelope:': 27, 'text/plain;': 81, 'charset=UTF-8': 81, 'X-Content-Type-Message-Body:': 27, 'Content-Type:': 27, 'X-DSPAM-Result:': 27, 'Innocent': 27, 'X-DSPAM-Processed:': 27, 'X-DSPAM-Confidence:': 27, '0.8475': 1, 'X-DSPAM-Probability:': 27, '0.0000': 27, 'Details:': 27, 'http://source.sakaiproject.org/viewsvn/?view=rev&rev=39772': 1, 'Author:': 27, '2008-01-05': 1, '09:12:07': 1, '(Sat,': 1, '2008)': 28, 'New': 29, 'Revision:': 27, '39772': 1, 'Modified:': 27, 'content/branches/sakai_2-5-x/content-impl/impl/src/java/org/sakaiproject/content/impl/ContentServiceSqlOracle.java': 1, 'content/branches/sakai_2-5-x/content-impl/impl/src/java/org/sakaiproject/content/impl/DbContentService.java': 1, 'Log:': 27, 'SAK-12501': 1, 'merge': 12, '2-5-x:': 1, 'r39622,': 1, 'r39624:5,': 1, 'r39632:3': 1, '(resolve': 1, 'conflict': 2, 'differing': 1, 'linebreaks': 1, 'r39622)': 1, '----------------------': 27, 'This': 27, 'automatic': 27, 'notification': 27, 'message': 28, 'was': 27, 'sent': 27, 'Sakai': 28, 'Collab': 27, '(https://collab.sakaiproject.org/portal)': 27, 'the': 32, 'Source': 28, 'site.': 27, 'You': 27, 'can': 27, 'modify': 27, 'how': 27, 'you': 27, 'receive': 27, 'notifications': 27, 'at': 27, 'My': 27, 'Workspace': 27, '>': 27, 'Preferences.': 27, 'louis@media.berkeley.edu': 12, 'Fri': 40, '4': 203, '18:10:48': 4, '[141.211.14.97])': 3, 'Fri,': 183, '04': 61, 'icestorm.mr.itd.umich.edu': 4, '(icestorm.mr.itd.umich.edu': 2, '[141.211.93.149])': 2, 'sleepers.mail.umich.edu': 3, 'm04NAbGa029441;': 1, '18:10:37': 1, '477EBCE3.161BB.4320': 1, '18:10:31': 1, '07969BB706;': 1, '23:10:33': 1, '<200801042308.m04N8v6O008125@nakamura.uits.iupui.edu>': 1, '710': 1, '23:10:10': 2, '4BA2F42F57': 1, 'm04N8vHG008127': 1, '18:08:57': 3, 'm04N8v6O008125': 1, 'r39771': 1, 'in': 22, 'bspace/site-manage/sakai_2-4-x/site-manage-tool/tool/src:': 3, 'bundle': 3, 'java/org/sakaiproject/site/tool': 2, '0.6178': 1, 'http://source.sakaiproject.org/viewsvn/?view=rev&rev=39771': 1, '2008-01-04': 21, '18:08:50': 1, '(Fri,': 22, '39771': 1, 'bspace/site-manage/sakai_2-4-x/site-manage-tool/tool/src/bundle/sitesetupgeneric.properties': 3, 'bspace/site-manage/sakai_2-4-x/site-manage-tool/tool/src/java/org/sakaiproject/site/tool/SiteAction.java': 1, 'BSP-1415': 1, '(Guest)': 1, 'user': 4, 'Notification': 1, 'zqian@umich.edu': 17, '16:10:39': 4, '[141.211.14.25])': 5, 'ghostbusters.mr.itd.umich.edu': 2, '(ghostbusters.mr.itd.umich.edu': 1, '[141.211.93.144])': 1, 'panther.mail.umich.edu': 5, 'm04LAcZw014275;': 1, '16:10:38': 1, '477EA0C6.A0214.25480': 1, '16:10:33': 1, 'C48CDBB490;': 1, '21:10:31': 1, '<200801042109.m04L92hb007923@nakamura.uits.iupui.edu>': 1, '906': 1, '21:10:18': 1, '7D13042F71': 1, '21:10:14': 1, 'm04L927E007925': 1, '16:09:02': 3, 'm04L92hb007923': 1, 'r39770': 1, 'site-manage/branches/sakai_2-5-x/site-manage-tool/tool/src/webapp/vm/sitesetup': 1, '0.6961': 1, 'http://source.sakaiproject.org/viewsvn/?view=rev&rev=39770': 1, '16:09:01': 1, '39770': 1, 'site-manage/branches/sakai_2-5-x/site-manage-tool/tool/src/webapp/vm/sitesetup/chef_site-siteInfo-list.vm': 1, 'fix': 4, 'SAK-9996': 1, 'into': 2, '2-5-x': 2, 'branch:': 2, '-r': 5, '39687:39688': 1, 'https://source.sakaiproject.org/svn/site-manage/trunk/': 1, 'rjlowe@iupui.edu': 8, '15:46:24': 4, 'dreamcatcher.mr.itd.umich.edu': 2, '(dreamcatcher.mr.itd.umich.edu': 1, '[141.211.14.43])': 1, 'm04KkNbx032077;': 1, '15:46:23': 1, '477E9B13.2F3BC.22965': 1, '15:46:13': 1, '4AE03BB552;': 1, '20:46:13': 1, '<200801042044.m04Kiem3007881@nakamura.uits.iupui.edu>': 1, '38': 1, '20:45:56': 1, 'A55D242F57': 1, '20:45:52': 1, 'm04KieqE007883': 1, '15:44:40': 3, 'm04Kiem3007881': 1, 'r39769': 1, 'gradebook/trunk/app/ui/src:': 1, 'java/org/sakaiproject/tool/gradebook/ui/helpers/beans': 1, 'java/org/sakaiproject/tool/gradebook/ui/helpers/producers': 1, 'webapp/WEB-INF': 1, 'webapp/WEB-INF/bundle': 1, '0.7565': 1, 'http://source.sakaiproject.org/viewsvn/?view=rev&rev=39769': 1, '15:44:39': 1, '39769': 1, 'gradebook/trunk/app/ui/src/java/org/sakaiproject/tool/gradebook/ui/helpers/beans/AssignmentGradeRecordBean.java': 2, 'gradebook/trunk/app/ui/src/java/org/sakaiproject/tool/gradebook/ui/helpers/producers/GradeGradebookItemProducer.java': 2, 'gradebook/trunk/app/ui/src/webapp/WEB-INF/applicationContext.xml': 2, 'gradebook/trunk/app/ui/src/webapp/WEB-INF/bundle/messages.properties': 2, 'gradebook/trunk/app/ui/src/webapp/WEB-INF/requestContext.xml': 2, 'SAK-12180': 2, 'Fixed': 1, 'errors': 1, 'grading': 1, 'helper': 2, '15:03:18': 4, '[141.211.14.46])': 5, 'firestarter.mr.itd.umich.edu': 4, '(firestarter.mr.itd.umich.edu': 2, '[141.211.14.83])': 2, 'fan.mail.umich.edu': 5, 'm04K3HGF006563;': 1, '15:03:17': 1, '477E9100.8F7F4.1590': 1, '15:03:15': 2, '57770BB477;': 1, '20:03:09': 1, '<200801042001.m04K1cO0007738@nakamura.uits.iupui.edu>': 1, '622': 1, '20:02:46': 1, 'AB4D042F4D': 1, '20:02:50': 1, 'm04K1cXv007740': 1, '15:01:38': 3, 'm04K1cO0007738': 1, 'r39766': 1, 'site-manage/branches/sakai_2-4-x/site-manage-tool/tool/src/java/org/sakaiproject/site/tool': 1, '0.7626': 1, 'http://source.sakaiproject.org/viewsvn/?view=rev&rev=39766': 1, '15:01:37': 1, '39766': 1, 'site-manage/branches/sakai_2-4-x/site-manage-tool/tool/src/java/org/sakaiproject/site/tool/SiteAction.java': 1, 'SAK-10788': 1, 'site-manage': 1, '2.4.x': 1, 'Repository': 1, '#38024': 1, 'Wed': 1, 'Nov': 1, '07': 1, '14:54:46': 1, 'MST': 1, '2007': 1, 'Fix': 2, 'SAK-10788:': 1, 'If': 1, 'a': 8, 'provided': 1, 'couse': 1, 'site': 3, 'is': 1, 'fake': 1, 'or': 1, \"doesn't\": 2, 'provide': 1, 'any': 2, 'information,': 1, 'Site': 2, 'Info': 2, 'appears': 1, 'be': 4, 'like': 1, 'project': 1, 'empty': 1, 'participant': 1, 'list': 2, 'Watch': 1, 'enrollments': 1, 'object': 1, 'being': 1, 'null': 1, 'and': 2, 'concatenate': 1, 'provider': 1, 'ids': 1, 'when': 3, 'there': 1, 'are': 1, 'more': 1, 'than': 1, 'one.': 1, 'Files': 1, 'Changed': 1, 'MODIFY': 1, '/site-manage/trunk/site-manage-tool/tool/src/java/org/sakaiproject/site/tool/SiteAction.java': 1, '14:50:18': 4, '[141.211.14.93])': 1, 'eyewitness.mr.itd.umich.edu': 4, '(eyewitness.mr.itd.umich.edu': 2, '[141.211.93.142])': 2, 'mission.mail.umich.edu': 1, 'm04JoHJi019755;': 1, '14:50:17': 1, '477E8DF2.67B91.5278': 1, '14:50:13': 1, '2D1B9BB492;': 1, '19:47:10': 1, '<200801041948.m04JmdwO007705@nakamura.uits.iupui.edu>': 1, '960': 1, '19:46:50': 1, 'B3E6742F4A': 1, '19:49:51': 1, 'm04JmeV9007707': 1, '14:48:40': 1, 'm04JmdwO007705': 1, '14:48:39': 2, 'r39765': 1, 'gradebook/trunk/app:': 1, 'business/src/java/org/sakaiproject/tool/gradebook/business': 1, 'business/src/java/org/sakaiproject/tool/gradebook/business/impl': 1, 'ui': 2, 'ui/src/java/org/sakaiproject/tool/gradebook/ui/helpers/beans': 1, 'ui/src/java/org/sakaiproject/tool/gradebook/ui/helpers/entity': 1, 'ui/src/java/org/sakaiproject/tool/gradebook/ui/helpers/params': 1, 'ui/src/java/org/sakaiproject/tool/gradebook/ui/helpers/producers': 1, 'ui/src/webapp/WEB-INF': 1, 'ui/src/webapp/WEB-INF/bundle': 1, 'ui/src/webapp/content/templates': 1, '0.7556': 2, 'http://source.sakaiproject.org/viewsvn/?view=rev&rev=39765': 1, '14:48:37': 1, '39765': 1, 'Added:': 4, 'gradebook/trunk/app/ui/src/java/org/sakaiproject/tool/gradebook/ui/helpers/beans/AssignmentGradeRecordCreator.java': 1, 'gradebook/trunk/app/ui/src/java/org/sakaiproject/tool/gradebook/ui/helpers/entity/GradebookEntryGradeEntityProvider.java': 1, 'gradebook/trunk/app/ui/src/java/org/sakaiproject/tool/gradebook/ui/helpers/params/GradeGradebookItemViewParams.java': 1, 'gradebook/trunk/app/ui/src/webapp/content/templates/grade-gradebook-item.html': 1, 'gradebook/trunk/app/business/src/java/org/sakaiproject/tool/gradebook/business/GradebookManager.java': 1, 'gradebook/trunk/app/business/src/java/org/sakaiproject/tool/gradebook/business/impl/GradebookManagerHibernateImpl.java': 2, 'gradebook/trunk/app/ui/pom.xml': 1, 'gradebook/trunk/app/ui/src/java/org/sakaiproject/tool/gradebook/ui/helpers/beans/GradebookItemBean.java': 1, 'gradebook/trunk/app/ui/src/java/org/sakaiproject/tool/gradebook/ui/helpers/entity/GradebookEntryEntityProvider.java': 1, 'gradebook/trunk/app/ui/src/java/org/sakaiproject/tool/gradebook/ui/helpers/producers/AddGradebookItemProducer.java': 1, 'tool': 4, 'grade': 2, 'an': 1, 'assignment': 1, 'cwen@iupui.edu': 20, '11:37:30': 4, 'tadpole.mr.itd.umich.edu': 2, '(tadpole.mr.itd.umich.edu': 1, '[141.211.14.72])': 1, 'm04GbT9x022078;': 1, '11:37:29': 1, '477E60B2.82756.9904': 1, '11:37:09': 1, '8D13DBB001;': 1, '16:37:07': 1, '<200801041635.m04GZQGZ007313@nakamura.uits.iupui.edu>': 1, '120': 1, '16:36:40': 1, 'D430B42E42': 1, '16:36:37': 1, 'm04GZQ7W007315': 1, '11:35:26': 3, 'm04GZQGZ007313': 1, 'r39764': 1, 'msgcntr/trunk/messageforums-app/src/java/org/sakaiproject/tool/messageforums:': 1, '.': 3, '0.7002': 2, 'http://source.sakaiproject.org/viewsvn/?view=rev&rev=39764': 1, '11:35:25': 1, '39764': 1, 'msgcntr/trunk/messageforums-app/src/java/org/sakaiproject/tool/messageforums/PrivateMessagesTool.java': 2, 'msgcntr/trunk/messageforums-app/src/java/org/sakaiproject/tool/messageforums/ui/PrivateMessageDecoratedBean.java': 1, 'unmerge': 2, \"Xingtang's\": 2, 'checkin': 1, 'SAK-12488.': 1, '-r39558:39557': 1, 'https://source.sakaiproject.org/svn/msgcntr/trunk': 2, 'U': 14, 'messageforums-app/src/java/org/sakaiproject/tool/messageforums/PrivateMessagesTool.java': 2, 'messageforums-app/src/java/org/sakaiproject/tool/messageforums/ui/PrivateMessageDecoratedBean.java': 1, 'log': 7, '39558': 1, '------------------------------------------------------------------------': 14, 'r39558': 1, '|': 21, 'hu2@iupui.edu': 2, '2007-12-20': 2, '15:25:38': 1, '(Thu,': 8, '20': 2, 'Dec': 5, '2007)': 6, '3': 61, 'lines': 4, 'SAK-12488': 1, 'send': 1, 'yourself.': 1, 'click': 1, 'reply': 2, 'all,': 1, 'cc': 2, 'row': 1, 'should': 2, 'null.': 1, 'http://jira.sakaiproject.org/jira/browse/SAK-12488': 1, '11:35:08': 4, 'it.mr.itd.umich.edu': 2, '(it.mr.itd.umich.edu': 1, '[141.211.93.151])': 1, 'm04GZ6lt020480;': 1, '11:35:06': 1, '477E6033.6469D.21870': 1, '11:35:02': 1, 'E40FABAE5B;': 1, '16:34:38': 1, '<200801041633.m04GX6eG007292@nakamura.uits.iupui.edu>': 1, '697': 1, '16:34:01': 1, '1CD0C42E42': 1, '16:34:17': 1, 'm04GX6Y3007294': 1, '11:33:06': 3, 'm04GX6eG007292': 1, 'r39763': 1, 'msgcntr/trunk:': 1, 'messageforums-api/src/bundle/org/sakaiproject/api/app/messagecenter/bundle': 1, 'messageforums-app/src/java/org/sakaiproject/tool/messageforums': 1, '0.7615': 1, 'http://source.sakaiproject.org/viewsvn/?view=rev&rev=39763': 1, '11:33:05': 1, '39763': 1, 'msgcntr/trunk/messageforums-api/src/bundle/org/sakaiproject/api/app/messagecenter/bundle/Messages.properties': 1, 'check': 1, 'SAK-12484.': 1, '-r39571:39570': 1, 'messageforums-api/src/bundle/org/sakaiproject/api/app/messagecenter/bundle/Messages.properties': 1, '39571': 1, 'r39571': 1, '21:26:28': 1, 'SAK-12484': 1, 'all': 1, 'not': 2, 'include': 1, 'current': 1, 'name.': 1, 'http://jira.sakaiproject.org/jira/browse/SAK-12484': 1, 'gsilver@umich.edu': 12, '11:12:37': 4, 'm04GCaHB030887;': 1, '11:12:36': 1, '477E5AEB.E670B.28397': 1, '11:12:30': 1, '99715BAE7D;': 1, '16:12:27': 1, '<200801041611.m04GB1Lb007221@nakamura.uits.iupui.edu>': 1, '272': 1, '16:12:14': 1, '0A6ED42DFC': 1, '16:12:12': 1, 'm04GB1Wt007223': 1, '11:11:01': 3, 'm04GB1Lb007221': 1, 'r39762': 1, 'web/trunk/web-tool/tool/src/bundle': 1, '0.7601': 1, 'http://source.sakaiproject.org/viewsvn/?view=rev&rev=39762': 1, '11:11:00': 1, '39762': 1, 'web/trunk/web-tool/tool/src/bundle/iframe.properties': 1, 'SAK-12596': 1, 'http://bugs.sakaiproject.org/jira/browse/SAK-12596': 1, 'left': 3, 'moot': 3, '(unused)': 3, 'entries': 3, 'commented': 3, 'now': 3, '11:11:52': 5, '[141.211.14.36])': 1, 'creepshow.mr.itd.umich.edu': 4, '(creepshow.mr.itd.umich.edu': 2, '[141.211.14.84])': 2, 'godsend.mail.umich.edu': 1, 'm04GBqqv025330;': 1, '477E5AB3.5CC32.30840': 1, '11:11:34': 1, '62AA4BAE46;': 1, '16:11:31': 1, '<200801041610.m04GA5KP007209@nakamura.uits.iupui.edu>': 1, '1006': 1, '16:11:18': 1, 'C596A3DFA2': 1, '16:11:16': 1, 'm04GA5LR007211': 1, '11:10:05': 3, 'm04GA5KP007209': 1, 'r39761': 1, 'site/trunk/site-tool/tool/src/bundle': 1, '0.7605': 2, 'http://source.sakaiproject.org/viewsvn/?view=rev&rev=39761': 1, '11:10:04': 1, '39761': 1, 'site/trunk/site-tool/tool/src/bundle/admin.properties': 1, 'SAK-12595': 1, 'http://bugs.sakaiproject.org/jira/browse/SAK-12595': 1, '11:11:03': 5, 'carrie.mr.itd.umich.edu': 2, '(carrie.mr.itd.umich.edu': 1, '[141.211.93.152])': 1, 'm04GB3Vg011502;': 1, '477E5A8D.B378F.24200': 1, '11:10:56': 1, 'C7251BAD44;': 1, '16:10:53': 1, '<200801041609.m04G9EuX007197@nakamura.uits.iupui.edu>': 1, '483': 1, '16:10:27': 1, '2E7043DFA2': 1, '16:10:26': 1, 'm04G9Eqg007199': 1, '11:09:15': 1, 'm04G9EuX007197': 1, '11:09:14': 2, 'r39760': 1, 'site-manage/trunk/site-manage-tool/tool/src:': 1, 'webapp/vm/sitesetup': 3, '0.6959': 2, 'http://source.sakaiproject.org/viewsvn/?view=rev&rev=39760': 1, '11:09:12': 1, '39760': 1, 'site-manage/trunk/site-manage-tool/tool/src/java/org/sakaiproject/site/tool/SiteAction.java': 1, 'site-manage/trunk/site-manage-tool/tool/src/webapp/vm/sitesetup/chef_site-siteInfo-list.vm': 1, 'SAK-10911:': 1, 'Refactor': 1, 'use': 1, 'of': 4, 'site.upd,': 1, 'site.upd.site.mbrship': 1, 'site.upd.grp.mbrship': 1, 'permissions': 2, '11:10:22': 4, '[141.211.14.39])': 3, 'faithful.mail.umich.edu': 3, 'm04GAL9k010604;': 1, '11:10:21': 1, '477E5A67.34350.23015': 1, '11:10:18': 1, '98D04BAD43;': 1, '16:10:11': 1, '<200801041608.m04G8d7w007184@nakamura.uits.iupui.edu>': 1, '966': 1, '16:09:51': 1, '9F89542DD0': 1, '16:09:50': 1, 'm04G8dXN007186': 1, '11:08:39': 3, 'm04G8d7w007184': 1, 'r39759': 1, 'mailarchive/trunk/mailarchive-tool/tool/src/bundle': 1, '0.7606': 1, 'http://source.sakaiproject.org/viewsvn/?view=rev&rev=39759': 1, '11:08:38': 1, '39759': 1, 'mailarchive/trunk/mailarchive-tool/tool/src/bundle/email.properties': 1, 'SAK-12592': 1, 'http://bugs.sakaiproject.org/jira/browse/SAK-12592': 1, 'wagnermr@iupui.edu': 6, '10:38:42': 4, 'shining.mr.itd.umich.edu': 2, '(shining.mr.itd.umich.edu': 1, '[141.211.93.153])': 1, 'm04Fcfjm012313;': 1, '10:38:41': 1, '477E52FA.E6C6E.24093': 1, '10:38:37': 1, '6A39594CD2;': 1, '15:37:36': 1, '<200801041537.m04Fb6Ci007092@nakamura.uits.iupui.edu>': 1, '690': 1, '15:37:21': 1, 'CEFA037ACE': 1, '15:38:17': 1, 'm04Fb6nh007094': 1, '10:37:06': 3, 'm04Fb6Ci007092': 1, 'r39758': 1, 'gradebook/trunk:': 1, 'app/business/src/java/org/sakaiproject/tool/gradebook/business/impl': 1, 'service/api/src/java/org/sakaiproject/service/gradebook/shared': 1, 'service/impl/src/java/org/sakaiproject/component/gradebook': 1, '0.7559': 1, 'http://source.sakaiproject.org/viewsvn/?view=rev&rev=39758': 1, '10:37:04': 1, '39758': 1, 'gradebook/trunk/service/api/src/java/org/sakaiproject/service/gradebook/shared/GradebookService.java': 1, 'gradebook/trunk/service/impl/src/java/org/sakaiproject/component/gradebook/GradebookServiceHibernateImpl.java': 1, 'SAK-12175': 1, 'http://bugs.sakaiproject.org/jira/browse/SAK-12175': 1, 'Create': 1, 'methods': 1, 'required': 1, 'gb': 2, 'integration': 1, 'Assignment2': 1, 'getGradeDefinitionForStudentForItem': 1, '10:17:43': 2, '10:17:42': 3, 'm04FHgfs011536;': 1, '477E4E0F.CCA4B.926': 1, '10:17:38': 1, 'BD02DBAC64;': 1, '15:17:34': 1, '<200801041515.m04FFv42007050@nakamura.uits.iupui.edu>': 1, '25': 1, '15:17:11': 1, '5B396236B9': 1, '15:17:08': 1, 'm04FFv85007052': 1, '10:15:57': 3, 'm04FFv42007050': 1, 'r39757': 1, 'assignment/trunk:': 1, 'assignment-impl/impl/src/java/org/sakaiproject/assignment/impl': 1, 'assignment-tool/tool/src/webapp/vm/assignment': 1, 'http://source.sakaiproject.org/viewsvn/?view=rev&rev=39757': 1, '10:15:54': 1, '39757': 1, 'assignment/trunk/assignment-impl/impl/src/java/org/sakaiproject/assignment/impl/BaseAssignmentService.java': 1, 'assignment/trunk/assignment-tool/tool/src/webapp/vm/assignment/chef_assignments_instructor_list_submissions.vm': 1, \"SAK-12604:Don't\": 1, 'show': 1, 'groups/sections': 1, 'filter': 1, 'if': 2, 'have': 1, 'antranig@caret.cam.ac.uk': 4, '10:04:14': 4, 'm04F4Dci015108;': 1, '10:04:13': 1, '477E4AE3.D7AF.31669': 1, '10:04:05': 1, '933E3BAC17;': 1, '15:04:00': 1, '<200801041502.m04F21Jo007031@nakamura.uits.iupui.edu>': 1, '32': 1, 'AC2F6236B9': 1, '15:03:12': 1, 'm04F21hn007033': 1, '10:02:01': 3, 'm04F21Jo007031': 1, 'r39756': 1, 'component/branches/SAK-12166/component-api/component/src/java/org/sakaiproject/component:': 1, 'impl': 1, 'impl/spring/support': 1, 'impl/spring/support/dynamic': 1, 'impl/support': 1, 'util': 1, '0.6932': 1, 'http://source.sakaiproject.org/viewsvn/?view=rev&rev=39756': 1, '10:01:40': 1, '39756': 1, 'component/branches/SAK-12166/component-api/component/src/java/org/sakaiproject/component/impl/spring/support/dynamic/': 1, 'component/branches/SAK-12166/component-api/component/src/java/org/sakaiproject/component/impl/spring/support/dynamic/DynamicComponentManager.java': 1, 'component/branches/SAK-12166/component-api/component/src/java/org/sakaiproject/component/impl/support/': 1, 'component/branches/SAK-12166/component-api/component/src/java/org/sakaiproject/component/impl/support/DynamicComponentRecord.java': 1, 'component/branches/SAK-12166/component-api/component/src/java/org/sakaiproject/component/impl/support/DynamicJARManager.java': 1, 'component/branches/SAK-12166/component-api/component/src/java/org/sakaiproject/component/impl/support/JARRecord.java': 1, 'component/branches/SAK-12166/component-api/component/src/java/org/sakaiproject/component/util/ByteToCharBase64.java': 1, 'component/branches/SAK-12166/component-api/component/src/java/org/sakaiproject/component/util/FileUtil.java': 1, 'component/branches/SAK-12166/component-api/component/src/java/org/sakaiproject/component/util/RecordFileIO.java': 1, 'component/branches/SAK-12166/component-api/component/src/java/org/sakaiproject/component/util/RecordReader.java': 1, 'component/branches/SAK-12166/component-api/component/src/java/org/sakaiproject/component/util/RecordWriter.java': 1, 'component/branches/SAK-12166/component-api/component/src/java/org/sakaiproject/component/util/StreamDigestor.java': 1, 'component/branches/SAK-12166/component-api/component/src/java/org/sakaiproject/component/impl/spring/support/ComponentsLoaderImpl.java': 1, 'Temporary': 1, 'commit': 1, 'incomplete': 1, 'work': 1, 'on': 2, 'JAR': 1, 'caching': 1, 'gopal.ramasammycook@gmail.com': 4, '09:05:31': 4, 'guys.mr.itd.umich.edu': 4, '(guys.mr.itd.umich.edu': 2, '[141.211.14.76])': 2, 'm04E5U3C029277;': 1, '09:05:30': 1, '477E3D23.EE2E7.5237': 1, '09:05:26': 1, '33C7856DC0;': 1, '14:05:26': 1, '<200801041403.m04E3psW006926@nakamura.uits.iupui.edu>': 1, '575': 1, '14:05:04': 1, '3C0261D617': 1, '14:05:03': 1, 'm04E3pQS006928': 1, '09:03:52': 1, 'm04E3psW006926': 1, '09:03:51': 2, 'r39755': 1, 'sam/branches/SAK-12065:': 1, 'samigo-api/src/java/org/sakaiproject/tool/assessment/shared/api/grading': 1, 'samigo-app/src/java/org/sakaiproject/tool/assessment/ui/bean/evaluation': 1, 'samigo-app/src/java/org/sakaiproject/tool/assessment/ui/listener/evaluation': 1, 'samigo-services/src/java/org/sakaiproject/tool/assessment/facade': 1, 'samigo-services/src/java/org/sakaiproject/tool/assessment/integration/helper/ifc': 1, 'samigo-services/src/java/org/sakaiproject/tool/assessment/integration/helper/integrated': 1, 'samigo-services/src/java/org/sakaiproject/tool/assessment/integration/helper/standalone': 1, 'samigo-services/src/java/org/sakaiproject/tool/assessment/shared/impl/grading': 1, '0.7558': 1, 'http://source.sakaiproject.org/viewsvn/?view=rev&rev=39755': 1, '09:02:54': 1, '39755': 1, 'sam/branches/SAK-12065/samigo-api/src/java/org/sakaiproject/tool/assessment/shared/api/grading/GradingSectionAwareServiceAPI.java': 1, 'sam/branches/SAK-12065/samigo-app/src/java/org/sakaiproject/tool/assessment/ui/bean/evaluation/QuestionScoresBean.java': 1, 'sam/branches/SAK-12065/samigo-app/src/java/org/sakaiproject/tool/assessment/ui/bean/evaluation/SubmissionStatusBean.java': 1, 'sam/branches/SAK-12065/samigo-app/src/java/org/sakaiproject/tool/assessment/ui/bean/evaluation/TotalScoresBean.java': 1, 'sam/branches/SAK-12065/samigo-app/src/java/org/sakaiproject/tool/assessment/ui/listener/evaluation/SubmissionStatusListener.java': 1, 'sam/branches/SAK-12065/samigo-services/src/java/org/sakaiproject/tool/assessment/facade/PublishedAssessmentFacadeQueries.java': 1, 'sam/branches/SAK-12065/samigo-services/src/java/org/sakaiproject/tool/assessment/facade/PublishedAssessmentFacadeQueriesAPI.java': 1, 'sam/branches/SAK-12065/samigo-services/src/java/org/sakaiproject/tool/assessment/integration/helper/ifc/SectionAwareServiceHelper.java': 1, 'sam/branches/SAK-12065/samigo-services/src/java/org/sakaiproject/tool/assessment/integration/helper/integrated/SectionAwareServiceHelperImpl.java': 1, 'sam/branches/SAK-12065/samigo-services/src/java/org/sakaiproject/tool/assessment/integration/helper/standalone/SectionAwareServiceHelperImpl.java': 1, 'sam/branches/SAK-12065/samigo-services/src/java/org/sakaiproject/tool/assessment/shared/impl/grading/GradingSectionAwareServiceImpl.java': 1, 'SAK-12065': 1, 'Gopal': 1, 'Samigo': 1, 'Group': 1, 'Release.': 1, 'SubmissionStatus/TotalScores/Questions': 1, 'View': 1, 'filter.': 1, 'david.horwitz@uct.ac.za': 17, '07:02:32': 4, 'm04C2VN7026678;': 1, '07:02:31': 1, '477E2050.C2599.3263': 1, '07:02:27': 1, '6497FBA906;': 1, '12:02:11': 1, '<200801041200.m04C0gfK006793@nakamura.uits.iupui.edu>': 1, '611': 2, '12:01:53': 2, '5296342D3C': 1, 'm04C0gnm006795': 1, '07:00:42': 3, 'm04C0gfK006793': 1, 'r39754': 1, 'polls/branches/sakai_2-5-x:': 1, 'tool/src/java/org/sakaiproject/poll/tool': 2, 'tool/src/java/org/sakaiproject/poll/tool/evolvers': 2, 'tool/src/webapp/WEB-INF': 2, '0.6526': 1, 'http://source.sakaiproject.org/viewsvn/?view=rev&rev=39754': 1, '07:00:10': 1, '39754': 1, 'polls/branches/sakai_2-5-x/tool/src/java/org/sakaiproject/poll/tool/evolvers/': 1, 'polls/branches/sakai_2-5-x/tool/src/java/org/sakaiproject/poll/tool/evolvers/SakaiFCKTextEvolver.java': 2, 'Removed:': 2, 'polls/branches/sakai_2-5-x/.classpath': 1, 'polls/branches/sakai_2-5-x/tool/pom.xml': 1, 'polls/branches/sakai_2-5-x/tool/src/webapp/WEB-INF/requestContext.xml': 1, '-r39753': 1, 'https://source.sakaiproject.org/svn/polls/trunk': 2, 'r39753': 2, '13:05:51': 1, '+0200': 3, '1': 3, 'line': 3, 'SAK-12228': 2, 'implmented': 2, 'workaround': 2, 'sugested': 2, 'AB': 2, 'needs': 2, 'tested': 2, 'against': 2, 'trunk': 2, 'build': 2, 'dhorwitz@david-horwitz-6:~/branchManagemnt/sakai_2-5-x>': 4, '-c39753': 1, 'polls/': 1, 'polls/.classpath': 1, 'A': 2, 'polls/tool/src/java/org/sakaiproject/poll/tool/evolvers': 1, 'polls/tool/src/java/org/sakaiproject/poll/tool/evolvers/SakaiFCKTextEvolver.java': 1, 'C': 2, 'polls/tool/src/webapp/WEB-INF/requestContext.xml': 2, 'polls/tool/pom.xml': 1, 'resolved': 1, 'Resolved': 1, 'conflicted': 1, 'state': 1, \"'polls/tool/src/webapp/WEB-INF/requestContext.xml\": 1, '06:08:27': 4, '[141.211.14.98])': 1, 'casino.mail.umich.edu': 1, 'm04B8Qw9001368;': 1, '06:08:26': 1, '477E13A5.30FC0.24054': 1, '06:08:23': 1, '784A476D7B;': 1, '11:08:12': 1, '<200801041106.m04B6lK3006677@nakamura.uits.iupui.edu>': 1, '585': 1, '11:07:56': 1, '1CACC42D0C': 1, '11:07:58': 1, 'm04B6lWM006679': 1, '06:06:47': 3, 'm04B6lK3006677': 1, 'polls/trunk:': 1, '0.6948': 1, 'http://source.sakaiproject.org/viewsvn/?view=rev&rev=39753': 1, '06:05:51': 1, '39753': 1, 'polls/trunk/tool/src/java/org/sakaiproject/poll/tool/evolvers/': 1, 'polls/trunk/tool/src/java/org/sakaiproject/poll/tool/evolvers/SakaiFCKTextEvolver.java': 1, 'polls/trunk/.classpath': 1, 'polls/trunk/tool/pom.xml': 1, 'polls/trunk/tool/src/webapp/WEB-INF/requestContext.xml': 1, '04:49:08': 4, '[141.211.14.92])': 1, 'galaxyquest.mr.itd.umich.edu': 4, '(galaxyquest.mr.itd.umich.edu': 2, '[141.211.93.145])': 2, 'score.mail.umich.edu': 1, 'm049n60G017588;': 1, '04:49:06': 1, '477E010C.48C2.10259': 1, '04:49:03': 1, '254CC8CDEE;': 1, '09:48:55': 1, '<200801040947.m049lUxo006517@nakamura.uits.iupui.edu>': 1, '246': 1, '09:48:36': 1, '8C13342C92': 1, '09:48:40': 1, 'm049lU3P006519': 1, '04:47:30': 3, 'm049lUxo006517': 1, 'r39752': 1, 'podcasts/branches/sakai_2-5-x/podcasts-app/src/webapp:': 2, 'css': 2, 'podcasts': 2, '0.6528': 1, 'http://source.sakaiproject.org/viewsvn/?view=rev&rev=39752': 1, '04:47:16': 1, '39752': 1, 'podcasts/branches/sakai_2-5-x/podcasts-app/src/webapp/css/podcaster.css': 2, 'podcasts/branches/sakai_2-5-x/podcasts-app/src/webapp/podcasts/podMain.jsp': 2, '-r39641': 1, 'https://source.sakaiproject.org/svn/podcasts/trunk': 4, 'r39641': 1, 'josrodri@iupui.edu': 2, '2007-12-28': 1, '23:44:24': 1, '28': 1, 'SAK-9882:': 2, 'refactored': 2, 'podMain.jsp': 1, 'right': 1, 'way': 1, '(at': 1, 'least': 1, 'much': 1, 'closer': 1, 'to)': 1, '-c39641': 1, 'podcasts/': 2, 'podcasts/podcasts-app/src/webapp/podcasts/podMain.jsp': 2, 'podcasts/podcasts-app/src/webapp/css/podcaster.css': 2, 'merged': 1, 'manualy': 1, '04:33:44': 4, 'workinggirl.mr.itd.umich.edu': 2, '(workinggirl.mr.itd.umich.edu': 1, '[141.211.93.143])': 1, 'm049Xge3031803;': 1, '04:33:42': 1, '477DFD6C.75DBE.26054': 1, '04:33:35': 1, '6C929BA656;': 1, '09:33:27': 1, '<200801040932.m049W2i5006493@nakamura.uits.iupui.edu>': 1, '153': 1, '09:33:10': 1, '6C69423767': 1, '09:33:13': 1, 'm049W3fl006495': 1, '04:32:03': 1, 'm049W2i5006493': 1, '04:32:02': 2, 'r39751': 1, 'images': 1, 'http://source.sakaiproject.org/viewsvn/?view=rev&rev=39751': 1, '04:31:35': 1, '39751': 1, 'podcasts/branches/sakai_2-5-x/podcasts-app/src/webapp/images/rss-feed-icon.png': 1, 'podcasts/branches/sakai_2-5-x/podcasts-app/src/webapp/podcasts/podPermissions.jsp': 1, 'podcasts/branches/sakai_2-5-x/podcasts-app/src/webapp/podcasts/podDelete.jsp': 1, 'podcasts/branches/sakai_2-5-x/podcasts-app/src/webapp/podcasts/podNoResource.jsp': 1, 'podcasts/branches/sakai_2-5-x/podcasts-app/src/webapp/podcasts/podOptions.jsp': 1, '-r39146': 1, 'r39146': 1, '2007-12-12': 1, '21:40:33': 1, '(Wed,': 2, '12': 2, 'other': 1, 'pages': 1, 'as': 4, 'well': 2, 'take': 1, 'advantage': 1, 'proper': 1, 'jsp': 1, 'components': 1, 'validation': 1, 'cleanup.': 1, '-c39146': 1, 'D': 2, 'podcasts/podcasts-app/src/webapp/podcasts/podPermissions.jsp': 1, 'podcasts/podcasts-app/src/webapp/podcasts/podDelete.jsp': 1, 'podcasts/podcasts-app/src/webapp/podcasts/podNoResource.jsp': 1, 'podcasts/podcasts-app/src/webapp/podcasts/podOptions.jsp': 1, 'podcasts/podcasts-app/src/webapp/images/rss-feed-icon.png': 1, '04:07:34': 4, 'salemslot.mr.itd.umich.edu': 6, '(salemslot.mr.itd.umich.edu': 3, '[141.211.14.58])': 3, 'm0497WAN027902;': 1, '04:07:32': 1, '477DF74E.49493.30415': 1, '04:07:29': 1, '88598BA5B6;': 1, '09:07:19': 1, '<200801040905.m0495rWB006420@nakamura.uits.iupui.edu>': 1, '385': 1, '09:07:04': 2, '90636418A8': 1, 'm0495sZs006422': 1, '04:05:54': 1, 'm0495rWB006420': 1, '04:05:53': 2, 'r39750': 1, 'event/branches/SAK-6216/event-util/util/src/java/org/sakaiproject/util': 1, '0.7554': 1, 'http://source.sakaiproject.org/viewsvn/?view=rev&rev=39750': 1, '04:05:43': 1, '39750': 1, 'event/branches/SAK-6216/event-util/util/src/java/org/sakaiproject/util/EmailNotification.java': 1, 'SAK-6216': 1, 'event': 1, 'change': 1, 'SAK-11169': 1, '(r39033)': 1, 'synchronize': 1, 'branch': 1, '(for': 1, 'convenience': 1, 'UCT': 1, 'local': 1, 'build)': 1, 'Thu': 12, '19:51:21': 3, '[141.211.14.91])': 3, 'Thu,': 51, '03': 18, 'jacknife.mail.umich.edu': 3, 'm040pJHB027171;': 1, '19:51:19': 1, '477D8300.AC098.32562': 1, '19:51:15': 1, 'E6CC4B9F8A;': 1, '00:36:06': 1, '<200801040023.m040NpCc005473@nakamura.uits.iupui.edu>': 1, '754': 1, '00:35:43': 1, '8889842C49': 1, '00:25:00': 1, 'm040NpgM005475': 1, '19:23:51': 3, 'm040NpCc005473': 1, 'r39749': 1, '19:51:20': 1, '0.6956': 1, 'http://source.sakaiproject.org/viewsvn/?view=rev&rev=39749': 1, '2008-01-03': 6, '19:23:46': 1, '39749': 1, 'bspace/site-manage/sakai_2-4-x/site-manage-tool/tool/src/webapp/vm/sitesetup/chef_site-importSites.vm': 1, 'BSP-1420': 1, 'Update': 1, 'text': 2, 'clarify': 2, '\"Re-Use': 1, 'Materials...\"': 1, 'option': 2, 'WS': 1, 'Setup': 1, '17:18:23': 4, 'm03MIMXY027729;': 1, '17:18:22': 1, '477D5F23.797F6.16348': 1, '17:18:14': 1, 'EF439B98CE;': 1, '22:18:19': 1, '<200801032216.m03MGhDa005292@nakamura.uits.iupui.edu>': 1, '236': 1, '22:18:04': 1, '905D53C2FD': 1, '22:17:52': 1, 'm03MGhrs005294': 1, '17:16:43': 3, 'm03MGhDa005292': 1, 'r39746': 1, 'http://source.sakaiproject.org/viewsvn/?view=rev&rev=39746': 1, '17:16:39': 1, '39746': 1, 'bspace/site-manage/sakai_2-4-x/site-manage-tool/tool/src/webapp/vm/sitesetup/chef_site-siteInfo-duplicate.vm': 1, 'BSP-1421': 1, 'Add': 1, '\"Duplicate': 1, 'Site\"': 1, 'ray@media.berkeley.edu': 4, '17:07:00': 4, 'anniehall.mr.itd.umich.edu': 2, '(anniehall.mr.itd.umich.edu': 1, '[141.211.93.141])': 1, 'm03M6xaq014868;': 1, '17:06:59': 1, '477D5C7A.4FE1F.22211': 1, '17:06:53': 1, '0BC8D7225E;': 1, '22:06:57': 1, '<200801032205.m03M5Ea7005273@nakamura.uits.iupui.edu>': 1, '554': 1, '22:06:34': 1, '2AB513C2FD': 1, '22:06:23': 1, 'm03M5EQa005275': 1, '17:05:14': 3, 'm03M5Ea7005273': 1, 'r39745': 1, 'providers/trunk/cm/cm-authz-provider/src/java/org/sakaiproject/coursemanagement/impl/provider': 1, 'http://source.sakaiproject.org/viewsvn/?view=rev&rev=39745': 1, '17:05:11': 1, '39745': 1, 'providers/trunk/cm/cm-authz-provider/src/java/org/sakaiproject/coursemanagement/impl/provider/CourseManagementGroupProvider.java': 1, 'SAK-12602': 1, 'logic': 1, 'has': 1, 'multiple': 1, 'roles': 1, 'section': 1, '16:34:40': 4, '[141.211.14.34])': 1, 'chaos.mail.umich.edu': 1, 'm03LYdY1029538;': 1, '16:34:39': 1, '477D54EA.13F34.26602': 1, '16:34:36': 1, 'CC710ADC79;': 1, '21:34:29': 1, '<200801032133.m03LX3gG005191@nakamura.uits.iupui.edu>': 1, '21:34:08': 1, '43C4242B55': 1, '21:34:12': 1, 'm03LX3Vb005193': 1, '16:33:03': 3, 'm03LX3gG005191': 1, 'r39744': 1, 'oncourse/branches/oncourse_OPC_122007': 1, '0.9846': 1, 'http://source.sakaiproject.org/viewsvn/?view=rev&rev=39744': 1, '16:33:02': 1, '39744': 1, 'oncourse/branches/oncourse_OPC_122007/': 1, 'oncourse/branches/oncourse_OPC_122007/.externals': 1, 'update': 1, 'external': 1, 'GB.': 1, '16:29:07': 4, 'm03LT6uw027749;': 1, '16:29:06': 1, '477D5397.E161D.20326': 1, '16:28:58': 1, 'DEC65ADC79;': 1, '21:28:52': 1, '<200801032127.m03LRUqH005177@nakamura.uits.iupui.edu>': 1, '917': 1, '21:28:39': 1, '1FBB042B30': 1, '21:28:38': 1, 'm03LRUk4005179': 1, '16:27:30': 3, 'm03LRUqH005177': 1, 'r39743': 1, 'gradebook/branches/oncourse_2-4-2/app/ui/src/java/org/sakaiproject/tool/gradebook/ui': 2, '0.8509': 1, 'http://source.sakaiproject.org/viewsvn/?view=rev&rev=39743': 1, '16:27:29': 1, '39743': 1, 'gradebook/branches/oncourse_2-4-2/app/ui/src/java/org/sakaiproject/tool/gradebook/ui/RosterBean.java': 2, '-c': 2, '39403': 2, 'https://source.sakaiproject.org/svn/gradebook/trunk': 4, 'app/ui/src/java/org/sakaiproject/tool/gradebook/ui/RosterBean.java': 2, 'r39403': 1, '2007-12-17': 1, '17:11:08': 1, '(Mon,': 1, '17': 1, 'SAK-12504': 1, 'http://jira.sakaiproject.org/jira/browse/SAK-12504': 1, 'Viewing': 1, '\"All': 2, 'Grades\"': 2, 'page': 2, 'TA': 1, 'grader': 1, 'causes': 1, 'stack': 1, 'trace': 1, '16:23:48': 4, 'm03LNlf0002115;': 1, '16:23:47': 1, '477D525E.1448.30389': 1, '16:23:44': 1, '9D005B9D06;': 1, '21:23:38': 1, '<200801032122.m03LMFo4005148@nakamura.uits.iupui.edu>': 1, '6': 1, '21:23:24': 2, '3535542B69': 1, 'm03LMFtT005150': 1, '16:22:15': 3, 'm03LMFo4005148': 1, 'r39742': 1, '0.9907': 1, 'http://source.sakaiproject.org/viewsvn/?view=rev&rev=39742': 1, '16:22:14': 1, '39742': 1, '35014': 2, 'r35014': 1, '2007-09-12': 1, '16:17:59': 1, '-0400': 1, 'Sep': 1, 'SAK-11458': 1, 'http://bugs.sakaiproject.org/jira/browse/SAK-11458': 1, 'Course': 1, 'does': 1, 'appear': 1, 'no': 1, 'categories': 1}\n"
     ]
    }
   ],
   "source": [
    "file=open('E.txt')\n",
    "H=dict()\n",
    "for line in file:\n",
    "    words=line.split()\n",
    "    for word in words:\n",
    "        H[word]=H.get(word,0)+1\n",
    "print(H)"
   ]
  },
  {
   "cell_type": "code",
   "execution_count": 69,
   "id": "386a22ea",
   "metadata": {},
   "outputs": [
    {
     "name": "stdout",
     "output_type": "stream",
     "text": [
      "Jan 352\n"
     ]
    }
   ],
   "source": [
    "bw=None\n",
    "bc=None\n",
    "for word,count in H.items():\n",
    "    if bc is None or count>bc:\n",
    "        bw=word\n",
    "        bc=count\n",
    "print(bw,bc)\n"
   ]
  },
  {
   "cell_type": "code",
   "execution_count": 77,
   "id": "3736b7c9",
   "metadata": {},
   "outputs": [
    {
     "name": "stdout",
     "output_type": "stream",
     "text": [
      "{'r': 386, 'o': 605, 'm': 212, 'e': 860, 'a': 475, 'n': 376, 'd': 215, 'j': 38, 'u': 210, 'l': 328, 'i': 464, 't': 701, 'c': 104, '2': 2, ',': 152, 's': 378, '.': 59, 'p': 72, \"'\": 45, 'h': 449, 'v': 89, 'f': 124, 'w': 179, 'b': 105, '!': 27, 'g': 125, 'y': 142, 'k': 54, '?': 19, ':': 24, ';': 24, '-': 28, 'z': 3, '[': 3, ']': 3, 'q': 3, 'x': 6}\n"
     ]
    }
   ],
   "source": [
    "file=open('Q.txt')\n",
    "file=file.read()\n",
    "file=file.lower()\n",
    "Q=dict()\n",
    "for line in file:\n",
    "    words=line.split()\n",
    "    for word in words:\n",
    "        Q[word]=Q.get(word,0)+1\n",
    "print(Q)"
   ]
  },
  {
   "cell_type": "code",
   "execution_count": 79,
   "id": "251bfdbd",
   "metadata": {},
   "outputs": [
    {
     "name": "stdout",
     "output_type": "stream",
     "text": [
      "2 2\n"
     ]
    }
   ],
   "source": [
    "bw=None\n",
    "bc=None\n",
    "for word,count in Q.items():\n",
    "    if bc is None or count<bc:\n",
    "        bw=word\n",
    "        bc=count\n",
    "print(bw,bc)\n"
   ]
  },
  {
   "cell_type": "code",
   "execution_count": 82,
   "id": "9bd4e2d9",
   "metadata": {},
   "outputs": [
    {
     "name": "stdout",
     "output_type": "stream",
     "text": [
      "{'b': 1, 'a': 3, 'n': 2}\n"
     ]
    }
   ],
   "source": [
    "word = 'banana'\n",
    "d = dict()\n",
    "for c in word:\n",
    "    if c not in d:\n",
    "        d[c] = 1\n",
    "    else:\n",
    "        d[c] = d[c] + 1\n",
    "print(d)"
   ]
  },
  {
   "cell_type": "code",
   "execution_count": 90,
   "id": "aa0f6d55",
   "metadata": {},
   "outputs": [
    {
     "name": "stdout",
     "output_type": "stream",
     "text": [
      "{'H': 2, 'i': 1, ' ': 8, 'I': 1, 'a': 2, 'm': 1, 'e': 3, 'r': 1, 't': 4, 'o': 4, 'l': 2, 'y': 2, 'u': 2, 'b': 1, 'P': 1, 'h': 1, 'n': 1}\n"
     ]
    }
   ],
   "source": [
    "word='Hi I am Here to tell you about Python'\n",
    "d = dict()\n",
    "for c in word:\n",
    "    if c not in d:\n",
    "        d[c] = 1\n",
    "    else:\n",
    "        d[c] = d[c] + 1\n",
    "print(d)"
   ]
  },
  {
   "cell_type": "code",
   "execution_count": 1,
   "id": "34c8d4ea",
   "metadata": {},
   "outputs": [
    {
     "data": {
      "text/plain": [
       "13"
      ]
     },
     "execution_count": 1,
     "metadata": {},
     "output_type": "execute_result"
    }
   ],
   "source": [
    "6+7"
   ]
  },
  {
   "cell_type": "code",
   "execution_count": 5,
   "id": "bd39c707",
   "metadata": {},
   "outputs": [
    {
     "name": "stdout",
     "output_type": "stream",
     "text": [
      "Enter file name: Q.txt\n",
      "{'Romeo': 4, 'and': 22, 'Juliet': 2, 'Act': 1, '2,': 1, 'Scene': 1, '2': 1, 'SCENE': 1, 'II.': 1, \"Capulet's\": 1, 'orchard.': 1, 'Enter': 1, 'ROMEO': 27, 'He': 2, 'jests': 1, 'at': 7, 'scars': 1, 'that': 23, 'never': 2, 'felt': 1, 'a': 22, 'wound.': 1, 'JULIET': 28, 'appears': 1, 'above': 6, 'window': 2, 'But,': 1, 'soft!': 1, 'what': 6, 'light': 3, 'through': 2, 'yonder': 2, 'breaks?': 1, 'It': 4, 'is': 21, 'the': 30, 'east,': 1, 'sun.': 1, 'Arise,': 1, 'fair': 4, 'sun,': 1, 'kill': 2, 'envious': 1, 'moon,': 3, 'Who': 2, 'already': 1, 'sick': 2, 'pale': 1, 'with': 6, 'grief,': 1, 'That': 6, 'thou': 29, 'her': 12, 'maid': 1, 'art': 5, 'far': 2, 'more': 8, 'than': 3, 'she:': 1, 'Be': 1, 'not': 17, 'maid,': 1, 'since': 1, 'she': 6, 'envious;': 1, 'Her': 2, 'vestal': 1, 'livery': 1, 'but': 13, 'green': 1, 'And': 20, 'none': 1, 'fools': 1, 'do': 6, 'wear': 1, 'it;': 1, 'cast': 1, 'it': 12, 'off.': 1, 'my': 22, 'lady,': 1, 'O,': 8, 'love!': 1, 'knew': 1, 'were!': 1, 'She': 2, 'speaks': 1, 'yet': 7, 'says': 1, 'nothing:': 1, 'of': 18, 'that?': 1, 'eye': 2, 'discourses;': 1, 'I': 60, 'will': 8, 'answer': 1, 'it.': 2, 'am': 6, 'too': 6, 'bold,': 1, \"'tis\": 2, 'to': 31, 'me': 11, 'speaks:': 2, 'Two': 1, 'fairest': 1, 'stars': 1, 'in': 12, 'all': 5, 'heaven,': 1, 'Having': 1, 'some': 3, 'business,': 1, 'entreat': 1, 'eyes': 4, 'To': 3, 'twinkle': 1, 'their': 6, 'spheres': 1, 'till': 4, 'they': 5, 'return.': 1, 'What': 5, 'if': 7, 'were': 8, 'there,': 2, 'head?': 1, 'The': 4, 'brightness': 1, 'cheek': 3, 'would': 13, 'shame': 1, 'those': 2, 'stars,': 1, 'As': 4, 'daylight': 1, 'doth': 2, 'lamp;': 1, 'heaven': 2, 'Would': 2, 'airy': 2, 'region': 1, 'stream': 1, 'so': 5, 'bright': 2, 'birds': 1, 'sing': 1, 'think': 2, 'night.': 1, 'See,': 1, 'how': 3, 'leans': 1, 'upon': 5, 'hand!': 1, 'glove': 1, 'hand,': 3, 'might': 1, 'touch': 1, 'cheek!': 1, 'Ay': 1, 'me!': 1, 'speak': 4, 'again,': 2, 'angel!': 1, 'for': 10, 'glorious': 1, 'this': 6, 'night,': 5, 'being': 1, \"o'er\": 1, 'head': 1, 'winged': 1, 'messenger': 1, 'Unto': 1, 'white-upturned': 1, 'wondering': 1, 'Of': 2, 'mortals': 1, 'fall': 1, 'back': 3, 'gaze': 1, 'on': 4, 'him': 2, 'When': 1, 'he': 3, 'bestrides': 1, 'lazy-pacing': 1, 'clouds': 1, 'sails': 1, 'bosom': 1, 'air.': 1, 'O': 3, 'Romeo,': 5, 'Romeo!': 2, 'wherefore': 1, 'Romeo?': 1, 'Deny': 1, 'thy': 19, 'father': 1, 'refuse': 1, 'name;': 1, 'Or,': 2, 'wilt': 5, 'not,': 1, 'be': 13, 'sworn': 1, 'love,': 9, \"I'll\": 8, 'no': 6, 'longer': 1, 'Capulet.': 1, '[Aside]': 1, 'Shall': 2, 'hear': 2, 'more,': 1, 'or': 1, 'shall': 4, 'this?': 1, \"'Tis\": 2, 'name': 4, 'enemy;': 1, 'Thou': 3, 'thyself,': 1, 'though': 1, 'Montague.': 1, \"What's\": 2, 'Montague?': 2, 'nor': 4, 'foot,': 1, 'Nor': 1, 'arm,': 1, 'face,': 2, 'any': 4, 'other': 4, 'part': 2, 'Belonging': 1, 'man.': 1, 'name!': 1, 'name?': 1, 'which': 5, 'we': 2, 'call': 2, 'rose': 1, 'By': 6, 'smell': 1, 'as': 8, 'sweet;': 1, 'So': 5, 'would,': 1, \"call'd,\": 1, 'Retain': 1, 'dear': 6, 'perfection': 1, 'owes': 1, 'Without': 1, 'title.': 1, 'doff': 1, 'name,': 2, 'thee': 15, 'Take': 1, 'myself.': 1, 'take': 2, 'word:': 2, 'Call': 1, 'new': 1, 'baptized;': 1, 'Henceforth': 1, 'Romeo.': 1, 'man': 1, 'thus': 1, \"bescreen'd\": 1, 'night': 5, 'stumblest': 1, 'counsel?': 1, 'know': 3, 'tell': 2, 'who': 3, 'am:': 1, 'My': 7, 'saint,': 2, 'hateful': 1, 'myself,': 1, 'Because': 1, 'an': 2, 'enemy': 1, 'thee;': 1, 'Had': 1, 'written,': 1, 'tear': 2, 'word.': 1, 'ears': 1, 'have': 11, 'drunk': 1, 'hundred': 1, 'words': 1, \"tongue's\": 1, 'utterance,': 1, 'sound:': 1, 'Art': 1, 'Neither,': 1, 'either': 1, 'dislike.': 1, 'How': 2, 'camest': 1, 'hither,': 1, 'me,': 4, 'wherefore?': 1, 'orchard': 1, 'walls': 1, 'are': 3, 'high': 1, 'hard': 1, 'climb,': 1, 'place': 1, 'death,': 1, 'considering': 1, 'art,': 1, 'If': 5, 'kinsmen': 2, 'find': 2, 'here.': 2, 'With': 2, \"love's\": 3, 'wings': 1, 'did': 3, \"o'er-perch\": 1, 'these': 2, 'walls;': 1, 'For': 2, 'stony': 1, 'limits': 1, 'cannot': 1, 'hold': 1, 'love': 10, 'out,': 1, 'can': 2, 'dares': 1, 'attempt;': 1, 'Therefore': 1, 'let': 2, 'me.': 1, 'see': 1, 'thee,': 4, 'murder': 1, 'thee.': 2, 'Alack,': 1, 'there': 1, 'lies': 1, 'peril': 1, 'thine': 2, 'Than': 3, 'twenty': 2, 'swords:': 1, 'look': 1, 'sweet,': 1, 'proof': 1, 'against': 1, 'enmity.': 1, 'world': 1, 'saw': 1, \"night's\": 1, 'cloak': 1, 'hide': 1, 'from': 4, 'sight;': 1, 'them': 1, 'here:': 1, 'life': 1, 'better': 1, 'ended': 1, 'by': 6, 'hate,': 1, 'death': 1, 'prorogued,': 1, 'wanting': 1, 'love.': 1, 'whose': 1, 'direction': 1, \"found'st\": 1, 'out': 1, 'place?': 1, 'first': 1, 'prompt': 1, 'inquire;': 1, 'lent': 2, 'counsel': 1, 'eyes.': 1, 'pilot;': 1, 'yet,': 1, 'wert': 1, 'vast': 1, 'shore': 1, \"wash'd\": 1, 'farthest': 1, 'sea,': 2, 'adventure': 1, 'such': 2, 'merchandise.': 1, \"know'st\": 1, 'mask': 1, 'Else': 2, 'maiden': 1, 'blush': 1, 'bepaint': 1, 'hast': 1, 'heard': 1, 'to-night': 1, 'Fain': 1, 'dwell': 2, 'form,': 1, 'fain,': 1, 'fain': 1, 'deny': 1, 'spoke:': 1, 'farewell': 1, 'compliment!': 1, 'Dost': 1, 'me?': 1, 'say': 4, \"'Ay,'\": 1, \"swear'st,\": 1, 'mayst': 2, 'prove': 4, 'false;': 1, \"lovers'\": 2, 'perjuries': 1, 'Then': 1, 'say,': 1, 'Jove': 1, 'laughs.': 1, 'gentle': 1, 'dost': 1, 'pronounce': 1, 'faithfully:': 1, 'Or': 1, \"think'st\": 1, 'quickly': 1, 'won,': 1, 'frown': 1, 'perverse': 1, 'nay,': 1, 'woo;': 1, 'else,': 1, 'world.': 2, 'In': 1, 'truth,': 1, 'Montague,': 2, 'fond,': 1, 'therefore': 2, \"'havior\": 1, 'light:': 1, 'But': 4, 'trust': 1, 'gentleman,': 1, 'true': 2, 'cunning': 1, 'strange.': 1, 'should': 2, 'been': 1, 'strange,': 1, 'must': 1, 'confess,': 1, \"overheard'st,\": 1, 'ere': 1, 'was': 1, 'ware,': 1, 'passion:': 1, 'pardon': 1, 'impute': 1, 'yielding': 1, 'Which': 2, 'dark': 1, 'hath': 1, 'discovered.': 1, 'Lady,': 1, 'blessed': 2, 'moon': 1, 'swear': 5, 'tips': 1, 'silver': 1, 'fruit-tree': 1, 'tops--': 1, 'inconstant': 1, 'monthly': 1, 'changes': 1, 'circled': 1, 'orb,': 1, 'Lest': 1, 'likewise': 1, 'variable.': 1, 'by?': 1, 'Do': 1, 'all;': 1, 'wilt,': 1, 'gracious': 1, 'self,': 1, 'god': 1, 'idolatry,': 1, 'believe': 1, \"heart's\": 1, 'love--': 1, 'Well,': 1, 'swear:': 1, 'although': 1, 'joy': 2, 'contract': 1, 'to-night:': 1, 'rash,': 1, 'unadvised,': 1, 'sudden;': 1, 'Too': 2, 'like': 1, 'lightning,': 1, 'cease': 2, 'Ere': 1, 'one': 2, \"'It\": 1, \"lightens.'\": 1, 'Sweet,': 2, 'good': 7, 'night!': 5, 'This': 1, 'bud': 1, \"summer's\": 1, 'ripening': 1, 'breath,': 1, 'May': 1, 'beauteous': 1, 'flower': 1, 'when': 1, 'next': 1, 'meet.': 1, 'Good': 2, 'sweet': 3, 'repose': 1, 'rest': 1, 'Come': 1, 'heart': 1, 'within': 2, 'breast!': 2, 'leave': 2, 'unsatisfied?': 1, 'satisfaction': 1, 'canst': 1, 'to-night?': 1, 'exchange': 1, 'faithful': 1, 'vow': 1, 'mine.': 1, 'gave': 1, 'mine': 1, 'before': 1, 'didst': 1, 'request': 1, 'it:': 1, 'give': 3, 'again.': 3, 'Wouldst': 1, 'withdraw': 1, 'it?': 1, 'purpose,': 1, 'love?': 1, 'frank,': 1, 'wish': 1, 'thing': 1, 'have:': 1, 'bounty': 1, 'boundless': 1, 'deep;': 1, 'have,': 1, 'both': 1, 'infinite.': 1, 'Nurse': 3, 'calls': 2, 'noise': 1, 'within;': 1, 'adieu!': 1, 'Anon,': 1, 'nurse!': 1, 'Sweet': 1, 'true.': 1, 'Stay': 1, 'little,': 1, 'come': 2, 'Exit,': 2, 'blessed,': 1, 'afeard.': 1, 'Being': 1, 'dream,': 1, 'flattering-sweet': 1, 'substantial.': 1, 'Re-enter': 2, 'JULIET,': 2, 'Three': 1, 'words,': 1, 'indeed.': 1, 'bent': 1, 'honourable,': 1, 'Thy': 1, 'purpose': 1, 'marriage,': 1, 'send': 2, 'word': 1, 'to-morrow,': 1, 'procure': 1, 'Where': 1, 'time': 1, 'perform': 1, 'rite;': 1, 'fortunes': 1, 'foot': 1, 'lay': 1, 'follow': 1, 'lord': 1, 'throughout': 1, '[Within]': 2, 'Madam!': 2, 'come,': 1, 'anon.--But': 1, \"mean'st\": 1, 'well,': 1, 'beseech': 1, 'thee--': 1, 'by,': 1, 'come:--': 1, 'suit,': 1, 'grief:': 1, 'To-morrow': 1, 'send.': 1, 'thrive': 1, 'soul--': 1, 'A': 2, 'thousand': 2, 'times': 2, 'worse,': 1, 'want': 1, 'light.': 1, 'Love': 1, 'goes': 1, 'toward': 2, 'schoolboys': 1, 'books,': 1, 'school': 1, 'heavy': 1, 'looks.': 1, 'Retiring': 1, 'Hist!': 1, 'hist!': 1, \"falconer's\": 1, 'voice,': 1, 'lure': 1, 'tassel-gentle': 1, 'again!': 1, 'Bondage': 1, 'hoarse,': 1, 'may': 1, 'aloud;': 1, 'cave': 1, 'where': 1, 'Echo': 1, 'lies,': 1, 'make': 1, 'tongue': 1, 'hoarse': 1, 'mine,': 1, 'repetition': 1, \"Romeo's\": 1, 'name.': 1, 'soul': 1, 'name:': 1, 'silver-sweet': 1, 'sound': 1, 'tongues': 1, 'Like': 2, 'softest': 1, 'music': 1, 'attending': 1, 'ears!': 1, 'dear?': 1, 'At': 2, \"o'clock\": 1, 'to-morrow': 1, 'thee?': 1, 'hour': 1, 'nine.': 1, 'fail:': 1, 'years': 1, 'then.': 1, 'forgot': 1, 'why': 1, 'back.': 1, 'Let': 1, 'stand': 2, 'here': 1, 'remember': 1, 'forget,': 2, 'still': 3, 'Remembering': 1, 'company.': 1, 'stay,': 1, 'Forgetting': 1, 'home': 1, 'this.': 1, 'almost': 1, 'morning;': 1, 'gone:': 1, 'further': 1, \"wanton's\": 1, 'bird;': 1, 'lets': 1, 'hop': 1, 'little': 1, 'poor': 1, 'prisoner': 1, 'his': 2, 'twisted': 1, 'gyves,': 1, 'silk': 1, 'thread': 1, 'plucks': 1, 'loving-jealous': 1, 'liberty.': 1, 'bird.': 1, 'I:': 1, 'Yet': 1, 'much': 1, 'cherishing.': 1, 'parting': 1, 'sorrow,': 1, 'morrow.': 1, 'Exit': 2, 'Sleep': 1, 'eyes,': 1, 'peace': 1, 'sleep': 1, 'peace,': 1, 'rest!': 1, 'Hence': 1, 'ghostly': 1, \"father's\": 1, 'cell,': 1, 'His': 1, 'help': 1, 'crave,': 1, 'hap': 1, 'tell.': 1}\n"
     ]
    }
   ],
   "source": [
    "file=input('Enter file name: ')\n",
    "file=file.lower()\n",
    "try:\n",
    "    file=open(file)\n",
    "except:\n",
    "    print('File cannot open', file)\n",
    "d=dict()\n",
    "\n",
    "for line in file:\n",
    "    words=line.split()\n",
    "    for word in words:\n",
    "        if word not in d:\n",
    "            d[word]=1\n",
    "        else:\n",
    "            d[word]=d[word]+1\n",
    "print(d)"
   ]
  },
  {
   "cell_type": "code",
   "execution_count": 10,
   "id": "f08bfb03",
   "metadata": {},
   "outputs": [
    {
     "name": "stdout",
     "output_type": "stream",
     "text": [
      "Enter file name: Q.txt\n"
     ]
    }
   ],
   "source": [
    "file=input('Enter file name: ')\n",
    "try:\n",
    "    file=open(file)\n",
    "except:\n",
    "    print('File not found')"
   ]
  },
  {
   "cell_type": "markdown",
   "id": "1d111f44",
   "metadata": {},
   "source": [
    "### Looping and dictionaries\n",
    "If you use a dictionary as the sequence in a for statement, it traverses the keys of\n",
    "the dictionary. This loop prints each key and the corresponding value:"
   ]
  },
  {
   "cell_type": "code",
   "execution_count": 11,
   "id": "c7f7c5f1",
   "metadata": {},
   "outputs": [
    {
     "name": "stdout",
     "output_type": "stream",
     "text": [
      "Abu baker 1\n",
      "Umer 2\n",
      "Usman 3\n",
      "Ali 4\n"
     ]
    }
   ],
   "source": [
    "Name={'Abu baker': 1, 'Umer': 2, 'Usman': 3, 'Ali': 4}\n",
    "for key in Name:\n",
    "    print(key, Name[key])"
   ]
  },
  {
   "cell_type": "code",
   "execution_count": 2,
   "id": "72a270bd",
   "metadata": {},
   "outputs": [
    {
     "name": "stdout",
     "output_type": "stream",
     "text": [
      "1 Abu baker\n",
      "2 Umer\n",
      "3 Usman\n",
      "4 Ali\n"
     ]
    }
   ],
   "source": [
    "Name={'Abu baker': 1, 'Umer': 2, 'Usman': 3, 'Ali': 4}\n",
    "for key in Name:\n",
    "    print(Name[key], key)"
   ]
  },
  {
   "cell_type": "markdown",
   "id": "5ddaa1fe",
   "metadata": {},
   "source": [
    "### Advanced text parsing"
   ]
  },
  {
   "cell_type": "code",
   "execution_count": 1,
   "id": "aa8fca6f",
   "metadata": {
    "scrolled": false
   },
   "outputs": [
    {
     "name": "stdout",
     "output_type": "stream",
     "text": [
      "{'lorem': 1649, 'ipsum': 1949, 'dolor': 1739, 'sit': 6173, 'amet': 6224, 'consectetur': 1803, 'adipiscing': 2632, 'elit': 2133, 'sed': 7650, 'do': 5, 'eiusmod': 5, 'tempor': 1288, 'incididunt': 5, 'ut': 5258, 'labore': 5, 'et': 4702, 'dolore': 5, 'magna': 1637, 'aliqua': 5, 'velit': 2227, 'scelerisque': 2423, 'in': 6512, 'dictum': 1371, 'non': 3374, 'a': 2788, 'erat': 1029, 'justo': 1067, 'donec': 1922, 'enim': 4075, 'diam': 3615, 'vulputate': 1875, 'id': 5247, 'aliquet': 2472, 'lectus': 2568, 'proin': 1525, 'nibh': 2757, 'nisl': 2494, 'condimentum': 1113, 'venenatis': 1385, 'eget': 5068, 'gravida': 2152, 'cum': 281, 'sociis': 282, 'natoque': 288, 'penatibus': 294, 'magnis': 295, 'dis': 281, 'habitant': 835, 'morbi': 3077, 'tristique': 2223, 'senectus': 841, 'netus': 886, 'interdum': 1403, 'libero': 1336, 'faucibus': 2980, 'tincidunt': 3102, 'nullam': 1093, 'aliquam': 3181, 'purus': 2696, 'luctus': 512, 'fringilla': 1087, 'augue': 1679, 'neque': 2801, 'sodales': 842, 'etiam': 1332, 'quam': 2425, 'viverra': 3555, 'orci': 2196, 'sagittis': 1965, 'eu': 3843, 'volutpat': 2619, 'odio': 2475, 'facilisis': 1626, 'mauris': 3223, 'ornare': 1996, 'suspendisse': 1630, 'nisi': 1605, 'lacus': 2071, 'iaculis': 1078, 'at': 4413, 'pellentesque': 3706, 'commodo': 1841, 'imperdiet': 1372, 'dui': 1971, 'nulla': 3257, 'porttitor': 1333, 'massa': 3284, 'vestibulum': 1689, 'dignissim': 1650, 'quis': 3532, 'lobortis': 1113, 'fermentum': 1645, 'turpis': 2693, 'egestas': 3780, 'integer': 1558, 'ultrices': 2580, 'vitae': 4565, 'auctor': 1335, 'duis': 1631, 'tortor': 2777, 'convallis': 1468, 'aenean': 1407, 'potenti': 286, 'ac': 3510, 'elementum': 2486, 'tellus': 3282, 'molestie': 1098, 'nunc': 4648, 'blandit': 1592, 'ultricies': 1632, 'varius': 1429, 'vel': 2739, 'pharetra': 2220, 'nascetur': 277, 'ridiculus': 273, 'mus': 259, 'leo': 1826, 'urna': 2706, 'cursus': 2395, 'metus': 776, 'hac': 522, 'habitasse': 513, 'platea': 522, 'feugiat': 2170, 'mattis': 2272, 'ullamcorper': 2002, 'suscipit': 547, 'bibendum': 1711, 'est': 2153, 'pretium': 1886, 'fusce': 544, 'risus': 3068, 'maecenas': 1336, 'accumsan': 1094, 'mi': 2242, 'congue': 1063, 'quisque': 1105, 'consequat': 1648, 'phasellus': 821, 'parturient': 278, 'montes': 278, 'dictumst': 520, 'arcu': 3392, 'ante': 539, 'laoreet': 1138, 'sapien': 1352, 'malesuada': 1926, 'cras': 1985, 'vivamus': 535, 'tempus': 1354, 'placerat': 1081, 'fames': 826, 'praesent': 807, 'facilisi': 1083, 'euismod': 1407, 'lacinia': 551, 'felis': 1305, 'rhoncus': 1344, 'vehicula': 249, 'posuere': 1368, 'nec': 2083, 'semper': 1627, 'sollicitudin': 1084, 'rutrum': 543, 'pulvinar': 1924, 'sem': 1378, 'nam': 790, 'ligula': 263, 'porta': 846, 'hendrerit': 652, 'eleifend': 825, 'mollis': 541, 'eros': 569, 'curabitur': 564, 'dapibus': 272}\n"
     ]
    }
   ],
   "source": [
    "import string\n",
    "fhand=open('F.txt')\n",
    "counts = dict()\n",
    "for line in fhand:\n",
    "    line = line.rstrip()\n",
    "    line = line.translate(line.maketrans('', '', string.punctuation))\n",
    "    line = line.lower()\n",
    "    words = line.split()\n",
    "    for word in words:\n",
    "        if word not in counts:\n",
    "            counts[word] = 1\n",
    "        else:\n",
    "            counts[word] += 1\n",
    "\n",
    "print(counts)"
   ]
  },
  {
   "cell_type": "code",
   "execution_count": 3,
   "id": "7c07d0d6",
   "metadata": {
    "scrolled": true
   },
   "outputs": [
    {
     "data": {
      "text/plain": [
       "[0, 1, 2, 3, 4]"
      ]
     },
     "execution_count": 3,
     "metadata": {},
     "output_type": "execute_result"
    }
   ],
   "source": [
    "x = list(range(5))\n",
    "x"
   ]
  },
  {
   "cell_type": "code",
   "execution_count": 4,
   "id": "c6c8e7fa",
   "metadata": {},
   "outputs": [
    {
     "name": "stdout",
     "output_type": "stream",
     "text": [
      "6\n"
     ]
    }
   ],
   "source": [
    "a = [1, 2, 3]\n",
    "b = [4, 5, 6]\n",
    "c = a + b\n",
    "print(len(c))"
   ]
  },
  {
   "cell_type": "code",
   "execution_count": 5,
   "id": "56dc83e9",
   "metadata": {},
   "outputs": [
    {
     "data": {
      "text/plain": [
       "[12, 3]"
      ]
     },
     "execution_count": 5,
     "metadata": {},
     "output_type": "execute_result"
    }
   ],
   "source": [
    "t = [9, 41, 12, 3, 74, 15]\n",
    "t[2:4]"
   ]
  },
  {
   "cell_type": "code",
   "execution_count": 6,
   "id": "b537f955",
   "metadata": {},
   "outputs": [
    {
     "name": "stdout",
     "output_type": "stream",
     "text": [
      "Glenn\n"
     ]
    }
   ],
   "source": [
    "friends = [ 'Joseph', 'Glenn', 'Sally' ]\n",
    "friends.sort()\n",
    "print(friends[0])"
   ]
  },
  {
   "cell_type": "code",
   "execution_count": 13,
   "id": "24fdfcc2",
   "metadata": {},
   "outputs": [
    {
     "name": "stdout",
     "output_type": "stream",
     "text": [
      "-1\n"
     ]
    }
   ],
   "source": [
    "stuff = dict()\n",
    "print(stuff.get('candy',-1))"
   ]
  },
  {
   "cell_type": "markdown",
   "id": "f55cdcb6",
   "metadata": {},
   "source": [
    "### Quiz Chapter 9\n",
    "\n",
    "1. How are Python dictionaries different from Python lists?\n",
    "\n",
    "Python lists are indexed using integers and dictionaries can use strings as indexes\n",
    "\n",
    "2. What is a term commonly used to describe the Python dictionary feature in other programming languages?\n",
    "\n",
    "Associative arrays\n",
    "\n",
    "3. What would the following Python code print out? stuff = dict(); print stuff['candy']\n",
    "\n",
    "The program would fail with a traceback\n",
    "\n",
    "4. What would the following Python code print out? stuff = dict(); print stuff.get('candy',-1)\n",
    "\n",
    "-1\n",
    "\n",
    "5. (T/F) When you add items to a dictionary they remain in the order in which you added them.\n",
    "\n",
    "False\n",
    "\n",
    "6. What is a common use of Python dictionaries in a program?\n",
    "\n",
    "Building a histogram counting the occurrences of various strings in a file\n",
    "\n",
    "7. Which of the following lines of Python is equivalent to the following sequence of statements assuming that counts is a dictionary? if key in counts: counts[key] = counts[key] + 1 else: counts[key] = 1\n",
    "\n",
    "counts[key] = counts.get(key,0) + 1\n",
    "\n",
    "8. In the following Python, what does the for loop iterate through? x = dict() ... for y in x : ...\n",
    "\n",
    "It loops through the keys in the dictionary\n",
    "\n",
    "9. Which method in a dictionary object gives you a list of the values in the dictionary?\n",
    "\n",
    "values()\n",
    "\n",
    "10. What is the purpose of the second parameter of the get() method for Python dictionaries?\n",
    "\n",
    "To provide a default value if the key is not found"
   ]
  },
  {
   "cell_type": "markdown",
   "id": "c10c50ee",
   "metadata": {},
   "source": [
    "### Assigment 9.4 \n",
    "\n",
    "Write a program to read through the mbox-short.txt and figure out who has sent the greatest number of mail messages. The program looks for 'From ' lines and takes the second word of those lines as the person who sent the mail. The program creates a Python dictionary that maps the sender's mail address to a count of the number of times they appear in the file. After the dictionary is produced, the program reads through the dictionary using a maximum loop to find the most prolific committer."
   ]
  },
  {
   "cell_type": "code",
   "execution_count": 14,
   "id": "b7d0f86e",
   "metadata": {},
   "outputs": [
    {
     "name": "stdout",
     "output_type": "stream",
     "text": [
      "Enter file:mbox-short.txt\n",
      "cwen@iupui.edu 5\n"
     ]
    }
   ],
   "source": [
    "name = input(\"Enter file:\")\n",
    "if len(name) < 1 : name = \"mbox-short.txt\"\n",
    "text = open(name)\n",
    "\n",
    "maxauthor = dict()\n",
    "\n",
    "for line in text:\n",
    "    line.rstrip()\n",
    "    if not line.startswith(\"From \"): continue\n",
    "    words = line.split()\n",
    "    maxauthor[words[1]] = maxauthor.get(words[1],0)+1\n",
    "\n",
    "largest = None\n",
    "largest_author = None\n",
    "\n",
    "for key in maxauthor:\n",
    "    if largest is None: largest = maxauthor[key]\n",
    "\n",
    "    if largest < maxauthor[key]:\n",
    "        largest = maxauthor[key]\n",
    "        largest_author = key\n",
    "\n",
    "print(largest_author, largest)"
   ]
  },
  {
   "cell_type": "code",
   "execution_count": 1,
   "id": "961847ca",
   "metadata": {},
   "outputs": [
    {
     "data": {
      "text/plain": [
       "[1, 2, 3, 4]"
      ]
     },
     "execution_count": 1,
     "metadata": {},
     "output_type": "execute_result"
    }
   ],
   "source": [
    "a=[1,2]\n",
    "b=[3,4]\n",
    "a+b"
   ]
  },
  {
   "cell_type": "code",
   "execution_count": 5,
   "id": "5139da64",
   "metadata": {},
   "outputs": [
    {
     "data": {
      "text/plain": [
       "array([3, 6])"
      ]
     },
     "execution_count": 5,
     "metadata": {},
     "output_type": "execute_result"
    }
   ],
   "source": [
    "3*a"
   ]
  },
  {
   "cell_type": "code",
   "execution_count": 2,
   "id": "ea404b00",
   "metadata": {},
   "outputs": [],
   "source": [
    "import numpy as np\n",
    "a=np.array([1,2])\n",
    "b=np.array([3,4])"
   ]
  },
  {
   "cell_type": "code",
   "execution_count": 4,
   "id": "6cdbd25b",
   "metadata": {},
   "outputs": [
    {
     "name": "stdout",
     "output_type": "stream",
     "text": [
      "[4 6]\n"
     ]
    }
   ],
   "source": [
    "print(a+b)"
   ]
  },
  {
   "cell_type": "code",
   "execution_count": 6,
   "id": "d6e8eeec",
   "metadata": {},
   "outputs": [
    {
     "data": {
      "text/plain": [
       "array([3, 6])"
      ]
     },
     "execution_count": 6,
     "metadata": {},
     "output_type": "execute_result"
    }
   ],
   "source": [
    "3*a"
   ]
  },
  {
   "cell_type": "code",
   "execution_count": 9,
   "id": "8a0ae748",
   "metadata": {},
   "outputs": [],
   "source": [
    "z=np.array([[1,2],[4,5]])"
   ]
  },
  {
   "cell_type": "code",
   "execution_count": 10,
   "id": "0e19e91f",
   "metadata": {},
   "outputs": [
    {
     "name": "stdout",
     "output_type": "stream",
     "text": [
      "[[1 2]\n",
      " [4 5]]\n"
     ]
    }
   ],
   "source": [
    "print(z)"
   ]
  },
  {
   "cell_type": "code",
   "execution_count": 24,
   "id": "4b794be4",
   "metadata": {
    "scrolled": true
   },
   "outputs": [
    {
     "name": "stdout",
     "output_type": "stream",
     "text": [
      "{'Romeo': 4, 'and': 22, 'Juliet': 2, 'Act': 1, '2,': 1, 'Scene': 1, '2': 1, 'SCENE': 1, 'II.': 1, \"Capulet's\": 1, 'orchard.': 1, 'Enter': 1, 'ROMEO': 27, 'He': 2, 'jests': 1, 'at': 7, 'scars': 1, 'that': 23, 'never': 2, 'felt': 1, 'a': 22, 'wound.': 1, 'JULIET': 28, 'appears': 1, 'above': 6, 'window': 2, 'But,': 1, 'soft!': 1, 'what': 6, 'light': 3, 'through': 2, 'yonder': 2, 'breaks?': 1, 'It': 4, 'is': 21, 'the': 30, 'east,': 1, 'sun.': 1, 'Arise,': 1, 'fair': 4, 'sun,': 1, 'kill': 2, 'envious': 1, 'moon,': 3, 'Who': 2, 'already': 1, 'sick': 2, 'pale': 1, 'with': 6, 'grief,': 1, 'That': 6, 'thou': 29, 'her': 12, 'maid': 1, 'art': 5, 'far': 2, 'more': 8, 'than': 3, 'she:': 1, 'Be': 1, 'not': 17, 'maid,': 1, 'since': 1, 'she': 6, 'envious;': 1, 'Her': 2, 'vestal': 1, 'livery': 1, 'but': 13, 'green': 1, 'And': 20, 'none': 1, 'fools': 1, 'do': 6, 'wear': 1, 'it;': 1, 'cast': 1, 'it': 12, 'off.': 1, 'my': 22, 'lady,': 1, 'O,': 8, 'love!': 1, 'knew': 1, 'were!': 1, 'She': 2, 'speaks': 1, 'yet': 7, 'says': 1, 'nothing:': 1, 'of': 18, 'that?': 1, 'eye': 2, 'discourses;': 1, 'I': 60, 'will': 8, 'answer': 1, 'it.': 2, 'am': 6, 'too': 6, 'bold,': 1, \"'tis\": 2, 'to': 31, 'me': 11, 'speaks:': 2, 'Two': 1, 'fairest': 1, 'stars': 1, 'in': 12, 'all': 5, 'heaven,': 1, 'Having': 1, 'some': 3, 'business,': 1, 'entreat': 1, 'eyes': 4, 'To': 3, 'twinkle': 1, 'their': 6, 'spheres': 1, 'till': 4, 'they': 5, 'return.': 1, 'What': 5, 'if': 7, 'were': 8, 'there,': 2, 'head?': 1, 'The': 4, 'brightness': 1, 'cheek': 3, 'would': 13, 'shame': 1, 'those': 2, 'stars,': 1, 'As': 4, 'daylight': 1, 'doth': 2, 'lamp;': 1, 'heaven': 2, 'Would': 2, 'airy': 2, 'region': 1, 'stream': 1, 'so': 5, 'bright': 2, 'birds': 1, 'sing': 1, 'think': 2, 'night.': 1, 'See,': 1, 'how': 3, 'leans': 1, 'upon': 5, 'hand!': 1, 'glove': 1, 'hand,': 3, 'might': 1, 'touch': 1, 'cheek!': 1, 'Ay': 1, 'me!': 1, 'speak': 4, 'again,': 2, 'angel!': 1, 'for': 10, 'glorious': 1, 'this': 6, 'night,': 5, 'being': 1, \"o'er\": 1, 'head': 1, 'winged': 1, 'messenger': 1, 'Unto': 1, 'white-upturned': 1, 'wondering': 1, 'Of': 2, 'mortals': 1, 'fall': 1, 'back': 3, 'gaze': 1, 'on': 4, 'him': 2, 'When': 1, 'he': 3, 'bestrides': 1, 'lazy-pacing': 1, 'clouds': 1, 'sails': 1, 'bosom': 1, 'air.': 1, 'O': 3, 'Romeo,': 5, 'Romeo!': 2, 'wherefore': 1, 'Romeo?': 1, 'Deny': 1, 'thy': 19, 'father': 1, 'refuse': 1, 'name;': 1, 'Or,': 2, 'wilt': 5, 'not,': 1, 'be': 13, 'sworn': 1, 'love,': 9, \"I'll\": 8, 'no': 6, 'longer': 1, 'Capulet.': 1, '[Aside]': 1, 'Shall': 2, 'hear': 2, 'more,': 1, 'or': 1, 'shall': 4, 'this?': 1, \"'Tis\": 2, 'name': 4, 'enemy;': 1, 'Thou': 3, 'thyself,': 1, 'though': 1, 'Montague.': 1, \"What's\": 2, 'Montague?': 2, 'nor': 4, 'foot,': 1, 'Nor': 1, 'arm,': 1, 'face,': 2, 'any': 4, 'other': 4, 'part': 2, 'Belonging': 1, 'man.': 1, 'name!': 1, 'name?': 1, 'which': 5, 'we': 2, 'call': 2, 'rose': 1, 'By': 6, 'smell': 1, 'as': 8, 'sweet;': 1, 'So': 5, 'would,': 1, \"call'd,\": 1, 'Retain': 1, 'dear': 6, 'perfection': 1, 'owes': 1, 'Without': 1, 'title.': 1, 'doff': 1, 'name,': 2, 'thee': 15, 'Take': 1, 'myself.': 1, 'take': 2, 'word:': 2, 'Call': 1, 'new': 1, 'baptized;': 1, 'Henceforth': 1, 'Romeo.': 1, 'man': 1, 'thus': 1, \"bescreen'd\": 1, 'night': 5, 'stumblest': 1, 'counsel?': 1, 'know': 3, 'tell': 2, 'who': 3, 'am:': 1, 'My': 7, 'saint,': 2, 'hateful': 1, 'myself,': 1, 'Because': 1, 'an': 2, 'enemy': 1, 'thee;': 1, 'Had': 1, 'written,': 1, 'tear': 2, 'word.': 1, 'ears': 1, 'have': 11, 'drunk': 1, 'hundred': 1, 'words': 1, \"tongue's\": 1, 'utterance,': 1, 'sound:': 1, 'Art': 1, 'Neither,': 1, 'either': 1, 'dislike.': 1, 'How': 2, 'camest': 1, 'hither,': 1, 'me,': 4, 'wherefore?': 1, 'orchard': 1, 'walls': 1, 'are': 3, 'high': 1, 'hard': 1, 'climb,': 1, 'place': 1, 'death,': 1, 'considering': 1, 'art,': 1, 'If': 5, 'kinsmen': 2, 'find': 2, 'here.': 2, 'With': 2, \"love's\": 3, 'wings': 1, 'did': 3, \"o'er-perch\": 1, 'these': 2, 'walls;': 1, 'For': 2, 'stony': 1, 'limits': 1, 'cannot': 1, 'hold': 1, 'love': 10, 'out,': 1, 'can': 2, 'dares': 1, 'attempt;': 1, 'Therefore': 1, 'let': 2, 'me.': 1, 'see': 1, 'thee,': 4, 'murder': 1, 'thee.': 2, 'Alack,': 1, 'there': 1, 'lies': 1, 'peril': 1, 'thine': 2, 'Than': 3, 'twenty': 2, 'swords:': 1, 'look': 1, 'sweet,': 1, 'proof': 1, 'against': 1, 'enmity.': 1, 'world': 1, 'saw': 1, \"night's\": 1, 'cloak': 1, 'hide': 1, 'from': 4, 'sight;': 1, 'them': 1, 'here:': 1, 'life': 1, 'better': 1, 'ended': 1, 'by': 6, 'hate,': 1, 'death': 1, 'prorogued,': 1, 'wanting': 1, 'love.': 1, 'whose': 1, 'direction': 1, \"found'st\": 1, 'out': 1, 'place?': 1, 'first': 1, 'prompt': 1, 'inquire;': 1, 'lent': 2, 'counsel': 1, 'eyes.': 1, 'pilot;': 1, 'yet,': 1, 'wert': 1, 'vast': 1, 'shore': 1, \"wash'd\": 1, 'farthest': 1, 'sea,': 2, 'adventure': 1, 'such': 2, 'merchandise.': 1, \"know'st\": 1, 'mask': 1, 'Else': 2, 'maiden': 1, 'blush': 1, 'bepaint': 1, 'hast': 1, 'heard': 1, 'to-night': 1, 'Fain': 1, 'dwell': 2, 'form,': 1, 'fain,': 1, 'fain': 1, 'deny': 1, 'spoke:': 1, 'farewell': 1, 'compliment!': 1, 'Dost': 1, 'me?': 1, 'say': 4, \"'Ay,'\": 1, \"swear'st,\": 1, 'mayst': 2, 'prove': 4, 'false;': 1, \"lovers'\": 2, 'perjuries': 1, 'Then': 1, 'say,': 1, 'Jove': 1, 'laughs.': 1, 'gentle': 1, 'dost': 1, 'pronounce': 1, 'faithfully:': 1, 'Or': 1, \"think'st\": 1, 'quickly': 1, 'won,': 1, 'frown': 1, 'perverse': 1, 'nay,': 1, 'woo;': 1, 'else,': 1, 'world.': 2, 'In': 1, 'truth,': 1, 'Montague,': 2, 'fond,': 1, 'therefore': 2, \"'havior\": 1, 'light:': 1, 'But': 4, 'trust': 1, 'gentleman,': 1, 'true': 2, 'cunning': 1, 'strange.': 1, 'should': 2, 'been': 1, 'strange,': 1, 'must': 1, 'confess,': 1, \"overheard'st,\": 1, 'ere': 1, 'was': 1, 'ware,': 1, 'passion:': 1, 'pardon': 1, 'impute': 1, 'yielding': 1, 'Which': 2, 'dark': 1, 'hath': 1, 'discovered.': 1, 'Lady,': 1, 'blessed': 2, 'moon': 1, 'swear': 5, 'tips': 1, 'silver': 1, 'fruit-tree': 1, 'tops--': 1, 'inconstant': 1, 'monthly': 1, 'changes': 1, 'circled': 1, 'orb,': 1, 'Lest': 1, 'likewise': 1, 'variable.': 1, 'by?': 1, 'Do': 1, 'all;': 1, 'wilt,': 1, 'gracious': 1, 'self,': 1, 'god': 1, 'idolatry,': 1, 'believe': 1, \"heart's\": 1, 'love--': 1, 'Well,': 1, 'swear:': 1, 'although': 1, 'joy': 2, 'contract': 1, 'to-night:': 1, 'rash,': 1, 'unadvised,': 1, 'sudden;': 1, 'Too': 2, 'like': 1, 'lightning,': 1, 'cease': 2, 'Ere': 1, 'one': 2, \"'It\": 1, \"lightens.'\": 1, 'Sweet,': 2, 'good': 7, 'night!': 5, 'This': 1, 'bud': 1, \"summer's\": 1, 'ripening': 1, 'breath,': 1, 'May': 1, 'beauteous': 1, 'flower': 1, 'when': 1, 'next': 1, 'meet.': 1, 'Good': 2, 'sweet': 3, 'repose': 1, 'rest': 1, 'Come': 1, 'heart': 1, 'within': 2, 'breast!': 2, 'leave': 2, 'unsatisfied?': 1, 'satisfaction': 1, 'canst': 1, 'to-night?': 1, 'exchange': 1, 'faithful': 1, 'vow': 1, 'mine.': 1, 'gave': 1, 'mine': 1, 'before': 1, 'didst': 1, 'request': 1, 'it:': 1, 'give': 3, 'again.': 3, 'Wouldst': 1, 'withdraw': 1, 'it?': 1, 'purpose,': 1, 'love?': 1, 'frank,': 1, 'wish': 1, 'thing': 1, 'have:': 1, 'bounty': 1, 'boundless': 1, 'deep;': 1, 'have,': 1, 'both': 1, 'infinite.': 1, 'Nurse': 3, 'calls': 2, 'noise': 1, 'within;': 1, 'adieu!': 1, 'Anon,': 1, 'nurse!': 1, 'Sweet': 1, 'true.': 1, 'Stay': 1, 'little,': 1, 'come': 2, 'Exit,': 2, 'blessed,': 1, 'afeard.': 1, 'Being': 1, 'dream,': 1, 'flattering-sweet': 1, 'substantial.': 1, 'Re-enter': 2, 'JULIET,': 2, 'Three': 1, 'words,': 1, 'indeed.': 1, 'bent': 1, 'honourable,': 1, 'Thy': 1, 'purpose': 1, 'marriage,': 1, 'send': 2, 'word': 1, 'to-morrow,': 1, 'procure': 1, 'Where': 1, 'time': 1, 'perform': 1, 'rite;': 1, 'fortunes': 1, 'foot': 1, 'lay': 1, 'follow': 1, 'lord': 1, 'throughout': 1, '[Within]': 2, 'Madam!': 2, 'come,': 1, 'anon.--But': 1, \"mean'st\": 1, 'well,': 1, 'beseech': 1, 'thee--': 1, 'by,': 1, 'come:--': 1, 'suit,': 1, 'grief:': 1, 'To-morrow': 1, 'send.': 1, 'thrive': 1, 'soul--': 1, 'A': 2, 'thousand': 2, 'times': 2, 'worse,': 1, 'want': 1, 'light.': 1, 'Love': 1, 'goes': 1, 'toward': 2, 'schoolboys': 1, 'books,': 1, 'school': 1, 'heavy': 1, 'looks.': 1, 'Retiring': 1, 'Hist!': 1, 'hist!': 1, \"falconer's\": 1, 'voice,': 1, 'lure': 1, 'tassel-gentle': 1, 'again!': 1, 'Bondage': 1, 'hoarse,': 1, 'may': 1, 'aloud;': 1, 'cave': 1, 'where': 1, 'Echo': 1, 'lies,': 1, 'make': 1, 'tongue': 1, 'hoarse': 1, 'mine,': 1, 'repetition': 1, \"Romeo's\": 1, 'name.': 1, 'soul': 1, 'name:': 1, 'silver-sweet': 1, 'sound': 1, 'tongues': 1, 'Like': 2, 'softest': 1, 'music': 1, 'attending': 1, 'ears!': 1, 'dear?': 1, 'At': 2, \"o'clock\": 1, 'to-morrow': 1, 'thee?': 1, 'hour': 1, 'nine.': 1, 'fail:': 1, 'years': 1, 'then.': 1, 'forgot': 1, 'why': 1, 'back.': 1, 'Let': 1, 'stand': 2, 'here': 1, 'remember': 1, 'forget,': 2, 'still': 3, 'Remembering': 1, 'company.': 1, 'stay,': 1, 'Forgetting': 1, 'home': 1, 'this.': 1, 'almost': 1, 'morning;': 1, 'gone:': 1, 'further': 1, \"wanton's\": 1, 'bird;': 1, 'lets': 1, 'hop': 1, 'little': 1, 'poor': 1, 'prisoner': 1, 'his': 2, 'twisted': 1, 'gyves,': 1, 'silk': 1, 'thread': 1, 'plucks': 1, 'loving-jealous': 1, 'liberty.': 1, 'bird.': 1, 'I:': 1, 'Yet': 1, 'much': 1, 'cherishing.': 1, 'parting': 1, 'sorrow,': 1, 'morrow.': 1, 'Exit': 2, 'Sleep': 1, 'eyes,': 1, 'peace': 1, 'sleep': 1, 'peace,': 1, 'rest!': 1, 'Hence': 1, 'ghostly': 1, \"father's\": 1, 'cell,': 1, 'His': 1, 'help': 1, 'crave,': 1, 'hap': 1, 'tell.': 1}\n"
     ]
    }
   ],
   "source": [
    "file=open('Q.txt')\n",
    "D=dict()\n",
    "for line in file:\n",
    "    words=line.split()\n",
    "    for word in words:\n",
    "        if word not in D:\n",
    "            D[word]=1\n",
    "        else:\n",
    "            D[word]+=1\n",
    "print(D)"
   ]
  },
  {
   "cell_type": "code",
   "execution_count": 36,
   "id": "74a22d13",
   "metadata": {},
   "outputs": [
    {
     "name": "stdout",
     "output_type": "stream",
     "text": [
      "17\n",
      "11\n",
      "34\n"
     ]
    }
   ],
   "source": [
    "A={'a':17, 'b':4, 'c':11, 'd':34, 'e':9 }\n",
    "for key in A:\n",
    "    if A[key]>10:\n",
    "        print(A[key])"
   ]
  },
  {
   "cell_type": "code",
   "execution_count": 37,
   "id": "0502a760",
   "metadata": {},
   "outputs": [
    {
     "name": "stdout",
     "output_type": "stream",
     "text": [
      "a\n",
      "b\n",
      "c\n",
      "d\n",
      "e\n"
     ]
    }
   ],
   "source": [
    "for key in A:\n",
    "    print(key)"
   ]
  },
  {
   "cell_type": "code",
   "execution_count": 40,
   "id": "c9265a1b",
   "metadata": {},
   "outputs": [
    {
     "name": "stdout",
     "output_type": "stream",
     "text": [
      "17\n",
      "11\n",
      "34\n"
     ]
    }
   ],
   "source": [
    "A={'a':17, 'b':4, 'c':11, 'd':34, 'e':9 }\n",
    "lst = list(A.keys())\n",
    "lst.sort()\n",
    "for key in A:\n",
    "    if A[key]>10:\n",
    "        print(A[key])"
   ]
  },
  {
   "cell_type": "code",
   "execution_count": 42,
   "id": "9b9f4f0e",
   "metadata": {},
   "outputs": [
    {
     "data": {
      "text/plain": [
       "'!\"#$%&\\'()*+,-./:;<=>?@[\\\\]^_`{|}~'"
      ]
     },
     "execution_count": 42,
     "metadata": {},
     "output_type": "execute_result"
    }
   ],
   "source": [
    "import string\n",
    "string.punctuation "
   ]
  },
  {
   "cell_type": "code",
   "execution_count": 102,
   "id": "e9fdc356",
   "metadata": {},
   "outputs": [
    {
     "name": "stdout",
     "output_type": "stream",
     "text": [
      "{'romeo': 40, 'and': 42, 'juliet': 32, 'act': 1, '2': 2, 'scene': 2, 'ii': 1, 'capulets': 1, 'orchard': 2, 'enter': 1, 'he': 5, 'jests': 1, 'at': 9, 'scars': 1, 'that': 30, 'never': 2, 'felt': 1, 'a': 24, 'wound': 1, 'appears': 1, 'above': 6, 'window': 2, 'but': 18, 'soft': 1, 'what': 11, 'light': 5, 'through': 2, 'yonder': 2, 'breaks': 1, 'it': 22, 'is': 21, 'the': 34, 'east': 1, 'sun': 2, 'arise': 1, 'fair': 4, 'kill': 2, 'envious': 2, 'moon': 4, 'who': 5, 'already': 1, 'sick': 2, 'pale': 1, 'with': 8, 'grief': 2, 'thou': 32, 'her': 14, 'maid': 2, 'art': 7, 'far': 2, 'more': 9, 'than': 6, 'she': 9, 'be': 14, 'not': 18, 'since': 1, 'vestal': 1, 'livery': 1, 'green': 1, 'none': 1, 'fools': 1, 'do': 7, 'wear': 1, 'cast': 1, 'off': 1, 'my': 29, 'lady': 2, 'o': 11, 'love': 24, 'knew': 1, 'were': 9, 'speaks': 3, 'yet': 9, 'says': 1, 'nothing': 1, 'of': 20, 'eye': 2, 'discourses': 1, 'i': 61, 'will': 8, 'answer': 1, 'am': 7, 'too': 8, 'bold': 1, 'tis': 4, 'to': 34, 'me': 18, 'two': 1, 'fairest': 1, 'stars': 2, 'in': 13, 'all': 6, 'heaven': 3, 'having': 1, 'some': 3, 'business': 1, 'entreat': 1, 'eyes': 6, 'twinkle': 1, 'their': 6, 'spheres': 1, 'till': 4, 'they': 5, 'return': 1, 'if': 12, 'there': 3, 'head': 2, 'brightness': 1, 'cheek': 4, 'would': 16, 'shame': 1, 'those': 2, 'as': 12, 'daylight': 1, 'doth': 2, 'lamp': 1, 'airy': 2, 'region': 1, 'stream': 1, 'so': 10, 'bright': 2, 'birds': 1, 'sing': 1, 'think': 2, 'night': 16, 'see': 2, 'how': 5, 'leans': 1, 'upon': 5, 'hand': 4, 'glove': 1, 'might': 1, 'touch': 1, 'ay': 2, 'speak': 4, 'again': 6, 'angel': 1, 'for': 12, 'glorious': 1, 'this': 9, 'being': 2, 'oer': 1, 'winged': 1, 'messenger': 1, 'unto': 1, 'whiteupturned': 1, 'wondering': 1, 'mortals': 1, 'fall': 1, 'back': 4, 'gaze': 1, 'on': 4, 'him': 2, 'when': 2, 'bestrides': 1, 'lazypacing': 1, 'clouds': 1, 'sails': 1, 'bosom': 1, 'air': 1, 'wherefore': 2, 'deny': 2, 'thy': 20, 'father': 1, 'refuse': 1, 'name': 11, 'or': 4, 'wilt': 6, 'sworn': 1, 'ill': 8, 'no': 6, 'longer': 1, 'capulet': 1, 'aside': 1, 'shall': 6, 'hear': 2, 'enemy': 2, 'thyself': 1, 'though': 1, 'montague': 5, 'whats': 2, 'nor': 5, 'foot': 2, 'arm': 1, 'face': 2, 'any': 4, 'other': 4, 'part': 2, 'belonging': 1, 'man': 2, 'which': 7, 'we': 2, 'call': 3, 'rose': 1, 'by': 14, 'smell': 1, 'sweet': 8, 'calld': 1, 'retain': 1, 'dear': 7, 'perfection': 1, 'owes': 1, 'without': 1, 'title': 1, 'doff': 1, 'thee': 24, 'take': 3, 'myself': 2, 'word': 4, 'new': 1, 'baptized': 1, 'henceforth': 1, 'thus': 1, 'bescreend': 1, 'stumblest': 1, 'counsel': 2, 'know': 3, 'tell': 3, 'saint': 2, 'hateful': 1, 'because': 1, 'an': 2, 'had': 1, 'written': 1, 'tear': 2, 'ears': 2, 'have': 13, 'drunk': 1, 'hundred': 1, 'words': 2, 'tongues': 2, 'utterance': 1, 'sound': 2, 'neither': 1, 'either': 1, 'dislike': 1, 'camest': 1, 'hither': 1, 'walls': 2, 'are': 3, 'high': 1, 'hard': 1, 'climb': 1, 'place': 2, 'death': 2, 'considering': 1, 'kinsmen': 2, 'find': 2, 'here': 4, 'loves': 3, 'wings': 1, 'did': 3, 'oerperch': 1, 'these': 2, 'stony': 1, 'limits': 1, 'cannot': 1, 'hold': 1, 'out': 2, 'can': 2, 'dares': 1, 'attempt': 1, 'therefore': 3, 'let': 3, 'murder': 1, 'alack': 1, 'lies': 2, 'peril': 1, 'thine': 2, 'twenty': 2, 'swords': 1, 'look': 1, 'proof': 1, 'against': 1, 'enmity': 1, 'world': 3, 'saw': 1, 'nights': 1, 'cloak': 1, 'hide': 1, 'from': 4, 'sight': 1, 'them': 1, 'life': 1, 'better': 1, 'ended': 1, 'hate': 1, 'prorogued': 1, 'wanting': 1, 'whose': 1, 'direction': 1, 'foundst': 1, 'first': 1, 'prompt': 1, 'inquire': 1, 'lent': 2, 'pilot': 1, 'wert': 1, 'vast': 1, 'shore': 1, 'washd': 1, 'farthest': 1, 'sea': 2, 'adventure': 1, 'such': 2, 'merchandise': 1, 'knowst': 1, 'mask': 1, 'else': 3, 'maiden': 1, 'blush': 1, 'bepaint': 1, 'hast': 1, 'heard': 1, 'tonight': 3, 'fain': 3, 'dwell': 2, 'form': 1, 'spoke': 1, 'farewell': 1, 'compliment': 1, 'dost': 2, 'say': 5, 'swearst': 1, 'mayst': 2, 'prove': 4, 'false': 1, 'lovers': 2, 'perjuries': 1, 'then': 2, 'jove': 1, 'laughs': 1, 'gentle': 1, 'pronounce': 1, 'faithfully': 1, 'thinkst': 1, 'quickly': 1, 'won': 1, 'frown': 1, 'perverse': 1, 'nay': 1, 'woo': 1, 'truth': 1, 'fond': 1, 'havior': 1, 'trust': 1, 'gentleman': 1, 'true': 3, 'cunning': 1, 'strange': 2, 'should': 2, 'been': 1, 'must': 1, 'confess': 1, 'overheardst': 1, 'ere': 2, 'was': 1, 'ware': 1, 'passion': 1, 'pardon': 1, 'impute': 1, 'yielding': 1, 'dark': 1, 'hath': 1, 'discovered': 1, 'blessed': 3, 'swear': 6, 'tips': 1, 'silver': 1, 'fruittree': 1, 'tops': 1, 'inconstant': 1, 'monthly': 1, 'changes': 1, 'circled': 1, 'orb': 1, 'lest': 1, 'likewise': 1, 'variable': 1, 'gracious': 1, 'self': 1, 'god': 1, 'idolatry': 1, 'believe': 1, 'hearts': 1, 'well': 2, 'although': 1, 'joy': 2, 'contract': 1, 'rash': 1, 'unadvised': 1, 'sudden': 1, 'like': 3, 'lightning': 1, 'cease': 2, 'one': 2, 'lightens': 1, 'good': 9, 'bud': 1, 'summers': 1, 'ripening': 1, 'breath': 1, 'may': 2, 'beauteous': 1, 'flower': 1, 'next': 1, 'meet': 1, 'repose': 1, 'rest': 2, 'come': 5, 'heart': 1, 'within': 5, 'breast': 2, 'leave': 2, 'unsatisfied': 1, 'satisfaction': 1, 'canst': 1, 'exchange': 1, 'faithful': 1, 'vow': 1, 'mine': 3, 'gave': 1, 'before': 1, 'didst': 1, 'request': 1, 'give': 3, 'wouldst': 1, 'withdraw': 1, 'purpose': 2, 'frank': 1, 'wish': 1, 'thing': 1, 'bounty': 1, 'boundless': 1, 'deep': 1, 'both': 1, 'infinite': 1, 'nurse': 4, 'calls': 2, 'noise': 1, 'adieu': 1, 'anon': 1, 'stay': 2, 'little': 2, 'exit': 4, 'afeard': 1, 'dream': 1, 'flatteringsweet': 1, 'substantial': 1, 'reenter': 2, 'three': 1, 'indeed': 1, 'bent': 1, 'honourable': 1, 'marriage': 1, 'send': 3, 'tomorrow': 3, 'procure': 1, 'where': 2, 'time': 1, 'perform': 1, 'rite': 1, 'fortunes': 1, 'lay': 1, 'follow': 1, 'lord': 1, 'throughout': 1, 'madam': 2, 'anonbut': 1, 'meanst': 1, 'beseech': 1, 'suit': 1, 'thrive': 1, 'soul': 2, 'thousand': 2, 'times': 2, 'worse': 1, 'want': 1, 'goes': 1, 'toward': 2, 'schoolboys': 1, 'books': 1, 'school': 1, 'heavy': 1, 'looks': 1, 'retiring': 1, 'hist': 2, 'falconers': 1, 'voice': 1, 'lure': 1, 'tasselgentle': 1, 'bondage': 1, 'hoarse': 2, 'aloud': 1, 'cave': 1, 'echo': 1, 'make': 1, 'tongue': 1, 'repetition': 1, 'romeos': 1, 'silversweet': 1, 'softest': 1, 'music': 1, 'attending': 1, 'oclock': 1, 'hour': 1, 'nine': 1, 'fail': 1, 'years': 1, 'forgot': 1, 'why': 1, 'stand': 2, 'remember': 1, 'forget': 2, 'still': 3, 'remembering': 1, 'company': 1, 'forgetting': 1, 'home': 1, 'almost': 1, 'morning': 1, 'gone': 1, 'further': 1, 'wantons': 1, 'bird': 2, 'lets': 1, 'hop': 1, 'poor': 1, 'prisoner': 1, 'his': 3, 'twisted': 1, 'gyves': 1, 'silk': 1, 'thread': 1, 'plucks': 1, 'lovingjealous': 1, 'liberty': 1, 'much': 1, 'cherishing': 1, 'parting': 1, 'sorrow': 1, 'morrow': 1, 'sleep': 2, 'peace': 2, 'hence': 1, 'ghostly': 1, 'fathers': 1, 'cell': 1, 'help': 1, 'crave': 1, 'hap': 1}\n"
     ]
    }
   ],
   "source": [
    "file=open('Q.txt')\n",
    "count=dict()\n",
    "for line in file:\n",
    "    line=line.rstrip()\n",
    "    line=line.lower()\n",
    "    line=line.translate(line.maketrans('','', string.punctuation))\n",
    "    words=line.split()\n",
    "    for word in words:\n",
    "        if word not in count:\n",
    "            count[word]=1\n",
    "        else:\n",
    "            count[word]+=1\n",
    "print(count)\n"
   ]
  },
  {
   "cell_type": "code",
   "execution_count": 46,
   "id": "a2120ef0",
   "metadata": {},
   "outputs": [
    {
     "data": {
      "text/plain": [
       "('s', 'h', 'a', 'r', 'a', 'f', 'a', 't')"
      ]
     },
     "execution_count": 46,
     "metadata": {},
     "output_type": "execute_result"
    }
   ],
   "source": [
    "tuple('sharafat')"
   ]
  },
  {
   "cell_type": "code",
   "execution_count": 48,
   "id": "c2841d09",
   "metadata": {},
   "outputs": [
    {
     "data": {
      "text/plain": [
       "(1, 2, 3, 2, 3, 4)"
      ]
     },
     "execution_count": 48,
     "metadata": {},
     "output_type": "execute_result"
    }
   ],
   "source": [
    "a=(1,2,3)\n",
    "b=(2,3,4)\n",
    "a+b"
   ]
  },
  {
   "cell_type": "markdown",
   "id": "644ecbc9",
   "metadata": {},
   "source": [
    "## Chapter 10\n",
    "### Tuples"
   ]
  },
  {
   "cell_type": "markdown",
   "id": "af2a65c4",
   "metadata": {},
   "source": [
    "Tuples are immutable\n",
    "\n",
    "A tuple1 is a sequence of values much like a list. The values stored in a tuple can\n",
    "be any type, and they are indexed by integers."
   ]
  },
  {
   "cell_type": "code",
   "execution_count": 50,
   "id": "2c1de435",
   "metadata": {},
   "outputs": [
    {
     "data": {
      "text/plain": [
       "(1, 2, 3)"
      ]
     },
     "execution_count": 50,
     "metadata": {},
     "output_type": "execute_result"
    }
   ],
   "source": [
    "a=(1,2,3)\n",
    "a"
   ]
  },
  {
   "cell_type": "code",
   "execution_count": 52,
   "id": "6d18f28b",
   "metadata": {},
   "outputs": [
    {
     "data": {
      "text/plain": [
       "('a', 'b', 'c')"
      ]
     },
     "execution_count": 52,
     "metadata": {},
     "output_type": "execute_result"
    }
   ],
   "source": [
    "b=('a','b','c')\n",
    "b"
   ]
  },
  {
   "cell_type": "code",
   "execution_count": 53,
   "id": "491c507b",
   "metadata": {},
   "outputs": [
    {
     "data": {
      "text/plain": [
       "(1, 2, 3, 'a', 'b', 'c')"
      ]
     },
     "execution_count": 53,
     "metadata": {},
     "output_type": "execute_result"
    }
   ],
   "source": [
    "a+b"
   ]
  },
  {
   "cell_type": "code",
   "execution_count": 55,
   "id": "d489a6b9",
   "metadata": {},
   "outputs": [
    {
     "data": {
      "text/plain": [
       "str"
      ]
     },
     "execution_count": 55,
     "metadata": {},
     "output_type": "execute_result"
    }
   ],
   "source": [
    "r=('x')\n",
    "type(r)"
   ]
  },
  {
   "cell_type": "code",
   "execution_count": 56,
   "id": "ab1b3625",
   "metadata": {},
   "outputs": [
    {
     "data": {
      "text/plain": [
       "tuple"
      ]
     },
     "execution_count": 56,
     "metadata": {},
     "output_type": "execute_result"
    }
   ],
   "source": [
    "r=('x',)\n",
    "type(r)"
   ]
  },
  {
   "cell_type": "markdown",
   "id": "4dc50500",
   "metadata": {},
   "source": [
    "Another way to construct a tuple is the built-in function tuple. With no argument, it creates an empty tuple:"
   ]
  },
  {
   "cell_type": "code",
   "execution_count": 57,
   "id": "713d6d78",
   "metadata": {},
   "outputs": [
    {
     "data": {
      "text/plain": [
       "('s', 'h', 'a', 'r', 'a', 'f', 'a', 't')"
      ]
     },
     "execution_count": 57,
     "metadata": {},
     "output_type": "execute_result"
    }
   ],
   "source": [
    "tuple('sharafat')"
   ]
  },
  {
   "cell_type": "markdown",
   "id": "404f5523",
   "metadata": {},
   "source": [
    "##### Comparing tuples\n",
    "\n",
    "The comparison operators work with tuples and other sequences. Python starts by\n",
    "comparing the first element from each sequence. If they are equal, it goes on to the\n",
    "next element, and so on, until it finds elements that differ."
   ]
  },
  {
   "cell_type": "code",
   "execution_count": 58,
   "id": "4be6184d",
   "metadata": {},
   "outputs": [
    {
     "data": {
      "text/plain": [
       "True"
      ]
     },
     "execution_count": 58,
     "metadata": {},
     "output_type": "execute_result"
    }
   ],
   "source": [
    "(1,2,3)<(2,0,3)"
   ]
  },
  {
   "cell_type": "code",
   "execution_count": 59,
   "id": "554011f6",
   "metadata": {},
   "outputs": [
    {
     "data": {
      "text/plain": [
       "False"
      ]
     },
     "execution_count": 59,
     "metadata": {},
     "output_type": "execute_result"
    }
   ],
   "source": [
    "(5,2,3)<(2,0,3)"
   ]
  },
  {
   "cell_type": "code",
   "execution_count": 60,
   "id": "15f05b76",
   "metadata": {},
   "outputs": [
    {
     "data": {
      "text/plain": [
       "True"
      ]
     },
     "execution_count": 60,
     "metadata": {},
     "output_type": "execute_result"
    }
   ],
   "source": [
    "(1,0,4)<(2,0,3)"
   ]
  },
  {
   "cell_type": "code",
   "execution_count": 65,
   "id": "228616d9",
   "metadata": {},
   "outputs": [
    {
     "data": {
      "text/plain": [
       "True"
      ]
     },
     "execution_count": 65,
     "metadata": {},
     "output_type": "execute_result"
    }
   ],
   "source": [
    "(2,0,2)<(2,0,3)"
   ]
  },
  {
   "cell_type": "markdown",
   "id": "f2d25043",
   "metadata": {},
   "source": [
    "The sort function works the same way. It sorts primarily by first element, but in\n",
    "the case of a tie, it sorts by second element, and so on. For example, suppose you have a list of words and you want to sort them from\n",
    "longest to shortest:"
   ]
  },
  {
   "cell_type": "code",
   "execution_count": 66,
   "id": "54630b4e",
   "metadata": {},
   "outputs": [
    {
     "name": "stdout",
     "output_type": "stream",
     "text": [
      "['yonder', 'window', 'breaks', 'light', 'what', 'soft', 'but', 'in']\n"
     ]
    }
   ],
   "source": [
    "txt = 'but soft what light in yonder window breaks'\n",
    "words = txt.split()\n",
    "t = list()\n",
    "for word in words:\n",
    "    t.append((len(word), word))\n",
    "\n",
    "t.sort(reverse=True)\n",
    "\n",
    "res = list()\n",
    "for length, word in t:\n",
    "    res.append(word)\n",
    "\n",
    "print(res)"
   ]
  },
  {
   "cell_type": "code",
   "execution_count": 92,
   "id": "759242c4",
   "metadata": {},
   "outputs": [
    {
     "data": {
      "text/plain": [
       "['yonder', 'window', 'breaks', 'light', 'what', 'soft', 'but', 'in']"
      ]
     },
     "execution_count": 92,
     "metadata": {},
     "output_type": "execute_result"
    }
   ],
   "source": [
    "txt = 'but soft what light in yonder window breaks'\n",
    "words=txt.split()\n",
    "t=list()\n",
    "for word in words:\n",
    "    t.append((len(word),word))\n",
    "t.sort(reverse=True)\n",
    "res=list()\n",
    "for length, word in t:\n",
    "    res.append(word)\n",
    "res"
   ]
  },
  {
   "cell_type": "code",
   "execution_count": 95,
   "id": "54d66d5a",
   "metadata": {},
   "outputs": [
    {
     "data": {
      "text/plain": [
       "['yonder', 'window', 'breaks', 'light', 'what', 'soft', 'but', 'in']"
      ]
     },
     "execution_count": 95,
     "metadata": {},
     "output_type": "execute_result"
    }
   ],
   "source": [
    "txt = 'but soft what light in yonder window breaks'\n",
    "words=txt.split()\n",
    "t=list()\n",
    "for word in words:\n",
    "    t.append((len(word),word))\n",
    "t.sort(reverse=True)\n",
    "res=list()\n",
    "for length, word in t:\n",
    "    res.append(word)\n",
    "res"
   ]
  },
  {
   "cell_type": "code",
   "execution_count": 96,
   "id": "7aaf425e",
   "metadata": {},
   "outputs": [
    {
     "data": {
      "text/plain": [
       "['in', 'but', 'soft', 'what', 'light', 'breaks', 'window', 'yonder']"
      ]
     },
     "execution_count": 96,
     "metadata": {},
     "output_type": "execute_result"
    }
   ],
   "source": [
    "txt = 'but soft what light in yonder window breaks'\n",
    "words=txt.split()\n",
    "t=list()\n",
    "for word in words:\n",
    "    t.append((len(word),word))\n",
    "t.sort()\n",
    "res=list()\n",
    "for length, word in t:\n",
    "    res.append(word)\n",
    "res"
   ]
  },
  {
   "cell_type": "markdown",
   "id": "a9c6ba86",
   "metadata": {},
   "source": [
    "### Tuple assignment\n",
    "One of the unique syntactic features of the Python language is the ability to have\n",
    "a tuple on the left side of an assignment statement. This allows you to assign more\n",
    "than one variable at a time when the left side is a sequence.\n",
    "In this example we have a two-element list (which is a sequence) and assign the first\n",
    "and second elements of the sequence to the variables x and y in a single statement."
   ]
  },
  {
   "cell_type": "code",
   "execution_count": 104,
   "id": "2c0a53f0",
   "metadata": {},
   "outputs": [
    {
     "name": "stdout",
     "output_type": "stream",
     "text": [
      "have\n",
      "fun\n"
     ]
    }
   ],
   "source": [
    "m = [ 'have', 'fun' ]\n",
    "x,y=m\n",
    "print(x)\n",
    "print(y)"
   ]
  },
  {
   "cell_type": "code",
   "execution_count": 105,
   "id": "d208ed6f",
   "metadata": {},
   "outputs": [],
   "source": [
    "a='sharafat@gmail.com'\n",
    "usname, domain=a.split('@')"
   ]
  },
  {
   "cell_type": "code",
   "execution_count": 106,
   "id": "d1c8676c",
   "metadata": {},
   "outputs": [
    {
     "data": {
      "text/plain": [
       "'sharafat'"
      ]
     },
     "execution_count": 106,
     "metadata": {},
     "output_type": "execute_result"
    }
   ],
   "source": [
    "usname"
   ]
  },
  {
   "cell_type": "code",
   "execution_count": 107,
   "id": "5282ecbd",
   "metadata": {},
   "outputs": [
    {
     "data": {
      "text/plain": [
       "'gmail.com'"
      ]
     },
     "execution_count": 107,
     "metadata": {},
     "output_type": "execute_result"
    }
   ],
   "source": [
    "domain"
   ]
  },
  {
   "cell_type": "markdown",
   "id": "9bcebbbc",
   "metadata": {},
   "source": [
    "We can not use the sort() function in dictionary. If we have a dictionary first we will convert it into list and then sort it"
   ]
  },
  {
   "cell_type": "code",
   "execution_count": 6,
   "id": "9548c18f",
   "metadata": {},
   "outputs": [],
   "source": [
    "d={'a':2, 'd':1, 'c':6,  'z':3, 'b':4, 'r':9}"
   ]
  },
  {
   "cell_type": "code",
   "execution_count": 14,
   "id": "b113c6c5",
   "metadata": {},
   "outputs": [
    {
     "data": {
      "text/plain": [
       "[('a', 2), ('d', 1), ('c', 6), ('z', 3), ('b', 4), ('r', 9)]"
      ]
     },
     "execution_count": 14,
     "metadata": {},
     "output_type": "execute_result"
    }
   ],
   "source": [
    "t=list(d.items())\n",
    "t\n"
   ]
  },
  {
   "cell_type": "code",
   "execution_count": 15,
   "id": "01cd85b1",
   "metadata": {},
   "outputs": [
    {
     "data": {
      "text/plain": [
       "[('a', 2), ('b', 4), ('c', 6), ('d', 1), ('r', 9), ('z', 3)]"
      ]
     },
     "execution_count": 15,
     "metadata": {},
     "output_type": "execute_result"
    }
   ],
   "source": [
    "# the new list sorted in ascending alphabetical order.\n",
    "t.sort()\n",
    "t"
   ]
  },
  {
   "cell_type": "markdown",
   "id": "8414cd86",
   "metadata": {},
   "source": [
    "### Multiple assignment with dictionaries"
   ]
  },
  {
   "cell_type": "code",
   "execution_count": 16,
   "id": "44a807bf",
   "metadata": {},
   "outputs": [
    {
     "name": "stdout",
     "output_type": "stream",
     "text": [
      "2 a\n",
      "1 d\n",
      "6 c\n",
      "3 z\n",
      "4 b\n",
      "9 r\n"
     ]
    }
   ],
   "source": [
    "for key, val in list(d.items()):\n",
    "    print(val,key)"
   ]
  },
  {
   "cell_type": "code",
   "execution_count": 22,
   "id": "a09e71b5",
   "metadata": {},
   "outputs": [
    {
     "data": {
      "text/plain": [
       "[(1, 'd'), (2, 'a'), (3, 'z'), (4, 'b'), (6, 'c'), (9, 'r')]"
      ]
     },
     "execution_count": 22,
     "metadata": {},
     "output_type": "execute_result"
    }
   ],
   "source": [
    "l=list()\n",
    "for key, val in d.items():\n",
    "    l.append((val, key))\n",
    "l.sort()\n",
    "l"
   ]
  },
  {
   "cell_type": "code",
   "execution_count": 21,
   "id": "1d41fc0d",
   "metadata": {},
   "outputs": [
    {
     "name": "stdout",
     "output_type": "stream",
     "text": [
      "[('2', 2), ('a', 24), ('above', 6), ('act', 1), ('adieu', 1), ('adventure', 1), ('afeard', 1), ('again', 6), ('against', 1), ('air', 1), ('airy', 2), ('alack', 1), ('all', 6), ('almost', 1), ('aloud', 1), ('already', 1), ('although', 1), ('am', 7), ('an', 2), ('and', 42), ('angel', 1), ('anon', 1), ('anonbut', 1), ('answer', 1), ('any', 4), ('appears', 1), ('are', 3), ('arise', 1), ('arm', 1), ('art', 7), ('as', 12), ('aside', 1), ('at', 9), ('attempt', 1), ('attending', 1), ('ay', 2), ('back', 4), ('baptized', 1), ('be', 14), ('beauteous', 1), ('because', 1), ('been', 1), ('before', 1), ('being', 2), ('believe', 1), ('belonging', 1), ('bent', 1), ('bepaint', 1), ('bescreend', 1), ('beseech', 1), ('bestrides', 1), ('better', 1), ('bird', 2), ('birds', 1), ('blessed', 3), ('blush', 1), ('bold', 1), ('bondage', 1), ('books', 1), ('bosom', 1), ('both', 1), ('boundless', 1), ('bounty', 1), ('breaks', 1), ('breast', 2), ('breath', 1), ('bright', 2), ('brightness', 1), ('bud', 1), ('business', 1), ('but', 18), ('by', 14), ('call', 3), ('calld', 1), ('calls', 2), ('camest', 1), ('can', 2), ('cannot', 1), ('canst', 1), ('capulet', 1), ('capulets', 1), ('cast', 1), ('cave', 1), ('cease', 2), ('cell', 1), ('changes', 1), ('cheek', 4), ('cherishing', 1), ('circled', 1), ('climb', 1), ('cloak', 1), ('clouds', 1), ('come', 5), ('company', 1), ('compliment', 1), ('confess', 1), ('considering', 1), ('contract', 1), ('counsel', 2), ('crave', 1), ('cunning', 1), ('dares', 1), ('dark', 1), ('daylight', 1), ('dear', 7), ('death', 2), ('deep', 1), ('deny', 2), ('did', 3), ('didst', 1), ('direction', 1), ('discourses', 1), ('discovered', 1), ('dislike', 1), ('do', 7), ('doff', 1), ('dost', 2), ('doth', 2), ('dream', 1), ('drunk', 1), ('dwell', 2), ('ears', 2), ('east', 1), ('echo', 1), ('either', 1), ('else', 3), ('ended', 1), ('enemy', 2), ('enmity', 1), ('enter', 1), ('entreat', 1), ('envious', 2), ('ere', 2), ('exchange', 1), ('exit', 4), ('eye', 2), ('eyes', 6), ('face', 2), ('fail', 1), ('fain', 3), ('fair', 4), ('fairest', 1), ('faithful', 1), ('faithfully', 1), ('falconers', 1), ('fall', 1), ('false', 1), ('far', 2), ('farewell', 1), ('farthest', 1), ('father', 1), ('fathers', 1), ('felt', 1), ('find', 2), ('first', 1), ('flatteringsweet', 1), ('flower', 1), ('follow', 1), ('fond', 1), ('fools', 1), ('foot', 2), ('for', 12), ('forget', 2), ('forgetting', 1), ('forgot', 1), ('form', 1), ('fortunes', 1), ('foundst', 1), ('frank', 1), ('from', 4), ('frown', 1), ('fruittree', 1), ('further', 1), ('gave', 1), ('gaze', 1), ('gentle', 1), ('gentleman', 1), ('ghostly', 1), ('give', 3), ('glorious', 1), ('glove', 1), ('god', 1), ('goes', 1), ('gone', 1), ('good', 9), ('gracious', 1), ('green', 1), ('grief', 2), ('gyves', 1), ('had', 1), ('hand', 4), ('hap', 1), ('hard', 1), ('hast', 1), ('hate', 1), ('hateful', 1), ('hath', 1), ('have', 13), ('having', 1), ('havior', 1), ('he', 5), ('head', 2), ('hear', 2), ('heard', 1), ('heart', 1), ('hearts', 1), ('heaven', 3), ('heavy', 1), ('help', 1), ('hence', 1), ('henceforth', 1), ('her', 14), ('here', 4), ('hide', 1), ('high', 1), ('him', 2), ('his', 3), ('hist', 2), ('hither', 1), ('hoarse', 2), ('hold', 1), ('home', 1), ('honourable', 1), ('hop', 1), ('hour', 1), ('how', 5), ('hundred', 1), ('i', 61), ('idolatry', 1), ('if', 12), ('ii', 1), ('ill', 8), ('impute', 1), ('in', 13), ('inconstant', 1), ('indeed', 1), ('infinite', 1), ('inquire', 1), ('is', 21), ('it', 22), ('jests', 1), ('jove', 1), ('joy', 2), ('juliet', 32), ('kill', 2), ('kinsmen', 2), ('knew', 1), ('know', 3), ('knowst', 1), ('lady', 2), ('lamp', 1), ('laughs', 1), ('lay', 1), ('lazypacing', 1), ('leans', 1), ('leave', 2), ('lent', 2), ('lest', 1), ('let', 3), ('lets', 1), ('liberty', 1), ('lies', 2), ('life', 1), ('light', 5), ('lightens', 1), ('lightning', 1), ('like', 3), ('likewise', 1), ('limits', 1), ('little', 2), ('livery', 1), ('longer', 1), ('look', 1), ('looks', 1), ('lord', 1), ('love', 24), ('lovers', 2), ('loves', 3), ('lovingjealous', 1), ('lure', 1), ('madam', 2), ('maid', 2), ('maiden', 1), ('make', 1), ('man', 2), ('marriage', 1), ('mask', 1), ('may', 2), ('mayst', 2), ('me', 18), ('meanst', 1), ('meet', 1), ('merchandise', 1), ('messenger', 1), ('might', 1), ('mine', 3), ('montague', 5), ('monthly', 1), ('moon', 4), ('more', 9), ('morning', 1), ('morrow', 1), ('mortals', 1), ('much', 1), ('murder', 1), ('music', 1), ('must', 1), ('my', 29), ('myself', 2), ('name', 11), ('nay', 1), ('neither', 1), ('never', 2), ('new', 1), ('next', 1), ('night', 16), ('nights', 1), ('nine', 1), ('no', 6), ('noise', 1), ('none', 1), ('nor', 5), ('not', 18), ('nothing', 1), ('nurse', 4), ('o', 11), ('oclock', 1), ('oer', 1), ('oerperch', 1), ('of', 20), ('off', 1), ('on', 4), ('one', 2), ('or', 4), ('orb', 1), ('orchard', 2), ('other', 4), ('out', 2), ('overheardst', 1), ('owes', 1), ('pale', 1), ('pardon', 1), ('part', 2), ('parting', 1), ('passion', 1), ('peace', 2), ('perfection', 1), ('perform', 1), ('peril', 1), ('perjuries', 1), ('perverse', 1), ('pilot', 1), ('place', 2), ('plucks', 1), ('poor', 1), ('prisoner', 1), ('procure', 1), ('prompt', 1), ('pronounce', 1), ('proof', 1), ('prorogued', 1), ('prove', 4), ('purpose', 2), ('quickly', 1), ('rash', 1), ('reenter', 2), ('refuse', 1), ('region', 1), ('remember', 1), ('remembering', 1), ('repetition', 1), ('repose', 1), ('request', 1), ('rest', 2), ('retain', 1), ('retiring', 1), ('return', 1), ('ripening', 1), ('rite', 1), ('romeo', 40), ('romeos', 1), ('rose', 1), ('sails', 1), ('saint', 2), ('satisfaction', 1), ('saw', 1), ('say', 5), ('says', 1), ('scars', 1), ('scene', 2), ('school', 1), ('schoolboys', 1), ('sea', 2), ('see', 2), ('self', 1), ('send', 3), ('shall', 6), ('shame', 1), ('she', 9), ('shore', 1), ('should', 2), ('sick', 2), ('sight', 1), ('silk', 1), ('silver', 1), ('silversweet', 1), ('since', 1), ('sing', 1), ('sleep', 2), ('smell', 1), ('so', 10), ('soft', 1), ('softest', 1), ('some', 3), ('sorrow', 1), ('soul', 2), ('sound', 2), ('speak', 4), ('speaks', 3), ('spheres', 1), ('spoke', 1), ('stand', 2), ('stars', 2), ('stay', 2), ('still', 3), ('stony', 1), ('strange', 2), ('stream', 1), ('stumblest', 1), ('substantial', 1), ('such', 2), ('sudden', 1), ('suit', 1), ('summers', 1), ('sun', 2), ('swear', 6), ('swearst', 1), ('sweet', 8), ('swords', 1), ('sworn', 1), ('take', 3), ('tasselgentle', 1), ('tear', 2), ('tell', 3), ('than', 6), ('that', 30), ('the', 34), ('thee', 24), ('their', 6), ('them', 1), ('then', 2), ('there', 3), ('therefore', 3), ('these', 2), ('they', 5), ('thine', 2), ('thing', 1), ('think', 2), ('thinkst', 1), ('this', 9), ('those', 2), ('thou', 32), ('though', 1), ('thousand', 2), ('thread', 1), ('three', 1), ('thrive', 1), ('through', 2), ('throughout', 1), ('thus', 1), ('thy', 20), ('thyself', 1), ('till', 4), ('time', 1), ('times', 2), ('tips', 1), ('tis', 4), ('title', 1), ('to', 34), ('tomorrow', 3), ('tongue', 1), ('tongues', 2), ('tonight', 3), ('too', 8), ('tops', 1), ('touch', 1), ('toward', 2), ('true', 3), ('trust', 1), ('truth', 1), ('twenty', 2), ('twinkle', 1), ('twisted', 1), ('two', 1), ('unadvised', 1), ('unsatisfied', 1), ('unto', 1), ('upon', 5), ('utterance', 1), ('variable', 1), ('vast', 1), ('vestal', 1), ('voice', 1), ('vow', 1), ('walls', 2), ('want', 1), ('wanting', 1), ('wantons', 1), ('ware', 1), ('was', 1), ('washd', 1), ('we', 2), ('wear', 1), ('well', 2), ('were', 9), ('wert', 1), ('what', 11), ('whats', 2), ('when', 2), ('where', 2), ('wherefore', 2), ('which', 7), ('whiteupturned', 1), ('who', 5), ('whose', 1), ('why', 1), ('will', 8), ('wilt', 6), ('window', 2), ('winged', 1), ('wings', 1), ('wish', 1), ('with', 8), ('withdraw', 1), ('within', 5), ('without', 1), ('won', 1), ('wondering', 1), ('woo', 1), ('word', 4), ('words', 2), ('world', 3), ('worse', 1), ('would', 16), ('wouldst', 1), ('wound', 1), ('written', 1), ('years', 1), ('yet', 9), ('yielding', 1), ('yonder', 2)]\n",
      "551\n"
     ]
    }
   ],
   "source": [
    "import string\n",
    "file=open('Q.txt')\n",
    "D=dict()\n",
    "for line in file:\n",
    "    line=line.translate(str.maketrans('','', string.punctuation))\n",
    "    line=line.lower()\n",
    "    words=line.split()\n",
    "    for word in words:\n",
    "        if word not in D:\n",
    "            D[word]=1\n",
    "        else:\n",
    "            D[word]+=1\n",
    "l=list()\n",
    "for key, val in list(D.items()):\n",
    "    l.append((key, val))\n",
    "l.sort()\n",
    "print(l)\n",
    "print(len(l))"
   ]
  },
  {
   "cell_type": "code",
   "execution_count": 51,
   "id": "23a73f36",
   "metadata": {},
   "outputs": [
    {
     "data": {
      "text/plain": [
       "551"
      ]
     },
     "execution_count": 51,
     "metadata": {},
     "output_type": "execute_result"
    }
   ],
   "source": [
    "len(l)"
   ]
  },
  {
   "cell_type": "code",
   "execution_count": 54,
   "id": "cb41adf7",
   "metadata": {},
   "outputs": [
    {
     "name": "stdout",
     "output_type": "stream",
     "text": [
      "[(61, 'i'), (42, 'and'), (40, 'romeo'), (34, 'to'), (34, 'the'), (32, 'thou'), (32, 'juliet'), (30, 'that'), (29, 'my'), (24, 'thee')]\n"
     ]
    }
   ],
   "source": [
    "print(l[:10])"
   ]
  },
  {
   "cell_type": "markdown",
   "id": "b6b0ca14",
   "metadata": {},
   "source": [
    " ### Using tuples as keys in dictionaries"
   ]
  },
  {
   "cell_type": "markdown",
   "id": "075c4ec0",
   "metadata": {},
   "source": [
    "Because tuples are hashable and lists are not, if we want to create a composite key\n",
    "to use in a dictionary we must use a tuple as the key.\n",
    "We would encounter a composite key if we wanted to create a telephone directory\n",
    "that maps from last-name, first-name pairs to telephone numbers. Assuming that\n",
    "we have defined the variables last, first, and number, we could write a dictionary\n",
    "assignment statement as follows:"
   ]
  },
  {
   "cell_type": "code",
   "execution_count": 1,
   "id": "00e04ea2",
   "metadata": {},
   "outputs": [],
   "source": [
    "import numpy as np"
   ]
  },
  {
   "cell_type": "code",
   "execution_count": 2,
   "id": "8bb5c1c2",
   "metadata": {},
   "outputs": [],
   "source": [
    "a=np.array([1,2,3])"
   ]
  },
  {
   "cell_type": "code",
   "execution_count": 3,
   "id": "b16546a5",
   "metadata": {},
   "outputs": [],
   "source": [
    "b=np.array([5,7,8])"
   ]
  },
  {
   "cell_type": "code",
   "execution_count": 4,
   "id": "838f1d6e",
   "metadata": {},
   "outputs": [
    {
     "data": {
      "text/plain": [
       "array([ 6,  9, 11])"
      ]
     },
     "execution_count": 4,
     "metadata": {},
     "output_type": "execute_result"
    }
   ],
   "source": [
    "a+b"
   ]
  },
  {
   "cell_type": "code",
   "execution_count": null,
   "id": "88438156",
   "metadata": {},
   "outputs": [],
   "source": []
  }
 ],
 "metadata": {
  "kernelspec": {
   "display_name": "Python 3 (ipykernel)",
   "language": "python",
   "name": "python3"
  },
  "language_info": {
   "codemirror_mode": {
    "name": "ipython",
    "version": 3
   },
   "file_extension": ".py",
   "mimetype": "text/x-python",
   "name": "python",
   "nbconvert_exporter": "python",
   "pygments_lexer": "ipython3",
   "version": "3.9.7"
  }
 },
 "nbformat": 4,
 "nbformat_minor": 5
}
